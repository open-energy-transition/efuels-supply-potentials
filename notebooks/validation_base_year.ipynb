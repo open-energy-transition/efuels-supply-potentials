{
 "cells": [
  {
   "cell_type": "markdown",
   "id": "18427c7f",
   "metadata": {},
   "source": [
    "# Base year (2023) validation\n",
    "\n",
    "This notebook validates the results of PyPSA-Earth for the base year (2023) against the **EIA (U.S. Energy Information Administration)** and **Ember** US datasets. The validation covers three key aspects of the electricity system:\n",
    "- **Electricity Demand**\n",
    "- **Electricity Generation**\n",
    "- **Installed Generation Capacity**"
   ]
  },
  {
   "cell_type": "markdown",
   "id": "afce7acd-7c2b-4727-84b4-8291e3f7675f",
   "metadata": {},
   "source": [
    "## 1. Setup and Data Loading\n",
    "\n",
    "*This section handles the initial setup, including importing necessary libraries and loading the solved PyPSA-Earth networks.*"
   ]
  },
  {
   "cell_type": "markdown",
   "id": "f8c3e858",
   "metadata": {},
   "source": [
    "### 11.1 Loading libraries\n",
    "\n",
    "We begin by importing the necessary libraries for data handling, analysis, and visualization. These include PyPSA for power system analysis, pandas and numpy for data manipulation, geopandas for spatial data, and seaborn/matplotlib for plotting.\n",
    "\n",
    "---"
   ]
  },
  {
   "cell_type": "code",
   "execution_count": 1,
   "id": "31697af1",
   "metadata": {},
   "outputs": [],
   "source": [
    "# Install required packages if not already installed\n",
    "# Uncomment the line below to install packages\n",
    "# Note: This line is commented out to prevent installation during code execution.\n",
    "\n",
    "# !pip install numpy pandas plotly pycountry matplotlib seaborn -qq"
   ]
  },
  {
   "cell_type": "code",
   "execution_count": 2,
   "id": "38916fc2",
   "metadata": {},
   "outputs": [
    {
     "name": "stderr",
     "output_type": "stream",
     "text": [
      "/home/user/miniforge3/envs/pypsa-earth/lib/python3.10/site-packages/pypsa/networkclustering.py:16: UserWarning:\n",
      "\n",
      "The namespace `pypsa.networkclustering` is deprecated and will be removed in PyPSA v0.24. Please use `pypsa.clustering.spatial instead`. \n",
      "\n"
     ]
    }
   ],
   "source": [
    "import os\n",
    "import pypsa\n",
    "import numpy as np\n",
    "import pandas as pd\n",
    "import geopandas as gpd\n",
    "import matplotlib.pyplot as plt\n",
    "import seaborn as sns\n",
    "import plotly.express as px\n",
    "import plotly.graph_objects as go\n",
    "\n",
    "import pycountry\n",
    "\n",
    "from _helpers import *\n",
    "\n",
    "import warnings\n",
    "warnings.filterwarnings(\"ignore\")"
   ]
  },
  {
   "cell_type": "code",
   "execution_count": 3,
   "id": "55cec142-81c6-4e0e-b089-6951ecac3179",
   "metadata": {},
   "outputs": [],
   "source": [
    "pd.set_option('display.max_columns', None)\n",
    "pd.set_option('display.max_rows', None) \n",
    "pd.set_option('display.width', None)    \n",
    "pd.set_option('display.max_colwidth', None)"
   ]
  },
  {
   "cell_type": "markdown",
   "id": "3b6f65b7",
   "metadata": {},
   "source": [
    "### 1.3 Loading Files\n",
    "\n",
    "PyPSA-Earth solved networks for the base year are uploaded here, as well as the relevant EIA and Ember datasets. These datasets provide reference values for demand, generation, and installed capacity, which will be used for validation."
   ]
  },
  {
   "cell_type": "code",
   "execution_count": 4,
   "id": "d7e25461",
   "metadata": {},
   "outputs": [],
   "source": [
    "DATA_DIR = \"../notebooks/validation_data/\"\n",
    "\n",
    "ember_data_path = os.path.join(DATA_DIR, \"ember_yearly_full_release_long_format.csv\")\n",
    "eia_demand_path = os.path.join(DATA_DIR, \"EIA_demand.xlsx\")\n",
    "eia_installed_capacities_path = os.path.join(DATA_DIR, \"EIA_installed_capacities.csv\")\n",
    "eia_generation_path = os.path.join(DATA_DIR, \"EIA_electricity_generation.csv\")"
   ]
  },
  {
   "cell_type": "code",
   "execution_count": 5,
   "id": "48a32925",
   "metadata": {},
   "outputs": [],
   "source": [
    "ember_data = pd.read_csv(ember_data_path)"
   ]
  },
  {
   "cell_type": "code",
   "execution_count": 6,
   "id": "8993955d",
   "metadata": {},
   "outputs": [
    {
     "name": "stderr",
     "output_type": "stream",
     "text": [
      "INFO:pypsa.io:Imported network elec_s_100_ec_lcopt_Co2L-3H_3H_2020_0.071_AB_10export.nc has buses, carriers, generators, global_constraints, lines, links, loads, storage_units, stores\n"
     ]
    }
   ],
   "source": [
    "# load network\n",
    "project_root = os.getcwd()\n",
    "results_dir = os.path.join(project_root, 'results')\n",
    "\n",
    "# Load Base year network\n",
    "base_path = os.path.join(results_dir, 'base_year', \"elec_s_100_ec_lcopt_Co2L-3H_3H_2020_0.071_AB_10export.nc\")\n",
    "base_network = pypsa.Network(base_path)"
   ]
  },
  {
   "cell_type": "code",
   "execution_count": 7,
   "id": "d8ce6c3a",
   "metadata": {},
   "outputs": [],
   "source": [
    "state_shape_path = \"gadm41_USA_1.json\"\n",
    "grid_shape_path = \"needs_grid_regions_aggregated.geojson\"\n",
    "attach_state_to_buses(base_network, state_shape_path)\n",
    "attach_grid_region_to_buses(base_network, grid_shape_path)"
   ]
  },
  {
   "cell_type": "code",
   "execution_count": 8,
   "id": "cc0217ad",
   "metadata": {},
   "outputs": [],
   "source": [
    "country_code = \"US\"\n",
    "horizon = 2023\n",
    "\n",
    "three_country_code = convert_two_country_code_to_three(country_code)"
   ]
  },
  {
   "cell_type": "markdown",
   "id": "7df9157a-e3ff-4d01-b92c-680626ff92fb",
   "metadata": {},
   "source": [
    "---"
   ]
  },
  {
   "cell_type": "markdown",
   "id": "0c5117a6",
   "metadata": {},
   "source": [
    "## 2. Installed capacity \n",
    "\n",
    "This section validates the **installed generation capacities** by technology. We compare the capacities in the PyPSA network to those reported by EIA and Ember to ensure the model's infrastructure assumptions are consistent with real-world data."
   ]
  },
  {
   "cell_type": "code",
   "execution_count": 9,
   "id": "1e15851c",
   "metadata": {},
   "outputs": [],
   "source": [
    "installed_capacity_ember = get_installed_capacity_ember(\n",
    "        ember_data, three_country_code, horizon).round(2)\n",
    "\n",
    "EIA_inst_capacities = get_data_EIA(\n",
    "    eia_installed_capacities_path, country_code, horizon)\n",
    "EIA_inst_capacities = preprocess_eia_data(EIA_inst_capacities).round(2)\n",
    "\n",
    "installed_capacity_ember.rename({\n",
    "    \"Gas\": \"Natural gas\", \"Fossil fuels\": \"Oil\"\n",
    "}, inplace=True)"
   ]
  },
  {
   "cell_type": "code",
   "execution_count": 10,
   "id": "8bb0d232",
   "metadata": {},
   "outputs": [],
   "source": [
    "gen_carriers = {\n",
    "    \"onwind\", \"offwind-ac\", \"offwind-dc\", \"solar\", \"solar rooftop\",\n",
    "    \"csp\", \"nuclear\", \"geothermal\", \"ror\", \"PHS\", \"hydro\"\n",
    "}\n",
    "link_carriers = {\n",
    "    \"OCGT\", \"CCGT\", \"coal\", \"oil\", \"biomass\", \"biomass CHP\", \"gas CHP\"\n",
    "}\n",
    "\n",
    "# Generators\n",
    "gen = base_network.generators.copy()\n",
    "gen['carrier'] = gen['carrier'].replace({'offwind-ac': 'offwind', 'offwind-dc': 'offwind'})\n",
    "gen = gen[gen.carrier.isin(gen_carriers)]\n",
    "gen_totals = gen.groupby('carrier')['p_nom_opt'].sum()\n",
    "\n",
    "# Storage\n",
    "sto = base_network.storage_units.copy()\n",
    "sto = sto[sto.carrier.isin(gen_carriers)]\n",
    "sto_totals = sto.groupby('carrier')['p_nom_opt'].sum()\n",
    "\n",
    "# Links (output side scaled by efficiency)\n",
    "links = base_network.links.copy()\n",
    "mask = (\n",
    "    links.efficiency.notnull()\n",
    "    & (links.p_nom_opt > 0)\n",
    "    & links.carrier.isin(link_carriers)\n",
    ")\n",
    "links = links[mask]\n",
    "links_totals = links.groupby('carrier').apply(\n",
    "    lambda df: (df['p_nom_opt'] * df['efficiency']).sum()\n",
    ")\n",
    "\n",
    "# Combine all\n",
    "all_totals = pd.concat([gen_totals, sto_totals, links_totals])\n",
    "all_totals = all_totals.groupby(all_totals.index).sum()  # Merge duplicates\n",
    "all_totals = all_totals[all_totals > 0] / 1e3"
   ]
  },
  {
   "cell_type": "code",
   "execution_count": 11,
   "id": "63eea5e8",
   "metadata": {},
   "outputs": [],
   "source": [
    "pypsa_cap = all_totals.rename({\n",
    "    \"onwind\": \"Wind\", \"offwind\": \"Wind\", \"solar rooftop\": \"Solar\",\n",
    "    \"solar\": \"Solar\", \"ror\": \"Hydro\", \"geothermal\": \"Geothermal\", \"nuclear\": \"Nuclear\", \"hydro\": \"Hydro\",\n",
    "    \"OCGT\": \"Natural gas\", \"CCGT\": \"Natural gas\", \"oil\": \"Oil\",\n",
    "    \"coal\": \"Coal\", \"biomass\": \"Biomass\",\n",
    "}).to_frame('PyPSA-Earth results').round(2).groupby(level=0).sum()"
   ]
  },
  {
   "cell_type": "code",
   "execution_count": 12,
   "id": "ceeee187",
   "metadata": {},
   "outputs": [
    {
     "data": {
      "text/html": [
       "<div>\n",
       "<style scoped>\n",
       "    .dataframe tbody tr th:only-of-type {\n",
       "        vertical-align: middle;\n",
       "    }\n",
       "\n",
       "    .dataframe tbody tr th {\n",
       "        vertical-align: top;\n",
       "    }\n",
       "\n",
       "    .dataframe thead th {\n",
       "        text-align: right;\n",
       "    }\n",
       "</style>\n",
       "<table border=\"1\" class=\"dataframe\">\n",
       "  <thead>\n",
       "    <tr style=\"text-align: right;\">\n",
       "      <th></th>\n",
       "      <th>PyPSA-Earth results</th>\n",
       "      <th>Ember data</th>\n",
       "      <th>EIA data</th>\n",
       "    </tr>\n",
       "  </thead>\n",
       "  <tbody>\n",
       "    <tr>\n",
       "      <th>Biomass</th>\n",
       "      <td>9.02</td>\n",
       "      <td>9.96</td>\n",
       "      <td>29.28</td>\n",
       "    </tr>\n",
       "    <tr>\n",
       "      <th>Coal</th>\n",
       "      <td>226.98</td>\n",
       "      <td>200.28</td>\n",
       "      <td>N/A</td>\n",
       "    </tr>\n",
       "    <tr>\n",
       "      <th>Geothermal</th>\n",
       "      <td>4.02</td>\n",
       "      <td>N/A</td>\n",
       "      <td>2.7</td>\n",
       "    </tr>\n",
       "    <tr>\n",
       "      <th>Hydro</th>\n",
       "      <td>79.98</td>\n",
       "      <td>86.66</td>\n",
       "      <td>79.99</td>\n",
       "    </tr>\n",
       "    <tr>\n",
       "      <th>Natural gas</th>\n",
       "      <td>563.70</td>\n",
       "      <td>542.93</td>\n",
       "      <td>N/A</td>\n",
       "    </tr>\n",
       "    <tr>\n",
       "      <th>Nuclear</th>\n",
       "      <td>99.96</td>\n",
       "      <td>95.77</td>\n",
       "      <td>95.75</td>\n",
       "    </tr>\n",
       "    <tr>\n",
       "      <th>Oil</th>\n",
       "      <td>32.58</td>\n",
       "      <td>32.16</td>\n",
       "      <td>N/A</td>\n",
       "    </tr>\n",
       "    <tr>\n",
       "      <th>PHS</th>\n",
       "      <td>22.02</td>\n",
       "      <td>N/A</td>\n",
       "      <td>23.15</td>\n",
       "    </tr>\n",
       "    <tr>\n",
       "      <th>Solar</th>\n",
       "      <td>166.61</td>\n",
       "      <td>139.21</td>\n",
       "      <td>139.77</td>\n",
       "    </tr>\n",
       "    <tr>\n",
       "      <th>Wind</th>\n",
       "      <td>149.16</td>\n",
       "      <td>148.02</td>\n",
       "      <td>147.44</td>\n",
       "    </tr>\n",
       "    <tr>\n",
       "      <th>Fossil fuels</th>\n",
       "      <td>823.26</td>\n",
       "      <td>775.37</td>\n",
       "      <td>717.28</td>\n",
       "    </tr>\n",
       "  </tbody>\n",
       "</table>\n",
       "</div>"
      ],
      "text/plain": [
       "              PyPSA-Earth results Ember data EIA data\n",
       "Biomass                      9.02       9.96    29.28\n",
       "Coal                       226.98     200.28      N/A\n",
       "Geothermal                   4.02        N/A      2.7\n",
       "Hydro                       79.98      86.66    79.99\n",
       "Natural gas                563.70     542.93      N/A\n",
       "Nuclear                     99.96      95.77    95.75\n",
       "Oil                         32.58      32.16      N/A\n",
       "PHS                         22.02        N/A    23.15\n",
       "Solar                      166.61     139.21   139.77\n",
       "Wind                       149.16     148.02   147.44\n",
       "Fossil fuels               823.26     775.37   717.28"
      ]
     },
     "execution_count": 12,
     "metadata": {},
     "output_type": "execute_result"
    }
   ],
   "source": [
    "pypsa_fossil_fuels = pypsa_cap.loc[[\"Natural gas\", \"Oil\", \"Coal\"]].sum().iloc[0]\n",
    "ember_fossil_fuels = installed_capacity_ember.loc[[\"Natural gas\", \"Oil\", \"Coal\"]].sum().iloc[0]\n",
    "\n",
    "pypsa_cap.loc['Fossil fuels'] = pypsa_fossil_fuels\n",
    "installed_capacity_ember.loc['Fossil fuels'] = ember_fossil_fuels\n",
    "\n",
    "installed_capacity_df = pd.concat(\n",
    "    [pypsa_cap, installed_capacity_ember, EIA_inst_capacities], axis=1).fillna(0)\n",
    "installed_capacity_df_na = installed_capacity_df.fillna(0).replace(0, \"N/A\")\n",
    "installed_capacity_df_na"
   ]
  },
  {
   "cell_type": "code",
   "execution_count": 13,
   "id": "bb57161a",
   "metadata": {},
   "outputs": [
    {
     "data": {
      "image/png": "[encoded data removed]",
      "text/plain": [
       "<Figure size 1200x600 with 1 Axes>"
      ]
     },
     "metadata": {},
     "output_type": "display_data"
    }
   ],
   "source": [
    "installed_capacity_df.plot(kind=\"bar\", figsize=(12, 6), width=0.8)\n",
    "plt.title(f\"Installed Capacity by Source in {horizon}\")\n",
    "plt.ylabel(\"Installed Capacity (GW)\")\n",
    "plt.xticks(rotation=0)\n",
    "plt.legend(loc='best')\n",
    "plt.tight_layout()"
   ]
  },
  {
   "cell_type": "markdown",
   "id": "18a8695b",
   "metadata": {},
   "source": [
    "Installed capacity data source <br>\n",
    "Ember source: https://ember-energy.org/data/electricity-data-explorer/?data=capacity&entity=United+States <br>\n",
    "EIA source: https://www.eia.gov/international/data/world/electricity/electricity-capacity"
   ]
  },
  {
   "cell_type": "markdown",
   "id": "f8f63a36-5917-43ee-bb9f-d1326b1c733a",
   "metadata": {},
   "source": [
    "---"
   ]
  },
  {
   "cell_type": "markdown",
   "id": "1df925eb-fb7b-43f6-848f-ea2fd4843fac",
   "metadata": {},
   "source": [
    "## 3. Electricity generation\n",
    "\n",
    "In this section, we compare the **annual electricity generation** by technology as reported by PyPSA-Earth, EIA, and Ember. This helps to identify any discrepancies in the modeled generation mix and total output."
   ]
  },
  {
   "cell_type": "code",
   "execution_count": 14,
   "id": "58e5f9d6-b135-4c6d-aff3-06f7f9334d6b",
   "metadata": {},
   "outputs": [],
   "source": [
    "# ember_data = load_ember_data()\n",
    "generation_data_ember = get_generation_capacity_ember_detail(\n",
    "        ember_data, three_country_code, horizon).round(2)\n",
    "generation_data_ember.drop(['Load shedding', 'Other Fossil'], inplace=True)\n",
    "\n",
    "eia_generation = get_data_EIA(eia_generation_path, country_code, horizon)\n",
    "eia_generation = preprocess_eia_data_detail(eia_generation).round(2)"
   ]
  },
  {
   "cell_type": "code",
   "execution_count": 15,
   "id": "70a15bc5",
   "metadata": {},
   "outputs": [],
   "source": [
    "pypsa_gen_final = calculate_total_generation_by_carrier(base_network).rename({\n",
    "        \"CCGT\": \"Natural gas\",  \"OCGT\": \"Natural gas\", \"Csp\": \"Solar\",\n",
    "        \"biomass EOP\": \"Biomass\", \"biomass\": \"Biomass\", \"coal\": \"Coal\",\n",
    "        \"oil\": \"Oil\", \"urban central gas CHP\": \"Natural gas\", \"ror\": \"Hydro\",\n",
    "        \"urban central solid biomass CHP\": \"Biomass\", \"nuclear\": \"Nuclear\",\n",
    "        \"solar\": \"Solar\", \"solar rooftop\": \"Solar\", \"hydro\": \"Hydro\", \"Reservoir & Dam\": \"Hydro\",\n",
    "        \"onwind\": \"Wind\", \"offwind\": \"Wind\", \"geothermal\": \"Geothermal\",\n",
    "    }).to_frame('PyPSA-Earth results').groupby(level=0).sum().round(2)"
   ]
  },
  {
   "cell_type": "code",
   "execution_count": 16,
   "id": "e9d640de-4cf1-4937-8596-c9b9b3d06c66",
   "metadata": {},
   "outputs": [
    {
     "data": {
      "text/html": [
       "<div>\n",
       "<style scoped>\n",
       "    .dataframe tbody tr th:only-of-type {\n",
       "        vertical-align: middle;\n",
       "    }\n",
       "\n",
       "    .dataframe tbody tr th {\n",
       "        vertical-align: top;\n",
       "    }\n",
       "\n",
       "    .dataframe thead th {\n",
       "        text-align: right;\n",
       "    }\n",
       "</style>\n",
       "<table border=\"1\" class=\"dataframe\">\n",
       "  <thead>\n",
       "    <tr style=\"text-align: right;\">\n",
       "      <th></th>\n",
       "      <th>PyPSA-Earth results</th>\n",
       "      <th>Ember data</th>\n",
       "      <th>EIA data</th>\n",
       "    </tr>\n",
       "  </thead>\n",
       "  <tbody>\n",
       "    <tr>\n",
       "      <th>Biomass</th>\n",
       "      <td>77.73</td>\n",
       "      <td>47.46</td>\n",
       "      <td>57.16</td>\n",
       "    </tr>\n",
       "    <tr>\n",
       "      <th>Coal</th>\n",
       "      <td>657.45</td>\n",
       "      <td>675.26</td>\n",
       "      <td>675.12</td>\n",
       "    </tr>\n",
       "    <tr>\n",
       "      <th>Geothermal</th>\n",
       "      <td>35.16</td>\n",
       "      <td>0.00</td>\n",
       "      <td>16.37</td>\n",
       "    </tr>\n",
       "    <tr>\n",
       "      <th>Hydro</th>\n",
       "      <td>245.13</td>\n",
       "      <td>233.96</td>\n",
       "      <td>245.00</td>\n",
       "    </tr>\n",
       "    <tr>\n",
       "      <th>Natural gas</th>\n",
       "      <td>1318.95</td>\n",
       "      <td>1802.06</td>\n",
       "      <td>1806.06</td>\n",
       "    </tr>\n",
       "    <tr>\n",
       "      <th>Nuclear</th>\n",
       "      <td>778.10</td>\n",
       "      <td>775.35</td>\n",
       "      <td>774.87</td>\n",
       "    </tr>\n",
       "    <tr>\n",
       "      <th>Oil</th>\n",
       "      <td>94.41</td>\n",
       "      <td>0.00</td>\n",
       "      <td>16.23</td>\n",
       "    </tr>\n",
       "    <tr>\n",
       "      <th>Solar</th>\n",
       "      <td>241.48</td>\n",
       "      <td>238.12</td>\n",
       "      <td>238.94</td>\n",
       "    </tr>\n",
       "    <tr>\n",
       "      <th>Wind</th>\n",
       "      <td>393.26</td>\n",
       "      <td>425.23</td>\n",
       "      <td>421.14</td>\n",
       "    </tr>\n",
       "    <tr>\n",
       "      <th>PHS</th>\n",
       "      <td>0.00</td>\n",
       "      <td>0.00</td>\n",
       "      <td>-5.99</td>\n",
       "    </tr>\n",
       "    <tr>\n",
       "      <th>Total</th>\n",
       "      <td>3841.67</td>\n",
       "      <td>4197.44</td>\n",
       "      <td>4244.90</td>\n",
       "    </tr>\n",
       "  </tbody>\n",
       "</table>\n",
       "</div>"
      ],
      "text/plain": [
       "             PyPSA-Earth results  Ember data  EIA data\n",
       "Biomass                    77.73       47.46     57.16\n",
       "Coal                      657.45      675.26    675.12\n",
       "Geothermal                 35.16        0.00     16.37\n",
       "Hydro                     245.13      233.96    245.00\n",
       "Natural gas              1318.95     1802.06   1806.06\n",
       "Nuclear                   778.10      775.35    774.87\n",
       "Oil                        94.41        0.00     16.23\n",
       "Solar                     241.48      238.12    238.94\n",
       "Wind                      393.26      425.23    421.14\n",
       "PHS                         0.00        0.00     -5.99\n",
       "Total                    3841.67     4197.44   4244.90"
      ]
     },
     "metadata": {},
     "output_type": "display_data"
    }
   ],
   "source": [
    "generation_df = pd.concat(\n",
    "    [pypsa_gen_final, generation_data_ember, eia_generation], axis=1).fillna(0)\n",
    "\n",
    "totals_row = generation_df.sum().to_frame().T\n",
    "totals_row.index = ['Total']\n",
    "generation_df_with_totals = pd.concat([generation_df, totals_row])\n",
    "\n",
    "display(generation_df_with_totals)"
   ]
  },
  {
   "cell_type": "code",
   "execution_count": 17,
   "id": "1d1f26a9-30db-4dff-b1bc-45f28d590729",
   "metadata": {},
   "outputs": [
    {
     "data": {
      "image/png": "[encoded data removed]",
      "text/plain": [
       "<Figure size 1200x600 with 1 Axes>"
      ]
     },
     "metadata": {},
     "output_type": "display_data"
    }
   ],
   "source": [
    "generation_df.plot(kind=\"bar\", figsize=(12, 6), width=0.8)\n",
    "plt.title(f\"Electricity Generation by technology class - {horizon}\")\n",
    "plt.ylabel(\"Electricity Generation (TWh)\")\n",
    "plt.xticks(rotation=0)\n",
    "plt.legend(loc='upper right')\n",
    "plt.tight_layout()"
   ]
  },
  {
   "cell_type": "markdown",
   "id": "5f289d97",
   "metadata": {},
   "source": [
    "Electricity generation <br>\n",
    "Ember source: https://ember-energy.org/data/us-electricity-data/ <br>\n",
    "EIA source: https://www.eia.gov/international/data/world/electricity/electricity-generation"
   ]
  },
  {
   "cell_type": "markdown",
   "id": "7788ebdf-a19b-4845-9841-dd69c646b8d7",
   "metadata": {},
   "source": [
    "---"
   ]
  },
  {
   "cell_type": "markdown",
   "id": "3e556ed9",
   "metadata": {},
   "source": [
    "## 4. Electricity demand\n",
    "\n",
    "Finally, we validate the **electricity demand** in the PyPSA network against the EIA and Ember datasets. This ensures that the modeled demand matches observed values for the base year."
   ]
  },
  {
   "cell_type": "markdown",
   "id": "02bf7374-1068-4b8c-9fd8-b9e6dcf5b63a",
   "metadata": {},
   "source": [
    "### 4.1 Total electricity demand\n",
    "\n",
    "*Total electricity demand in PyPSA-Earth (US) uses NREL as a reference (see the `scenario_analysis_single` notebook.*"
   ]
  },
  {
   "cell_type": "markdown",
   "id": "26dab599",
   "metadata": {},
   "source": [
    "### 4.2 State-wise Total Electricity Demand\n",
    "\n",
    "*A bar plot showing the state-wise annual electricity demand for the base year (2023) to validate the quality of the spatial distribution of demand.*"
   ]
  },
  {
   "cell_type": "code",
   "execution_count": 18,
   "id": "277d50f2-b5f2-41e1-b1a1-92ac5b6ecf11",
   "metadata": {},
   "outputs": [],
   "source": [
    "demand_ember = get_demand_ember(ember_data, three_country_code, horizon)\n",
    "_, pypsa_demand =compute_demand(base_network)\n",
    "\n",
    "EIA_demand = preprocess_eia_demand(eia_demand_path, horizon)"
   ]
  },
  {
   "cell_type": "code",
   "execution_count": 19,
   "id": "cd4f33e7",
   "metadata": {},
   "outputs": [],
   "source": [
    "base_demand_grid_region, base_demand_state = compute_demand(base_network)"
   ]
  },
  {
   "cell_type": "code",
   "execution_count": 20,
   "id": "7943aba4",
   "metadata": {},
   "outputs": [],
   "source": [
    "demand_total =  pd.concat([EIA_demand, base_demand_state.sum(axis=1)], axis=1).rename({0: 'PyPSA-Earth'}, axis=1)"
   ]
  },
  {
   "cell_type": "code",
   "execution_count": 21,
   "id": "4558e59a",
   "metadata": {},
   "outputs": [
    {
     "data": {
      "application/vnd.plotly.v1+json": {
       "config": {
        "plotlyServerURL": "https://plot.ly"
       },
       "data": [
        {
         "alignmentgroup": "True",
         "hovertemplate": "variable=EIA<br>index=%{x}<br>value=%{y}<extra></extra>",
         "legendgroup": "EIA",
         "marker": {
          "color": "#636efa",
          "pattern": {
           "shape": ""
          }
         },
         "name": "EIA",
         "offsetgroup": "EIA",
         "orientation": "v",
         "showlegend": true,
         "textposition": "auto",
         "type": "bar",
         "x": [
          "AK",
          "AL",
          "AR",
          "AZ",
          "CA",
          "CO",
          "CT",
          "DC",
          "DE",
          "FL",
          "GA",
          "HI",
          "IA",
          "ID",
          "IL",
          "IN",
          "KS",
          "KY",
          "LA",
          "MA",
          "MD",
          "ME",
          "MI",
          "MN",
          "MO",
          "MS",
          "MT",
          "NC",
          "ND",
          "NE",
          "NH",
          "NJ",
          "NM",
          "NV",
          "NY",
          "OH",
          "OK",
          "OR",
          "PA",
          "RI",
          "SC",
          "SD",
          "TN",
          "TX",
          "UT",
          "VA",
          "VT",
          "WA",
          "WI",
          "WV",
          "WY"
         ],
         "xaxis": "x",
         "y": {
          "bdata": "mpmZmZkZGEC4HoXrUThVQFCNl24SU0hAiUFg5dB6VUCPwvUoXO9tQJzEILByyEtAj8L1KFyvOkDD9Shcj8IjQESLbOf7KSZArkfhehReb0CwcmiR7cBhQLTIdr6f2iFAMzMzMzMzS0AGgZVDi6w5QNEi2/l+UmBASOF6FK7/V0Atsp3vp4ZEQIPAyqFFzlFADi2yne/XV0Coxks3iQFJQE5iEFg5hExAeekmMQisJkAEVg4tsmVYQOf7qfHSjVBAWDm0yHY+U0C8dJMYBDZIQMP1KFyPAi9A9P3UeOmiYEDByqFFtjM8QAwCK4cWyUBAUI2XbhJDJUCR7Xw/NcZRQEa28/3UWDxAHVpkO98fQ0Av3SQGgW1hQI2XbhKDVGJALbKd76c+UUCuR+F6FP5MQJhuEoPAVmFATmIQWDk0HUCwcmiR7UxUQFCNl24SAytAbef7qfHCWECF61G4Hs1+QHnpJjEIrEBAke18PzWKYEDb+X5qvHQVQAisHFpkY1ZAarx0kxgkUUAMAiuHFglAQArXo3A9yjBA",
          "dtype": "f8"
         },
         "yaxis": "y"
        },
        {
         "alignmentgroup": "True",
         "hovertemplate": "variable=PyPSA-Earth<br>index=%{x}<br>value=%{y}<extra></extra>",
         "legendgroup": "PyPSA-Earth",
         "marker": {
          "color": "#EF553B",
          "pattern": {
           "shape": ""
          }
         },
         "name": "PyPSA-Earth",
         "offsetgroup": "PyPSA-Earth",
         "orientation": "v",
         "showlegend": true,
         "textposition": "auto",
         "type": "bar",
         "x": [
          "AK",
          "AL",
          "AR",
          "AZ",
          "CA",
          "CO",
          "CT",
          "DC",
          "DE",
          "FL",
          "GA",
          "HI",
          "IA",
          "ID",
          "IL",
          "IN",
          "KS",
          "KY",
          "LA",
          "MA",
          "MD",
          "ME",
          "MI",
          "MN",
          "MO",
          "MS",
          "MT",
          "NC",
          "ND",
          "NE",
          "NH",
          "NJ",
          "NM",
          "NV",
          "NY",
          "OH",
          "OK",
          "OR",
          "PA",
          "RI",
          "SC",
          "SD",
          "TN",
          "TX",
          "UT",
          "VA",
          "VT",
          "WA",
          "WI",
          "WV",
          "WY"
         ],
         "xaxis": "x",
         "y": {
          "bdata": "cT0K16NwBUB7FK5H4RpRQOJ6FK5HYThApHA9CtczUkDC9ShcjxpwQAAAAAAA4EhAAAAAAAAA+H8AAAAAAAD4fwAAAAAAAPh/ZmZmZmZ+aUBI4XoUro9hQB6F61G4niNArkfhehTOS0BSuB6F6zFDQLgehetRiFtApHA9CtezU0CuR+F6FK4/QHoUrkfhWk5AzMzMzMzcWEAfhetRuB5YQJqZmZmZeUhAw/UoXI9CKEC4HoXrUWhWQJmZmZmZ2U1A4XoUrkdxU0BI4XoUrkc0QAAAAAAAACpAmpmZmZmpXUAK16NwPYo7QFyPwvUonElA7FG4HoXrsT+PwvUoXEdiQBWuR+F69EdAehSuR+H6PkAK16NwPQpbQML1KFyPkmNAj8L1KFxfUEAK16NwPWpBQD4K16NwdWNAAAAAAAAA+H/Xo3A9CldSQDMzMzMz8zBA4HoUrkdxW0AfhetRuFZ6QMzMzMzMDDpASOF6FK5XWUAAAAAAAAD4f3oUrkfhilhArkfhehS+UUBwPQrXozA3QKRwPQrXoyNA",
          "dtype": "f8"
         },
         "yaxis": "y"
        }
       ],
       "layout": {
        "barmode": "group",
        "height": 700,
        "legend": {
         "title": {
          "text": "variable"
         },
         "tracegroupgap": 0
        },
        "margin": {
         "t": 60
        },
        "template": {
         "data": {
          "bar": [
           {
            "error_x": {
             "color": "#2a3f5f"
            },
            "error_y": {
             "color": "#2a3f5f"
            },
            "marker": {
             "line": {
              "color": "#E5ECF6",
              "width": 0.5
             },
             "pattern": {
              "fillmode": "overlay",
              "size": 10,
              "solidity": 0.2
             }
            },
            "type": "bar"
           }
          ],
          "barpolar": [
           {
            "marker": {
             "line": {
              "color": "#E5ECF6",
              "width": 0.5
             },
             "pattern": {
              "fillmode": "overlay",
              "size": 10,
              "solidity": 0.2
             }
            },
            "type": "barpolar"
           }
          ],
          "carpet": [
           {
            "aaxis": {
             "endlinecolor": "#2a3f5f",
             "gridcolor": "white",
             "linecolor": "white",
             "minorgridcolor": "white",
             "startlinecolor": "#2a3f5f"
            },
            "baxis": {
             "endlinecolor": "#2a3f5f",
             "gridcolor": "white",
             "linecolor": "white",
             "minorgridcolor": "white",
             "startlinecolor": "#2a3f5f"
            },
            "type": "carpet"
           }
          ],
          "choropleth": [
           {
            "colorbar": {
             "outlinewidth": 0,
             "ticks": ""
            },
            "type": "choropleth"
           }
          ],
          "contour": [
           {
            "colorbar": {
             "outlinewidth": 0,
             "ticks": ""
            },
            "colorscale": [
             [
              0,
              "#0d0887"
             ],
             [
              0.1111111111111111,
              "#46039f"
             ],
             [
              0.2222222222222222,
              "#7201a8"
             ],
             [
              0.3333333333333333,
              "#9c179e"
             ],
             [
              0.4444444444444444,
              "#bd3786"
             ],
             [
              0.5555555555555556,
              "#d8576b"
             ],
             [
              0.6666666666666666,
              "#ed7953"
             ],
             [
              0.7777777777777778,
              "#fb9f3a"
             ],
             [
              0.8888888888888888,
              "#fdca26"
             ],
             [
              1,
              "#f0f921"
             ]
            ],
            "type": "contour"
           }
          ],
          "contourcarpet": [
           {
            "colorbar": {
             "outlinewidth": 0,
             "ticks": ""
            },
            "type": "contourcarpet"
           }
          ],
          "heatmap": [
           {
            "colorbar": {
             "outlinewidth": 0,
             "ticks": ""
            },
            "colorscale": [
             [
              0,
              "#0d0887"
             ],
             [
              0.1111111111111111,
              "#46039f"
             ],
             [
              0.2222222222222222,
              "#7201a8"
             ],
             [
              0.3333333333333333,
              "#9c179e"
             ],
             [
              0.4444444444444444,
              "#bd3786"
             ],
             [
              0.5555555555555556,
              "#d8576b"
             ],
             [
              0.6666666666666666,
              "#ed7953"
             ],
             [
              0.7777777777777778,
              "#fb9f3a"
             ],
             [
              0.8888888888888888,
              "#fdca26"
             ],
             [
              1,
              "#f0f921"
             ]
            ],
            "type": "heatmap"
           }
          ],
          "histogram": [
           {
            "marker": {
             "pattern": {
              "fillmode": "overlay",
              "size": 10,
              "solidity": 0.2
             }
            },
            "type": "histogram"
           }
          ],
          "histogram2d": [
           {
            "colorbar": {
             "outlinewidth": 0,
             "ticks": ""
            },
            "colorscale": [
             [
              0,
              "#0d0887"
             ],
             [
              0.1111111111111111,
              "#46039f"
             ],
             [
              0.2222222222222222,
              "#7201a8"
             ],
             [
              0.3333333333333333,
              "#9c179e"
             ],
             [
              0.4444444444444444,
              "#bd3786"
             ],
             [
              0.5555555555555556,
              "#d8576b"
             ],
             [
              0.6666666666666666,
              "#ed7953"
             ],
             [
              0.7777777777777778,
              "#fb9f3a"
             ],
             [
              0.8888888888888888,
              "#fdca26"
             ],
             [
              1,
              "#f0f921"
             ]
            ],
            "type": "histogram2d"
           }
          ],
          "histogram2dcontour": [
           {
            "colorbar": {
             "outlinewidth": 0,
             "ticks": ""
            },
            "colorscale": [
             [
              0,
              "#0d0887"
             ],
             [
              0.1111111111111111,
              "#46039f"
             ],
             [
              0.2222222222222222,
              "#7201a8"
             ],
             [
              0.3333333333333333,
              "#9c179e"
             ],
             [
              0.4444444444444444,
              "#bd3786"
             ],
             [
              0.5555555555555556,
              "#d8576b"
             ],
             [
              0.6666666666666666,
              "#ed7953"
             ],
             [
              0.7777777777777778,
              "#fb9f3a"
             ],
             [
              0.8888888888888888,
              "#fdca26"
             ],
             [
              1,
              "#f0f921"
             ]
            ],
            "type": "histogram2dcontour"
           }
          ],
          "mesh3d": [
           {
            "colorbar": {
             "outlinewidth": 0,
             "ticks": ""
            },
            "type": "mesh3d"
           }
          ],
          "parcoords": [
           {
            "line": {
             "colorbar": {
              "outlinewidth": 0,
              "ticks": ""
             }
            },
            "type": "parcoords"
           }
          ],
          "pie": [
           {
            "automargin": true,
            "type": "pie"
           }
          ],
          "scatter": [
           {
            "fillpattern": {
             "fillmode": "overlay",
             "size": 10,
             "solidity": 0.2
            },
            "type": "scatter"
           }
          ],
          "scatter3d": [
           {
            "line": {
             "colorbar": {
              "outlinewidth": 0,
              "ticks": ""
             }
            },
            "marker": {
             "colorbar": {
              "outlinewidth": 0,
              "ticks": ""
             }
            },
            "type": "scatter3d"
           }
          ],
          "scattercarpet": [
           {
            "marker": {
             "colorbar": {
              "outlinewidth": 0,
              "ticks": ""
             }
            },
            "type": "scattercarpet"
           }
          ],
          "scattergeo": [
           {
            "marker": {
             "colorbar": {
              "outlinewidth": 0,
              "ticks": ""
             }
            },
            "type": "scattergeo"
           }
          ],
          "scattergl": [
           {
            "marker": {
             "colorbar": {
              "outlinewidth": 0,
              "ticks": ""
             }
            },
            "type": "scattergl"
           }
          ],
          "scattermap": [
           {
            "marker": {
             "colorbar": {
              "outlinewidth": 0,
              "ticks": ""
             }
            },
            "type": "scattermap"
           }
          ],
          "scattermapbox": [
           {
            "marker": {
             "colorbar": {
              "outlinewidth": 0,
              "ticks": ""
             }
            },
            "type": "scattermapbox"
           }
          ],
          "scatterpolar": [
           {
            "marker": {
             "colorbar": {
              "outlinewidth": 0,
              "ticks": ""
             }
            },
            "type": "scatterpolar"
           }
          ],
          "scatterpolargl": [
           {
            "marker": {
             "colorbar": {
              "outlinewidth": 0,
              "ticks": ""
             }
            },
            "type": "scatterpolargl"
           }
          ],
          "scatterternary": [
           {
            "marker": {
             "colorbar": {
              "outlinewidth": 0,
              "ticks": ""
             }
            },
            "type": "scatterternary"
           }
          ],
          "surface": [
           {
            "colorbar": {
             "outlinewidth": 0,
             "ticks": ""
            },
            "colorscale": [
             [
              0,
              "#0d0887"
             ],
             [
              0.1111111111111111,
              "#46039f"
             ],
             [
              0.2222222222222222,
              "#7201a8"
             ],
             [
              0.3333333333333333,
              "#9c179e"
             ],
             [
              0.4444444444444444,
              "#bd3786"
             ],
             [
              0.5555555555555556,
              "#d8576b"
             ],
             [
              0.6666666666666666,
              "#ed7953"
             ],
             [
              0.7777777777777778,
              "#fb9f3a"
             ],
             [
              0.8888888888888888,
              "#fdca26"
             ],
             [
              1,
              "#f0f921"
             ]
            ],
            "type": "surface"
           }
          ],
          "table": [
           {
            "cells": {
             "fill": {
              "color": "#EBF0F8"
             },
             "line": {
              "color": "white"
             }
            },
            "header": {
             "fill": {
              "color": "#C8D4E3"
             },
             "line": {
              "color": "white"
             }
            },
            "type": "table"
           }
          ]
         },
         "layout": {
          "annotationdefaults": {
           "arrowcolor": "#2a3f5f",
           "arrowhead": 0,
           "arrowwidth": 1
          },
          "autotypenumbers": "strict",
          "coloraxis": {
           "colorbar": {
            "outlinewidth": 0,
            "ticks": ""
           }
          },
          "colorscale": {
           "diverging": [
            [
             0,
             "#8e0152"
            ],
            [
             0.1,
             "#c51b7d"
            ],
            [
             0.2,
             "#de77ae"
            ],
            [
             0.3,
             "#f1b6da"
            ],
            [
             0.4,
             "#fde0ef"
            ],
            [
             0.5,
             "#f7f7f7"
            ],
            [
             0.6,
             "#e6f5d0"
            ],
            [
             0.7,
             "#b8e186"
            ],
            [
             0.8,
             "#7fbc41"
            ],
            [
             0.9,
             "#4d9221"
            ],
            [
             1,
             "#276419"
            ]
           ],
           "sequential": [
            [
             0,
             "#0d0887"
            ],
            [
             0.1111111111111111,
             "#46039f"
            ],
            [
             0.2222222222222222,
             "#7201a8"
            ],
            [
             0.3333333333333333,
             "#9c179e"
            ],
            [
             0.4444444444444444,
             "#bd3786"
            ],
            [
             0.5555555555555556,
             "#d8576b"
            ],
            [
             0.6666666666666666,
             "#ed7953"
            ],
            [
             0.7777777777777778,
             "#fb9f3a"
            ],
            [
             0.8888888888888888,
             "#fdca26"
            ],
            [
             1,
             "#f0f921"
            ]
           ],
           "sequentialminus": [
            [
             0,
             "#0d0887"
            ],
            [
             0.1111111111111111,
             "#46039f"
            ],
            [
             0.2222222222222222,
             "#7201a8"
            ],
            [
             0.3333333333333333,
             "#9c179e"
            ],
            [
             0.4444444444444444,
             "#bd3786"
            ],
            [
             0.5555555555555556,
             "#d8576b"
            ],
            [
             0.6666666666666666,
             "#ed7953"
            ],
            [
             0.7777777777777778,
             "#fb9f3a"
            ],
            [
             0.8888888888888888,
             "#fdca26"
            ],
            [
             1,
             "#f0f921"
            ]
           ]
          },
          "colorway": [
           "#636efa",
           "#EF553B",
           "#00cc96",
           "#ab63fa",
           "#FFA15A",
           "#19d3f3",
           "#FF6692",
           "#B6E880",
           "#FF97FF",
           "#FECB52"
          ],
          "font": {
           "color": "#2a3f5f"
          },
          "geo": {
           "bgcolor": "white",
           "lakecolor": "white",
           "landcolor": "#E5ECF6",
           "showlakes": true,
           "showland": true,
           "subunitcolor": "white"
          },
          "hoverlabel": {
           "align": "left"
          },
          "hovermode": "closest",
          "mapbox": {
           "style": "light"
          },
          "paper_bgcolor": "white",
          "plot_bgcolor": "#E5ECF6",
          "polar": {
           "angularaxis": {
            "gridcolor": "white",
            "linecolor": "white",
            "ticks": ""
           },
           "bgcolor": "#E5ECF6",
           "radialaxis": {
            "gridcolor": "white",
            "linecolor": "white",
            "ticks": ""
           }
          },
          "scene": {
           "xaxis": {
            "backgroundcolor": "#E5ECF6",
            "gridcolor": "white",
            "gridwidth": 2,
            "linecolor": "white",
            "showbackground": true,
            "ticks": "",
            "zerolinecolor": "white"
           },
           "yaxis": {
            "backgroundcolor": "#E5ECF6",
            "gridcolor": "white",
            "gridwidth": 2,
            "linecolor": "white",
            "showbackground": true,
            "ticks": "",
            "zerolinecolor": "white"
           },
           "zaxis": {
            "backgroundcolor": "#E5ECF6",
            "gridcolor": "white",
            "gridwidth": 2,
            "linecolor": "white",
            "showbackground": true,
            "ticks": "",
            "zerolinecolor": "white"
           }
          },
          "shapedefaults": {
           "line": {
            "color": "#2a3f5f"
           }
          },
          "ternary": {
           "aaxis": {
            "gridcolor": "white",
            "linecolor": "white",
            "ticks": ""
           },
           "baxis": {
            "gridcolor": "white",
            "linecolor": "white",
            "ticks": ""
           },
           "bgcolor": "#E5ECF6",
           "caxis": {
            "gridcolor": "white",
            "linecolor": "white",
            "ticks": ""
           }
          },
          "title": {
           "x": 0.05
          },
          "xaxis": {
           "automargin": true,
           "gridcolor": "white",
           "linecolor": "white",
           "ticks": "",
           "title": {
            "standoff": 15
           },
           "zerolinecolor": "white",
           "zerolinewidth": 2
          },
          "yaxis": {
           "automargin": true,
           "gridcolor": "white",
           "linecolor": "white",
           "ticks": "",
           "title": {
            "standoff": 15
           },
           "zerolinecolor": "white",
           "zerolinewidth": 2
          }
         }
        },
        "title": {
         "text": "Electricity Demand for 2023"
        },
        "width": 2500,
        "xaxis": {
         "anchor": "y",
         "domain": [
          0,
          1
         ],
         "title": {
          "text": "States"
         }
        },
        "yaxis": {
         "anchor": "x",
         "domain": [
          0,
          1
         ],
         "title": {
          "text": "Demand (TWh)"
         }
        }
       }
      },
      "image/png": "[encoded data removed]"
     },
     "metadata": {},
     "output_type": "display_data"
    }
   ],
   "source": [
    "fig = px.bar(demand_total, barmode='group')\n",
    "fig.update_layout(width=2500, \n",
    "                  height=700, \n",
    "                  yaxis_title='Demand (TWh)',\n",
    "                  xaxis_title='States',\n",
    "                  title=f'Electricity Demand for {horizon}')\n",
    "fig.show()"
   ]
  },
  {
   "cell_type": "markdown",
   "id": "8f9e7d2a",
   "metadata": {},
   "source": [
    "Electricity demand <br>\n",
    "EIA source: https://www.eia.gov/state/seds/seds-data-complete.php?sid=US#Consumption <br> \n",
    "https://www.eia.gov/state/seds/sep_use/total/csv/use_all_phy.xlsx"
   ]
  },
  {
   "cell_type": "code",
   "execution_count": 22,
   "id": "8b9c5490",
   "metadata": {},
   "outputs": [
    {
     "data": {
      "text/html": [
       "<div>\n",
       "<style scoped>\n",
       "    .dataframe tbody tr th:only-of-type {\n",
       "        vertical-align: middle;\n",
       "    }\n",
       "\n",
       "    .dataframe tbody tr th {\n",
       "        vertical-align: top;\n",
       "    }\n",
       "\n",
       "    .dataframe thead th {\n",
       "        text-align: right;\n",
       "    }\n",
       "</style>\n",
       "<table border=\"1\" class=\"dataframe\">\n",
       "  <thead>\n",
       "    <tr style=\"text-align: right;\">\n",
       "      <th>region</th>\n",
       "      <th>Alaska</th>\n",
       "      <th>California</th>\n",
       "      <th>Delta</th>\n",
       "      <th>Florida</th>\n",
       "      <th>Hawaii</th>\n",
       "      <th>Mid-Atlantic</th>\n",
       "      <th>Midwest</th>\n",
       "      <th>Mountain</th>\n",
       "      <th>New England</th>\n",
       "      <th>New York</th>\n",
       "      <th>Northwest</th>\n",
       "      <th>Plains</th>\n",
       "      <th>Southeast</th>\n",
       "      <th>Southwest</th>\n",
       "      <th>Texas</th>\n",
       "    </tr>\n",
       "    <tr>\n",
       "      <th>carrier</th>\n",
       "      <th></th>\n",
       "      <th></th>\n",
       "      <th></th>\n",
       "      <th></th>\n",
       "      <th></th>\n",
       "      <th></th>\n",
       "      <th></th>\n",
       "      <th></th>\n",
       "      <th></th>\n",
       "      <th></th>\n",
       "      <th></th>\n",
       "      <th></th>\n",
       "      <th></th>\n",
       "      <th></th>\n",
       "      <th></th>\n",
       "    </tr>\n",
       "  </thead>\n",
       "  <tbody>\n",
       "    <tr>\n",
       "      <th>AC</th>\n",
       "      <td>0.79</td>\n",
       "      <td>93.62</td>\n",
       "      <td>84.53</td>\n",
       "      <td>85.99</td>\n",
       "      <td>3.21</td>\n",
       "      <td>300.91</td>\n",
       "      <td>193.88</td>\n",
       "      <td>42.36</td>\n",
       "      <td>39.07</td>\n",
       "      <td>26.61</td>\n",
       "      <td>67.98</td>\n",
       "      <td>122.74</td>\n",
       "      <td>230.37</td>\n",
       "      <td>57.98</td>\n",
       "      <td>121.67</td>\n",
       "    </tr>\n",
       "    <tr>\n",
       "      <th>agriculture electricity</th>\n",
       "      <td>0.06</td>\n",
       "      <td>5.79</td>\n",
       "      <td>1.60</td>\n",
       "      <td>2.16</td>\n",
       "      <td>0.25</td>\n",
       "      <td>9.74</td>\n",
       "      <td>7.75</td>\n",
       "      <td>1.54</td>\n",
       "      <td>2.11</td>\n",
       "      <td>3.49</td>\n",
       "      <td>3.82</td>\n",
       "      <td>4.63</td>\n",
       "      <td>8.52</td>\n",
       "      <td>2.69</td>\n",
       "      <td>3.19</td>\n",
       "    </tr>\n",
       "    <tr>\n",
       "      <th>industry electricity</th>\n",
       "      <td>1.10</td>\n",
       "      <td>71.41</td>\n",
       "      <td>61.37</td>\n",
       "      <td>17.36</td>\n",
       "      <td>3.36</td>\n",
       "      <td>151.22</td>\n",
       "      <td>97.61</td>\n",
       "      <td>17.26</td>\n",
       "      <td>31.34</td>\n",
       "      <td>52.82</td>\n",
       "      <td>39.80</td>\n",
       "      <td>55.33</td>\n",
       "      <td>79.41</td>\n",
       "      <td>21.06</td>\n",
       "      <td>32.08</td>\n",
       "    </tr>\n",
       "    <tr>\n",
       "      <th>land transport EV</th>\n",
       "      <td>0.01</td>\n",
       "      <td>1.10</td>\n",
       "      <td>0.30</td>\n",
       "      <td>0.39</td>\n",
       "      <td>0.05</td>\n",
       "      <td>1.89</td>\n",
       "      <td>1.51</td>\n",
       "      <td>0.30</td>\n",
       "      <td>0.41</td>\n",
       "      <td>0.69</td>\n",
       "      <td>0.73</td>\n",
       "      <td>0.89</td>\n",
       "      <td>1.60</td>\n",
       "      <td>0.52</td>\n",
       "      <td>0.59</td>\n",
       "    </tr>\n",
       "    <tr>\n",
       "      <th>rail transport electricity</th>\n",
       "      <td>0.01</td>\n",
       "      <td>0.56</td>\n",
       "      <td>0.15</td>\n",
       "      <td>0.21</td>\n",
       "      <td>0.02</td>\n",
       "      <td>0.95</td>\n",
       "      <td>0.75</td>\n",
       "      <td>0.15</td>\n",
       "      <td>0.21</td>\n",
       "      <td>0.34</td>\n",
       "      <td>0.37</td>\n",
       "      <td>0.44</td>\n",
       "      <td>0.82</td>\n",
       "      <td>0.27</td>\n",
       "      <td>0.31</td>\n",
       "    </tr>\n",
       "    <tr>\n",
       "      <th>services electricity</th>\n",
       "      <td>0.71</td>\n",
       "      <td>85.18</td>\n",
       "      <td>76.92</td>\n",
       "      <td>78.24</td>\n",
       "      <td>2.92</td>\n",
       "      <td>273.75</td>\n",
       "      <td>176.40</td>\n",
       "      <td>38.53</td>\n",
       "      <td>35.54</td>\n",
       "      <td>24.21</td>\n",
       "      <td>61.86</td>\n",
       "      <td>111.67</td>\n",
       "      <td>209.57</td>\n",
       "      <td>52.74</td>\n",
       "      <td>110.71</td>\n",
       "    </tr>\n",
       "    <tr>\n",
       "      <th>Total</th>\n",
       "      <td>2.68</td>\n",
       "      <td>257.66</td>\n",
       "      <td>224.87</td>\n",
       "      <td>184.35</td>\n",
       "      <td>9.81</td>\n",
       "      <td>738.46</td>\n",
       "      <td>477.90</td>\n",
       "      <td>100.14</td>\n",
       "      <td>108.68</td>\n",
       "      <td>108.16</td>\n",
       "      <td>174.56</td>\n",
       "      <td>295.70</td>\n",
       "      <td>530.29</td>\n",
       "      <td>135.26</td>\n",
       "      <td>268.55</td>\n",
       "    </tr>\n",
       "  </tbody>\n",
       "</table>\n",
       "</div>"
      ],
      "text/plain": [
       "region                      Alaska  California   Delta  Florida  Hawaii  \\\n",
       "carrier                                                                   \n",
       "AC                            0.79       93.62   84.53    85.99    3.21   \n",
       "agriculture electricity       0.06        5.79    1.60     2.16    0.25   \n",
       "industry electricity          1.10       71.41   61.37    17.36    3.36   \n",
       "land transport EV             0.01        1.10    0.30     0.39    0.05   \n",
       "rail transport electricity    0.01        0.56    0.15     0.21    0.02   \n",
       "services electricity          0.71       85.18   76.92    78.24    2.92   \n",
       "Total                         2.68      257.66  224.87   184.35    9.81   \n",
       "\n",
       "region                      Mid-Atlantic  Midwest  Mountain  New England  \\\n",
       "carrier                                                                    \n",
       "AC                                300.91   193.88     42.36        39.07   \n",
       "agriculture electricity             9.74     7.75      1.54         2.11   \n",
       "industry electricity              151.22    97.61     17.26        31.34   \n",
       "land transport EV                   1.89     1.51      0.30         0.41   \n",
       "rail transport electricity          0.95     0.75      0.15         0.21   \n",
       "services electricity              273.75   176.40     38.53        35.54   \n",
       "Total                             738.46   477.90    100.14       108.68   \n",
       "\n",
       "region                      New York  Northwest  Plains  Southeast  Southwest  \\\n",
       "carrier                                                                         \n",
       "AC                             26.61      67.98  122.74     230.37      57.98   \n",
       "agriculture electricity         3.49       3.82    4.63       8.52       2.69   \n",
       "industry electricity           52.82      39.80   55.33      79.41      21.06   \n",
       "land transport EV               0.69       0.73    0.89       1.60       0.52   \n",
       "rail transport electricity      0.34       0.37    0.44       0.82       0.27   \n",
       "services electricity           24.21      61.86  111.67     209.57      52.74   \n",
       "Total                         108.16     174.56  295.70     530.29     135.26   \n",
       "\n",
       "region                       Texas  \n",
       "carrier                             \n",
       "AC                          121.67  \n",
       "agriculture electricity       3.19  \n",
       "industry electricity         32.08  \n",
       "land transport EV             0.59  \n",
       "rail transport electricity    0.31  \n",
       "services electricity        110.71  \n",
       "Total                       268.55  "
      ]
     },
     "execution_count": 22,
     "metadata": {},
     "output_type": "execute_result"
    }
   ],
   "source": [
    "total_region_demand = base_demand_grid_region.sum(axis=1)\n",
    "base_demand_grid_region[\"Total\"] = total_region_demand\n",
    "base_demand_grid_region.T"
   ]
  },
  {
   "cell_type": "code",
   "execution_count": 23,
   "id": "beabfee0",
   "metadata": {},
   "outputs": [
    {
     "data": {
      "text/html": [
       "<div>\n",
       "<style scoped>\n",
       "    .dataframe tbody tr th:only-of-type {\n",
       "        vertical-align: middle;\n",
       "    }\n",
       "\n",
       "    .dataframe tbody tr th {\n",
       "        vertical-align: top;\n",
       "    }\n",
       "\n",
       "    .dataframe thead th {\n",
       "        text-align: right;\n",
       "    }\n",
       "</style>\n",
       "<table border=\"1\" class=\"dataframe\">\n",
       "  <thead>\n",
       "    <tr style=\"text-align: right;\">\n",
       "      <th>region</th>\n",
       "      <th>AK</th>\n",
       "      <th>AL</th>\n",
       "      <th>AR</th>\n",
       "      <th>AZ</th>\n",
       "      <th>CA</th>\n",
       "      <th>CO</th>\n",
       "      <th>FL</th>\n",
       "      <th>GA</th>\n",
       "      <th>HI</th>\n",
       "      <th>IA</th>\n",
       "      <th>ID</th>\n",
       "      <th>IL</th>\n",
       "      <th>IN</th>\n",
       "      <th>KS</th>\n",
       "      <th>KY</th>\n",
       "      <th>LA</th>\n",
       "      <th>MA</th>\n",
       "      <th>MD</th>\n",
       "      <th>ME</th>\n",
       "      <th>MI</th>\n",
       "      <th>MN</th>\n",
       "      <th>MO</th>\n",
       "      <th>MS</th>\n",
       "      <th>MT</th>\n",
       "      <th>NC</th>\n",
       "      <th>ND</th>\n",
       "      <th>NE</th>\n",
       "      <th>NH</th>\n",
       "      <th>NJ</th>\n",
       "      <th>NM</th>\n",
       "      <th>NV</th>\n",
       "      <th>NY</th>\n",
       "      <th>OH</th>\n",
       "      <th>OK</th>\n",
       "      <th>OR</th>\n",
       "      <th>PA</th>\n",
       "      <th>SC</th>\n",
       "      <th>SD</th>\n",
       "      <th>TN</th>\n",
       "      <th>TX</th>\n",
       "      <th>UT</th>\n",
       "      <th>VA</th>\n",
       "      <th>WA</th>\n",
       "      <th>WI</th>\n",
       "      <th>WV</th>\n",
       "      <th>WY</th>\n",
       "    </tr>\n",
       "    <tr>\n",
       "      <th>carrier</th>\n",
       "      <th></th>\n",
       "      <th></th>\n",
       "      <th></th>\n",
       "      <th></th>\n",
       "      <th></th>\n",
       "      <th></th>\n",
       "      <th></th>\n",
       "      <th></th>\n",
       "      <th></th>\n",
       "      <th></th>\n",
       "      <th></th>\n",
       "      <th></th>\n",
       "      <th></th>\n",
       "      <th></th>\n",
       "      <th></th>\n",
       "      <th></th>\n",
       "      <th></th>\n",
       "      <th></th>\n",
       "      <th></th>\n",
       "      <th></th>\n",
       "      <th></th>\n",
       "      <th></th>\n",
       "      <th></th>\n",
       "      <th></th>\n",
       "      <th></th>\n",
       "      <th></th>\n",
       "      <th></th>\n",
       "      <th></th>\n",
       "      <th></th>\n",
       "      <th></th>\n",
       "      <th></th>\n",
       "      <th></th>\n",
       "      <th></th>\n",
       "      <th></th>\n",
       "      <th></th>\n",
       "      <th></th>\n",
       "      <th></th>\n",
       "      <th></th>\n",
       "      <th></th>\n",
       "      <th></th>\n",
       "      <th></th>\n",
       "      <th></th>\n",
       "      <th></th>\n",
       "      <th></th>\n",
       "      <th></th>\n",
       "      <th></th>\n",
       "    </tr>\n",
       "  </thead>\n",
       "  <tbody>\n",
       "    <tr>\n",
       "      <th>AC</th>\n",
       "      <td>0.79</td>\n",
       "      <td>30.35</td>\n",
       "      <td>10.88</td>\n",
       "      <td>32.41</td>\n",
       "      <td>93.62</td>\n",
       "      <td>20.72</td>\n",
       "      <td>91.39</td>\n",
       "      <td>61.79</td>\n",
       "      <td>3.21</td>\n",
       "      <td>23.47</td>\n",
       "      <td>14.73</td>\n",
       "      <td>44.41</td>\n",
       "      <td>33.54</td>\n",
       "      <td>11.78</td>\n",
       "      <td>25.03</td>\n",
       "      <td>36.65</td>\n",
       "      <td>34.75</td>\n",
       "      <td>18.81</td>\n",
       "      <td>4.32</td>\n",
       "      <td>37.28</td>\n",
       "      <td>24.56</td>\n",
       "      <td>31.99</td>\n",
       "      <td>8.91</td>\n",
       "      <td>5.27</td>\n",
       "      <td>53.12</td>\n",
       "      <td>11.97</td>\n",
       "      <td>21.18</td>\n",
       "      <td>0.00</td>\n",
       "      <td>57.11</td>\n",
       "      <td>18.94</td>\n",
       "      <td>11.61</td>\n",
       "      <td>26.61</td>\n",
       "      <td>64.98</td>\n",
       "      <td>29.51</td>\n",
       "      <td>9.63</td>\n",
       "      <td>60.67</td>\n",
       "      <td>32.27</td>\n",
       "      <td>6.83</td>\n",
       "      <td>47.44</td>\n",
       "      <td>180.15</td>\n",
       "      <td>11.58</td>\n",
       "      <td>45.57</td>\n",
       "      <td>42.30</td>\n",
       "      <td>27.56</td>\n",
       "      <td>7.57</td>\n",
       "      <td>4.45</td>\n",
       "    </tr>\n",
       "    <tr>\n",
       "      <th>agriculture electricity</th>\n",
       "      <td>0.06</td>\n",
       "      <td>0.68</td>\n",
       "      <td>0.25</td>\n",
       "      <td>1.34</td>\n",
       "      <td>5.79</td>\n",
       "      <td>0.88</td>\n",
       "      <td>3.14</td>\n",
       "      <td>2.43</td>\n",
       "      <td>0.25</td>\n",
       "      <td>0.80</td>\n",
       "      <td>1.10</td>\n",
       "      <td>1.57</td>\n",
       "      <td>1.14</td>\n",
       "      <td>0.57</td>\n",
       "      <td>0.99</td>\n",
       "      <td>0.72</td>\n",
       "      <td>1.83</td>\n",
       "      <td>0.92</td>\n",
       "      <td>0.28</td>\n",
       "      <td>1.28</td>\n",
       "      <td>0.79</td>\n",
       "      <td>1.17</td>\n",
       "      <td>0.25</td>\n",
       "      <td>0.18</td>\n",
       "      <td>1.68</td>\n",
       "      <td>0.30</td>\n",
       "      <td>0.78</td>\n",
       "      <td>0.00</td>\n",
       "      <td>1.91</td>\n",
       "      <td>1.10</td>\n",
       "      <td>0.93</td>\n",
       "      <td>3.49</td>\n",
       "      <td>2.32</td>\n",
       "      <td>0.55</td>\n",
       "      <td>1.45</td>\n",
       "      <td>2.09</td>\n",
       "      <td>1.21</td>\n",
       "      <td>0.29</td>\n",
       "      <td>1.54</td>\n",
       "      <td>4.75</td>\n",
       "      <td>0.38</td>\n",
       "      <td>1.02</td>\n",
       "      <td>1.20</td>\n",
       "      <td>1.46</td>\n",
       "      <td>0.42</td>\n",
       "      <td>0.06</td>\n",
       "    </tr>\n",
       "    <tr>\n",
       "      <th>industry electricity</th>\n",
       "      <td>1.10</td>\n",
       "      <td>9.58</td>\n",
       "      <td>3.28</td>\n",
       "      <td>9.18</td>\n",
       "      <td>71.41</td>\n",
       "      <td>9.04</td>\n",
       "      <td>25.40</td>\n",
       "      <td>19.37</td>\n",
       "      <td>3.36</td>\n",
       "      <td>9.76</td>\n",
       "      <td>8.85</td>\n",
       "      <td>23.29</td>\n",
       "      <td>13.29</td>\n",
       "      <td>8.45</td>\n",
       "      <td>11.64</td>\n",
       "      <td>28.53</td>\n",
       "      <td>27.75</td>\n",
       "      <td>11.84</td>\n",
       "      <td>3.52</td>\n",
       "      <td>16.78</td>\n",
       "      <td>11.76</td>\n",
       "      <td>15.17</td>\n",
       "      <td>2.94</td>\n",
       "      <td>2.71</td>\n",
       "      <td>15.05</td>\n",
       "      <td>4.27</td>\n",
       "      <td>9.76</td>\n",
       "      <td>0.07</td>\n",
       "      <td>34.69</td>\n",
       "      <td>10.32</td>\n",
       "      <td>7.61</td>\n",
       "      <td>52.82</td>\n",
       "      <td>29.47</td>\n",
       "      <td>8.43</td>\n",
       "      <td>14.57</td>\n",
       "      <td>37.12</td>\n",
       "      <td>10.18</td>\n",
       "      <td>3.53</td>\n",
       "      <td>17.19</td>\n",
       "      <td>71.26</td>\n",
       "      <td>3.44</td>\n",
       "      <td>13.04</td>\n",
       "      <td>15.82</td>\n",
       "      <td>16.45</td>\n",
       "      <td>8.19</td>\n",
       "      <td>1.25</td>\n",
       "    </tr>\n",
       "    <tr>\n",
       "      <th>land transport EV</th>\n",
       "      <td>0.01</td>\n",
       "      <td>0.13</td>\n",
       "      <td>0.05</td>\n",
       "      <td>0.26</td>\n",
       "      <td>1.10</td>\n",
       "      <td>0.18</td>\n",
       "      <td>0.57</td>\n",
       "      <td>0.45</td>\n",
       "      <td>0.05</td>\n",
       "      <td>0.15</td>\n",
       "      <td>0.21</td>\n",
       "      <td>0.31</td>\n",
       "      <td>0.22</td>\n",
       "      <td>0.11</td>\n",
       "      <td>0.19</td>\n",
       "      <td>0.13</td>\n",
       "      <td>0.36</td>\n",
       "      <td>0.18</td>\n",
       "      <td>0.05</td>\n",
       "      <td>0.25</td>\n",
       "      <td>0.16</td>\n",
       "      <td>0.22</td>\n",
       "      <td>0.05</td>\n",
       "      <td>0.03</td>\n",
       "      <td>0.32</td>\n",
       "      <td>0.06</td>\n",
       "      <td>0.16</td>\n",
       "      <td>0.00</td>\n",
       "      <td>0.37</td>\n",
       "      <td>0.21</td>\n",
       "      <td>0.18</td>\n",
       "      <td>0.69</td>\n",
       "      <td>0.46</td>\n",
       "      <td>0.11</td>\n",
       "      <td>0.28</td>\n",
       "      <td>0.40</td>\n",
       "      <td>0.22</td>\n",
       "      <td>0.05</td>\n",
       "      <td>0.30</td>\n",
       "      <td>0.88</td>\n",
       "      <td>0.07</td>\n",
       "      <td>0.19</td>\n",
       "      <td>0.23</td>\n",
       "      <td>0.29</td>\n",
       "      <td>0.08</td>\n",
       "      <td>0.01</td>\n",
       "    </tr>\n",
       "    <tr>\n",
       "      <th>rail transport electricity</th>\n",
       "      <td>0.01</td>\n",
       "      <td>0.07</td>\n",
       "      <td>0.02</td>\n",
       "      <td>0.14</td>\n",
       "      <td>0.56</td>\n",
       "      <td>0.08</td>\n",
       "      <td>0.30</td>\n",
       "      <td>0.23</td>\n",
       "      <td>0.02</td>\n",
       "      <td>0.08</td>\n",
       "      <td>0.10</td>\n",
       "      <td>0.15</td>\n",
       "      <td>0.11</td>\n",
       "      <td>0.05</td>\n",
       "      <td>0.09</td>\n",
       "      <td>0.07</td>\n",
       "      <td>0.18</td>\n",
       "      <td>0.09</td>\n",
       "      <td>0.03</td>\n",
       "      <td>0.12</td>\n",
       "      <td>0.08</td>\n",
       "      <td>0.11</td>\n",
       "      <td>0.02</td>\n",
       "      <td>0.02</td>\n",
       "      <td>0.16</td>\n",
       "      <td>0.04</td>\n",
       "      <td>0.07</td>\n",
       "      <td>0.00</td>\n",
       "      <td>0.19</td>\n",
       "      <td>0.11</td>\n",
       "      <td>0.09</td>\n",
       "      <td>0.34</td>\n",
       "      <td>0.23</td>\n",
       "      <td>0.05</td>\n",
       "      <td>0.14</td>\n",
       "      <td>0.20</td>\n",
       "      <td>0.12</td>\n",
       "      <td>0.03</td>\n",
       "      <td>0.15</td>\n",
       "      <td>0.46</td>\n",
       "      <td>0.04</td>\n",
       "      <td>0.10</td>\n",
       "      <td>0.12</td>\n",
       "      <td>0.14</td>\n",
       "      <td>0.04</td>\n",
       "      <td>0.01</td>\n",
       "    </tr>\n",
       "    <tr>\n",
       "      <th>services electricity</th>\n",
       "      <td>0.71</td>\n",
       "      <td>27.61</td>\n",
       "      <td>9.90</td>\n",
       "      <td>29.48</td>\n",
       "      <td>85.18</td>\n",
       "      <td>18.85</td>\n",
       "      <td>83.15</td>\n",
       "      <td>56.22</td>\n",
       "      <td>2.92</td>\n",
       "      <td>21.35</td>\n",
       "      <td>13.40</td>\n",
       "      <td>40.40</td>\n",
       "      <td>30.51</td>\n",
       "      <td>10.72</td>\n",
       "      <td>22.77</td>\n",
       "      <td>33.35</td>\n",
       "      <td>31.61</td>\n",
       "      <td>17.11</td>\n",
       "      <td>3.93</td>\n",
       "      <td>33.92</td>\n",
       "      <td>22.35</td>\n",
       "      <td>29.11</td>\n",
       "      <td>8.11</td>\n",
       "      <td>4.79</td>\n",
       "      <td>48.32</td>\n",
       "      <td>10.90</td>\n",
       "      <td>19.27</td>\n",
       "      <td>0.00</td>\n",
       "      <td>51.96</td>\n",
       "      <td>17.23</td>\n",
       "      <td>10.56</td>\n",
       "      <td>24.21</td>\n",
       "      <td>59.12</td>\n",
       "      <td>26.84</td>\n",
       "      <td>8.76</td>\n",
       "      <td>55.19</td>\n",
       "      <td>29.36</td>\n",
       "      <td>6.22</td>\n",
       "      <td>43.15</td>\n",
       "      <td>163.92</td>\n",
       "      <td>10.54</td>\n",
       "      <td>41.45</td>\n",
       "      <td>38.50</td>\n",
       "      <td>25.07</td>\n",
       "      <td>6.89</td>\n",
       "      <td>4.04</td>\n",
       "    </tr>\n",
       "    <tr>\n",
       "      <th>Total</th>\n",
       "      <td>2.68</td>\n",
       "      <td>68.42</td>\n",
       "      <td>24.38</td>\n",
       "      <td>72.81</td>\n",
       "      <td>257.66</td>\n",
       "      <td>49.75</td>\n",
       "      <td>203.95</td>\n",
       "      <td>140.49</td>\n",
       "      <td>9.81</td>\n",
       "      <td>55.61</td>\n",
       "      <td>38.39</td>\n",
       "      <td>110.13</td>\n",
       "      <td>78.81</td>\n",
       "      <td>31.68</td>\n",
       "      <td>60.71</td>\n",
       "      <td>99.45</td>\n",
       "      <td>96.48</td>\n",
       "      <td>48.95</td>\n",
       "      <td>12.13</td>\n",
       "      <td>89.63</td>\n",
       "      <td>59.70</td>\n",
       "      <td>77.77</td>\n",
       "      <td>20.28</td>\n",
       "      <td>13.00</td>\n",
       "      <td>118.65</td>\n",
       "      <td>27.54</td>\n",
       "      <td>51.22</td>\n",
       "      <td>0.07</td>\n",
       "      <td>146.23</td>\n",
       "      <td>47.91</td>\n",
       "      <td>30.98</td>\n",
       "      <td>108.16</td>\n",
       "      <td>156.58</td>\n",
       "      <td>65.49</td>\n",
       "      <td>34.83</td>\n",
       "      <td>155.67</td>\n",
       "      <td>73.36</td>\n",
       "      <td>16.95</td>\n",
       "      <td>109.77</td>\n",
       "      <td>421.42</td>\n",
       "      <td>26.05</td>\n",
       "      <td>101.37</td>\n",
       "      <td>98.17</td>\n",
       "      <td>70.97</td>\n",
       "      <td>23.19</td>\n",
       "      <td>9.82</td>\n",
       "    </tr>\n",
       "  </tbody>\n",
       "</table>\n",
       "</div>"
      ],
      "text/plain": [
       "region                        AK     AL     AR     AZ      CA     CO      FL  \\\n",
       "carrier                                                                        \n",
       "AC                          0.79  30.35  10.88  32.41   93.62  20.72   91.39   \n",
       "agriculture electricity     0.06   0.68   0.25   1.34    5.79   0.88    3.14   \n",
       "industry electricity        1.10   9.58   3.28   9.18   71.41   9.04   25.40   \n",
       "land transport EV           0.01   0.13   0.05   0.26    1.10   0.18    0.57   \n",
       "rail transport electricity  0.01   0.07   0.02   0.14    0.56   0.08    0.30   \n",
       "services electricity        0.71  27.61   9.90  29.48   85.18  18.85   83.15   \n",
       "Total                       2.68  68.42  24.38  72.81  257.66  49.75  203.95   \n",
       "\n",
       "region                          GA    HI     IA     ID      IL     IN     KS  \\\n",
       "carrier                                                                        \n",
       "AC                           61.79  3.21  23.47  14.73   44.41  33.54  11.78   \n",
       "agriculture electricity       2.43  0.25   0.80   1.10    1.57   1.14   0.57   \n",
       "industry electricity         19.37  3.36   9.76   8.85   23.29  13.29   8.45   \n",
       "land transport EV             0.45  0.05   0.15   0.21    0.31   0.22   0.11   \n",
       "rail transport electricity    0.23  0.02   0.08   0.10    0.15   0.11   0.05   \n",
       "services electricity         56.22  2.92  21.35  13.40   40.40  30.51  10.72   \n",
       "Total                       140.49  9.81  55.61  38.39  110.13  78.81  31.68   \n",
       "\n",
       "region                         KY     LA     MA     MD     ME     MI     MN  \\\n",
       "carrier                                                                       \n",
       "AC                          25.03  36.65  34.75  18.81   4.32  37.28  24.56   \n",
       "agriculture electricity      0.99   0.72   1.83   0.92   0.28   1.28   0.79   \n",
       "industry electricity        11.64  28.53  27.75  11.84   3.52  16.78  11.76   \n",
       "land transport EV            0.19   0.13   0.36   0.18   0.05   0.25   0.16   \n",
       "rail transport electricity   0.09   0.07   0.18   0.09   0.03   0.12   0.08   \n",
       "services electricity        22.77  33.35  31.61  17.11   3.93  33.92  22.35   \n",
       "Total                       60.71  99.45  96.48  48.95  12.13  89.63  59.70   \n",
       "\n",
       "region                         MO     MS     MT      NC     ND     NE    NH  \\\n",
       "carrier                                                                       \n",
       "AC                          31.99   8.91   5.27   53.12  11.97  21.18  0.00   \n",
       "agriculture electricity      1.17   0.25   0.18    1.68   0.30   0.78  0.00   \n",
       "industry electricity        15.17   2.94   2.71   15.05   4.27   9.76  0.07   \n",
       "land transport EV            0.22   0.05   0.03    0.32   0.06   0.16  0.00   \n",
       "rail transport electricity   0.11   0.02   0.02    0.16   0.04   0.07  0.00   \n",
       "services electricity        29.11   8.11   4.79   48.32  10.90  19.27  0.00   \n",
       "Total                       77.77  20.28  13.00  118.65  27.54  51.22  0.07   \n",
       "\n",
       "region                          NJ     NM     NV      NY      OH     OK  \\\n",
       "carrier                                                                   \n",
       "AC                           57.11  18.94  11.61   26.61   64.98  29.51   \n",
       "agriculture electricity       1.91   1.10   0.93    3.49    2.32   0.55   \n",
       "industry electricity         34.69  10.32   7.61   52.82   29.47   8.43   \n",
       "land transport EV             0.37   0.21   0.18    0.69    0.46   0.11   \n",
       "rail transport electricity    0.19   0.11   0.09    0.34    0.23   0.05   \n",
       "services electricity         51.96  17.23  10.56   24.21   59.12  26.84   \n",
       "Total                       146.23  47.91  30.98  108.16  156.58  65.49   \n",
       "\n",
       "region                         OR      PA     SC     SD      TN      TX  \\\n",
       "carrier                                                                   \n",
       "AC                           9.63   60.67  32.27   6.83   47.44  180.15   \n",
       "agriculture electricity      1.45    2.09   1.21   0.29    1.54    4.75   \n",
       "industry electricity        14.57   37.12  10.18   3.53   17.19   71.26   \n",
       "land transport EV            0.28    0.40   0.22   0.05    0.30    0.88   \n",
       "rail transport electricity   0.14    0.20   0.12   0.03    0.15    0.46   \n",
       "services electricity         8.76   55.19  29.36   6.22   43.15  163.92   \n",
       "Total                       34.83  155.67  73.36  16.95  109.77  421.42   \n",
       "\n",
       "region                         UT      VA     WA     WI     WV    WY  \n",
       "carrier                                                               \n",
       "AC                          11.58   45.57  42.30  27.56   7.57  4.45  \n",
       "agriculture electricity      0.38    1.02   1.20   1.46   0.42  0.06  \n",
       "industry electricity         3.44   13.04  15.82  16.45   8.19  1.25  \n",
       "land transport EV            0.07    0.19   0.23   0.29   0.08  0.01  \n",
       "rail transport electricity   0.04    0.10   0.12   0.14   0.04  0.01  \n",
       "services electricity        10.54   41.45  38.50  25.07   6.89  4.04  \n",
       "Total                       26.05  101.37  98.17  70.97  23.19  9.82  "
      ]
     },
     "execution_count": 23,
     "metadata": {},
     "output_type": "execute_result"
    }
   ],
   "source": [
    "total_region_demand = base_demand_state.sum(axis=1)\n",
    "base_demand_state[\"Total\"] = total_region_demand\n",
    "base_demand_state.T"
   ]
  },
  {
   "cell_type": "code",
   "execution_count": 24,
   "id": "779bd68a",
   "metadata": {},
   "outputs": [
    {
     "data": {
      "application/vnd.plotly.v1+json": {
       "config": {
        "plotlyServerURL": "https://plot.ly"
       },
       "data": [
        {
         "hovertemplate": "carrier=AC<br>region=%{x}<br>value=%{y}<extra></extra>",
         "legendgroup": "AC",
         "marker": {
          "color": "#636efa",
          "pattern": {
           "shape": ""
          }
         },
         "name": "AC",
         "orientation": "v",
         "showlegend": true,
         "textposition": "auto",
         "texttemplate": "%{y:.1f}",
         "type": "bar",
         "x": [
          "Alaska",
          "California",
          "Delta",
          "Florida",
          "Hawaii",
          "Mid-Atlantic",
          "Midwest",
          "Mountain",
          "New England",
          "New York",
          "Northwest",
          "Plains",
          "Southeast",
          "Southwest",
          "Texas"
         ],
         "xaxis": "x",
         "y": {
          "bdata": "SOF6FK5H6T9I4XoUrmdXQFK4HoXrIVVAkML1KFx/VUCuR+F6FK4JQMP1KFyPznJAXI/C9Sg8aECuR+F6FC5FQClcj8L1iENAXI/C9SicOkAfhetRuP5QQI/C9Shcr15ApHA9CtfLbEA9CtejcP1MQHsUrkfhal5A",
          "dtype": "f8"
         },
         "yaxis": "y"
        },
        {
         "hovertemplate": "carrier=agriculture electricity<br>region=%{x}<br>value=%{y}<extra></extra>",
         "legendgroup": "agriculture electricity",
         "marker": {
          "color": "#EF553B",
          "pattern": {
           "shape": ""
          }
         },
         "name": "agriculture electricity",
         "orientation": "v",
         "showlegend": true,
         "textposition": "auto",
         "texttemplate": "%{y:.1f}",
         "type": "bar",
         "x": [
          "Alaska",
          "California",
          "Delta",
          "Florida",
          "Hawaii",
          "Mid-Atlantic",
          "Midwest",
          "Mountain",
          "New England",
          "New York",
          "Northwest",
          "Plains",
          "Southeast",
          "Southwest",
          "Texas"
         ],
         "xaxis": "x",
         "y": {
          "bdata": "uB6F61G4rj8pXI/C9SgXQJqZmZmZmfk/SOF6FK5HAUAAAAAAAADQP3sUrkfheiNAAAAAAAAAH0CkcD0K16P4P+J6FK5H4QBA7FG4HoXrC0CPwvUoXI8OQIXrUbgehRJACtejcD0KIUCF61G4HoUFQIXrUbgehQlA",
          "dtype": "f8"
         },
         "yaxis": "y"
        },
        {
         "hovertemplate": "carrier=industry electricity<br>region=%{x}<br>value=%{y}<extra></extra>",
         "legendgroup": "industry electricity",
         "marker": {
          "color": "#00cc96",
          "pattern": {
           "shape": ""
          }
         },
         "name": "industry electricity",
         "orientation": "v",
         "showlegend": true,
         "textposition": "auto",
         "texttemplate": "%{y:.1f}",
         "type": "bar",
         "x": [
          "Alaska",
          "California",
          "Delta",
          "Florida",
          "Hawaii",
          "Mid-Atlantic",
          "Midwest",
          "Mountain",
          "New England",
          "New York",
          "Northwest",
          "Plains",
          "Southeast",
          "Southwest",
          "Texas"
         ],
         "xaxis": "x",
         "y": {
          "bdata": "mpmZmZmZ8T8K16NwPdpRQJDC9Shcr05AXI/C9ShcMUDhehSuR+EKQNejcD0K52JA16NwPQpnWEDC9Shcj0IxQNejcD0KVz9AKVyPwvVoSkBmZmZmZuZDQArXo3A9qktACtejcD3aU0CQwvUoXA81QArXo3A9CkBA",
          "dtype": "f8"
         },
         "yaxis": "y"
        },
        {
         "hovertemplate": "carrier=land transport EV<br>region=%{x}<br>value=%{y}<extra></extra>",
         "legendgroup": "land transport EV",
         "marker": {
          "color": "#ab63fa",
          "pattern": {
           "shape": ""
          }
         },
         "name": "land transport EV",
         "orientation": "v",
         "showlegend": true,
         "textposition": "auto",
         "texttemplate": "%{y:.1f}",
         "type": "bar",
         "x": [
          "Alaska",
          "California",
          "Delta",
          "Florida",
          "Hawaii",
          "Mid-Atlantic",
          "Midwest",
          "Mountain",
          "New England",
          "New York",
          "Northwest",
          "Plains",
          "Southeast",
          "Southwest",
          "Texas"
         ],
         "xaxis": "x",
         "y": {
          "bdata": "exSuR+F6hD+amZmZmZnxPzQzMzMzM9M/9ihcj8L12D+amZmZmZmpPz4K16NwPf4/KVyPwvUo+D8zMzMzMzPTPz0K16NwPdo/FK5H4XoU5j9cj8L1KFznP3sUrkfheuw/mZmZmZmZ+T+kcD0K16PgP+F6FK5H4eI/",
          "dtype": "f8"
         },
         "yaxis": "y"
        },
        {
         "hovertemplate": "carrier=rail transport electricity<br>region=%{x}<br>value=%{y}<extra></extra>",
         "legendgroup": "rail transport electricity",
         "marker": {
          "color": "#FFA15A",
          "pattern": {
           "shape": ""
          }
         },
         "name": "rail transport electricity",
         "orientation": "v",
         "showlegend": true,
         "textposition": "auto",
         "texttemplate": "%{y:.1f}",
         "type": "bar",
         "x": [
          "Alaska",
          "California",
          "Delta",
          "Florida",
          "Hawaii",
          "Mid-Atlantic",
          "Midwest",
          "Mountain",
          "New England",
          "New York",
          "Northwest",
          "Plains",
          "Southeast",
          "Southwest",
          "Texas"
         ],
         "xaxis": "x",
         "y": {
          "bdata": "exSuR+F6hD/sUbgehevhPzMzMzMzM8M/4noUrkfhyj97FK5H4XqUP2dmZmZmZu4/AAAAAAAA6D8zMzMzMzPDP+F6FK5H4co/wvUoXI/C1T+uR+F6FK7XPylcj8L1KNw/PQrXo3A96j9I4XoUrkfRP9ejcD0K19M/",
          "dtype": "f8"
         },
         "yaxis": "y"
        },
        {
         "hovertemplate": "carrier=services electricity<br>region=%{x}<br>value=%{y}<extra></extra>",
         "legendgroup": "services electricity",
         "marker": {
          "color": "#19d3f3",
          "pattern": {
           "shape": ""
          }
         },
         "name": "services electricity",
         "orientation": "v",
         "showlegend": true,
         "textposition": "auto",
         "texttemplate": "%{y:.1f}",
         "type": "bar",
         "x": [
          "Alaska",
          "California",
          "Delta",
          "Florida",
          "Hawaii",
          "Mid-Atlantic",
          "Midwest",
          "Mountain",
          "New England",
          "New York",
          "Northwest",
          "Plains",
          "Southeast",
          "Southwest",
          "Texas"
         ],
         "xaxis": "x",
         "y": {
          "bdata": "uB6F61G45j/sUbgehUtVQHsUrkfhOlNAj8L1KFyPU0Bcj8L1KFwHQAAAAAAAHHFAzczMzMwMZkCkcD0K10NDQIXrUbgexUFA9ihcj8I1OECuR+F6FO5OQHsUrkfh6ltACtejcD0yakAfhetRuF5KQD4K16NwrVtA",
          "dtype": "f8"
         },
         "yaxis": "y"
        },
        {
         "hovertemplate": "carrier=Total<br>region=%{x}<br>value=%{y}<extra></extra>",
         "legendgroup": "Total",
         "marker": {
          "color": "#FF6692",
          "pattern": {
           "shape": ""
          }
         },
         "name": "Total",
         "orientation": "v",
         "showlegend": true,
         "textposition": "auto",
         "texttemplate": "%{y:.1f}",
         "type": "bar",
         "x": [
          "Alaska",
          "California",
          "Delta",
          "Florida",
          "Hawaii",
          "Mid-Atlantic",
          "Midwest",
          "Mountain",
          "New England",
          "New York",
          "Northwest",
          "Plains",
          "Southeast",
          "Southwest",
          "Texas"
         ],
         "xaxis": "x",
         "y": {
          "bdata": "cT0K16NwBUDC9ShcjxpwQKRwPQrXG2xAMzMzMzMLZ0AehetRuJ4jQEjhehSuE4dAZmZmZmbefUAoXI/C9QhZQOpRuB6FK1tACtejcD0KW0BSuB6F69FlQDMzMzMze3JAuB6F61GSgEC4HoXrUehgQM3MzMzMyHBA",
          "dtype": "f8"
         },
         "yaxis": "y"
        }
       ],
       "layout": {
        "barmode": "stack",
        "legend": {
         "title": {
          "text": "carrier"
         },
         "tracegroupgap": 0
        },
        "margin": {
         "t": 60
        },
        "template": {
         "data": {
          "bar": [
           {
            "error_x": {
             "color": "#2a3f5f"
            },
            "error_y": {
             "color": "#2a3f5f"
            },
            "marker": {
             "line": {
              "color": "#E5ECF6",
              "width": 0.5
             },
             "pattern": {
              "fillmode": "overlay",
              "size": 10,
              "solidity": 0.2
             }
            },
            "type": "bar"
           }
          ],
          "barpolar": [
           {
            "marker": {
             "line": {
              "color": "#E5ECF6",
              "width": 0.5
             },
             "pattern": {
              "fillmode": "overlay",
              "size": 10,
              "solidity": 0.2
             }
            },
            "type": "barpolar"
           }
          ],
          "carpet": [
           {
            "aaxis": {
             "endlinecolor": "#2a3f5f",
             "gridcolor": "white",
             "linecolor": "white",
             "minorgridcolor": "white",
             "startlinecolor": "#2a3f5f"
            },
            "baxis": {
             "endlinecolor": "#2a3f5f",
             "gridcolor": "white",
             "linecolor": "white",
             "minorgridcolor": "white",
             "startlinecolor": "#2a3f5f"
            },
            "type": "carpet"
           }
          ],
          "choropleth": [
           {
            "colorbar": {
             "outlinewidth": 0,
             "ticks": ""
            },
            "type": "choropleth"
           }
          ],
          "contour": [
           {
            "colorbar": {
             "outlinewidth": 0,
             "ticks": ""
            },
            "colorscale": [
             [
              0,
              "#0d0887"
             ],
             [
              0.1111111111111111,
              "#46039f"
             ],
             [
              0.2222222222222222,
              "#7201a8"
             ],
             [
              0.3333333333333333,
              "#9c179e"
             ],
             [
              0.4444444444444444,
              "#bd3786"
             ],
             [
              0.5555555555555556,
              "#d8576b"
             ],
             [
              0.6666666666666666,
              "#ed7953"
             ],
             [
              0.7777777777777778,
              "#fb9f3a"
             ],
             [
              0.8888888888888888,
              "#fdca26"
             ],
             [
              1,
              "#f0f921"
             ]
            ],
            "type": "contour"
           }
          ],
          "contourcarpet": [
           {
            "colorbar": {
             "outlinewidth": 0,
             "ticks": ""
            },
            "type": "contourcarpet"
           }
          ],
          "heatmap": [
           {
            "colorbar": {
             "outlinewidth": 0,
             "ticks": ""
            },
            "colorscale": [
             [
              0,
              "#0d0887"
             ],
             [
              0.1111111111111111,
              "#46039f"
             ],
             [
              0.2222222222222222,
              "#7201a8"
             ],
             [
              0.3333333333333333,
              "#9c179e"
             ],
             [
              0.4444444444444444,
              "#bd3786"
             ],
             [
              0.5555555555555556,
              "#d8576b"
             ],
             [
              0.6666666666666666,
              "#ed7953"
             ],
             [
              0.7777777777777778,
              "#fb9f3a"
             ],
             [
              0.8888888888888888,
              "#fdca26"
             ],
             [
              1,
              "#f0f921"
             ]
            ],
            "type": "heatmap"
           }
          ],
          "histogram": [
           {
            "marker": {
             "pattern": {
              "fillmode": "overlay",
              "size": 10,
              "solidity": 0.2
             }
            },
            "type": "histogram"
           }
          ],
          "histogram2d": [
           {
            "colorbar": {
             "outlinewidth": 0,
             "ticks": ""
            },
            "colorscale": [
             [
              0,
              "#0d0887"
             ],
             [
              0.1111111111111111,
              "#46039f"
             ],
             [
              0.2222222222222222,
              "#7201a8"
             ],
             [
              0.3333333333333333,
              "#9c179e"
             ],
             [
              0.4444444444444444,
              "#bd3786"
             ],
             [
              0.5555555555555556,
              "#d8576b"
             ],
             [
              0.6666666666666666,
              "#ed7953"
             ],
             [
              0.7777777777777778,
              "#fb9f3a"
             ],
             [
              0.8888888888888888,
              "#fdca26"
             ],
             [
              1,
              "#f0f921"
             ]
            ],
            "type": "histogram2d"
           }
          ],
          "histogram2dcontour": [
           {
            "colorbar": {
             "outlinewidth": 0,
             "ticks": ""
            },
            "colorscale": [
             [
              0,
              "#0d0887"
             ],
             [
              0.1111111111111111,
              "#46039f"
             ],
             [
              0.2222222222222222,
              "#7201a8"
             ],
             [
              0.3333333333333333,
              "#9c179e"
             ],
             [
              0.4444444444444444,
              "#bd3786"
             ],
             [
              0.5555555555555556,
              "#d8576b"
             ],
             [
              0.6666666666666666,
              "#ed7953"
             ],
             [
              0.7777777777777778,
              "#fb9f3a"
             ],
             [
              0.8888888888888888,
              "#fdca26"
             ],
             [
              1,
              "#f0f921"
             ]
            ],
            "type": "histogram2dcontour"
           }
          ],
          "mesh3d": [
           {
            "colorbar": {
             "outlinewidth": 0,
             "ticks": ""
            },
            "type": "mesh3d"
           }
          ],
          "parcoords": [
           {
            "line": {
             "colorbar": {
              "outlinewidth": 0,
              "ticks": ""
             }
            },
            "type": "parcoords"
           }
          ],
          "pie": [
           {
            "automargin": true,
            "type": "pie"
           }
          ],
          "scatter": [
           {
            "fillpattern": {
             "fillmode": "overlay",
             "size": 10,
             "solidity": 0.2
            },
            "type": "scatter"
           }
          ],
          "scatter3d": [
           {
            "line": {
             "colorbar": {
              "outlinewidth": 0,
              "ticks": ""
             }
            },
            "marker": {
             "colorbar": {
              "outlinewidth": 0,
              "ticks": ""
             }
            },
            "type": "scatter3d"
           }
          ],
          "scattercarpet": [
           {
            "marker": {
             "colorbar": {
              "outlinewidth": 0,
              "ticks": ""
             }
            },
            "type": "scattercarpet"
           }
          ],
          "scattergeo": [
           {
            "marker": {
             "colorbar": {
              "outlinewidth": 0,
              "ticks": ""
             }
            },
            "type": "scattergeo"
           }
          ],
          "scattergl": [
           {
            "marker": {
             "colorbar": {
              "outlinewidth": 0,
              "ticks": ""
             }
            },
            "type": "scattergl"
           }
          ],
          "scattermap": [
           {
            "marker": {
             "colorbar": {
              "outlinewidth": 0,
              "ticks": ""
             }
            },
            "type": "scattermap"
           }
          ],
          "scattermapbox": [
           {
            "marker": {
             "colorbar": {
              "outlinewidth": 0,
              "ticks": ""
             }
            },
            "type": "scattermapbox"
           }
          ],
          "scatterpolar": [
           {
            "marker": {
             "colorbar": {
              "outlinewidth": 0,
              "ticks": ""
             }
            },
            "type": "scatterpolar"
           }
          ],
          "scatterpolargl": [
           {
            "marker": {
             "colorbar": {
              "outlinewidth": 0,
              "ticks": ""
             }
            },
            "type": "scatterpolargl"
           }
          ],
          "scatterternary": [
           {
            "marker": {
             "colorbar": {
              "outlinewidth": 0,
              "ticks": ""
             }
            },
            "type": "scatterternary"
           }
          ],
          "surface": [
           {
            "colorbar": {
             "outlinewidth": 0,
             "ticks": ""
            },
            "colorscale": [
             [
              0,
              "#0d0887"
             ],
             [
              0.1111111111111111,
              "#46039f"
             ],
             [
              0.2222222222222222,
              "#7201a8"
             ],
             [
              0.3333333333333333,
              "#9c179e"
             ],
             [
              0.4444444444444444,
              "#bd3786"
             ],
             [
              0.5555555555555556,
              "#d8576b"
             ],
             [
              0.6666666666666666,
              "#ed7953"
             ],
             [
              0.7777777777777778,
              "#fb9f3a"
             ],
             [
              0.8888888888888888,
              "#fdca26"
             ],
             [
              1,
              "#f0f921"
             ]
            ],
            "type": "surface"
           }
          ],
          "table": [
           {
            "cells": {
             "fill": {
              "color": "#EBF0F8"
             },
             "line": {
              "color": "white"
             }
            },
            "header": {
             "fill": {
              "color": "#C8D4E3"
             },
             "line": {
              "color": "white"
             }
            },
            "type": "table"
           }
          ]
         },
         "layout": {
          "annotationdefaults": {
           "arrowcolor": "#2a3f5f",
           "arrowhead": 0,
           "arrowwidth": 1
          },
          "autotypenumbers": "strict",
          "coloraxis": {
           "colorbar": {
            "outlinewidth": 0,
            "ticks": ""
           }
          },
          "colorscale": {
           "diverging": [
            [
             0,
             "#8e0152"
            ],
            [
             0.1,
             "#c51b7d"
            ],
            [
             0.2,
             "#de77ae"
            ],
            [
             0.3,
             "#f1b6da"
            ],
            [
             0.4,
             "#fde0ef"
            ],
            [
             0.5,
             "#f7f7f7"
            ],
            [
             0.6,
             "#e6f5d0"
            ],
            [
             0.7,
             "#b8e186"
            ],
            [
             0.8,
             "#7fbc41"
            ],
            [
             0.9,
             "#4d9221"
            ],
            [
             1,
             "#276419"
            ]
           ],
           "sequential": [
            [
             0,
             "#0d0887"
            ],
            [
             0.1111111111111111,
             "#46039f"
            ],
            [
             0.2222222222222222,
             "#7201a8"
            ],
            [
             0.3333333333333333,
             "#9c179e"
            ],
            [
             0.4444444444444444,
             "#bd3786"
            ],
            [
             0.5555555555555556,
             "#d8576b"
            ],
            [
             0.6666666666666666,
             "#ed7953"
            ],
            [
             0.7777777777777778,
             "#fb9f3a"
            ],
            [
             0.8888888888888888,
             "#fdca26"
            ],
            [
             1,
             "#f0f921"
            ]
           ],
           "sequentialminus": [
            [
             0,
             "#0d0887"
            ],
            [
             0.1111111111111111,
             "#46039f"
            ],
            [
             0.2222222222222222,
             "#7201a8"
            ],
            [
             0.3333333333333333,
             "#9c179e"
            ],
            [
             0.4444444444444444,
             "#bd3786"
            ],
            [
             0.5555555555555556,
             "#d8576b"
            ],
            [
             0.6666666666666666,
             "#ed7953"
            ],
            [
             0.7777777777777778,
             "#fb9f3a"
            ],
            [
             0.8888888888888888,
             "#fdca26"
            ],
            [
             1,
             "#f0f921"
            ]
           ]
          },
          "colorway": [
           "#636efa",
           "#EF553B",
           "#00cc96",
           "#ab63fa",
           "#FFA15A",
           "#19d3f3",
           "#FF6692",
           "#B6E880",
           "#FF97FF",
           "#FECB52"
          ],
          "font": {
           "color": "#2a3f5f"
          },
          "geo": {
           "bgcolor": "white",
           "lakecolor": "white",
           "landcolor": "#E5ECF6",
           "showlakes": true,
           "showland": true,
           "subunitcolor": "white"
          },
          "hoverlabel": {
           "align": "left"
          },
          "hovermode": "closest",
          "mapbox": {
           "style": "light"
          },
          "paper_bgcolor": "white",
          "plot_bgcolor": "#E5ECF6",
          "polar": {
           "angularaxis": {
            "gridcolor": "white",
            "linecolor": "white",
            "ticks": ""
           },
           "bgcolor": "#E5ECF6",
           "radialaxis": {
            "gridcolor": "white",
            "linecolor": "white",
            "ticks": ""
           }
          },
          "scene": {
           "xaxis": {
            "backgroundcolor": "#E5ECF6",
            "gridcolor": "white",
            "gridwidth": 2,
            "linecolor": "white",
            "showbackground": true,
            "ticks": "",
            "zerolinecolor": "white"
           },
           "yaxis": {
            "backgroundcolor": "#E5ECF6",
            "gridcolor": "white",
            "gridwidth": 2,
            "linecolor": "white",
            "showbackground": true,
            "ticks": "",
            "zerolinecolor": "white"
           },
           "zaxis": {
            "backgroundcolor": "#E5ECF6",
            "gridcolor": "white",
            "gridwidth": 2,
            "linecolor": "white",
            "showbackground": true,
            "ticks": "",
            "zerolinecolor": "white"
           }
          },
          "shapedefaults": {
           "line": {
            "color": "#2a3f5f"
           }
          },
          "ternary": {
           "aaxis": {
            "gridcolor": "white",
            "linecolor": "white",
            "ticks": ""
           },
           "baxis": {
            "gridcolor": "white",
            "linecolor": "white",
            "ticks": ""
           },
           "bgcolor": "#E5ECF6",
           "caxis": {
            "gridcolor": "white",
            "linecolor": "white",
            "ticks": ""
           }
          },
          "title": {
           "x": 0.05
          },
          "xaxis": {
           "automargin": true,
           "gridcolor": "white",
           "linecolor": "white",
           "ticks": "",
           "title": {
            "standoff": 15
           },
           "zerolinecolor": "white",
           "zerolinewidth": 2
          },
          "yaxis": {
           "automargin": true,
           "gridcolor": "white",
           "linecolor": "white",
           "ticks": "",
           "title": {
            "standoff": 15
           },
           "zerolinecolor": "white",
           "zerolinewidth": 2
          }
         }
        },
        "title": {
         "text": "Electricity demand by type of load and Grid region (2023)"
        },
        "width": 1100,
        "xaxis": {
         "anchor": "y",
         "domain": [
          0,
          1
         ],
         "title": {
          "text": "Grid regions"
         }
        },
        "yaxis": {
         "anchor": "x",
         "domain": [
          0,
          1
         ],
         "title": {
          "text": "Demand (TWh)"
         }
        }
       }
      },
      "image/png": "[encoded data removed]"
     },
     "metadata": {},
     "output_type": "display_data"
    },
    {
     "data": {
      "application/vnd.plotly.v1+json": {
       "config": {
        "plotlyServerURL": "https://plot.ly"
       },
       "data": [
        {
         "hovertemplate": "carrier=AC<br>region=%{x}<br>value=%{y}<extra></extra>",
         "legendgroup": "AC",
         "marker": {
          "color": "#636efa",
          "pattern": {
           "shape": ""
          }
         },
         "name": "AC",
         "orientation": "v",
         "showlegend": true,
         "textposition": "auto",
         "texttemplate": "%{y:.1f}",
         "type": "bar",
         "x": [
          "AK",
          "AL",
          "AR",
          "AZ",
          "CA",
          "CO",
          "FL",
          "GA",
          "HI",
          "IA",
          "ID",
          "IL",
          "IN",
          "KS",
          "KY",
          "LA",
          "MA",
          "MD",
          "ME",
          "MI",
          "MN",
          "MO",
          "MS",
          "MT",
          "NC",
          "ND",
          "NE",
          "NH",
          "NJ",
          "NM",
          "NV",
          "NY",
          "OH",
          "OK",
          "OR",
          "PA",
          "SC",
          "SD",
          "TN",
          "TX",
          "UT",
          "VA",
          "WA",
          "WI",
          "WV",
          "WY"
         ],
         "xaxis": "x",
         "y": {
          "bdata": "SOF6FK5H6T+amZmZmVk+QMP1KFyPwiVAFa5H4Xo0QEBI4XoUrmdXQLgehetRuDRAKVyPwvXYVkCF61G4HuVOQK5H4XoUrglAuR6F61F4N0D2KFyPwnUtQBSuR+F6NEZAhetRuB7FQECPwvUoXI8nQEjhehSuBzlAMzMzMzNTQkAAAAAAAGBBQI/C9ShczzJASOF6FK5HEUCkcD0K16NCQJDC9ShcjzhAPQrXo3D9P0BSuB6F69EhQBWuR+F6FBVAkML1KFyPSkBwPQrXo/AnQK5H4XoULjVAAAAAAAAAAACuR+F6FI5MQHE9Ctej8DJAuB6F61E4J0Bcj8L1KJw6QB6F61G4PlBAw/UoXI+CPUDD9Shcj0IjQPYoXI/CVU5Aw/UoXI8iQEBSuB6F61EbQLgehetRuEdAzczMzMyEZkApXI/C9SgnQClcj8L1yEZAZmZmZmYmRUCQwvUoXI87QEjhehSuRx5AzczMzMzMEUA=",
          "dtype": "f8"
         },
         "yaxis": "y"
        },
        {
         "hovertemplate": "carrier=agriculture electricity<br>region=%{x}<br>value=%{y}<extra></extra>",
         "legendgroup": "agriculture electricity",
         "marker": {
          "color": "#EF553B",
          "pattern": {
           "shape": ""
          }
         },
         "name": "agriculture electricity",
         "orientation": "v",
         "showlegend": true,
         "textposition": "auto",
         "texttemplate": "%{y:.1f}",
         "type": "bar",
         "x": [
          "AK",
          "AL",
          "AR",
          "AZ",
          "CA",
          "CO",
          "FL",
          "GA",
          "HI",
          "IA",
          "ID",
          "IL",
          "IN",
          "KS",
          "KY",
          "LA",
          "MA",
          "MD",
          "ME",
          "MI",
          "MN",
          "MO",
          "MS",
          "MT",
          "NC",
          "ND",
          "NE",
          "NH",
          "NJ",
          "NM",
          "NV",
          "NY",
          "OH",
          "OK",
          "OR",
          "PA",
          "SC",
          "SD",
          "TN",
          "TX",
          "UT",
          "VA",
          "WA",
          "WI",
          "WV",
          "WY"
         ],
         "xaxis": "x",
         "y": {
          "bdata": "uB6F61G4rj/C9Shcj8LlPwAAAAAAANA/cD0K16Nw9T8pXI/C9SgXQClcj8L1KOw/HoXrUbgeCUBwPQrXo3ADQAAAAAAAANA/mpmZmZmZ6T+amZmZmZnxPx6F61G4Hvk/PgrXo3A98j89CtejcD3iP65H4XoUru8/CtejcD0K5z9I4XoUrkf9P3E9CtejcO0/7FG4HoXr0T97FK5H4Xr0P0jhehSuR+k/uB6F61G48j8AAAAAAADQPwvXo3A9Csc/4XoUrkfh+j8zMzMzMzPTP/YoXI/C9eg/AAAAAAAAAACPwvUoXI/+P5qZmZmZmfE/w/UoXI/C7T/sUbgehesLQJDC9ShcjwJAmpmZmZmZ4T8zMzMzMzP3P7gehetRuABAXI/C9Shc8z+QwvUoXI/SP6RwPQrXo/g/AAAAAAAAE0BSuB6F61HYP1K4HoXrUfA/MzMzMzMz8z9cj8L1KFz3P+F6FK5H4do/uB6F61G4rj8=",
          "dtype": "f8"
         },
         "yaxis": "y"
        },
        {
         "hovertemplate": "carrier=industry electricity<br>region=%{x}<br>value=%{y}<extra></extra>",
         "legendgroup": "industry electricity",
         "marker": {
          "color": "#00cc96",
          "pattern": {
           "shape": ""
          }
         },
         "name": "industry electricity",
         "orientation": "v",
         "showlegend": true,
         "textposition": "auto",
         "texttemplate": "%{y:.1f}",
         "type": "bar",
         "x": [
          "AK",
          "AL",
          "AR",
          "AZ",
          "CA",
          "CO",
          "FL",
          "GA",
          "HI",
          "IA",
          "ID",
          "IL",
          "IN",
          "KS",
          "KY",
          "LA",
          "MA",
          "MD",
          "ME",
          "MI",
          "MN",
          "MO",
          "MS",
          "MT",
          "NC",
          "ND",
          "NE",
          "NH",
          "NJ",
          "NM",
          "NV",
          "NY",
          "OH",
          "OK",
          "OR",
          "PA",
          "SC",
          "SD",
          "TN",
          "TX",
          "UT",
          "VA",
          "WA",
          "WI",
          "WV",
          "WY"
         ],
         "xaxis": "x",
         "y": {
          "bdata": "mpmZmZmZ8T8oXI/C9SgjQD0K16NwPQpAXI/C9ShcIkAK16NwPdpRQBSuR+F6FCJAZmZmZmZmOUAfhetRuF4zQOF6FK5H4QpAhetRuB6FI0AzMzMzM7MhQArXo3A9SjdAFK5H4XqUKkBmZmZmZuYgQEjhehSuRydASOF6FK6HPEAAAAAAAMA7QK5H4XoUridAKVyPwvUoDEBI4XoUrscwQIXrUbgehSdA16NwPQpXLkCF61G4HoUHQK5H4XoUrgVAmpmZmZkZLkAUrkfhehQRQIXrUbgehSNA7FG4HoXrsT+4HoXrUVhBQKRwPQrXoyRAcT0K16NwHkApXI/C9WhKQLgehetReD1AXI/C9SjcIECkcD0K1yMtQI/C9Shcj0JAXI/C9ShcJEA+CtejcD0MQHA9CtejMDFAcT0K16PQUUCF61G4HoULQBSuR+F6FCpApHA9CtejL0AzMzMzM3MwQOF6FK5HYSBAAAAAAAAA9D8=",
          "dtype": "f8"
         },
         "yaxis": "y"
        },
        {
         "hovertemplate": "carrier=land transport EV<br>region=%{x}<br>value=%{y}<extra></extra>",
         "legendgroup": "land transport EV",
         "marker": {
          "color": "#ab63fa",
          "pattern": {
           "shape": ""
          }
         },
         "name": "land transport EV",
         "orientation": "v",
         "showlegend": true,
         "textposition": "auto",
         "texttemplate": "%{y:.1f}",
         "type": "bar",
         "x": [
          "AK",
          "AL",
          "AR",
          "AZ",
          "CA",
          "CO",
          "FL",
          "GA",
          "HI",
          "IA",
          "ID",
          "IL",
          "IN",
          "KS",
          "KY",
          "LA",
          "MA",
          "MD",
          "ME",
          "MI",
          "MN",
          "MO",
          "MS",
          "MT",
          "NC",
          "ND",
          "NE",
          "NH",
          "NJ",
          "NM",
          "NV",
          "NY",
          "OH",
          "OK",
          "OR",
          "PA",
          "SC",
          "SD",
          "TN",
          "TX",
          "UT",
          "VA",
          "WA",
          "WI",
          "WV",
          "WY"
         ],
         "xaxis": "x",
         "y": {
          "bdata": "exSuR+F6hD+kcD0K16PAP5qZmZmZmak/pHA9Ctej0D+amZmZmZnxPwrXo3A9Csc/PQrXo3A94j/MzMzMzMzcP5qZmZmZmak/MzMzMzMzwz/iehSuR+HKP9ijcD0K19M/KVyPwvUozD8qXI/C9Si8P1K4HoXrUcg/pHA9CtejwD8K16NwPQrXPwrXo3A9Csc/mpmZmZmZqT8AAAAAAADQP3sUrkfhesQ/KVyPwvUozD+amZmZmZmpP7gehetRuJ4/exSuR+F61D+4HoXrUbiuP3sUrkfhesQ/AAAAAAAAAACuR+F6FK7XP+J6FK5H4co/CtejcD0Kxz8UrkfhehTmP3A9CtejcN0/KVyPwvUovD/sUbgehevRP5qZmZmZmdk/KVyPwvUozD+amZmZmZmpPzMzMzMzM9M/KVyPwvUo7D/sUbgeheuxP1K4HoXrUcg/cD0K16NwzT+QwvUoXI/SP3sUrkfherQ/exSuR+F6hD8=",
          "dtype": "f8"
         },
         "yaxis": "y"
        },
        {
         "hovertemplate": "carrier=rail transport electricity<br>region=%{x}<br>value=%{y}<extra></extra>",
         "legendgroup": "rail transport electricity",
         "marker": {
          "color": "#FFA15A",
          "pattern": {
           "shape": ""
          }
         },
         "name": "rail transport electricity",
         "orientation": "v",
         "showlegend": true,
         "textposition": "auto",
         "texttemplate": "%{y:.1f}",
         "type": "bar",
         "x": [
          "AK",
          "AL",
          "AR",
          "AZ",
          "CA",
          "CO",
          "FL",
          "GA",
          "HI",
          "IA",
          "ID",
          "IL",
          "IN",
          "KS",
          "KY",
          "LA",
          "MA",
          "MD",
          "ME",
          "MI",
          "MN",
          "MO",
          "MS",
          "MT",
          "NC",
          "ND",
          "NE",
          "NH",
          "NJ",
          "NM",
          "NV",
          "NY",
          "OH",
          "OK",
          "OR",
          "PA",
          "SC",
          "SD",
          "TN",
          "TX",
          "UT",
          "VA",
          "WA",
          "WI",
          "WV",
          "WY"
         ],
         "xaxis": "x",
         "y": {
          "bdata": "exSuR+F6hD/sUbgeheuxP3sUrkfhepQ/7FG4HoXrwT/sUbgehevhP3sUrkfherQ/MzMzMzMz0z9wPQrXo3DNP3sUrkfhepQ/exSuR+F6tD+amZmZmZm5PzQzMzMzM8M/KVyPwvUovD+amZmZmZmpPwrXo3A9Crc/7FG4HoXrsT8K16NwPQrHPwrXo3A9Crc/uB6F61G4nj+4HoXrUbi+P3sUrkfherQ/KVyPwvUovD97FK5H4XqUP3sUrkfhepQ/exSuR+F6xD97FK5H4XqkP+tRuB6F67E/AAAAAAAAAABSuB6F61HIPypcj8L1KLw/CtejcD0Ktz/C9Shcj8LVP3A9CtejcM0/mpmZmZmZqT/sUbgehevBP5qZmZmZmck/uB6F61G4vj+4HoXrUbiePzQzMzMzM8M/cT0K16Nw3T97FK5H4XqkP5qZmZmZmbk/uB6F61G4vj/sUbgehevBP3sUrkfheqQ/exSuR+F6hD8=",
          "dtype": "f8"
         },
         "yaxis": "y"
        },
        {
         "hovertemplate": "carrier=services electricity<br>region=%{x}<br>value=%{y}<extra></extra>",
         "legendgroup": "services electricity",
         "marker": {
          "color": "#19d3f3",
          "pattern": {
           "shape": ""
          }
         },
         "name": "services electricity",
         "orientation": "v",
         "showlegend": true,
         "textposition": "auto",
         "texttemplate": "%{y:.1f}",
         "type": "bar",
         "x": [
          "AK",
          "AL",
          "AR",
          "AZ",
          "CA",
          "CO",
          "FL",
          "GA",
          "HI",
          "IA",
          "ID",
          "IL",
          "IN",
          "KS",
          "KY",
          "LA",
          "MA",
          "MD",
          "ME",
          "MI",
          "MN",
          "MO",
          "MS",
          "MT",
          "NC",
          "ND",
          "NE",
          "NH",
          "NJ",
          "NM",
          "NV",
          "NY",
          "OH",
          "OK",
          "OR",
          "PA",
          "SC",
          "SD",
          "TN",
          "TX",
          "UT",
          "VA",
          "WA",
          "WI",
          "WV",
          "WY"
         ],
         "xaxis": "x",
         "y": {
          "bdata": "uB6F61G45j9cj8L1KJw7QM3MzMzMzCNAexSuR+F6PUDsUbgehUtVQJqZmZmZ2TJAmpmZmZnJVEBcj8L1KBxMQFyPwvUoXAdAmZmZmZlZNUDNzMzMzMwqQDMzMzMzM0RAwvUoXI+CPkBxPQrXo3AlQIXrUbgexTZAzczMzMysQEBcj8L1KJw/QFyPwvUoHDFAcT0K16NwD0D2KFyPwvVAQJqZmZmZWTZAXI/C9SgcPUC4HoXrUTggQClcj8L1KBNAKVyPwvUoSEDNzMzMzMwlQIXrUbgeRTNAAAAAAAAAAAB7FK5H4fpJQHsUrkfhOjFAH4XrUbgeJUD2KFyPwjU4QI/C9Shcj01A16NwPQrXOkCF61G4HoUhQLgehetRmEtAXI/C9ShcPUDhehSuR+EYQDMzMzMzk0VAPgrXo3B9ZEAUrkfhehQlQJqZmZmZuURAAAAAAABAQ0BSuB6F6xE5QI/C9ShcjxtAKVyPwvUoEEA=",
          "dtype": "f8"
         },
         "yaxis": "y"
        },
        {
         "hovertemplate": "carrier=Total<br>region=%{x}<br>value=%{y}<extra></extra>",
         "legendgroup": "Total",
         "marker": {
          "color": "#FF6692",
          "pattern": {
           "shape": ""
          }
         },
         "name": "Total",
         "orientation": "v",
         "showlegend": true,
         "textposition": "auto",
         "texttemplate": "%{y:.1f}",
         "type": "bar",
         "x": [
          "AK",
          "AL",
          "AR",
          "AZ",
          "CA",
          "CO",
          "FL",
          "GA",
          "HI",
          "IA",
          "ID",
          "IL",
          "IN",
          "KS",
          "KY",
          "LA",
          "MA",
          "MD",
          "ME",
          "MI",
          "MN",
          "MO",
          "MS",
          "MT",
          "NC",
          "ND",
          "NE",
          "NH",
          "NJ",
          "NM",
          "NV",
          "NY",
          "OH",
          "OK",
          "OR",
          "PA",
          "SC",
          "SD",
          "TN",
          "TX",
          "UT",
          "VA",
          "WA",
          "WI",
          "WV",
          "WY"
         ],
         "xaxis": "x",
         "y": {
          "bdata": "cT0K16NwBUB7FK5H4RpRQOJ6FK5HYThApHA9CtczUkDC9ShcjxpwQAAAAAAA4EhAZmZmZmZ+aUBI4XoUro9hQB6F61G4niNArkfhehTOS0BSuB6F6zFDQLgehetRiFtApHA9CtezU0CuR+F6FK4/QHoUrkfhWk5AzMzMzMzcWEAfhetRuB5YQJqZmZmZeUhAw/UoXI9CKEC4HoXrUWhWQJmZmZmZ2U1A4XoUrkdxU0BI4XoUrkc0QAAAAAAAACpAmpmZmZmpXUAK16NwPYo7QFyPwvUonElA7FG4HoXrsT+PwvUoXEdiQBWuR+F69EdAehSuR+H6PkAK16NwPQpbQML1KFyPkmNAj8L1KFxfUEAK16NwPWpBQD4K16NwdWNA16NwPQpXUkAzMzMzM/MwQOB6FK5HcVtAH4XrUbhWekDMzMzMzAw6QEjhehSuV1lAehSuR+GKWECuR+F6FL5RQHA9CtejMDdApHA9CtejI0A=",
          "dtype": "f8"
         },
         "yaxis": "y"
        }
       ],
       "layout": {
        "barmode": "stack",
        "legend": {
         "title": {
          "text": "carrier"
         },
         "tracegroupgap": 0
        },
        "margin": {
         "t": 60
        },
        "template": {
         "data": {
          "bar": [
           {
            "error_x": {
             "color": "#2a3f5f"
            },
            "error_y": {
             "color": "#2a3f5f"
            },
            "marker": {
             "line": {
              "color": "#E5ECF6",
              "width": 0.5
             },
             "pattern": {
              "fillmode": "overlay",
              "size": 10,
              "solidity": 0.2
             }
            },
            "type": "bar"
           }
          ],
          "barpolar": [
           {
            "marker": {
             "line": {
              "color": "#E5ECF6",
              "width": 0.5
             },
             "pattern": {
              "fillmode": "overlay",
              "size": 10,
              "solidity": 0.2
             }
            },
            "type": "barpolar"
           }
          ],
          "carpet": [
           {
            "aaxis": {
             "endlinecolor": "#2a3f5f",
             "gridcolor": "white",
             "linecolor": "white",
             "minorgridcolor": "white",
             "startlinecolor": "#2a3f5f"
            },
            "baxis": {
             "endlinecolor": "#2a3f5f",
             "gridcolor": "white",
             "linecolor": "white",
             "minorgridcolor": "white",
             "startlinecolor": "#2a3f5f"
            },
            "type": "carpet"
           }
          ],
          "choropleth": [
           {
            "colorbar": {
             "outlinewidth": 0,
             "ticks": ""
            },
            "type": "choropleth"
           }
          ],
          "contour": [
           {
            "colorbar": {
             "outlinewidth": 0,
             "ticks": ""
            },
            "colorscale": [
             [
              0,
              "#0d0887"
             ],
             [
              0.1111111111111111,
              "#46039f"
             ],
             [
              0.2222222222222222,
              "#7201a8"
             ],
             [
              0.3333333333333333,
              "#9c179e"
             ],
             [
              0.4444444444444444,
              "#bd3786"
             ],
             [
              0.5555555555555556,
              "#d8576b"
             ],
             [
              0.6666666666666666,
              "#ed7953"
             ],
             [
              0.7777777777777778,
              "#fb9f3a"
             ],
             [
              0.8888888888888888,
              "#fdca26"
             ],
             [
              1,
              "#f0f921"
             ]
            ],
            "type": "contour"
           }
          ],
          "contourcarpet": [
           {
            "colorbar": {
             "outlinewidth": 0,
             "ticks": ""
            },
            "type": "contourcarpet"
           }
          ],
          "heatmap": [
           {
            "colorbar": {
             "outlinewidth": 0,
             "ticks": ""
            },
            "colorscale": [
             [
              0,
              "#0d0887"
             ],
             [
              0.1111111111111111,
              "#46039f"
             ],
             [
              0.2222222222222222,
              "#7201a8"
             ],
             [
              0.3333333333333333,
              "#9c179e"
             ],
             [
              0.4444444444444444,
              "#bd3786"
             ],
             [
              0.5555555555555556,
              "#d8576b"
             ],
             [
              0.6666666666666666,
              "#ed7953"
             ],
             [
              0.7777777777777778,
              "#fb9f3a"
             ],
             [
              0.8888888888888888,
              "#fdca26"
             ],
             [
              1,
              "#f0f921"
             ]
            ],
            "type": "heatmap"
           }
          ],
          "histogram": [
           {
            "marker": {
             "pattern": {
              "fillmode": "overlay",
              "size": 10,
              "solidity": 0.2
             }
            },
            "type": "histogram"
           }
          ],
          "histogram2d": [
           {
            "colorbar": {
             "outlinewidth": 0,
             "ticks": ""
            },
            "colorscale": [
             [
              0,
              "#0d0887"
             ],
             [
              0.1111111111111111,
              "#46039f"
             ],
             [
              0.2222222222222222,
              "#7201a8"
             ],
             [
              0.3333333333333333,
              "#9c179e"
             ],
             [
              0.4444444444444444,
              "#bd3786"
             ],
             [
              0.5555555555555556,
              "#d8576b"
             ],
             [
              0.6666666666666666,
              "#ed7953"
             ],
             [
              0.7777777777777778,
              "#fb9f3a"
             ],
             [
              0.8888888888888888,
              "#fdca26"
             ],
             [
              1,
              "#f0f921"
             ]
            ],
            "type": "histogram2d"
           }
          ],
          "histogram2dcontour": [
           {
            "colorbar": {
             "outlinewidth": 0,
             "ticks": ""
            },
            "colorscale": [
             [
              0,
              "#0d0887"
             ],
             [
              0.1111111111111111,
              "#46039f"
             ],
             [
              0.2222222222222222,
              "#7201a8"
             ],
             [
              0.3333333333333333,
              "#9c179e"
             ],
             [
              0.4444444444444444,
              "#bd3786"
             ],
             [
              0.5555555555555556,
              "#d8576b"
             ],
             [
              0.6666666666666666,
              "#ed7953"
             ],
             [
              0.7777777777777778,
              "#fb9f3a"
             ],
             [
              0.8888888888888888,
              "#fdca26"
             ],
             [
              1,
              "#f0f921"
             ]
            ],
            "type": "histogram2dcontour"
           }
          ],
          "mesh3d": [
           {
            "colorbar": {
             "outlinewidth": 0,
             "ticks": ""
            },
            "type": "mesh3d"
           }
          ],
          "parcoords": [
           {
            "line": {
             "colorbar": {
              "outlinewidth": 0,
              "ticks": ""
             }
            },
            "type": "parcoords"
           }
          ],
          "pie": [
           {
            "automargin": true,
            "type": "pie"
           }
          ],
          "scatter": [
           {
            "fillpattern": {
             "fillmode": "overlay",
             "size": 10,
             "solidity": 0.2
            },
            "type": "scatter"
           }
          ],
          "scatter3d": [
           {
            "line": {
             "colorbar": {
              "outlinewidth": 0,
              "ticks": ""
             }
            },
            "marker": {
             "colorbar": {
              "outlinewidth": 0,
              "ticks": ""
             }
            },
            "type": "scatter3d"
           }
          ],
          "scattercarpet": [
           {
            "marker": {
             "colorbar": {
              "outlinewidth": 0,
              "ticks": ""
             }
            },
            "type": "scattercarpet"
           }
          ],
          "scattergeo": [
           {
            "marker": {
             "colorbar": {
              "outlinewidth": 0,
              "ticks": ""
             }
            },
            "type": "scattergeo"
           }
          ],
          "scattergl": [
           {
            "marker": {
             "colorbar": {
              "outlinewidth": 0,
              "ticks": ""
             }
            },
            "type": "scattergl"
           }
          ],
          "scattermap": [
           {
            "marker": {
             "colorbar": {
              "outlinewidth": 0,
              "ticks": ""
             }
            },
            "type": "scattermap"
           }
          ],
          "scattermapbox": [
           {
            "marker": {
             "colorbar": {
              "outlinewidth": 0,
              "ticks": ""
             }
            },
            "type": "scattermapbox"
           }
          ],
          "scatterpolar": [
           {
            "marker": {
             "colorbar": {
              "outlinewidth": 0,
              "ticks": ""
             }
            },
            "type": "scatterpolar"
           }
          ],
          "scatterpolargl": [
           {
            "marker": {
             "colorbar": {
              "outlinewidth": 0,
              "ticks": ""
             }
            },
            "type": "scatterpolargl"
           }
          ],
          "scatterternary": [
           {
            "marker": {
             "colorbar": {
              "outlinewidth": 0,
              "ticks": ""
             }
            },
            "type": "scatterternary"
           }
          ],
          "surface": [
           {
            "colorbar": {
             "outlinewidth": 0,
             "ticks": ""
            },
            "colorscale": [
             [
              0,
              "#0d0887"
             ],
             [
              0.1111111111111111,
              "#46039f"
             ],
             [
              0.2222222222222222,
              "#7201a8"
             ],
             [
              0.3333333333333333,
              "#9c179e"
             ],
             [
              0.4444444444444444,
              "#bd3786"
             ],
             [
              0.5555555555555556,
              "#d8576b"
             ],
             [
              0.6666666666666666,
              "#ed7953"
             ],
             [
              0.7777777777777778,
              "#fb9f3a"
             ],
             [
              0.8888888888888888,
              "#fdca26"
             ],
             [
              1,
              "#f0f921"
             ]
            ],
            "type": "surface"
           }
          ],
          "table": [
           {
            "cells": {
             "fill": {
              "color": "#EBF0F8"
             },
             "line": {
              "color": "white"
             }
            },
            "header": {
             "fill": {
              "color": "#C8D4E3"
             },
             "line": {
              "color": "white"
             }
            },
            "type": "table"
           }
          ]
         },
         "layout": {
          "annotationdefaults": {
           "arrowcolor": "#2a3f5f",
           "arrowhead": 0,
           "arrowwidth": 1
          },
          "autotypenumbers": "strict",
          "coloraxis": {
           "colorbar": {
            "outlinewidth": 0,
            "ticks": ""
           }
          },
          "colorscale": {
           "diverging": [
            [
             0,
             "#8e0152"
            ],
            [
             0.1,
             "#c51b7d"
            ],
            [
             0.2,
             "#de77ae"
            ],
            [
             0.3,
             "#f1b6da"
            ],
            [
             0.4,
             "#fde0ef"
            ],
            [
             0.5,
             "#f7f7f7"
            ],
            [
             0.6,
             "#e6f5d0"
            ],
            [
             0.7,
             "#b8e186"
            ],
            [
             0.8,
             "#7fbc41"
            ],
            [
             0.9,
             "#4d9221"
            ],
            [
             1,
             "#276419"
            ]
           ],
           "sequential": [
            [
             0,
             "#0d0887"
            ],
            [
             0.1111111111111111,
             "#46039f"
            ],
            [
             0.2222222222222222,
             "#7201a8"
            ],
            [
             0.3333333333333333,
             "#9c179e"
            ],
            [
             0.4444444444444444,
             "#bd3786"
            ],
            [
             0.5555555555555556,
             "#d8576b"
            ],
            [
             0.6666666666666666,
             "#ed7953"
            ],
            [
             0.7777777777777778,
             "#fb9f3a"
            ],
            [
             0.8888888888888888,
             "#fdca26"
            ],
            [
             1,
             "#f0f921"
            ]
           ],
           "sequentialminus": [
            [
             0,
             "#0d0887"
            ],
            [
             0.1111111111111111,
             "#46039f"
            ],
            [
             0.2222222222222222,
             "#7201a8"
            ],
            [
             0.3333333333333333,
             "#9c179e"
            ],
            [
             0.4444444444444444,
             "#bd3786"
            ],
            [
             0.5555555555555556,
             "#d8576b"
            ],
            [
             0.6666666666666666,
             "#ed7953"
            ],
            [
             0.7777777777777778,
             "#fb9f3a"
            ],
            [
             0.8888888888888888,
             "#fdca26"
            ],
            [
             1,
             "#f0f921"
            ]
           ]
          },
          "colorway": [
           "#636efa",
           "#EF553B",
           "#00cc96",
           "#ab63fa",
           "#FFA15A",
           "#19d3f3",
           "#FF6692",
           "#B6E880",
           "#FF97FF",
           "#FECB52"
          ],
          "font": {
           "color": "#2a3f5f"
          },
          "geo": {
           "bgcolor": "white",
           "lakecolor": "white",
           "landcolor": "#E5ECF6",
           "showlakes": true,
           "showland": true,
           "subunitcolor": "white"
          },
          "hoverlabel": {
           "align": "left"
          },
          "hovermode": "closest",
          "mapbox": {
           "style": "light"
          },
          "paper_bgcolor": "white",
          "plot_bgcolor": "#E5ECF6",
          "polar": {
           "angularaxis": {
            "gridcolor": "white",
            "linecolor": "white",
            "ticks": ""
           },
           "bgcolor": "#E5ECF6",
           "radialaxis": {
            "gridcolor": "white",
            "linecolor": "white",
            "ticks": ""
           }
          },
          "scene": {
           "xaxis": {
            "backgroundcolor": "#E5ECF6",
            "gridcolor": "white",
            "gridwidth": 2,
            "linecolor": "white",
            "showbackground": true,
            "ticks": "",
            "zerolinecolor": "white"
           },
           "yaxis": {
            "backgroundcolor": "#E5ECF6",
            "gridcolor": "white",
            "gridwidth": 2,
            "linecolor": "white",
            "showbackground": true,
            "ticks": "",
            "zerolinecolor": "white"
           },
           "zaxis": {
            "backgroundcolor": "#E5ECF6",
            "gridcolor": "white",
            "gridwidth": 2,
            "linecolor": "white",
            "showbackground": true,
            "ticks": "",
            "zerolinecolor": "white"
           }
          },
          "shapedefaults": {
           "line": {
            "color": "#2a3f5f"
           }
          },
          "ternary": {
           "aaxis": {
            "gridcolor": "white",
            "linecolor": "white",
            "ticks": ""
           },
           "baxis": {
            "gridcolor": "white",
            "linecolor": "white",
            "ticks": ""
           },
           "bgcolor": "#E5ECF6",
           "caxis": {
            "gridcolor": "white",
            "linecolor": "white",
            "ticks": ""
           }
          },
          "title": {
           "x": 0.05
          },
          "xaxis": {
           "automargin": true,
           "gridcolor": "white",
           "linecolor": "white",
           "ticks": "",
           "title": {
            "standoff": 15
           },
           "zerolinecolor": "white",
           "zerolinewidth": 2
          },
          "yaxis": {
           "automargin": true,
           "gridcolor": "white",
           "linecolor": "white",
           "ticks": "",
           "title": {
            "standoff": 15
           },
           "zerolinecolor": "white",
           "zerolinewidth": 2
          }
         }
        },
        "title": {
         "text": "Electricity Demand by type of load and State (2023)"
        },
        "width": 3000,
        "xaxis": {
         "anchor": "y",
         "domain": [
          0,
          1
         ],
         "title": {
          "text": "States"
         }
        },
        "yaxis": {
         "anchor": "x",
         "domain": [
          0,
          1
         ],
         "title": {
          "text": "Demand (TWh)"
         }
        }
       }
      },
      "image/png": "[encoded data removed]"
     },
     "metadata": {},
     "output_type": "display_data"
    }
   ],
   "source": [
    "fig1 = px.bar(base_demand_grid_region, barmode='stack', text_auto='.1f')\n",
    "fig1.update_layout(width=1100, yaxis_title='Demand (TWh)', xaxis_title='Grid regions', title='Electricity demand by type of load and Grid region (2023)')\n",
    "fig1.show()\n",
    "\n",
    "fig1 = px.bar(base_demand_state, barmode='stack', text_auto='.1f')\n",
    "fig1.update_layout(width=3000, yaxis_title='Demand (TWh)', xaxis_title='States', title='Electricity Demand by type of load and State (2023)')\n",
    "fig1.show()"
   ]
  }
 ],
 "metadata": {
  "kernelspec": {
   "display_name": "Python 3 (ipykernel)",
   "language": "python",
   "name": "python3"
  },
  "language_info": {
   "codemirror_mode": {
    "name": "ipython",
    "version": 3
   },
   "file_extension": ".py",
   "mimetype": "text/x-python",
   "name": "python",
   "nbconvert_exporter": "python",
   "pygments_lexer": "ipython3",
   "version": "3.10.18"
  }
 },
 "nbformat": 4,
 "nbformat_minor": 5
}
