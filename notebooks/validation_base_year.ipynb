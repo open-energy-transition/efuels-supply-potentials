{
 "cells": [
  {
   "cell_type": "markdown",
   "id": "18427c7f",
   "metadata": {},
   "source": [
    "# Base year (2023) validation\n",
    "\n",
    "This notebook validates the results of PyPSA-Earth for the base year (2023) against the **EIA (U.S. Energy Information Administration)** and **Ember** US datasets. The validation covers three key aspects of the electricity system:\n",
    "- **Electricity Demand**\n",
    "- **Electricity Generation**\n",
    "- **Installed Generation Capacity**"
   ]
  },
  {
   "cell_type": "markdown",
   "id": "afce7acd-7c2b-4727-84b4-8291e3f7675f",
   "metadata": {},
   "source": [
    "## 1. Setup and Data Loading\n",
    "\n",
    "*This section handles the initial setup, including importing necessary libraries and loading the solved PyPSA-Earth networks.*"
   ]
  },
  {
   "cell_type": "markdown",
   "id": "f8c3e858",
   "metadata": {},
   "source": [
    "### 11.1 Loading libraries\n",
    "\n",
    "We begin by importing the necessary libraries for data handling, analysis, and visualization. These include PyPSA for power system analysis, pandas and numpy for data manipulation, geopandas for spatial data, and seaborn/matplotlib for plotting.\n",
    "\n",
    "---"
   ]
  },
  {
   "cell_type": "code",
   "execution_count": 1,
   "id": "31697af1",
   "metadata": {},
   "outputs": [],
   "source": [
    "# Install required packages if not already installed\n",
    "# Uncomment the line below to install packages\n",
    "# Note: This line is commented out to prevent installation during code execution.\n",
    "\n",
    "# !pip install numpy pandas plotly pycountry matplotlib seaborn -qq"
   ]
  },
  {
   "cell_type": "code",
   "execution_count": 2,
   "id": "38916fc2",
   "metadata": {},
   "outputs": [
    {
     "name": "stderr",
     "output_type": "stream",
     "text": [
      "/home/user/miniforge3/envs/pypsa-earth/lib/python3.10/site-packages/pypsa/networkclustering.py:16: UserWarning:\n",
      "\n",
      "The namespace `pypsa.networkclustering` is deprecated and will be removed in PyPSA v0.24. Please use `pypsa.clustering.spatial instead`. \n",
      "\n"
     ]
    }
   ],
   "source": [
    "import os\n",
    "import pypsa\n",
    "import numpy as np\n",
    "import pandas as pd\n",
    "import geopandas as gpd\n",
    "import matplotlib.pyplot as plt\n",
    "import seaborn as sns\n",
    "import plotly.express as px\n",
    "import plotly.graph_objects as go\n",
    "\n",
    "import pycountry\n",
    "\n",
    "from _helpers import *\n",
    "\n",
    "import warnings\n",
    "warnings.filterwarnings(\"ignore\")"
   ]
  },
  {
   "cell_type": "code",
   "execution_count": 3,
   "id": "55cec142-81c6-4e0e-b089-6951ecac3179",
   "metadata": {},
   "outputs": [],
   "source": [
    "pd.set_option('display.max_columns', None)\n",
    "pd.set_option('display.max_rows', None) \n",
    "pd.set_option('display.width', None)    \n",
    "pd.set_option('display.max_colwidth', None)"
   ]
  },
  {
   "cell_type": "markdown",
   "id": "3b6f65b7",
   "metadata": {},
   "source": [
    "### 1.3 Loading Files\n",
    "\n",
    "PyPSA-Earth solved networks for the base year are uploaded here, as well as the relevant EIA and Ember datasets. These datasets provide reference values for demand, generation, and installed capacity, which will be used for validation."
   ]
  },
  {
   "cell_type": "code",
   "execution_count": 4,
   "id": "d7e25461",
   "metadata": {},
   "outputs": [],
   "source": [
    "DATA_DIR = \"../notebooks/validation_data/\"\n",
    "\n",
    "ember_data_path = os.path.join(DATA_DIR, \"ember_yearly_full_release_long_format.csv\")\n",
    "eia_demand_path = os.path.join(DATA_DIR, \"EIA_demand.xlsx\")\n",
    "eia_installed_capacities_path = os.path.join(DATA_DIR, \"EIA_installed_capacities.csv\")\n",
    "eia_generation_path = os.path.join(DATA_DIR, \"EIA_electricity_generation.csv\")"
   ]
  },
  {
   "cell_type": "code",
   "execution_count": 5,
   "id": "48a32925",
   "metadata": {},
   "outputs": [],
   "source": [
    "ember_data = pd.read_csv(ember_data_path)"
   ]
  },
  {
   "cell_type": "code",
   "execution_count": 6,
   "id": "8993955d",
   "metadata": {},
   "outputs": [
    {
     "name": "stderr",
     "output_type": "stream",
     "text": [
      "INFO:pypsa.io:Imported network elec_s_100_ec_lcopt_Co2L-24H_24H_2020_0.071_AB_10export.nc has buses, carriers, generators, global_constraints, lines, links, loads, storage_units, stores\n"
     ]
    }
   ],
   "source": [
    "# load network\n",
    "project_root = os.getcwd()\n",
    "results_dir = os.path.join(project_root, 'results')\n",
    "\n",
    "# Load Base year network\n",
    "base_path = os.path.join(results_dir, 'base_year', \"elec_s_100_ec_lcopt_Co2L-24H_24H_2020_0.071_AB_10export.nc\")\n",
    "base_network = pypsa.Network(base_path)"
   ]
  },
  {
   "cell_type": "code",
   "execution_count": 7,
   "id": "d8ce6c3a",
   "metadata": {},
   "outputs": [],
   "source": [
    "state_shape_path = \"gadm41_USA_1.json\"\n",
    "grid_shape_path = \"needs_grid_regions_aggregated.geojson\"\n",
    "attach_state_to_buses(base_network, state_shape_path)\n",
    "attach_grid_region_to_buses(base_network, grid_shape_path)"
   ]
  },
  {
   "cell_type": "code",
   "execution_count": 8,
   "id": "cc0217ad",
   "metadata": {},
   "outputs": [],
   "source": [
    "country_code = \"US\"\n",
    "horizon = 2023\n",
    "\n",
    "three_country_code = convert_two_country_code_to_three(country_code)"
   ]
  },
  {
   "cell_type": "markdown",
   "id": "7df9157a-e3ff-4d01-b92c-680626ff92fb",
   "metadata": {},
   "source": [
    "---"
   ]
  },
  {
   "cell_type": "markdown",
   "id": "0c5117a6",
   "metadata": {},
   "source": [
    "## 2. Installed capacity \n",
    "\n",
    "This section validates the **installed generation capacities** by technology. We compare the capacities in the PyPSA network to those reported by EIA and Ember to ensure the model's infrastructure assumptions are consistent with real-world data."
   ]
  },
  {
   "cell_type": "code",
   "execution_count": 9,
   "id": "1e15851c",
   "metadata": {},
   "outputs": [],
   "source": [
    "installed_capacity_ember = get_installed_capacity_ember(\n",
    "        ember_data, three_country_code, horizon).round(2)\n",
    "\n",
    "EIA_inst_capacities = get_data_EIA(\n",
    "    eia_installed_capacities_path, country_code, horizon)\n",
    "EIA_inst_capacities = preprocess_eia_data(EIA_inst_capacities).round(2)\n",
    "\n",
    "installed_capacity_ember.rename({\n",
    "    \"Gas\": \"Natural gas\", \"Fossil fuels\": \"Oil\"\n",
    "}, inplace=True)"
   ]
  },
  {
   "cell_type": "code",
   "execution_count": 10,
   "id": "8bb0d232",
   "metadata": {},
   "outputs": [],
   "source": [
    "gen_carriers = {\n",
    "    \"onwind\", \"offwind-ac\", \"offwind-dc\", \"solar\", \"solar rooftop\",\n",
    "    \"csp\", \"nuclear\", \"geothermal\", \"ror\", \"PHS\", \"hydro\"\n",
    "}\n",
    "link_carriers = {\n",
    "    \"OCGT\", \"CCGT\", \"coal\", \"oil\", \"biomass\", \"biomass CHP\", \"gas CHP\"\n",
    "}\n",
    "\n",
    "# Generators\n",
    "gen = base_network.generators.copy()\n",
    "gen['carrier'] = gen['carrier'].replace({'offwind-ac': 'offwind', 'offwind-dc': 'offwind'})\n",
    "gen = gen[gen.carrier.isin(gen_carriers)]\n",
    "gen_totals = gen.groupby('carrier')['p_nom_opt'].sum()\n",
    "\n",
    "# Storage\n",
    "sto = base_network.storage_units.copy()\n",
    "sto = sto[sto.carrier.isin(gen_carriers)]\n",
    "sto_totals = sto.groupby('carrier')['p_nom_opt'].sum()\n",
    "\n",
    "# Links (output side scaled by efficiency)\n",
    "links = base_network.links.copy()\n",
    "mask = (\n",
    "    links.efficiency.notnull()\n",
    "    & (links.p_nom_opt > 0)\n",
    "    & links.carrier.isin(link_carriers)\n",
    ")\n",
    "links = links[mask]\n",
    "links_totals = links.groupby('carrier').apply(\n",
    "    lambda df: (df['p_nom_opt'] * df['efficiency']).sum()\n",
    ")\n",
    "\n",
    "# Combine all\n",
    "all_totals = pd.concat([gen_totals, sto_totals, links_totals])\n",
    "all_totals = all_totals.groupby(all_totals.index).sum()  # Merge duplicates\n",
    "all_totals = all_totals[all_totals > 0] / 1e3"
   ]
  },
  {
   "cell_type": "code",
   "execution_count": 11,
   "id": "63eea5e8",
   "metadata": {},
   "outputs": [],
   "source": [
    "pypsa_cap = (\n",
    "    all_totals.rename({\n",
    "        \"onwind\": \"Wind\", \"offwind\": \"Wind\", \"solar rooftop\": \"Solar\",\n",
    "        \"solar\": \"Solar\", \"ror\": \"Hydro\", \"geothermal\": \"Geothermal\", \"nuclear\": \"Nuclear\", \"hydro\": \"Hydro\",\n",
    "        \"OCGT\": \"Natural gas\", \"CCGT\": \"Natural gas\", \"oil\": \"Oil\",\n",
    "        \"coal\": \"Coal\", \"biomass\": \"Biomass\",\n",
    "    })\n",
    "    .to_frame('PyPSA-Earth results')\n",
    "    .round(2)\n",
    "    .groupby(level=0).sum()\n",
    ")\n",
    "\n",
    "# skip 0\n",
    "pypsa_cap = pypsa_cap[pypsa_cap['PyPSA-Earth results'] > 0]"
   ]
  },
  {
   "cell_type": "code",
   "execution_count": 12,
   "id": "ceeee187",
   "metadata": {},
   "outputs": [
    {
     "data": {
      "text/html": [
       "<div>\n",
       "<style scoped>\n",
       "    .dataframe tbody tr th:only-of-type {\n",
       "        vertical-align: middle;\n",
       "    }\n",
       "\n",
       "    .dataframe tbody tr th {\n",
       "        vertical-align: top;\n",
       "    }\n",
       "\n",
       "    .dataframe thead th {\n",
       "        text-align: right;\n",
       "    }\n",
       "</style>\n",
       "<table border=\"1\" class=\"dataframe\">\n",
       "  <thead>\n",
       "    <tr style=\"text-align: right;\">\n",
       "      <th></th>\n",
       "      <th>PyPSA-Earth results</th>\n",
       "      <th>Ember data</th>\n",
       "      <th>EIA data</th>\n",
       "    </tr>\n",
       "  </thead>\n",
       "  <tbody>\n",
       "    <tr>\n",
       "      <th>Biomass</th>\n",
       "      <td>9.02</td>\n",
       "      <td>9.96</td>\n",
       "      <td>29.28</td>\n",
       "    </tr>\n",
       "    <tr>\n",
       "      <th>Coal</th>\n",
       "      <td>226.98</td>\n",
       "      <td>200.28</td>\n",
       "      <td>N/A</td>\n",
       "    </tr>\n",
       "    <tr>\n",
       "      <th>Geothermal</th>\n",
       "      <td>4.02</td>\n",
       "      <td>N/A</td>\n",
       "      <td>2.7</td>\n",
       "    </tr>\n",
       "    <tr>\n",
       "      <th>Hydro</th>\n",
       "      <td>79.98</td>\n",
       "      <td>86.66</td>\n",
       "      <td>79.99</td>\n",
       "    </tr>\n",
       "    <tr>\n",
       "      <th>Natural gas</th>\n",
       "      <td>563.70</td>\n",
       "      <td>542.93</td>\n",
       "      <td>N/A</td>\n",
       "    </tr>\n",
       "    <tr>\n",
       "      <th>Nuclear</th>\n",
       "      <td>99.96</td>\n",
       "      <td>95.77</td>\n",
       "      <td>95.75</td>\n",
       "    </tr>\n",
       "    <tr>\n",
       "      <th>Oil</th>\n",
       "      <td>32.58</td>\n",
       "      <td>32.16</td>\n",
       "      <td>N/A</td>\n",
       "    </tr>\n",
       "    <tr>\n",
       "      <th>PHS</th>\n",
       "      <td>22.02</td>\n",
       "      <td>N/A</td>\n",
       "      <td>23.15</td>\n",
       "    </tr>\n",
       "    <tr>\n",
       "      <th>Solar</th>\n",
       "      <td>142.25</td>\n",
       "      <td>139.21</td>\n",
       "      <td>139.77</td>\n",
       "    </tr>\n",
       "    <tr>\n",
       "      <th>Wind</th>\n",
       "      <td>149.16</td>\n",
       "      <td>148.02</td>\n",
       "      <td>147.44</td>\n",
       "    </tr>\n",
       "    <tr>\n",
       "      <th>Fossil fuels</th>\n",
       "      <td>823.26</td>\n",
       "      <td>775.37</td>\n",
       "      <td>717.28</td>\n",
       "    </tr>\n",
       "  </tbody>\n",
       "</table>\n",
       "</div>"
      ],
      "text/plain": [
       "              PyPSA-Earth results Ember data EIA data\n",
       "Biomass                      9.02       9.96    29.28\n",
       "Coal                       226.98     200.28      N/A\n",
       "Geothermal                   4.02        N/A      2.7\n",
       "Hydro                       79.98      86.66    79.99\n",
       "Natural gas                563.70     542.93      N/A\n",
       "Nuclear                     99.96      95.77    95.75\n",
       "Oil                         32.58      32.16      N/A\n",
       "PHS                         22.02        N/A    23.15\n",
       "Solar                      142.25     139.21   139.77\n",
       "Wind                       149.16     148.02   147.44\n",
       "Fossil fuels               823.26     775.37   717.28"
      ]
     },
     "execution_count": 12,
     "metadata": {},
     "output_type": "execute_result"
    }
   ],
   "source": [
    "fossil_fuels = [\"Natural gas\", \"Oil\", \"Coal\"]\n",
    "\n",
    "# Sum fossil fuels, no KeyError if a carrier is missing\n",
    "pypsa_fossil_fuels = pypsa_cap.reindex(fossil_fuels, fill_value=0).sum().iloc[0]\n",
    "ember_fossil_fuels = installed_capacity_ember.reindex(fossil_fuels, fill_value=0).sum().iloc[0]\n",
    "\n",
    "# Add the aggregated \"Fossil fuels\" row\n",
    "pypsa_cap.loc['Fossil fuels'] = pypsa_fossil_fuels\n",
    "installed_capacity_ember.loc['Fossil fuels'] = ember_fossil_fuels\n",
    "\n",
    "# Concatenate all dataframes\n",
    "installed_capacity_df = pd.concat(\n",
    "    [pypsa_cap, installed_capacity_ember, EIA_inst_capacities], axis=1\n",
    ").fillna(0)\n",
    "\n",
    "# Replace 0 with \"N/A\" for readability\n",
    "installed_capacity_df_na = installed_capacity_df.replace(0, \"N/A\")\n",
    "\n",
    "installed_capacity_df_na\n"
   ]
  },
  {
   "cell_type": "code",
   "execution_count": 13,
   "id": "bb57161a",
   "metadata": {},
   "outputs": [
    {
     "data": {
      "image/png": "[encoded data removed]",
      "text/plain": [
       "<Figure size 1200x600 with 1 Axes>"
      ]
     },
     "metadata": {},
     "output_type": "display_data"
    }
   ],
   "source": [
    "installed_capacity_df.plot(kind=\"bar\", figsize=(12, 6), width=0.8)\n",
    "plt.title(f\"Installed Capacity by Source in {horizon}\")\n",
    "plt.ylabel(\"Installed Capacity (GW)\")\n",
    "plt.xticks(rotation=0)\n",
    "plt.legend(loc='best')\n",
    "plt.tight_layout()"
   ]
  },
  {
   "cell_type": "markdown",
   "id": "18a8695b",
   "metadata": {},
   "source": [
    "Installed capacity data source <br>\n",
    "Ember source: https://ember-energy.org/data/electricity-data-explorer/?data=capacity&entity=United+States <br>\n",
    "EIA source: https://www.eia.gov/international/data/world/electricity/electricity-capacity"
   ]
  },
  {
   "cell_type": "markdown",
   "id": "f8f63a36-5917-43ee-bb9f-d1326b1c733a",
   "metadata": {},
   "source": [
    "---"
   ]
  },
  {
   "cell_type": "markdown",
   "id": "1df925eb-fb7b-43f6-848f-ea2fd4843fac",
   "metadata": {},
   "source": [
    "## 3. Electricity generation\n",
    "\n",
    "In this section, we compare the **annual electricity generation** by technology as reported by PyPSA-Earth, EIA, and Ember. This helps to identify any discrepancies in the modeled generation mix and total output."
   ]
  },
  {
   "cell_type": "code",
   "execution_count": 14,
   "id": "58e5f9d6-b135-4c6d-aff3-06f7f9334d6b",
   "metadata": {},
   "outputs": [],
   "source": [
    "# ember_data = load_ember_data()\n",
    "generation_data_ember = get_generation_capacity_ember_detail(\n",
    "        ember_data, three_country_code, horizon).round(2)\n",
    "generation_data_ember.drop(['Load shedding', 'Other Fossil'], inplace=True)\n",
    "\n",
    "eia_generation = get_data_EIA(eia_generation_path, country_code, horizon)\n",
    "eia_generation = preprocess_eia_data_detail(eia_generation).round(2)"
   ]
  },
  {
   "cell_type": "code",
   "execution_count": 15,
   "id": "70a15bc5",
   "metadata": {},
   "outputs": [],
   "source": [
    "pypsa_gen_final = calculate_total_generation_by_carrier(base_network).rename({\n",
    "        \"CCGT\": \"Natural gas\",  \"OCGT\": \"Natural gas\", \"Csp\": \"Solar\",\n",
    "        \"biomass EOP\": \"Biomass\", \"biomass\": \"Biomass\", \"coal\": \"Coal\",\n",
    "        \"oil\": \"Oil\", \"urban central gas CHP\": \"Natural gas\", \"ror\": \"Hydro\",\n",
    "        \"urban central solid biomass CHP\": \"Biomass\", \"nuclear\": \"Nuclear\",\n",
    "        \"solar\": \"Solar\", \"solar rooftop\": \"Solar\", \"hydro\": \"Hydro\", \"Reservoir & Dam\": \"Hydro\",\n",
    "        \"onwind\": \"Wind\", \"offwind\": \"Wind\", \"geothermal\": \"Geothermal\",\n",
    "    }).to_frame('PyPSA-Earth results').groupby(level=0).sum().round(2)"
   ]
  },
  {
   "cell_type": "code",
   "execution_count": 16,
   "id": "e9d640de-4cf1-4937-8596-c9b9b3d06c66",
   "metadata": {},
   "outputs": [
    {
     "data": {
      "text/html": [
       "<div>\n",
       "<style scoped>\n",
       "    .dataframe tbody tr th:only-of-type {\n",
       "        vertical-align: middle;\n",
       "    }\n",
       "\n",
       "    .dataframe tbody tr th {\n",
       "        vertical-align: top;\n",
       "    }\n",
       "\n",
       "    .dataframe thead th {\n",
       "        text-align: right;\n",
       "    }\n",
       "</style>\n",
       "<table border=\"1\" class=\"dataframe\">\n",
       "  <thead>\n",
       "    <tr style=\"text-align: right;\">\n",
       "      <th></th>\n",
       "      <th>PyPSA-Earth results</th>\n",
       "      <th>Ember data</th>\n",
       "      <th>EIA data</th>\n",
       "    </tr>\n",
       "  </thead>\n",
       "  <tbody>\n",
       "    <tr>\n",
       "      <th>Biomass</th>\n",
       "      <td>79.00</td>\n",
       "      <td>47.46</td>\n",
       "      <td>57.16</td>\n",
       "    </tr>\n",
       "    <tr>\n",
       "      <th>Coal</th>\n",
       "      <td>528.15</td>\n",
       "      <td>675.26</td>\n",
       "      <td>675.12</td>\n",
       "    </tr>\n",
       "    <tr>\n",
       "      <th>Geothermal</th>\n",
       "      <td>35.25</td>\n",
       "      <td>0.00</td>\n",
       "      <td>16.37</td>\n",
       "    </tr>\n",
       "    <tr>\n",
       "      <th>Hydro</th>\n",
       "      <td>247.01</td>\n",
       "      <td>233.96</td>\n",
       "      <td>245.00</td>\n",
       "    </tr>\n",
       "    <tr>\n",
       "      <th>Natural gas</th>\n",
       "      <td>1933.41</td>\n",
       "      <td>1802.06</td>\n",
       "      <td>1806.06</td>\n",
       "    </tr>\n",
       "    <tr>\n",
       "      <th>Nuclear</th>\n",
       "      <td>779.33</td>\n",
       "      <td>775.35</td>\n",
       "      <td>774.87</td>\n",
       "    </tr>\n",
       "    <tr>\n",
       "      <th>Oil</th>\n",
       "      <td>0.11</td>\n",
       "      <td>0.00</td>\n",
       "      <td>16.23</td>\n",
       "    </tr>\n",
       "    <tr>\n",
       "      <th>Solar</th>\n",
       "      <td>201.68</td>\n",
       "      <td>238.12</td>\n",
       "      <td>238.94</td>\n",
       "    </tr>\n",
       "    <tr>\n",
       "      <th>Wind</th>\n",
       "      <td>388.47</td>\n",
       "      <td>425.23</td>\n",
       "      <td>421.14</td>\n",
       "    </tr>\n",
       "    <tr>\n",
       "      <th>PHS</th>\n",
       "      <td>0.00</td>\n",
       "      <td>0.00</td>\n",
       "      <td>-5.99</td>\n",
       "    </tr>\n",
       "    <tr>\n",
       "      <th>Total</th>\n",
       "      <td>4192.41</td>\n",
       "      <td>4197.44</td>\n",
       "      <td>4244.90</td>\n",
       "    </tr>\n",
       "  </tbody>\n",
       "</table>\n",
       "</div>"
      ],
      "text/plain": [
       "             PyPSA-Earth results  Ember data  EIA data\n",
       "Biomass                    79.00       47.46     57.16\n",
       "Coal                      528.15      675.26    675.12\n",
       "Geothermal                 35.25        0.00     16.37\n",
       "Hydro                     247.01      233.96    245.00\n",
       "Natural gas              1933.41     1802.06   1806.06\n",
       "Nuclear                   779.33      775.35    774.87\n",
       "Oil                         0.11        0.00     16.23\n",
       "Solar                     201.68      238.12    238.94\n",
       "Wind                      388.47      425.23    421.14\n",
       "PHS                         0.00        0.00     -5.99\n",
       "Total                    4192.41     4197.44   4244.90"
      ]
     },
     "metadata": {},
     "output_type": "display_data"
    }
   ],
   "source": [
    "generation_df = pd.concat(\n",
    "    [pypsa_gen_final, generation_data_ember, eia_generation], axis=1).fillna(0)\n",
    "\n",
    "totals_row = generation_df.sum().to_frame().T\n",
    "totals_row.index = ['Total']\n",
    "generation_df_with_totals = pd.concat([generation_df, totals_row])\n",
    "\n",
    "display(generation_df_with_totals)"
   ]
  },
  {
   "cell_type": "code",
   "execution_count": 17,
   "id": "1d1f26a9-30db-4dff-b1bc-45f28d590729",
   "metadata": {},
   "outputs": [
    {
     "data": {
      "image/png": "[encoded data removed]",
      "text/plain": [
       "<Figure size 1200x600 with 1 Axes>"
      ]
     },
     "metadata": {},
     "output_type": "display_data"
    }
   ],
   "source": [
    "generation_df.plot(kind=\"bar\", figsize=(12, 6), width=0.8)\n",
    "plt.title(f\"Electricity Generation by technology class - {horizon}\")\n",
    "plt.ylabel(\"Electricity Generation (TWh)\")\n",
    "plt.xticks(rotation=0)\n",
    "plt.legend(loc='upper right')\n",
    "plt.tight_layout()"
   ]
  },
  {
   "cell_type": "markdown",
   "id": "5f289d97",
   "metadata": {},
   "source": [
    "Electricity generation <br>\n",
    "Ember source: https://ember-energy.org/data/us-electricity-data/ <br>\n",
    "EIA source: https://www.eia.gov/international/data/world/electricity/electricity-generation"
   ]
  },
  {
   "cell_type": "markdown",
   "id": "7788ebdf-a19b-4845-9841-dd69c646b8d7",
   "metadata": {},
   "source": [
    "---"
   ]
  },
  {
   "cell_type": "markdown",
   "id": "3e556ed9",
   "metadata": {},
   "source": [
    "## 4. Electricity demand\n",
    "\n",
    "Finally, we validate the **electricity demand** in the PyPSA network against the EIA and Ember datasets. This ensures that the modeled demand matches observed values for the base year."
   ]
  },
  {
   "cell_type": "markdown",
   "id": "02bf7374-1068-4b8c-9fd8-b9e6dcf5b63a",
   "metadata": {},
   "source": [
    "### 4.1 Total electricity demand\n",
    "\n",
    "*Total electricity demand in PyPSA-Earth (US) uses NREL as a reference (see the `scenario_analysis_single` notebook.*"
   ]
  },
  {
   "cell_type": "markdown",
   "id": "26dab599",
   "metadata": {},
   "source": [
    "### 4.2 State-wise Total Electricity Demand\n",
    "\n",
    "*A bar plot showing the state-wise annual electricity demand for the base year (2023) to validate the quality of the spatial distribution of demand.*"
   ]
  },
  {
   "cell_type": "code",
   "execution_count": 18,
   "id": "277d50f2-b5f2-41e1-b1a1-92ac5b6ecf11",
   "metadata": {},
   "outputs": [],
   "source": [
    "demand_ember = get_demand_ember(ember_data, three_country_code, horizon)\n",
    "_, pypsa_demand =compute_demand(base_network)\n",
    "\n",
    "EIA_demand = preprocess_eia_demand(eia_demand_path, horizon)"
   ]
  },
  {
   "cell_type": "code",
   "execution_count": 19,
   "id": "cd4f33e7",
   "metadata": {},
   "outputs": [],
   "source": [
    "base_demand_grid_region, base_demand_state = compute_demand(base_network)"
   ]
  },
  {
   "cell_type": "code",
   "execution_count": 20,
   "id": "7943aba4",
   "metadata": {},
   "outputs": [],
   "source": [
    "demand_total =  pd.concat([EIA_demand, base_demand_state.sum(axis=1)], axis=1).rename({0: 'PyPSA-Earth'}, axis=1)"
   ]
  },
  {
   "cell_type": "code",
   "execution_count": 21,
   "id": "4558e59a",
   "metadata": {},
   "outputs": [
    {
     "data": {
      "application/vnd.plotly.v1+json": {
       "config": {
        "plotlyServerURL": "https://plot.ly"
       },
       "data": [
        {
         "alignmentgroup": "True",
         "hovertemplate": "variable=EIA<br>index=%{x}<br>value=%{y}<extra></extra>",
         "legendgroup": "EIA",
         "marker": {
          "color": "#636efa",
          "pattern": {
           "shape": ""
          }
         },
         "name": "EIA",
         "offsetgroup": "EIA",
         "orientation": "v",
         "showlegend": true,
         "textposition": "auto",
         "type": "bar",
         "x": [
          "AK",
          "AL",
          "AR",
          "AZ",
          "CA",
          "CO",
          "CT",
          "DC",
          "DE",
          "FL",
          "GA",
          "HI",
          "IA",
          "ID",
          "IL",
          "IN",
          "KS",
          "KY",
          "LA",
          "MA",
          "MD",
          "ME",
          "MI",
          "MN",
          "MO",
          "MS",
          "MT",
          "NC",
          "ND",
          "NE",
          "NH",
          "NJ",
          "NM",
          "NV",
          "NY",
          "OH",
          "OK",
          "OR",
          "PA",
          "RI",
          "SC",
          "SD",
          "TN",
          "TX",
          "UT",
          "VA",
          "VT",
          "WA",
          "WI",
          "WV",
          "WY"
         ],
         "xaxis": "x",
         "y": {
          "bdata": "mpmZmZkZGEC4HoXrUThVQFCNl24SU0hAiUFg5dB6VUCPwvUoXO9tQJzEILByyEtAj8L1KFyvOkDD9Shcj8IjQESLbOf7KSZArkfhehReb0CwcmiR7cBhQLTIdr6f2iFAMzMzMzMzS0AGgZVDi6w5QNEi2/l+UmBASOF6FK7/V0Atsp3vp4ZEQIPAyqFFzlFADi2yne/XV0Coxks3iQFJQE5iEFg5hExAeekmMQisJkAEVg4tsmVYQOf7qfHSjVBAWDm0yHY+U0C8dJMYBDZIQMP1KFyPAi9A9P3UeOmiYEDByqFFtjM8QAwCK4cWyUBAUI2XbhJDJUCR7Xw/NcZRQEa28/3UWDxAHVpkO98fQ0Av3SQGgW1hQI2XbhKDVGJALbKd76c+UUCuR+F6FP5MQJhuEoPAVmFATmIQWDk0HUCwcmiR7UxUQFCNl24SAytAbef7qfHCWECF61G4Hs1+QHnpJjEIrEBAke18PzWKYEDb+X5qvHQVQAisHFpkY1ZAarx0kxgkUUAMAiuHFglAQArXo3A9yjBA",
          "dtype": "f8"
         },
         "yaxis": "y"
        },
        {
         "alignmentgroup": "True",
         "hovertemplate": "variable=PyPSA-Earth<br>index=%{x}<br>value=%{y}<extra></extra>",
         "legendgroup": "PyPSA-Earth",
         "marker": {
          "color": "#EF553B",
          "pattern": {
           "shape": ""
          }
         },
         "name": "PyPSA-Earth",
         "offsetgroup": "PyPSA-Earth",
         "orientation": "v",
         "showlegend": true,
         "textposition": "auto",
         "type": "bar",
         "x": [
          "AK",
          "AL",
          "AR",
          "AZ",
          "CA",
          "CO",
          "CT",
          "DC",
          "DE",
          "FL",
          "GA",
          "HI",
          "IA",
          "ID",
          "IL",
          "IN",
          "KS",
          "KY",
          "LA",
          "MA",
          "MD",
          "ME",
          "MI",
          "MN",
          "MO",
          "MS",
          "MT",
          "NC",
          "ND",
          "NE",
          "NH",
          "NJ",
          "NM",
          "NV",
          "NY",
          "OH",
          "OK",
          "OR",
          "PA",
          "RI",
          "SC",
          "SD",
          "TN",
          "TX",
          "UT",
          "VA",
          "VT",
          "WA",
          "WI",
          "WV",
          "WY"
         ],
         "xaxis": "x",
         "y": {
          "bdata": "H4XrUbgeCUAzMzMzM4NQQBSuR+F6lEJAexSuR+FqUEDC9Shcj/JxQGdmZmZmZkZAAAAAAAAA+H8AAAAAAAD4fwAAAAAAAPh/exSuR+FKa0A0MzMzM8NdQDMzMzMzsyJAmpmZmZlZTUAVrkfhejREQPYoXI/ClV5AehSuR+G6UkAAAAAAABBSQD4K16NwvVBA9ihcj8J1V0CamZmZmXlVQB6F61G4jlZArkfhehSuJ0DsUbgehRtVQOtRuB6FK01ACtejcD2qUEDhehSuR+EyQChcj8L1qChAXI/C9Sh8RUC4HoXrUfg3QClcj8L1aDJA7FG4HoXrsT8AAAAAAAD4fypcj8L1yEhAKVyPwvUIQkD3KFyPwtVsQB+F61G4Ll1AhOtRuB7FSkAK16NwPQpJQBWuR+F6zGRAAAAAAAAA+H/1KFyPwlVVQOtRuB6F6x5Ao3A9CtezWUCamZmZmY16QI/C9ShcTzlApHA9CtfTaEAAAAAAAAD4f1K4HoXr8VFAcT0K16MgUEDrUbgehas+QHA9CtejcCVA",
          "dtype": "f8"
         },
         "yaxis": "y"
        }
       ],
       "layout": {
        "barmode": "group",
        "height": 700,
        "legend": {
         "title": {
          "text": "variable"
         },
         "tracegroupgap": 0
        },
        "margin": {
         "t": 60
        },
        "template": {
         "data": {
          "bar": [
           {
            "error_x": {
             "color": "#2a3f5f"
            },
            "error_y": {
             "color": "#2a3f5f"
            },
            "marker": {
             "line": {
              "color": "#E5ECF6",
              "width": 0.5
             },
             "pattern": {
              "fillmode": "overlay",
              "size": 10,
              "solidity": 0.2
             }
            },
            "type": "bar"
           }
          ],
          "barpolar": [
           {
            "marker": {
             "line": {
              "color": "#E5ECF6",
              "width": 0.5
             },
             "pattern": {
              "fillmode": "overlay",
              "size": 10,
              "solidity": 0.2
             }
            },
            "type": "barpolar"
           }
          ],
          "carpet": [
           {
            "aaxis": {
             "endlinecolor": "#2a3f5f",
             "gridcolor": "white",
             "linecolor": "white",
             "minorgridcolor": "white",
             "startlinecolor": "#2a3f5f"
            },
            "baxis": {
             "endlinecolor": "#2a3f5f",
             "gridcolor": "white",
             "linecolor": "white",
             "minorgridcolor": "white",
             "startlinecolor": "#2a3f5f"
            },
            "type": "carpet"
           }
          ],
          "choropleth": [
           {
            "colorbar": {
             "outlinewidth": 0,
             "ticks": ""
            },
            "type": "choropleth"
           }
          ],
          "contour": [
           {
            "colorbar": {
             "outlinewidth": 0,
             "ticks": ""
            },
            "colorscale": [
             [
              0,
              "#0d0887"
             ],
             [
              0.1111111111111111,
              "#46039f"
             ],
             [
              0.2222222222222222,
              "#7201a8"
             ],
             [
              0.3333333333333333,
              "#9c179e"
             ],
             [
              0.4444444444444444,
              "#bd3786"
             ],
             [
              0.5555555555555556,
              "#d8576b"
             ],
             [
              0.6666666666666666,
              "#ed7953"
             ],
             [
              0.7777777777777778,
              "#fb9f3a"
             ],
             [
              0.8888888888888888,
              "#fdca26"
             ],
             [
              1,
              "#f0f921"
             ]
            ],
            "type": "contour"
           }
          ],
          "contourcarpet": [
           {
            "colorbar": {
             "outlinewidth": 0,
             "ticks": ""
            },
            "type": "contourcarpet"
           }
          ],
          "heatmap": [
           {
            "colorbar": {
             "outlinewidth": 0,
             "ticks": ""
            },
            "colorscale": [
             [
              0,
              "#0d0887"
             ],
             [
              0.1111111111111111,
              "#46039f"
             ],
             [
              0.2222222222222222,
              "#7201a8"
             ],
             [
              0.3333333333333333,
              "#9c179e"
             ],
             [
              0.4444444444444444,
              "#bd3786"
             ],
             [
              0.5555555555555556,
              "#d8576b"
             ],
             [
              0.6666666666666666,
              "#ed7953"
             ],
             [
              0.7777777777777778,
              "#fb9f3a"
             ],
             [
              0.8888888888888888,
              "#fdca26"
             ],
             [
              1,
              "#f0f921"
             ]
            ],
            "type": "heatmap"
           }
          ],
          "histogram": [
           {
            "marker": {
             "pattern": {
              "fillmode": "overlay",
              "size": 10,
              "solidity": 0.2
             }
            },
            "type": "histogram"
           }
          ],
          "histogram2d": [
           {
            "colorbar": {
             "outlinewidth": 0,
             "ticks": ""
            },
            "colorscale": [
             [
              0,
              "#0d0887"
             ],
             [
              0.1111111111111111,
              "#46039f"
             ],
             [
              0.2222222222222222,
              "#7201a8"
             ],
             [
              0.3333333333333333,
              "#9c179e"
             ],
             [
              0.4444444444444444,
              "#bd3786"
             ],
             [
              0.5555555555555556,
              "#d8576b"
             ],
             [
              0.6666666666666666,
              "#ed7953"
             ],
             [
              0.7777777777777778,
              "#fb9f3a"
             ],
             [
              0.8888888888888888,
              "#fdca26"
             ],
             [
              1,
              "#f0f921"
             ]
            ],
            "type": "histogram2d"
           }
          ],
          "histogram2dcontour": [
           {
            "colorbar": {
             "outlinewidth": 0,
             "ticks": ""
            },
            "colorscale": [
             [
              0,
              "#0d0887"
             ],
             [
              0.1111111111111111,
              "#46039f"
             ],
             [
              0.2222222222222222,
              "#7201a8"
             ],
             [
              0.3333333333333333,
              "#9c179e"
             ],
             [
              0.4444444444444444,
              "#bd3786"
             ],
             [
              0.5555555555555556,
              "#d8576b"
             ],
             [
              0.6666666666666666,
              "#ed7953"
             ],
             [
              0.7777777777777778,
              "#fb9f3a"
             ],
             [
              0.8888888888888888,
              "#fdca26"
             ],
             [
              1,
              "#f0f921"
             ]
            ],
            "type": "histogram2dcontour"
           }
          ],
          "mesh3d": [
           {
            "colorbar": {
             "outlinewidth": 0,
             "ticks": ""
            },
            "type": "mesh3d"
           }
          ],
          "parcoords": [
           {
            "line": {
             "colorbar": {
              "outlinewidth": 0,
              "ticks": ""
             }
            },
            "type": "parcoords"
           }
          ],
          "pie": [
           {
            "automargin": true,
            "type": "pie"
           }
          ],
          "scatter": [
           {
            "fillpattern": {
             "fillmode": "overlay",
             "size": 10,
             "solidity": 0.2
            },
            "type": "scatter"
           }
          ],
          "scatter3d": [
           {
            "line": {
             "colorbar": {
              "outlinewidth": 0,
              "ticks": ""
             }
            },
            "marker": {
             "colorbar": {
              "outlinewidth": 0,
              "ticks": ""
             }
            },
            "type": "scatter3d"
           }
          ],
          "scattercarpet": [
           {
            "marker": {
             "colorbar": {
              "outlinewidth": 0,
              "ticks": ""
             }
            },
            "type": "scattercarpet"
           }
          ],
          "scattergeo": [
           {
            "marker": {
             "colorbar": {
              "outlinewidth": 0,
              "ticks": ""
             }
            },
            "type": "scattergeo"
           }
          ],
          "scattergl": [
           {
            "marker": {
             "colorbar": {
              "outlinewidth": 0,
              "ticks": ""
             }
            },
            "type": "scattergl"
           }
          ],
          "scattermap": [
           {
            "marker": {
             "colorbar": {
              "outlinewidth": 0,
              "ticks": ""
             }
            },
            "type": "scattermap"
           }
          ],
          "scattermapbox": [
           {
            "marker": {
             "colorbar": {
              "outlinewidth": 0,
              "ticks": ""
             }
            },
            "type": "scattermapbox"
           }
          ],
          "scatterpolar": [
           {
            "marker": {
             "colorbar": {
              "outlinewidth": 0,
              "ticks": ""
             }
            },
            "type": "scatterpolar"
           }
          ],
          "scatterpolargl": [
           {
            "marker": {
             "colorbar": {
              "outlinewidth": 0,
              "ticks": ""
             }
            },
            "type": "scatterpolargl"
           }
          ],
          "scatterternary": [
           {
            "marker": {
             "colorbar": {
              "outlinewidth": 0,
              "ticks": ""
             }
            },
            "type": "scatterternary"
           }
          ],
          "surface": [
           {
            "colorbar": {
             "outlinewidth": 0,
             "ticks": ""
            },
            "colorscale": [
             [
              0,
              "#0d0887"
             ],
             [
              0.1111111111111111,
              "#46039f"
             ],
             [
              0.2222222222222222,
              "#7201a8"
             ],
             [
              0.3333333333333333,
              "#9c179e"
             ],
             [
              0.4444444444444444,
              "#bd3786"
             ],
             [
              0.5555555555555556,
              "#d8576b"
             ],
             [
              0.6666666666666666,
              "#ed7953"
             ],
             [
              0.7777777777777778,
              "#fb9f3a"
             ],
             [
              0.8888888888888888,
              "#fdca26"
             ],
             [
              1,
              "#f0f921"
             ]
            ],
            "type": "surface"
           }
          ],
          "table": [
           {
            "cells": {
             "fill": {
              "color": "#EBF0F8"
             },
             "line": {
              "color": "white"
             }
            },
            "header": {
             "fill": {
              "color": "#C8D4E3"
             },
             "line": {
              "color": "white"
             }
            },
            "type": "table"
           }
          ]
         },
         "layout": {
          "annotationdefaults": {
           "arrowcolor": "#2a3f5f",
           "arrowhead": 0,
           "arrowwidth": 1
          },
          "autotypenumbers": "strict",
          "coloraxis": {
           "colorbar": {
            "outlinewidth": 0,
            "ticks": ""
           }
          },
          "colorscale": {
           "diverging": [
            [
             0,
             "#8e0152"
            ],
            [
             0.1,
             "#c51b7d"
            ],
            [
             0.2,
             "#de77ae"
            ],
            [
             0.3,
             "#f1b6da"
            ],
            [
             0.4,
             "#fde0ef"
            ],
            [
             0.5,
             "#f7f7f7"
            ],
            [
             0.6,
             "#e6f5d0"
            ],
            [
             0.7,
             "#b8e186"
            ],
            [
             0.8,
             "#7fbc41"
            ],
            [
             0.9,
             "#4d9221"
            ],
            [
             1,
             "#276419"
            ]
           ],
           "sequential": [
            [
             0,
             "#0d0887"
            ],
            [
             0.1111111111111111,
             "#46039f"
            ],
            [
             0.2222222222222222,
             "#7201a8"
            ],
            [
             0.3333333333333333,
             "#9c179e"
            ],
            [
             0.4444444444444444,
             "#bd3786"
            ],
            [
             0.5555555555555556,
             "#d8576b"
            ],
            [
             0.6666666666666666,
             "#ed7953"
            ],
            [
             0.7777777777777778,
             "#fb9f3a"
            ],
            [
             0.8888888888888888,
             "#fdca26"
            ],
            [
             1,
             "#f0f921"
            ]
           ],
           "sequentialminus": [
            [
             0,
             "#0d0887"
            ],
            [
             0.1111111111111111,
             "#46039f"
            ],
            [
             0.2222222222222222,
             "#7201a8"
            ],
            [
             0.3333333333333333,
             "#9c179e"
            ],
            [
             0.4444444444444444,
             "#bd3786"
            ],
            [
             0.5555555555555556,
             "#d8576b"
            ],
            [
             0.6666666666666666,
             "#ed7953"
            ],
            [
             0.7777777777777778,
             "#fb9f3a"
            ],
            [
             0.8888888888888888,
             "#fdca26"
            ],
            [
             1,
             "#f0f921"
            ]
           ]
          },
          "colorway": [
           "#636efa",
           "#EF553B",
           "#00cc96",
           "#ab63fa",
           "#FFA15A",
           "#19d3f3",
           "#FF6692",
           "#B6E880",
           "#FF97FF",
           "#FECB52"
          ],
          "font": {
           "color": "#2a3f5f"
          },
          "geo": {
           "bgcolor": "white",
           "lakecolor": "white",
           "landcolor": "#E5ECF6",
           "showlakes": true,
           "showland": true,
           "subunitcolor": "white"
          },
          "hoverlabel": {
           "align": "left"
          },
          "hovermode": "closest",
          "mapbox": {
           "style": "light"
          },
          "paper_bgcolor": "white",
          "plot_bgcolor": "#E5ECF6",
          "polar": {
           "angularaxis": {
            "gridcolor": "white",
            "linecolor": "white",
            "ticks": ""
           },
           "bgcolor": "#E5ECF6",
           "radialaxis": {
            "gridcolor": "white",
            "linecolor": "white",
            "ticks": ""
           }
          },
          "scene": {
           "xaxis": {
            "backgroundcolor": "#E5ECF6",
            "gridcolor": "white",
            "gridwidth": 2,
            "linecolor": "white",
            "showbackground": true,
            "ticks": "",
            "zerolinecolor": "white"
           },
           "yaxis": {
            "backgroundcolor": "#E5ECF6",
            "gridcolor": "white",
            "gridwidth": 2,
            "linecolor": "white",
            "showbackground": true,
            "ticks": "",
            "zerolinecolor": "white"
           },
           "zaxis": {
            "backgroundcolor": "#E5ECF6",
            "gridcolor": "white",
            "gridwidth": 2,
            "linecolor": "white",
            "showbackground": true,
            "ticks": "",
            "zerolinecolor": "white"
           }
          },
          "shapedefaults": {
           "line": {
            "color": "#2a3f5f"
           }
          },
          "ternary": {
           "aaxis": {
            "gridcolor": "white",
            "linecolor": "white",
            "ticks": ""
           },
           "baxis": {
            "gridcolor": "white",
            "linecolor": "white",
            "ticks": ""
           },
           "bgcolor": "#E5ECF6",
           "caxis": {
            "gridcolor": "white",
            "linecolor": "white",
            "ticks": ""
           }
          },
          "title": {
           "x": 0.05
          },
          "xaxis": {
           "automargin": true,
           "gridcolor": "white",
           "linecolor": "white",
           "ticks": "",
           "title": {
            "standoff": 15
           },
           "zerolinecolor": "white",
           "zerolinewidth": 2
          },
          "yaxis": {
           "automargin": true,
           "gridcolor": "white",
           "linecolor": "white",
           "ticks": "",
           "title": {
            "standoff": 15
           },
           "zerolinecolor": "white",
           "zerolinewidth": 2
          }
         }
        },
        "title": {
         "text": "Electricity Demand for 2023"
        },
        "width": 2500,
        "xaxis": {
         "anchor": "y",
         "domain": [
          0,
          1
         ],
         "title": {
          "text": "States"
         }
        },
        "yaxis": {
         "anchor": "x",
         "domain": [
          0,
          1
         ],
         "title": {
          "text": "Demand (TWh)"
         }
        }
       }
      }
     },
     "metadata": {},
     "output_type": "display_data"
    }
   ],
   "source": [
    "fig = px.bar(demand_total, barmode='group')\n",
    "fig.update_layout(width=2500, \n",
    "                  height=700, \n",
    "                  yaxis_title='Demand (TWh)',\n",
    "                  xaxis_title='States',\n",
    "                  title=f'Electricity Demand for {horizon}')\n",
    "fig.show()"
   ]
  },
  {
   "cell_type": "markdown",
   "id": "8f9e7d2a",
   "metadata": {},
   "source": [
    "Electricity demand <br>\n",
    "EIA source: https://www.eia.gov/state/seds/seds-data-complete.php?sid=US#Consumption <br> \n",
    "https://www.eia.gov/state/seds/sep_use/total/csv/use_all_phy.xlsx"
   ]
  },
  {
   "cell_type": "code",
   "execution_count": 22,
   "id": "8b9c5490",
   "metadata": {},
   "outputs": [
    {
     "data": {
      "text/html": [
       "<div>\n",
       "<style scoped>\n",
       "    .dataframe tbody tr th:only-of-type {\n",
       "        vertical-align: middle;\n",
       "    }\n",
       "\n",
       "    .dataframe tbody tr th {\n",
       "        vertical-align: top;\n",
       "    }\n",
       "\n",
       "    .dataframe thead th {\n",
       "        text-align: right;\n",
       "    }\n",
       "</style>\n",
       "<table border=\"1\" class=\"dataframe\">\n",
       "  <thead>\n",
       "    <tr style=\"text-align: right;\">\n",
       "      <th>region</th>\n",
       "      <th>Alaska</th>\n",
       "      <th>California</th>\n",
       "      <th>Delta</th>\n",
       "      <th>Florida</th>\n",
       "      <th>Hawaii</th>\n",
       "      <th>Mid-Atlantic</th>\n",
       "      <th>Midwest</th>\n",
       "      <th>Mountain</th>\n",
       "      <th>New England</th>\n",
       "      <th>New York</th>\n",
       "      <th>Northwest</th>\n",
       "      <th>Plains</th>\n",
       "      <th>Southeast</th>\n",
       "      <th>Southwest</th>\n",
       "      <th>Texas</th>\n",
       "    </tr>\n",
       "    <tr>\n",
       "      <th>carrier</th>\n",
       "      <th></th>\n",
       "      <th></th>\n",
       "      <th></th>\n",
       "      <th></th>\n",
       "      <th></th>\n",
       "      <th></th>\n",
       "      <th></th>\n",
       "      <th></th>\n",
       "      <th></th>\n",
       "      <th></th>\n",
       "      <th></th>\n",
       "      <th></th>\n",
       "      <th></th>\n",
       "      <th></th>\n",
       "      <th></th>\n",
       "    </tr>\n",
       "  </thead>\n",
       "  <tbody>\n",
       "    <tr>\n",
       "      <th>AC</th>\n",
       "      <td>1.12</td>\n",
       "      <td>98.78</td>\n",
       "      <td>51.75</td>\n",
       "      <td>87.85</td>\n",
       "      <td>3.49</td>\n",
       "      <td>300.61</td>\n",
       "      <td>185.84</td>\n",
       "      <td>39.96</td>\n",
       "      <td>34.15</td>\n",
       "      <td>76.90</td>\n",
       "      <td>74.02</td>\n",
       "      <td>113.84</td>\n",
       "      <td>190.53</td>\n",
       "      <td>58.81</td>\n",
       "      <td>154.06</td>\n",
       "    </tr>\n",
       "    <tr>\n",
       "      <th>agriculture electricity</th>\n",
       "      <td>0.05</td>\n",
       "      <td>5.33</td>\n",
       "      <td>1.22</td>\n",
       "      <td>3.30</td>\n",
       "      <td>0.16</td>\n",
       "      <td>8.93</td>\n",
       "      <td>8.01</td>\n",
       "      <td>2.94</td>\n",
       "      <td>2.01</td>\n",
       "      <td>4.76</td>\n",
       "      <td>2.47</td>\n",
       "      <td>4.66</td>\n",
       "      <td>6.65</td>\n",
       "      <td>2.73</td>\n",
       "      <td>4.04</td>\n",
       "    </tr>\n",
       "    <tr>\n",
       "      <th>industry electricity</th>\n",
       "      <td>0.94</td>\n",
       "      <td>66.81</td>\n",
       "      <td>35.77</td>\n",
       "      <td>26.49</td>\n",
       "      <td>2.46</td>\n",
       "      <td>131.41</td>\n",
       "      <td>100.11</td>\n",
       "      <td>31.46</td>\n",
       "      <td>29.89</td>\n",
       "      <td>77.43</td>\n",
       "      <td>26.46</td>\n",
       "      <td>56.69</td>\n",
       "      <td>63.19</td>\n",
       "      <td>21.45</td>\n",
       "      <td>61.92</td>\n",
       "    </tr>\n",
       "    <tr>\n",
       "      <th>land transport EV</th>\n",
       "      <td>0.01</td>\n",
       "      <td>1.24</td>\n",
       "      <td>0.30</td>\n",
       "      <td>0.74</td>\n",
       "      <td>0.04</td>\n",
       "      <td>2.16</td>\n",
       "      <td>1.94</td>\n",
       "      <td>0.70</td>\n",
       "      <td>0.49</td>\n",
       "      <td>1.17</td>\n",
       "      <td>0.59</td>\n",
       "      <td>1.12</td>\n",
       "      <td>1.56</td>\n",
       "      <td>0.65</td>\n",
       "      <td>0.92</td>\n",
       "    </tr>\n",
       "    <tr>\n",
       "      <th>rail transport electricity</th>\n",
       "      <td>0.00</td>\n",
       "      <td>0.52</td>\n",
       "      <td>0.12</td>\n",
       "      <td>0.32</td>\n",
       "      <td>0.02</td>\n",
       "      <td>0.86</td>\n",
       "      <td>0.76</td>\n",
       "      <td>0.29</td>\n",
       "      <td>0.20</td>\n",
       "      <td>0.46</td>\n",
       "      <td>0.24</td>\n",
       "      <td>0.45</td>\n",
       "      <td>0.65</td>\n",
       "      <td>0.27</td>\n",
       "      <td>0.39</td>\n",
       "    </tr>\n",
       "    <tr>\n",
       "      <th>services electricity</th>\n",
       "      <td>1.02</td>\n",
       "      <td>89.87</td>\n",
       "      <td>47.09</td>\n",
       "      <td>79.92</td>\n",
       "      <td>3.18</td>\n",
       "      <td>273.49</td>\n",
       "      <td>169.05</td>\n",
       "      <td>36.36</td>\n",
       "      <td>31.07</td>\n",
       "      <td>69.96</td>\n",
       "      <td>67.34</td>\n",
       "      <td>103.55</td>\n",
       "      <td>173.36</td>\n",
       "      <td>53.51</td>\n",
       "      <td>140.17</td>\n",
       "    </tr>\n",
       "    <tr>\n",
       "      <th>Total</th>\n",
       "      <td>3.14</td>\n",
       "      <td>262.55</td>\n",
       "      <td>136.25</td>\n",
       "      <td>198.62</td>\n",
       "      <td>9.35</td>\n",
       "      <td>717.46</td>\n",
       "      <td>465.71</td>\n",
       "      <td>111.71</td>\n",
       "      <td>97.81</td>\n",
       "      <td>230.68</td>\n",
       "      <td>171.12</td>\n",
       "      <td>280.31</td>\n",
       "      <td>435.94</td>\n",
       "      <td>137.42</td>\n",
       "      <td>361.50</td>\n",
       "    </tr>\n",
       "  </tbody>\n",
       "</table>\n",
       "</div>"
      ],
      "text/plain": [
       "region                      Alaska  California   Delta  Florida  Hawaii  \\\n",
       "carrier                                                                   \n",
       "AC                            1.12       98.78   51.75    87.85    3.49   \n",
       "agriculture electricity       0.05        5.33    1.22     3.30    0.16   \n",
       "industry electricity          0.94       66.81   35.77    26.49    2.46   \n",
       "land transport EV             0.01        1.24    0.30     0.74    0.04   \n",
       "rail transport electricity    0.00        0.52    0.12     0.32    0.02   \n",
       "services electricity          1.02       89.87   47.09    79.92    3.18   \n",
       "Total                         3.14      262.55  136.25   198.62    9.35   \n",
       "\n",
       "region                      Mid-Atlantic  Midwest  Mountain  New England  \\\n",
       "carrier                                                                    \n",
       "AC                                300.61   185.84     39.96        34.15   \n",
       "agriculture electricity             8.93     8.01      2.94         2.01   \n",
       "industry electricity              131.41   100.11     31.46        29.89   \n",
       "land transport EV                   2.16     1.94      0.70         0.49   \n",
       "rail transport electricity          0.86     0.76      0.29         0.20   \n",
       "services electricity              273.49   169.05     36.36        31.07   \n",
       "Total                             717.46   465.71    111.71        97.81   \n",
       "\n",
       "region                      New York  Northwest  Plains  Southeast  Southwest  \\\n",
       "carrier                                                                         \n",
       "AC                             76.90      74.02  113.84     190.53      58.81   \n",
       "agriculture electricity         4.76       2.47    4.66       6.65       2.73   \n",
       "industry electricity           77.43      26.46   56.69      63.19      21.45   \n",
       "land transport EV               1.17       0.59    1.12       1.56       0.65   \n",
       "rail transport electricity      0.46       0.24    0.45       0.65       0.27   \n",
       "services electricity           69.96      67.34  103.55     173.36      53.51   \n",
       "Total                         230.68     171.12  280.31     435.94     137.42   \n",
       "\n",
       "region                       Texas  \n",
       "carrier                             \n",
       "AC                          154.06  \n",
       "agriculture electricity       4.04  \n",
       "industry electricity         61.92  \n",
       "land transport EV             0.92  \n",
       "rail transport electricity    0.39  \n",
       "services electricity        140.17  \n",
       "Total                       361.50  "
      ]
     },
     "execution_count": 22,
     "metadata": {},
     "output_type": "execute_result"
    }
   ],
   "source": [
    "total_region_demand = base_demand_grid_region.sum(axis=1)\n",
    "base_demand_grid_region[\"Total\"] = total_region_demand\n",
    "base_demand_grid_region.T"
   ]
  },
  {
   "cell_type": "code",
   "execution_count": 23,
   "id": "beabfee0",
   "metadata": {},
   "outputs": [
    {
     "data": {
      "text/html": [
       "<div>\n",
       "<style scoped>\n",
       "    .dataframe tbody tr th:only-of-type {\n",
       "        vertical-align: middle;\n",
       "    }\n",
       "\n",
       "    .dataframe tbody tr th {\n",
       "        vertical-align: top;\n",
       "    }\n",
       "\n",
       "    .dataframe thead th {\n",
       "        text-align: right;\n",
       "    }\n",
       "</style>\n",
       "<table border=\"1\" class=\"dataframe\">\n",
       "  <thead>\n",
       "    <tr style=\"text-align: right;\">\n",
       "      <th>region</th>\n",
       "      <th>AK</th>\n",
       "      <th>AL</th>\n",
       "      <th>AR</th>\n",
       "      <th>AZ</th>\n",
       "      <th>CA</th>\n",
       "      <th>CO</th>\n",
       "      <th>FL</th>\n",
       "      <th>GA</th>\n",
       "      <th>HI</th>\n",
       "      <th>IA</th>\n",
       "      <th>ID</th>\n",
       "      <th>IL</th>\n",
       "      <th>IN</th>\n",
       "      <th>KS</th>\n",
       "      <th>KY</th>\n",
       "      <th>LA</th>\n",
       "      <th>MA</th>\n",
       "      <th>MD</th>\n",
       "      <th>ME</th>\n",
       "      <th>MI</th>\n",
       "      <th>MN</th>\n",
       "      <th>MO</th>\n",
       "      <th>MS</th>\n",
       "      <th>MT</th>\n",
       "      <th>NC</th>\n",
       "      <th>ND</th>\n",
       "      <th>NE</th>\n",
       "      <th>NH</th>\n",
       "      <th>NM</th>\n",
       "      <th>NV</th>\n",
       "      <th>NY</th>\n",
       "      <th>OH</th>\n",
       "      <th>OK</th>\n",
       "      <th>OR</th>\n",
       "      <th>PA</th>\n",
       "      <th>SC</th>\n",
       "      <th>SD</th>\n",
       "      <th>TN</th>\n",
       "      <th>TX</th>\n",
       "      <th>UT</th>\n",
       "      <th>VA</th>\n",
       "      <th>WA</th>\n",
       "      <th>WI</th>\n",
       "      <th>WV</th>\n",
       "      <th>WY</th>\n",
       "    </tr>\n",
       "    <tr>\n",
       "      <th>carrier</th>\n",
       "      <th></th>\n",
       "      <th></th>\n",
       "      <th></th>\n",
       "      <th></th>\n",
       "      <th></th>\n",
       "      <th></th>\n",
       "      <th></th>\n",
       "      <th></th>\n",
       "      <th></th>\n",
       "      <th></th>\n",
       "      <th></th>\n",
       "      <th></th>\n",
       "      <th></th>\n",
       "      <th></th>\n",
       "      <th></th>\n",
       "      <th></th>\n",
       "      <th></th>\n",
       "      <th></th>\n",
       "      <th></th>\n",
       "      <th></th>\n",
       "      <th></th>\n",
       "      <th></th>\n",
       "      <th></th>\n",
       "      <th></th>\n",
       "      <th></th>\n",
       "      <th></th>\n",
       "      <th></th>\n",
       "      <th></th>\n",
       "      <th></th>\n",
       "      <th></th>\n",
       "      <th></th>\n",
       "      <th></th>\n",
       "      <th></th>\n",
       "      <th></th>\n",
       "      <th></th>\n",
       "      <th></th>\n",
       "      <th></th>\n",
       "      <th></th>\n",
       "      <th></th>\n",
       "      <th></th>\n",
       "      <th></th>\n",
       "      <th></th>\n",
       "      <th></th>\n",
       "      <th></th>\n",
       "      <th></th>\n",
       "    </tr>\n",
       "  </thead>\n",
       "  <tbody>\n",
       "    <tr>\n",
       "      <th>AC</th>\n",
       "      <td>1.12</td>\n",
       "      <td>29.27</td>\n",
       "      <td>15.92</td>\n",
       "      <td>30.28</td>\n",
       "      <td>102.53</td>\n",
       "      <td>18.53</td>\n",
       "      <td>93.52</td>\n",
       "      <td>56.29</td>\n",
       "      <td>3.49</td>\n",
       "      <td>24.56</td>\n",
       "      <td>16.10</td>\n",
       "      <td>48.65</td>\n",
       "      <td>31.06</td>\n",
       "      <td>25.32</td>\n",
       "      <td>28.06</td>\n",
       "      <td>33.37</td>\n",
       "      <td>30.12</td>\n",
       "      <td>35.40</td>\n",
       "      <td>4.03</td>\n",
       "      <td>34.42</td>\n",
       "      <td>22.97</td>\n",
       "      <td>27.93</td>\n",
       "      <td>8.17</td>\n",
       "      <td>4.90</td>\n",
       "      <td>19.30</td>\n",
       "      <td>10.55</td>\n",
       "      <td>8.70</td>\n",
       "      <td>0.00</td>\n",
       "      <td>19.60</td>\n",
       "      <td>14.30</td>\n",
       "      <td>76.90</td>\n",
       "      <td>48.33</td>\n",
       "      <td>23.15</td>\n",
       "      <td>24.17</td>\n",
       "      <td>60.94</td>\n",
       "      <td>36.12</td>\n",
       "      <td>2.57</td>\n",
       "      <td>43.88</td>\n",
       "      <td>179.76</td>\n",
       "      <td>11.30</td>\n",
       "      <td>94.84</td>\n",
       "      <td>29.61</td>\n",
       "      <td>25.24</td>\n",
       "      <td>11.57</td>\n",
       "      <td>4.87</td>\n",
       "    </tr>\n",
       "    <tr>\n",
       "      <th>agriculture electricity</th>\n",
       "      <td>0.05</td>\n",
       "      <td>0.66</td>\n",
       "      <td>0.50</td>\n",
       "      <td>0.96</td>\n",
       "      <td>6.86</td>\n",
       "      <td>0.80</td>\n",
       "      <td>4.23</td>\n",
       "      <td>1.22</td>\n",
       "      <td>0.16</td>\n",
       "      <td>0.87</td>\n",
       "      <td>1.03</td>\n",
       "      <td>1.74</td>\n",
       "      <td>1.21</td>\n",
       "      <td>1.79</td>\n",
       "      <td>1.03</td>\n",
       "      <td>0.70</td>\n",
       "      <td>1.72</td>\n",
       "      <td>1.37</td>\n",
       "      <td>0.29</td>\n",
       "      <td>1.29</td>\n",
       "      <td>0.92</td>\n",
       "      <td>1.04</td>\n",
       "      <td>0.24</td>\n",
       "      <td>0.18</td>\n",
       "      <td>0.64</td>\n",
       "      <td>0.23</td>\n",
       "      <td>0.14</td>\n",
       "      <td>0.00</td>\n",
       "      <td>1.17</td>\n",
       "      <td>0.92</td>\n",
       "      <td>4.76</td>\n",
       "      <td>1.71</td>\n",
       "      <td>0.51</td>\n",
       "      <td>0.35</td>\n",
       "      <td>2.82</td>\n",
       "      <td>1.69</td>\n",
       "      <td>0.21</td>\n",
       "      <td>1.51</td>\n",
       "      <td>5.21</td>\n",
       "      <td>0.35</td>\n",
       "      <td>1.41</td>\n",
       "      <td>1.00</td>\n",
       "      <td>1.29</td>\n",
       "      <td>0.41</td>\n",
       "      <td>0.07</td>\n",
       "    </tr>\n",
       "    <tr>\n",
       "      <th>industry electricity</th>\n",
       "      <td>0.94</td>\n",
       "      <td>9.27</td>\n",
       "      <td>6.08</td>\n",
       "      <td>6.55</td>\n",
       "      <td>82.22</td>\n",
       "      <td>8.33</td>\n",
       "      <td>34.15</td>\n",
       "      <td>9.92</td>\n",
       "      <td>2.46</td>\n",
       "      <td>10.64</td>\n",
       "      <td>8.28</td>\n",
       "      <td>27.12</td>\n",
       "      <td>13.99</td>\n",
       "      <td>21.48</td>\n",
       "      <td>12.00</td>\n",
       "      <td>29.17</td>\n",
       "      <td>26.07</td>\n",
       "      <td>20.79</td>\n",
       "      <td>3.75</td>\n",
       "      <td>16.97</td>\n",
       "      <td>13.24</td>\n",
       "      <td>11.95</td>\n",
       "      <td>2.95</td>\n",
       "      <td>2.74</td>\n",
       "      <td>5.26</td>\n",
       "      <td>3.51</td>\n",
       "      <td>1.62</td>\n",
       "      <td>0.07</td>\n",
       "      <td>10.59</td>\n",
       "      <td>7.53</td>\n",
       "      <td>77.43</td>\n",
       "      <td>22.14</td>\n",
       "      <td>8.66</td>\n",
       "      <td>3.46</td>\n",
       "      <td>46.23</td>\n",
       "      <td>14.10</td>\n",
       "      <td>2.54</td>\n",
       "      <td>16.98</td>\n",
       "      <td>74.63</td>\n",
       "      <td>3.26</td>\n",
       "      <td>15.60</td>\n",
       "      <td>13.89</td>\n",
       "      <td>14.57</td>\n",
       "      <td>8.03</td>\n",
       "      <td>1.32</td>\n",
       "    </tr>\n",
       "    <tr>\n",
       "      <th>land transport EV</th>\n",
       "      <td>0.01</td>\n",
       "      <td>0.15</td>\n",
       "      <td>0.12</td>\n",
       "      <td>0.23</td>\n",
       "      <td>1.60</td>\n",
       "      <td>0.19</td>\n",
       "      <td>0.95</td>\n",
       "      <td>0.29</td>\n",
       "      <td>0.04</td>\n",
       "      <td>0.21</td>\n",
       "      <td>0.25</td>\n",
       "      <td>0.42</td>\n",
       "      <td>0.29</td>\n",
       "      <td>0.46</td>\n",
       "      <td>0.25</td>\n",
       "      <td>0.17</td>\n",
       "      <td>0.42</td>\n",
       "      <td>0.33</td>\n",
       "      <td>0.07</td>\n",
       "      <td>0.31</td>\n",
       "      <td>0.23</td>\n",
       "      <td>0.24</td>\n",
       "      <td>0.06</td>\n",
       "      <td>0.04</td>\n",
       "      <td>0.15</td>\n",
       "      <td>0.06</td>\n",
       "      <td>0.03</td>\n",
       "      <td>0.00</td>\n",
       "      <td>0.27</td>\n",
       "      <td>0.22</td>\n",
       "      <td>1.17</td>\n",
       "      <td>0.41</td>\n",
       "      <td>0.12</td>\n",
       "      <td>0.08</td>\n",
       "      <td>0.68</td>\n",
       "      <td>0.40</td>\n",
       "      <td>0.05</td>\n",
       "      <td>0.36</td>\n",
       "      <td>1.19</td>\n",
       "      <td>0.09</td>\n",
       "      <td>0.34</td>\n",
       "      <td>0.24</td>\n",
       "      <td>0.32</td>\n",
       "      <td>0.10</td>\n",
       "      <td>0.02</td>\n",
       "    </tr>\n",
       "    <tr>\n",
       "      <th>rail transport electricity</th>\n",
       "      <td>0.00</td>\n",
       "      <td>0.07</td>\n",
       "      <td>0.05</td>\n",
       "      <td>0.10</td>\n",
       "      <td>0.67</td>\n",
       "      <td>0.08</td>\n",
       "      <td>0.41</td>\n",
       "      <td>0.12</td>\n",
       "      <td>0.02</td>\n",
       "      <td>0.08</td>\n",
       "      <td>0.10</td>\n",
       "      <td>0.16</td>\n",
       "      <td>0.12</td>\n",
       "      <td>0.17</td>\n",
       "      <td>0.10</td>\n",
       "      <td>0.07</td>\n",
       "      <td>0.17</td>\n",
       "      <td>0.13</td>\n",
       "      <td>0.03</td>\n",
       "      <td>0.12</td>\n",
       "      <td>0.08</td>\n",
       "      <td>0.10</td>\n",
       "      <td>0.02</td>\n",
       "      <td>0.02</td>\n",
       "      <td>0.06</td>\n",
       "      <td>0.02</td>\n",
       "      <td>0.01</td>\n",
       "      <td>0.00</td>\n",
       "      <td>0.11</td>\n",
       "      <td>0.09</td>\n",
       "      <td>0.46</td>\n",
       "      <td>0.17</td>\n",
       "      <td>0.05</td>\n",
       "      <td>0.03</td>\n",
       "      <td>0.27</td>\n",
       "      <td>0.16</td>\n",
       "      <td>0.02</td>\n",
       "      <td>0.15</td>\n",
       "      <td>0.51</td>\n",
       "      <td>0.03</td>\n",
       "      <td>0.14</td>\n",
       "      <td>0.10</td>\n",
       "      <td>0.13</td>\n",
       "      <td>0.04</td>\n",
       "      <td>0.01</td>\n",
       "    </tr>\n",
       "    <tr>\n",
       "      <th>services electricity</th>\n",
       "      <td>1.02</td>\n",
       "      <td>26.63</td>\n",
       "      <td>14.49</td>\n",
       "      <td>27.55</td>\n",
       "      <td>93.28</td>\n",
       "      <td>16.87</td>\n",
       "      <td>85.08</td>\n",
       "      <td>51.21</td>\n",
       "      <td>3.18</td>\n",
       "      <td>22.34</td>\n",
       "      <td>14.65</td>\n",
       "      <td>44.25</td>\n",
       "      <td>28.25</td>\n",
       "      <td>23.03</td>\n",
       "      <td>25.52</td>\n",
       "      <td>30.36</td>\n",
       "      <td>27.40</td>\n",
       "      <td>32.21</td>\n",
       "      <td>3.67</td>\n",
       "      <td>31.32</td>\n",
       "      <td>20.90</td>\n",
       "      <td>25.40</td>\n",
       "      <td>7.44</td>\n",
       "      <td>4.45</td>\n",
       "      <td>17.56</td>\n",
       "      <td>9.60</td>\n",
       "      <td>7.91</td>\n",
       "      <td>0.00</td>\n",
       "      <td>17.83</td>\n",
       "      <td>13.01</td>\n",
       "      <td>69.96</td>\n",
       "      <td>43.97</td>\n",
       "      <td>21.05</td>\n",
       "      <td>21.99</td>\n",
       "      <td>55.45</td>\n",
       "      <td>32.87</td>\n",
       "      <td>2.34</td>\n",
       "      <td>39.93</td>\n",
       "      <td>163.55</td>\n",
       "      <td>10.28</td>\n",
       "      <td>86.29</td>\n",
       "      <td>26.94</td>\n",
       "      <td>22.96</td>\n",
       "      <td>10.52</td>\n",
       "      <td>4.43</td>\n",
       "    </tr>\n",
       "    <tr>\n",
       "      <th>Total</th>\n",
       "      <td>3.14</td>\n",
       "      <td>66.05</td>\n",
       "      <td>37.16</td>\n",
       "      <td>65.67</td>\n",
       "      <td>287.16</td>\n",
       "      <td>44.80</td>\n",
       "      <td>218.34</td>\n",
       "      <td>119.05</td>\n",
       "      <td>9.35</td>\n",
       "      <td>58.70</td>\n",
       "      <td>40.41</td>\n",
       "      <td>122.34</td>\n",
       "      <td>74.92</td>\n",
       "      <td>72.25</td>\n",
       "      <td>66.96</td>\n",
       "      <td>93.84</td>\n",
       "      <td>85.90</td>\n",
       "      <td>90.23</td>\n",
       "      <td>11.84</td>\n",
       "      <td>84.43</td>\n",
       "      <td>58.34</td>\n",
       "      <td>66.66</td>\n",
       "      <td>18.88</td>\n",
       "      <td>12.33</td>\n",
       "      <td>42.97</td>\n",
       "      <td>23.97</td>\n",
       "      <td>18.41</td>\n",
       "      <td>0.07</td>\n",
       "      <td>49.57</td>\n",
       "      <td>36.07</td>\n",
       "      <td>230.68</td>\n",
       "      <td>116.73</td>\n",
       "      <td>53.54</td>\n",
       "      <td>50.08</td>\n",
       "      <td>166.39</td>\n",
       "      <td>85.34</td>\n",
       "      <td>7.73</td>\n",
       "      <td>102.81</td>\n",
       "      <td>424.85</td>\n",
       "      <td>25.31</td>\n",
       "      <td>198.62</td>\n",
       "      <td>71.78</td>\n",
       "      <td>64.51</td>\n",
       "      <td>30.67</td>\n",
       "      <td>10.72</td>\n",
       "    </tr>\n",
       "  </tbody>\n",
       "</table>\n",
       "</div>"
      ],
      "text/plain": [
       "region                        AK     AL     AR     AZ      CA     CO      FL  \\\n",
       "carrier                                                                        \n",
       "AC                          1.12  29.27  15.92  30.28  102.53  18.53   93.52   \n",
       "agriculture electricity     0.05   0.66   0.50   0.96    6.86   0.80    4.23   \n",
       "industry electricity        0.94   9.27   6.08   6.55   82.22   8.33   34.15   \n",
       "land transport EV           0.01   0.15   0.12   0.23    1.60   0.19    0.95   \n",
       "rail transport electricity  0.00   0.07   0.05   0.10    0.67   0.08    0.41   \n",
       "services electricity        1.02  26.63  14.49  27.55   93.28  16.87   85.08   \n",
       "Total                       3.14  66.05  37.16  65.67  287.16  44.80  218.34   \n",
       "\n",
       "region                          GA    HI     IA     ID      IL     IN     KS  \\\n",
       "carrier                                                                        \n",
       "AC                           56.29  3.49  24.56  16.10   48.65  31.06  25.32   \n",
       "agriculture electricity       1.22  0.16   0.87   1.03    1.74   1.21   1.79   \n",
       "industry electricity          9.92  2.46  10.64   8.28   27.12  13.99  21.48   \n",
       "land transport EV             0.29  0.04   0.21   0.25    0.42   0.29   0.46   \n",
       "rail transport electricity    0.12  0.02   0.08   0.10    0.16   0.12   0.17   \n",
       "services electricity         51.21  3.18  22.34  14.65   44.25  28.25  23.03   \n",
       "Total                       119.05  9.35  58.70  40.41  122.34  74.92  72.25   \n",
       "\n",
       "region                         KY     LA     MA     MD     ME     MI     MN  \\\n",
       "carrier                                                                       \n",
       "AC                          28.06  33.37  30.12  35.40   4.03  34.42  22.97   \n",
       "agriculture electricity      1.03   0.70   1.72   1.37   0.29   1.29   0.92   \n",
       "industry electricity        12.00  29.17  26.07  20.79   3.75  16.97  13.24   \n",
       "land transport EV            0.25   0.17   0.42   0.33   0.07   0.31   0.23   \n",
       "rail transport electricity   0.10   0.07   0.17   0.13   0.03   0.12   0.08   \n",
       "services electricity        25.52  30.36  27.40  32.21   3.67  31.32  20.90   \n",
       "Total                       66.96  93.84  85.90  90.23  11.84  84.43  58.34   \n",
       "\n",
       "region                         MO     MS     MT     NC     ND     NE    NH  \\\n",
       "carrier                                                                      \n",
       "AC                          27.93   8.17   4.90  19.30  10.55   8.70  0.00   \n",
       "agriculture electricity      1.04   0.24   0.18   0.64   0.23   0.14  0.00   \n",
       "industry electricity        11.95   2.95   2.74   5.26   3.51   1.62  0.07   \n",
       "land transport EV            0.24   0.06   0.04   0.15   0.06   0.03  0.00   \n",
       "rail transport electricity   0.10   0.02   0.02   0.06   0.02   0.01  0.00   \n",
       "services electricity        25.40   7.44   4.45  17.56   9.60   7.91  0.00   \n",
       "Total                       66.66  18.88  12.33  42.97  23.97  18.41  0.07   \n",
       "\n",
       "region                         NM     NV      NY      OH     OK     OR  \\\n",
       "carrier                                                                  \n",
       "AC                          19.60  14.30   76.90   48.33  23.15  24.17   \n",
       "agriculture electricity      1.17   0.92    4.76    1.71   0.51   0.35   \n",
       "industry electricity        10.59   7.53   77.43   22.14   8.66   3.46   \n",
       "land transport EV            0.27   0.22    1.17    0.41   0.12   0.08   \n",
       "rail transport electricity   0.11   0.09    0.46    0.17   0.05   0.03   \n",
       "services electricity        17.83  13.01   69.96   43.97  21.05  21.99   \n",
       "Total                       49.57  36.07  230.68  116.73  53.54  50.08   \n",
       "\n",
       "region                          PA     SC    SD      TN      TX     UT  \\\n",
       "carrier                                                                  \n",
       "AC                           60.94  36.12  2.57   43.88  179.76  11.30   \n",
       "agriculture electricity       2.82   1.69  0.21    1.51    5.21   0.35   \n",
       "industry electricity         46.23  14.10  2.54   16.98   74.63   3.26   \n",
       "land transport EV             0.68   0.40  0.05    0.36    1.19   0.09   \n",
       "rail transport electricity    0.27   0.16  0.02    0.15    0.51   0.03   \n",
       "services electricity         55.45  32.87  2.34   39.93  163.55  10.28   \n",
       "Total                       166.39  85.34  7.73  102.81  424.85  25.31   \n",
       "\n",
       "region                          VA     WA     WI     WV     WY  \n",
       "carrier                                                         \n",
       "AC                           94.84  29.61  25.24  11.57   4.87  \n",
       "agriculture electricity       1.41   1.00   1.29   0.41   0.07  \n",
       "industry electricity         15.60  13.89  14.57   8.03   1.32  \n",
       "land transport EV             0.34   0.24   0.32   0.10   0.02  \n",
       "rail transport electricity    0.14   0.10   0.13   0.04   0.01  \n",
       "services electricity         86.29  26.94  22.96  10.52   4.43  \n",
       "Total                       198.62  71.78  64.51  30.67  10.72  "
      ]
     },
     "execution_count": 23,
     "metadata": {},
     "output_type": "execute_result"
    }
   ],
   "source": [
    "total_region_demand = base_demand_state.sum(axis=1)\n",
    "base_demand_state[\"Total\"] = total_region_demand\n",
    "base_demand_state.T"
   ]
  },
  {
   "cell_type": "code",
   "execution_count": 24,
   "id": "779bd68a",
   "metadata": {},
   "outputs": [
    {
     "data": {
      "application/vnd.plotly.v1+json": {
       "config": {
        "plotlyServerURL": "https://plot.ly"
       },
       "data": [
        {
         "hovertemplate": "carrier=AC<br>region=%{x}<br>value=%{y}<extra></extra>",
         "legendgroup": "AC",
         "marker": {
          "color": "#636efa",
          "pattern": {
           "shape": ""
          }
         },
         "name": "AC",
         "orientation": "v",
         "showlegend": true,
         "textposition": "auto",
         "texttemplate": "%{y:.1f}",
         "type": "bar",
         "x": [
          "Alaska",
          "California",
          "Delta",
          "Florida",
          "Hawaii",
          "Mid-Atlantic",
          "Midwest",
          "Mountain",
          "New England",
          "New York",
          "Northwest",
          "Plains",
          "Southeast",
          "Southwest",
          "Texas"
         ],
         "xaxis": "x",
         "y": {
          "bdata": "7FG4HoXr8T9SuB6F67FYQAAAAAAA4ElAZmZmZmb2VUDsUbgehesLQPYoXI/CyXJAexSuR+E6Z0B7FK5H4fpDQDMzMzMzE0FAmpmZmZk5U0DiehSuR4FSQPYoXI/CdVxAKVyPwvXQZ0BI4XoUrmdNQFK4HoXrQWNA",
          "dtype": "f8"
         },
         "yaxis": "y"
        },
        {
         "hovertemplate": "carrier=agriculture electricity<br>region=%{x}<br>value=%{y}<extra></extra>",
         "legendgroup": "agriculture electricity",
         "marker": {
          "color": "#EF553B",
          "pattern": {
           "shape": ""
          }
         },
         "name": "agriculture electricity",
         "orientation": "v",
         "showlegend": true,
         "textposition": "auto",
         "texttemplate": "%{y:.1f}",
         "type": "bar",
         "x": [
          "Alaska",
          "California",
          "Delta",
          "Florida",
          "Hawaii",
          "Mid-Atlantic",
          "Midwest",
          "Mountain",
          "New England",
          "New York",
          "Northwest",
          "Plains",
          "Southeast",
          "Southwest",
          "Texas"
         ],
         "xaxis": "x",
         "y": {
          "bdata": "mpmZmZmZqT9SuB6F61EVQIXrUbgehfM/ZmZmZmZmCkB7FK5H4XrEP1yPwvUo3CFAhetRuB4FIECG61G4HoUHQBSuR+F6FABACtejcD0KE0DC9Shcj8IDQKRwPQrXoxJAmpmZmZmZGkDXo3A9CtcFQClcj8L1KBBA",
          "dtype": "f8"
         },
         "yaxis": "y"
        },
        {
         "hovertemplate": "carrier=industry electricity<br>region=%{x}<br>value=%{y}<extra></extra>",
         "legendgroup": "industry electricity",
         "marker": {
          "color": "#00cc96",
          "pattern": {
           "shape": ""
          }
         },
         "name": "industry electricity",
         "orientation": "v",
         "showlegend": true,
         "textposition": "auto",
         "texttemplate": "%{y:.1f}",
         "type": "bar",
         "x": [
          "Alaska",
          "California",
          "Delta",
          "Florida",
          "Hawaii",
          "Mid-Atlantic",
          "Midwest",
          "Mountain",
          "New England",
          "New York",
          "Northwest",
          "Plains",
          "Southeast",
          "Southwest",
          "Texas"
         ],
         "xaxis": "x",
         "y": {
          "bdata": "FK5H4XoU7j+kcD0K17NQQML1KFyP4kFAPgrXo3B9OkCuR+F6FK4DQIXrUbgebWBA16NwPQoHWUD2KFyPwnU/QKRwPQrX4z1A7FG4HoVbU0D2KFyPwnU6QLgehetRWExAuB6F61GYT0AzMzMzM3M1QPYoXI/C9U5A",
          "dtype": "f8"
         },
         "yaxis": "y"
        },
        {
         "hovertemplate": "carrier=land transport EV<br>region=%{x}<br>value=%{y}<extra></extra>",
         "legendgroup": "land transport EV",
         "marker": {
          "color": "#ab63fa",
          "pattern": {
           "shape": ""
          }
         },
         "name": "land transport EV",
         "orientation": "v",
         "showlegend": true,
         "textposition": "auto",
         "texttemplate": "%{y:.1f}",
         "type": "bar",
         "x": [
          "Alaska",
          "California",
          "Delta",
          "Florida",
          "Hawaii",
          "Mid-Atlantic",
          "Midwest",
          "Mountain",
          "New England",
          "New York",
          "Northwest",
          "Plains",
          "Southeast",
          "Southwest",
          "Texas"
         ],
         "xaxis": "x",
         "y": {
          "bdata": "exSuR+F6hD/Xo3A9CtfzPzQzMzMzM9M/rkfhehSu5z97FK5H4XqkP0jhehSuRwFACtejcD0K/z9mZmZmZmbmP1yPwvUoXN8/uB6F61G48j/hehSuR+HiP+xRuB6F6/E/9ihcj8L1+D/NzMzMzMzkP3E9CtejcO0/",
          "dtype": "f8"
         },
         "yaxis": "y"
        },
        {
         "hovertemplate": "carrier=rail transport electricity<br>region=%{x}<br>value=%{y}<extra></extra>",
         "legendgroup": "rail transport electricity",
         "marker": {
          "color": "#FFA15A",
          "pattern": {
           "shape": ""
          }
         },
         "name": "rail transport electricity",
         "orientation": "v",
         "showlegend": true,
         "textposition": "auto",
         "texttemplate": "%{y:.1f}",
         "type": "bar",
         "x": [
          "Alaska",
          "California",
          "Delta",
          "Florida",
          "Hawaii",
          "Mid-Atlantic",
          "Midwest",
          "Mountain",
          "New England",
          "New York",
          "Northwest",
          "Plains",
          "Southeast",
          "Southwest",
          "Texas"
         ],
         "xaxis": "x",
         "y": {
          "bdata": "AAAAAAAAAACkcD0K16PgP7gehetRuL4/exSuR+F61D97FK5H4XqUP4XrUbgehes/UrgehetR6D+PwvUoXI/SP5qZmZmZmck/cD0K16Nw3T+4HoXrUbjOP83MzMzMzNw/zczMzMzM5D9I4XoUrkfRP/YoXI/C9dg/",
          "dtype": "f8"
         },
         "yaxis": "y"
        },
        {
         "hovertemplate": "carrier=services electricity<br>region=%{x}<br>value=%{y}<extra></extra>",
         "legendgroup": "services electricity",
         "marker": {
          "color": "#19d3f3",
          "pattern": {
           "shape": ""
          }
         },
         "name": "services electricity",
         "orientation": "v",
         "showlegend": true,
         "textposition": "auto",
         "texttemplate": "%{y:.1f}",
         "type": "bar",
         "x": [
          "Alaska",
          "California",
          "Delta",
          "Florida",
          "Hawaii",
          "Mid-Atlantic",
          "Midwest",
          "Mountain",
          "New England",
          "New York",
          "Northwest",
          "Plains",
          "Southeast",
          "Southwest",
          "Texas"
         ],
         "xaxis": "x",
         "y": {
          "bdata": "UrgehetR8D9I4XoUrndWQOxRuB6Fi0dAexSuR+H6U0BxPQrXo3AJQKRwPQrXF3FAmpmZmZkhZUCuR+F6FC5CQFK4HoXrET9APgrXo3B9UUD2KFyPwtVQQDMzMzMz41lA7FG4HoWrZUDhehSuR8FKQD4K16NwhWFA",
          "dtype": "f8"
         },
         "yaxis": "y"
        }
       ],
       "layout": {
        "barmode": "stack",
        "legend": {
         "title": {
          "text": "carrier"
         },
         "tracegroupgap": 0
        },
        "margin": {
         "t": 60
        },
        "template": {
         "data": {
          "bar": [
           {
            "error_x": {
             "color": "#2a3f5f"
            },
            "error_y": {
             "color": "#2a3f5f"
            },
            "marker": {
             "line": {
              "color": "#E5ECF6",
              "width": 0.5
             },
             "pattern": {
              "fillmode": "overlay",
              "size": 10,
              "solidity": 0.2
             }
            },
            "type": "bar"
           }
          ],
          "barpolar": [
           {
            "marker": {
             "line": {
              "color": "#E5ECF6",
              "width": 0.5
             },
             "pattern": {
              "fillmode": "overlay",
              "size": 10,
              "solidity": 0.2
             }
            },
            "type": "barpolar"
           }
          ],
          "carpet": [
           {
            "aaxis": {
             "endlinecolor": "#2a3f5f",
             "gridcolor": "white",
             "linecolor": "white",
             "minorgridcolor": "white",
             "startlinecolor": "#2a3f5f"
            },
            "baxis": {
             "endlinecolor": "#2a3f5f",
             "gridcolor": "white",
             "linecolor": "white",
             "minorgridcolor": "white",
             "startlinecolor": "#2a3f5f"
            },
            "type": "carpet"
           }
          ],
          "choropleth": [
           {
            "colorbar": {
             "outlinewidth": 0,
             "ticks": ""
            },
            "type": "choropleth"
           }
          ],
          "contour": [
           {
            "colorbar": {
             "outlinewidth": 0,
             "ticks": ""
            },
            "colorscale": [
             [
              0,
              "#0d0887"
             ],
             [
              0.1111111111111111,
              "#46039f"
             ],
             [
              0.2222222222222222,
              "#7201a8"
             ],
             [
              0.3333333333333333,
              "#9c179e"
             ],
             [
              0.4444444444444444,
              "#bd3786"
             ],
             [
              0.5555555555555556,
              "#d8576b"
             ],
             [
              0.6666666666666666,
              "#ed7953"
             ],
             [
              0.7777777777777778,
              "#fb9f3a"
             ],
             [
              0.8888888888888888,
              "#fdca26"
             ],
             [
              1,
              "#f0f921"
             ]
            ],
            "type": "contour"
           }
          ],
          "contourcarpet": [
           {
            "colorbar": {
             "outlinewidth": 0,
             "ticks": ""
            },
            "type": "contourcarpet"
           }
          ],
          "heatmap": [
           {
            "colorbar": {
             "outlinewidth": 0,
             "ticks": ""
            },
            "colorscale": [
             [
              0,
              "#0d0887"
             ],
             [
              0.1111111111111111,
              "#46039f"
             ],
             [
              0.2222222222222222,
              "#7201a8"
             ],
             [
              0.3333333333333333,
              "#9c179e"
             ],
             [
              0.4444444444444444,
              "#bd3786"
             ],
             [
              0.5555555555555556,
              "#d8576b"
             ],
             [
              0.6666666666666666,
              "#ed7953"
             ],
             [
              0.7777777777777778,
              "#fb9f3a"
             ],
             [
              0.8888888888888888,
              "#fdca26"
             ],
             [
              1,
              "#f0f921"
             ]
            ],
            "type": "heatmap"
           }
          ],
          "histogram": [
           {
            "marker": {
             "pattern": {
              "fillmode": "overlay",
              "size": 10,
              "solidity": 0.2
             }
            },
            "type": "histogram"
           }
          ],
          "histogram2d": [
           {
            "colorbar": {
             "outlinewidth": 0,
             "ticks": ""
            },
            "colorscale": [
             [
              0,
              "#0d0887"
             ],
             [
              0.1111111111111111,
              "#46039f"
             ],
             [
              0.2222222222222222,
              "#7201a8"
             ],
             [
              0.3333333333333333,
              "#9c179e"
             ],
             [
              0.4444444444444444,
              "#bd3786"
             ],
             [
              0.5555555555555556,
              "#d8576b"
             ],
             [
              0.6666666666666666,
              "#ed7953"
             ],
             [
              0.7777777777777778,
              "#fb9f3a"
             ],
             [
              0.8888888888888888,
              "#fdca26"
             ],
             [
              1,
              "#f0f921"
             ]
            ],
            "type": "histogram2d"
           }
          ],
          "histogram2dcontour": [
           {
            "colorbar": {
             "outlinewidth": 0,
             "ticks": ""
            },
            "colorscale": [
             [
              0,
              "#0d0887"
             ],
             [
              0.1111111111111111,
              "#46039f"
             ],
             [
              0.2222222222222222,
              "#7201a8"
             ],
             [
              0.3333333333333333,
              "#9c179e"
             ],
             [
              0.4444444444444444,
              "#bd3786"
             ],
             [
              0.5555555555555556,
              "#d8576b"
             ],
             [
              0.6666666666666666,
              "#ed7953"
             ],
             [
              0.7777777777777778,
              "#fb9f3a"
             ],
             [
              0.8888888888888888,
              "#fdca26"
             ],
             [
              1,
              "#f0f921"
             ]
            ],
            "type": "histogram2dcontour"
           }
          ],
          "mesh3d": [
           {
            "colorbar": {
             "outlinewidth": 0,
             "ticks": ""
            },
            "type": "mesh3d"
           }
          ],
          "parcoords": [
           {
            "line": {
             "colorbar": {
              "outlinewidth": 0,
              "ticks": ""
             }
            },
            "type": "parcoords"
           }
          ],
          "pie": [
           {
            "automargin": true,
            "type": "pie"
           }
          ],
          "scatter": [
           {
            "fillpattern": {
             "fillmode": "overlay",
             "size": 10,
             "solidity": 0.2
            },
            "type": "scatter"
           }
          ],
          "scatter3d": [
           {
            "line": {
             "colorbar": {
              "outlinewidth": 0,
              "ticks": ""
             }
            },
            "marker": {
             "colorbar": {
              "outlinewidth": 0,
              "ticks": ""
             }
            },
            "type": "scatter3d"
           }
          ],
          "scattercarpet": [
           {
            "marker": {
             "colorbar": {
              "outlinewidth": 0,
              "ticks": ""
             }
            },
            "type": "scattercarpet"
           }
          ],
          "scattergeo": [
           {
            "marker": {
             "colorbar": {
              "outlinewidth": 0,
              "ticks": ""
             }
            },
            "type": "scattergeo"
           }
          ],
          "scattergl": [
           {
            "marker": {
             "colorbar": {
              "outlinewidth": 0,
              "ticks": ""
             }
            },
            "type": "scattergl"
           }
          ],
          "scattermap": [
           {
            "marker": {
             "colorbar": {
              "outlinewidth": 0,
              "ticks": ""
             }
            },
            "type": "scattermap"
           }
          ],
          "scattermapbox": [
           {
            "marker": {
             "colorbar": {
              "outlinewidth": 0,
              "ticks": ""
             }
            },
            "type": "scattermapbox"
           }
          ],
          "scatterpolar": [
           {
            "marker": {
             "colorbar": {
              "outlinewidth": 0,
              "ticks": ""
             }
            },
            "type": "scatterpolar"
           }
          ],
          "scatterpolargl": [
           {
            "marker": {
             "colorbar": {
              "outlinewidth": 0,
              "ticks": ""
             }
            },
            "type": "scatterpolargl"
           }
          ],
          "scatterternary": [
           {
            "marker": {
             "colorbar": {
              "outlinewidth": 0,
              "ticks": ""
             }
            },
            "type": "scatterternary"
           }
          ],
          "surface": [
           {
            "colorbar": {
             "outlinewidth": 0,
             "ticks": ""
            },
            "colorscale": [
             [
              0,
              "#0d0887"
             ],
             [
              0.1111111111111111,
              "#46039f"
             ],
             [
              0.2222222222222222,
              "#7201a8"
             ],
             [
              0.3333333333333333,
              "#9c179e"
             ],
             [
              0.4444444444444444,
              "#bd3786"
             ],
             [
              0.5555555555555556,
              "#d8576b"
             ],
             [
              0.6666666666666666,
              "#ed7953"
             ],
             [
              0.7777777777777778,
              "#fb9f3a"
             ],
             [
              0.8888888888888888,
              "#fdca26"
             ],
             [
              1,
              "#f0f921"
             ]
            ],
            "type": "surface"
           }
          ],
          "table": [
           {
            "cells": {
             "fill": {
              "color": "#EBF0F8"
             },
             "line": {
              "color": "white"
             }
            },
            "header": {
             "fill": {
              "color": "#C8D4E3"
             },
             "line": {
              "color": "white"
             }
            },
            "type": "table"
           }
          ]
         },
         "layout": {
          "annotationdefaults": {
           "arrowcolor": "#2a3f5f",
           "arrowhead": 0,
           "arrowwidth": 1
          },
          "autotypenumbers": "strict",
          "coloraxis": {
           "colorbar": {
            "outlinewidth": 0,
            "ticks": ""
           }
          },
          "colorscale": {
           "diverging": [
            [
             0,
             "#8e0152"
            ],
            [
             0.1,
             "#c51b7d"
            ],
            [
             0.2,
             "#de77ae"
            ],
            [
             0.3,
             "#f1b6da"
            ],
            [
             0.4,
             "#fde0ef"
            ],
            [
             0.5,
             "#f7f7f7"
            ],
            [
             0.6,
             "#e6f5d0"
            ],
            [
             0.7,
             "#b8e186"
            ],
            [
             0.8,
             "#7fbc41"
            ],
            [
             0.9,
             "#4d9221"
            ],
            [
             1,
             "#276419"
            ]
           ],
           "sequential": [
            [
             0,
             "#0d0887"
            ],
            [
             0.1111111111111111,
             "#46039f"
            ],
            [
             0.2222222222222222,
             "#7201a8"
            ],
            [
             0.3333333333333333,
             "#9c179e"
            ],
            [
             0.4444444444444444,
             "#bd3786"
            ],
            [
             0.5555555555555556,
             "#d8576b"
            ],
            [
             0.6666666666666666,
             "#ed7953"
            ],
            [
             0.7777777777777778,
             "#fb9f3a"
            ],
            [
             0.8888888888888888,
             "#fdca26"
            ],
            [
             1,
             "#f0f921"
            ]
           ],
           "sequentialminus": [
            [
             0,
             "#0d0887"
            ],
            [
             0.1111111111111111,
             "#46039f"
            ],
            [
             0.2222222222222222,
             "#7201a8"
            ],
            [
             0.3333333333333333,
             "#9c179e"
            ],
            [
             0.4444444444444444,
             "#bd3786"
            ],
            [
             0.5555555555555556,
             "#d8576b"
            ],
            [
             0.6666666666666666,
             "#ed7953"
            ],
            [
             0.7777777777777778,
             "#fb9f3a"
            ],
            [
             0.8888888888888888,
             "#fdca26"
            ],
            [
             1,
             "#f0f921"
            ]
           ]
          },
          "colorway": [
           "#636efa",
           "#EF553B",
           "#00cc96",
           "#ab63fa",
           "#FFA15A",
           "#19d3f3",
           "#FF6692",
           "#B6E880",
           "#FF97FF",
           "#FECB52"
          ],
          "font": {
           "color": "#2a3f5f"
          },
          "geo": {
           "bgcolor": "white",
           "lakecolor": "white",
           "landcolor": "#E5ECF6",
           "showlakes": true,
           "showland": true,
           "subunitcolor": "white"
          },
          "hoverlabel": {
           "align": "left"
          },
          "hovermode": "closest",
          "mapbox": {
           "style": "light"
          },
          "paper_bgcolor": "white",
          "plot_bgcolor": "#E5ECF6",
          "polar": {
           "angularaxis": {
            "gridcolor": "white",
            "linecolor": "white",
            "ticks": ""
           },
           "bgcolor": "#E5ECF6",
           "radialaxis": {
            "gridcolor": "white",
            "linecolor": "white",
            "ticks": ""
           }
          },
          "scene": {
           "xaxis": {
            "backgroundcolor": "#E5ECF6",
            "gridcolor": "white",
            "gridwidth": 2,
            "linecolor": "white",
            "showbackground": true,
            "ticks": "",
            "zerolinecolor": "white"
           },
           "yaxis": {
            "backgroundcolor": "#E5ECF6",
            "gridcolor": "white",
            "gridwidth": 2,
            "linecolor": "white",
            "showbackground": true,
            "ticks": "",
            "zerolinecolor": "white"
           },
           "zaxis": {
            "backgroundcolor": "#E5ECF6",
            "gridcolor": "white",
            "gridwidth": 2,
            "linecolor": "white",
            "showbackground": true,
            "ticks": "",
            "zerolinecolor": "white"
           }
          },
          "shapedefaults": {
           "line": {
            "color": "#2a3f5f"
           }
          },
          "ternary": {
           "aaxis": {
            "gridcolor": "white",
            "linecolor": "white",
            "ticks": ""
           },
           "baxis": {
            "gridcolor": "white",
            "linecolor": "white",
            "ticks": ""
           },
           "bgcolor": "#E5ECF6",
           "caxis": {
            "gridcolor": "white",
            "linecolor": "white",
            "ticks": ""
           }
          },
          "title": {
           "x": 0.05
          },
          "xaxis": {
           "automargin": true,
           "gridcolor": "white",
           "linecolor": "white",
           "ticks": "",
           "title": {
            "standoff": 15
           },
           "zerolinecolor": "white",
           "zerolinewidth": 2
          },
          "yaxis": {
           "automargin": true,
           "gridcolor": "white",
           "linecolor": "white",
           "ticks": "",
           "title": {
            "standoff": 15
           },
           "zerolinecolor": "white",
           "zerolinewidth": 2
          }
         }
        },
        "title": {
         "text": "Electricity demand by type of load and Grid region (2023)"
        },
        "width": 1100,
        "xaxis": {
         "anchor": "y",
         "domain": [
          0,
          1
         ],
         "title": {
          "text": "Grid regions"
         }
        },
        "yaxis": {
         "anchor": "x",
         "domain": [
          0,
          1
         ],
         "title": {
          "text": "Demand (TWh)"
         }
        }
       }
      }
     },
     "metadata": {},
     "output_type": "display_data"
    },
    {
     "data": {
      "application/vnd.plotly.v1+json": {
       "config": {
        "plotlyServerURL": "https://plot.ly"
       },
       "data": [
        {
         "hovertemplate": "carrier=AC<br>region=%{x}<br>value=%{y}<extra></extra>",
         "legendgroup": "AC",
         "marker": {
          "color": "#636efa",
          "pattern": {
           "shape": ""
          }
         },
         "name": "AC",
         "orientation": "v",
         "showlegend": true,
         "textposition": "auto",
         "texttemplate": "%{y:.1f}",
         "type": "bar",
         "x": [
          "AK",
          "AL",
          "AR",
          "AZ",
          "CA",
          "CO",
          "FL",
          "GA",
          "HI",
          "IA",
          "ID",
          "IL",
          "IN",
          "KS",
          "KY",
          "LA",
          "MA",
          "MD",
          "ME",
          "MI",
          "MN",
          "MO",
          "MS",
          "MT",
          "NC",
          "ND",
          "NE",
          "NH",
          "NM",
          "NV",
          "NY",
          "OH",
          "OK",
          "OR",
          "PA",
          "SC",
          "SD",
          "TN",
          "TX",
          "UT",
          "VA",
          "WA",
          "WI",
          "WV",
          "WY"
         ],
         "xaxis": "x",
         "y": {
          "bdata": "7FG4HoXr8T+F61G4HkU9QNijcD0K1y9ASOF6FK5HPkBSuB6F66FZQEjhehSuhzJA4noUrkdhV0CF61G4HiVMQOxRuB6F6wtAj8L1KFyPOECamZmZmRkwQDQzMzMzU0hAj8L1KFwPP0BSuB6F61E5QI/C9ShcDzxAj8L1KFyvQEAfhetRuB4+QDMzMzMzs0FAH4XrUbgeEED2KFyPwjVBQLgehetR+DZArkfhehTuO0DXo3A9ClcgQJmZmZmZmRNAzczMzMxMM0CamZmZmRklQGZmZmZmZiFAAAAAAAAAAACamZmZmZkzQJqZmZmZmSxAmpmZmZk5U0AK16NwPSpIQGZmZmZmJjdA7FG4HoUrOEC4HoXrUXhOQI/C9ShcD0JAkML1KFyPBEBwPQrXo/BFQLgehetReGZAmpmZmZmZJkD2KFyPwrVXQFyPwvUonD1APgrXo3A9OUCkcD0K1yMnQHsUrkfhehNA",
          "dtype": "f8"
         },
         "yaxis": "y"
        },
        {
         "hovertemplate": "carrier=agriculture electricity<br>region=%{x}<br>value=%{y}<extra></extra>",
         "legendgroup": "agriculture electricity",
         "marker": {
          "color": "#EF553B",
          "pattern": {
           "shape": ""
          }
         },
         "name": "agriculture electricity",
         "orientation": "v",
         "showlegend": true,
         "textposition": "auto",
         "texttemplate": "%{y:.1f}",
         "type": "bar",
         "x": [
          "AK",
          "AL",
          "AR",
          "AZ",
          "CA",
          "CO",
          "FL",
          "GA",
          "HI",
          "IA",
          "ID",
          "IL",
          "IN",
          "KS",
          "KY",
          "LA",
          "MA",
          "MD",
          "ME",
          "MI",
          "MN",
          "MO",
          "MS",
          "MT",
          "NC",
          "ND",
          "NE",
          "NH",
          "NM",
          "NV",
          "NY",
          "OH",
          "OK",
          "OR",
          "PA",
          "SC",
          "SD",
          "TN",
          "TX",
          "UT",
          "VA",
          "WA",
          "WI",
          "WV",
          "WY"
         ],
         "xaxis": "x",
         "y": {
          "bdata": "mpmZmZmZqT8ehetRuB7lPwAAAAAAAOA/uB6F61G47j9xPQrXo3AbQJqZmZmZmek/7FG4HoXrEECG61G4HoXzP3sUrkfhesQ/16NwPQrX6z97FK5H4XrwP9ejcD0K1/s/XI/C9Shc8z+kcD0K16P8P3sUrkfhevA/ZmZmZmZm5j+F61G4HoX7P+xRuB6F6/U/j8L1KFyP0j+kcD0K16P0P3E9CtejcO0/pHA9Ctej8D+4HoXrUbjOPwrXo3A9Csc/exSuR+F65D9xPQrXo3DNP+xRuB6F68E/AAAAAAAAAAC5HoXrUbjyP3E9CtejcO0/CtejcD0KE0Bcj8L1KFz7P1K4HoXrUeA/ZmZmZmZm1j+PwvUoXI8GQArXo3A9Cvs/4noUrkfhyj8pXI/C9Sj4P9ejcD0K1xRAZmZmZmZm1j+PwvUoXI/2PwAAAAAAAPA/pHA9Ctej9D89CtejcD3aP+xRuB6F67E/",
          "dtype": "f8"
         },
         "yaxis": "y"
        },
        {
         "hovertemplate": "carrier=industry electricity<br>region=%{x}<br>value=%{y}<extra></extra>",
         "legendgroup": "industry electricity",
         "marker": {
          "color": "#00cc96",
          "pattern": {
           "shape": ""
          }
         },
         "name": "industry electricity",
         "orientation": "v",
         "showlegend": true,
         "textposition": "auto",
         "texttemplate": "%{y:.1f}",
         "type": "bar",
         "x": [
          "AK",
          "AL",
          "AR",
          "AZ",
          "CA",
          "CO",
          "FL",
          "GA",
          "HI",
          "IA",
          "ID",
          "IL",
          "IN",
          "KS",
          "KY",
          "LA",
          "MA",
          "MD",
          "ME",
          "MI",
          "MN",
          "MO",
          "MS",
          "MT",
          "NC",
          "ND",
          "NE",
          "NH",
          "NM",
          "NV",
          "NY",
          "OH",
          "OK",
          "OR",
          "PA",
          "SC",
          "SD",
          "TN",
          "TX",
          "UT",
          "VA",
          "WA",
          "WI",
          "WV",
          "WY"
         ],
         "xaxis": "x",
         "y": {
          "bdata": "FK5H4XoU7j8K16NwPYoiQFK4HoXrURhANDMzMzMzGkCuR+F6FI5UQClcj8L1qCBAMzMzMzMTQUDXo3A9CtcjQK5H4XoUrgNASOF6FK5HJUCQwvUoXI8gQB6F61G4HjtAexSuR+H6K0B7FK5H4Xo1QAAAAAAAAChA7FG4HoUrPUBSuB6F6xE6QArXo3A9yjRAAAAAAAAADkC4HoXrUfgwQHsUrkfheipAZmZmZmbmJ0CamZmZmZkHQOtRuB6F6wVACtejcD0KFUAUrkfhehQMQOxRuB6F6/k/7FG4HoXrsT+uR+F6FC4lQB+F61G4Hh5A7FG4HoVbU0CkcD0K1yM2QFK4HoXrUSFArkfhehSuC0A+CtejcB1HQDQzMzMzMyxAUrgehetRBEB7FK5H4fowQLgehetRqFJAFK5H4XoUCkA0MzMzMzMvQEjhehSuxytApHA9CtcjLUCPwvUoXA8gQB+F61G4HvU/",
          "dtype": "f8"
         },
         "yaxis": "y"
        },
        {
         "hovertemplate": "carrier=land transport EV<br>region=%{x}<br>value=%{y}<extra></extra>",
         "legendgroup": "land transport EV",
         "marker": {
          "color": "#ab63fa",
          "pattern": {
           "shape": ""
          }
         },
         "name": "land transport EV",
         "orientation": "v",
         "showlegend": true,
         "textposition": "auto",
         "texttemplate": "%{y:.1f}",
         "type": "bar",
         "x": [
          "AK",
          "AL",
          "AR",
          "AZ",
          "CA",
          "CO",
          "FL",
          "GA",
          "HI",
          "IA",
          "ID",
          "IL",
          "IN",
          "KS",
          "KY",
          "LA",
          "MA",
          "MD",
          "ME",
          "MI",
          "MN",
          "MO",
          "MS",
          "MT",
          "NC",
          "ND",
          "NE",
          "NH",
          "NM",
          "NV",
          "NY",
          "OH",
          "OK",
          "OR",
          "PA",
          "SC",
          "SD",
          "TN",
          "TX",
          "UT",
          "VA",
          "WA",
          "WI",
          "WV",
          "WY"
         ],
         "xaxis": "x",
         "y": {
          "bdata": "exSuR+F6hD80MzMzMzPDP7kehetRuL4/cT0K16NwzT+amZmZmZn5P1K4HoXrUcg/ZmZmZmZm7j+QwvUoXI/SP3sUrkfheqQ/4noUrkfhyj8AAAAAAADQP+J6FK5H4do/kML1KFyP0j9xPQrXo3DdPwAAAAAAANA/w/UoXI/CxT/hehSuR+HaPx+F61G4HtU/7FG4HoXrsT/Xo3A9CtfTP3A9CtejcM0/uR6F61G4zj+4HoXrUbiuP3sUrkfheqQ/MzMzMzMzwz+4HoXrUbiuP7gehetRuJ4/AAAAAAAAAABI4XoUrkfRPylcj8L1KMw/uB6F61G48j8+CtejcD3aP7kehetRuL4/exSuR+F6tD/D9Shcj8LlP5qZmZmZmdk/mpmZmZmZqT8K16NwPQrXPwrXo3A9CvM/CtejcD0Ktz/D9Shcj8LVP7kehetRuM4/exSuR+F61D+amZmZmZm5P3sUrkfhepQ/",
          "dtype": "f8"
         },
         "yaxis": "y"
        },
        {
         "hovertemplate": "carrier=rail transport electricity<br>region=%{x}<br>value=%{y}<extra></extra>",
         "legendgroup": "rail transport electricity",
         "marker": {
          "color": "#FFA15A",
          "pattern": {
           "shape": ""
          }
         },
         "name": "rail transport electricity",
         "orientation": "v",
         "showlegend": true,
         "textposition": "auto",
         "texttemplate": "%{y:.1f}",
         "type": "bar",
         "x": [
          "AK",
          "AL",
          "AR",
          "AZ",
          "CA",
          "CO",
          "FL",
          "GA",
          "HI",
          "IA",
          "ID",
          "IL",
          "IN",
          "KS",
          "KY",
          "LA",
          "MA",
          "MD",
          "ME",
          "MI",
          "MN",
          "MO",
          "MS",
          "MT",
          "NC",
          "ND",
          "NE",
          "NH",
          "NM",
          "NV",
          "NY",
          "OH",
          "OK",
          "OR",
          "PA",
          "SC",
          "SD",
          "TN",
          "TX",
          "UT",
          "VA",
          "WA",
          "WI",
          "WV",
          "WY"
         ],
         "xaxis": "x",
         "y": {
          "bdata": "AAAAAAAAAADsUbgeheuxP5qZmZmZmak/mpmZmZmZuT9xPQrXo3DlP3sUrkfherQ/PgrXo3A92j+5HoXrUbi+P3sUrkfhepQ/exSuR+F6tD+amZmZmZm5P3sUrkfhesQ/uB6F61G4vj/D9Shcj8LFP5qZmZmZmbk/7FG4HoXrsT/D9Shcj8LFP6RwPQrXo8A/uB6F61G4nj+4HoXrUbi+P3sUrkfherQ/mpmZmZmZuT97FK5H4XqUP3sUrkfhepQ/uB6F61G4rj97FK5H4XqUP3sUrkfheoQ/AAAAAAAAAAApXI/C9Si8PwrXo3A9Crc/cD0K16Nw3T/C9Shcj8LFP5qZmZmZmak/uB6F61G4nj9I4XoUrkfRP3sUrkfhesQ/exSuR+F6lD80MzMzMzPDP1K4HoXrUeA/uB6F61G4nj/sUbgehevBP5qZmZmZmbk/pHA9CtejwD97FK5H4XqkP3sUrkfheoQ/",
          "dtype": "f8"
         },
         "yaxis": "y"
        },
        {
         "hovertemplate": "carrier=services electricity<br>region=%{x}<br>value=%{y}<extra></extra>",
         "legendgroup": "services electricity",
         "marker": {
          "color": "#19d3f3",
          "pattern": {
           "shape": ""
          }
         },
         "name": "services electricity",
         "orientation": "v",
         "showlegend": true,
         "textposition": "auto",
         "texttemplate": "%{y:.1f}",
         "type": "bar",
         "x": [
          "AK",
          "AL",
          "AR",
          "AZ",
          "CA",
          "CO",
          "FL",
          "GA",
          "HI",
          "IA",
          "ID",
          "IL",
          "IN",
          "KS",
          "KY",
          "LA",
          "MA",
          "MD",
          "ME",
          "MI",
          "MN",
          "MO",
          "MS",
          "MT",
          "NC",
          "ND",
          "NE",
          "NH",
          "NM",
          "NV",
          "NY",
          "OH",
          "OK",
          "OR",
          "PA",
          "SC",
          "SD",
          "TN",
          "TX",
          "UT",
          "VA",
          "WA",
          "WI",
          "WV",
          "WY"
         ],
         "xaxis": "x",
         "y": {
          "bdata": "UrgehetR8D/hehSuR6E6QHoUrkfh+ixAzMzMzMyMO0BSuB6F61FXQB+F61G43jBAhutRuB5FVUB7FK5H4ZpJQHE9CtejcAlA16NwPQpXNkDNzMzMzEwtQAAAAAAAIEZAAAAAAABAPEBI4XoUrgc3QIbrUbgehTlAXI/C9ShcPkBmZmZmZmY7QHsUrkfhGkBAXI/C9ShcDUBSuB6F61E/QGZmZmZm5jRAZmZmZmZmOUDD9Shcj8IdQMzMzMzMzBFAj8L1KFyPMUAzMzMzMzMjQKRwPQrXox9AAAAAAAAAAAAVrkfhetQxQIXrUbgeBSpAPgrXo3B9UUBcj8L1KPxFQM3MzMzMDDVAPQrXo3D9NUCZmZmZmblLQI/C9Shcb0BAuB6F61G4AkDXo3A9CvdDQJqZmZmZcWRAj8L1KFyPJEDD9Shcj5JVQHA9Ctej8DpA9ihcj8L1NkAK16NwPQolQLgehetRuBFA",
          "dtype": "f8"
         },
         "yaxis": "y"
        }
       ],
       "layout": {
        "barmode": "stack",
        "legend": {
         "title": {
          "text": "carrier"
         },
         "tracegroupgap": 0
        },
        "margin": {
         "t": 60
        },
        "template": {
         "data": {
          "bar": [
           {
            "error_x": {
             "color": "#2a3f5f"
            },
            "error_y": {
             "color": "#2a3f5f"
            },
            "marker": {
             "line": {
              "color": "#E5ECF6",
              "width": 0.5
             },
             "pattern": {
              "fillmode": "overlay",
              "size": 10,
              "solidity": 0.2
             }
            },
            "type": "bar"
           }
          ],
          "barpolar": [
           {
            "marker": {
             "line": {
              "color": "#E5ECF6",
              "width": 0.5
             },
             "pattern": {
              "fillmode": "overlay",
              "size": 10,
              "solidity": 0.2
             }
            },
            "type": "barpolar"
           }
          ],
          "carpet": [
           {
            "aaxis": {
             "endlinecolor": "#2a3f5f",
             "gridcolor": "white",
             "linecolor": "white",
             "minorgridcolor": "white",
             "startlinecolor": "#2a3f5f"
            },
            "baxis": {
             "endlinecolor": "#2a3f5f",
             "gridcolor": "white",
             "linecolor": "white",
             "minorgridcolor": "white",
             "startlinecolor": "#2a3f5f"
            },
            "type": "carpet"
           }
          ],
          "choropleth": [
           {
            "colorbar": {
             "outlinewidth": 0,
             "ticks": ""
            },
            "type": "choropleth"
           }
          ],
          "contour": [
           {
            "colorbar": {
             "outlinewidth": 0,
             "ticks": ""
            },
            "colorscale": [
             [
              0,
              "#0d0887"
             ],
             [
              0.1111111111111111,
              "#46039f"
             ],
             [
              0.2222222222222222,
              "#7201a8"
             ],
             [
              0.3333333333333333,
              "#9c179e"
             ],
             [
              0.4444444444444444,
              "#bd3786"
             ],
             [
              0.5555555555555556,
              "#d8576b"
             ],
             [
              0.6666666666666666,
              "#ed7953"
             ],
             [
              0.7777777777777778,
              "#fb9f3a"
             ],
             [
              0.8888888888888888,
              "#fdca26"
             ],
             [
              1,
              "#f0f921"
             ]
            ],
            "type": "contour"
           }
          ],
          "contourcarpet": [
           {
            "colorbar": {
             "outlinewidth": 0,
             "ticks": ""
            },
            "type": "contourcarpet"
           }
          ],
          "heatmap": [
           {
            "colorbar": {
             "outlinewidth": 0,
             "ticks": ""
            },
            "colorscale": [
             [
              0,
              "#0d0887"
             ],
             [
              0.1111111111111111,
              "#46039f"
             ],
             [
              0.2222222222222222,
              "#7201a8"
             ],
             [
              0.3333333333333333,
              "#9c179e"
             ],
             [
              0.4444444444444444,
              "#bd3786"
             ],
             [
              0.5555555555555556,
              "#d8576b"
             ],
             [
              0.6666666666666666,
              "#ed7953"
             ],
             [
              0.7777777777777778,
              "#fb9f3a"
             ],
             [
              0.8888888888888888,
              "#fdca26"
             ],
             [
              1,
              "#f0f921"
             ]
            ],
            "type": "heatmap"
           }
          ],
          "histogram": [
           {
            "marker": {
             "pattern": {
              "fillmode": "overlay",
              "size": 10,
              "solidity": 0.2
             }
            },
            "type": "histogram"
           }
          ],
          "histogram2d": [
           {
            "colorbar": {
             "outlinewidth": 0,
             "ticks": ""
            },
            "colorscale": [
             [
              0,
              "#0d0887"
             ],
             [
              0.1111111111111111,
              "#46039f"
             ],
             [
              0.2222222222222222,
              "#7201a8"
             ],
             [
              0.3333333333333333,
              "#9c179e"
             ],
             [
              0.4444444444444444,
              "#bd3786"
             ],
             [
              0.5555555555555556,
              "#d8576b"
             ],
             [
              0.6666666666666666,
              "#ed7953"
             ],
             [
              0.7777777777777778,
              "#fb9f3a"
             ],
             [
              0.8888888888888888,
              "#fdca26"
             ],
             [
              1,
              "#f0f921"
             ]
            ],
            "type": "histogram2d"
           }
          ],
          "histogram2dcontour": [
           {
            "colorbar": {
             "outlinewidth": 0,
             "ticks": ""
            },
            "colorscale": [
             [
              0,
              "#0d0887"
             ],
             [
              0.1111111111111111,
              "#46039f"
             ],
             [
              0.2222222222222222,
              "#7201a8"
             ],
             [
              0.3333333333333333,
              "#9c179e"
             ],
             [
              0.4444444444444444,
              "#bd3786"
             ],
             [
              0.5555555555555556,
              "#d8576b"
             ],
             [
              0.6666666666666666,
              "#ed7953"
             ],
             [
              0.7777777777777778,
              "#fb9f3a"
             ],
             [
              0.8888888888888888,
              "#fdca26"
             ],
             [
              1,
              "#f0f921"
             ]
            ],
            "type": "histogram2dcontour"
           }
          ],
          "mesh3d": [
           {
            "colorbar": {
             "outlinewidth": 0,
             "ticks": ""
            },
            "type": "mesh3d"
           }
          ],
          "parcoords": [
           {
            "line": {
             "colorbar": {
              "outlinewidth": 0,
              "ticks": ""
             }
            },
            "type": "parcoords"
           }
          ],
          "pie": [
           {
            "automargin": true,
            "type": "pie"
           }
          ],
          "scatter": [
           {
            "fillpattern": {
             "fillmode": "overlay",
             "size": 10,
             "solidity": 0.2
            },
            "type": "scatter"
           }
          ],
          "scatter3d": [
           {
            "line": {
             "colorbar": {
              "outlinewidth": 0,
              "ticks": ""
             }
            },
            "marker": {
             "colorbar": {
              "outlinewidth": 0,
              "ticks": ""
             }
            },
            "type": "scatter3d"
           }
          ],
          "scattercarpet": [
           {
            "marker": {
             "colorbar": {
              "outlinewidth": 0,
              "ticks": ""
             }
            },
            "type": "scattercarpet"
           }
          ],
          "scattergeo": [
           {
            "marker": {
             "colorbar": {
              "outlinewidth": 0,
              "ticks": ""
             }
            },
            "type": "scattergeo"
           }
          ],
          "scattergl": [
           {
            "marker": {
             "colorbar": {
              "outlinewidth": 0,
              "ticks": ""
             }
            },
            "type": "scattergl"
           }
          ],
          "scattermap": [
           {
            "marker": {
             "colorbar": {
              "outlinewidth": 0,
              "ticks": ""
             }
            },
            "type": "scattermap"
           }
          ],
          "scattermapbox": [
           {
            "marker": {
             "colorbar": {
              "outlinewidth": 0,
              "ticks": ""
             }
            },
            "type": "scattermapbox"
           }
          ],
          "scatterpolar": [
           {
            "marker": {
             "colorbar": {
              "outlinewidth": 0,
              "ticks": ""
             }
            },
            "type": "scatterpolar"
           }
          ],
          "scatterpolargl": [
           {
            "marker": {
             "colorbar": {
              "outlinewidth": 0,
              "ticks": ""
             }
            },
            "type": "scatterpolargl"
           }
          ],
          "scatterternary": [
           {
            "marker": {
             "colorbar": {
              "outlinewidth": 0,
              "ticks": ""
             }
            },
            "type": "scatterternary"
           }
          ],
          "surface": [
           {
            "colorbar": {
             "outlinewidth": 0,
             "ticks": ""
            },
            "colorscale": [
             [
              0,
              "#0d0887"
             ],
             [
              0.1111111111111111,
              "#46039f"
             ],
             [
              0.2222222222222222,
              "#7201a8"
             ],
             [
              0.3333333333333333,
              "#9c179e"
             ],
             [
              0.4444444444444444,
              "#bd3786"
             ],
             [
              0.5555555555555556,
              "#d8576b"
             ],
             [
              0.6666666666666666,
              "#ed7953"
             ],
             [
              0.7777777777777778,
              "#fb9f3a"
             ],
             [
              0.8888888888888888,
              "#fdca26"
             ],
             [
              1,
              "#f0f921"
             ]
            ],
            "type": "surface"
           }
          ],
          "table": [
           {
            "cells": {
             "fill": {
              "color": "#EBF0F8"
             },
             "line": {
              "color": "white"
             }
            },
            "header": {
             "fill": {
              "color": "#C8D4E3"
             },
             "line": {
              "color": "white"
             }
            },
            "type": "table"
           }
          ]
         },
         "layout": {
          "annotationdefaults": {
           "arrowcolor": "#2a3f5f",
           "arrowhead": 0,
           "arrowwidth": 1
          },
          "autotypenumbers": "strict",
          "coloraxis": {
           "colorbar": {
            "outlinewidth": 0,
            "ticks": ""
           }
          },
          "colorscale": {
           "diverging": [
            [
             0,
             "#8e0152"
            ],
            [
             0.1,
             "#c51b7d"
            ],
            [
             0.2,
             "#de77ae"
            ],
            [
             0.3,
             "#f1b6da"
            ],
            [
             0.4,
             "#fde0ef"
            ],
            [
             0.5,
             "#f7f7f7"
            ],
            [
             0.6,
             "#e6f5d0"
            ],
            [
             0.7,
             "#b8e186"
            ],
            [
             0.8,
             "#7fbc41"
            ],
            [
             0.9,
             "#4d9221"
            ],
            [
             1,
             "#276419"
            ]
           ],
           "sequential": [
            [
             0,
             "#0d0887"
            ],
            [
             0.1111111111111111,
             "#46039f"
            ],
            [
             0.2222222222222222,
             "#7201a8"
            ],
            [
             0.3333333333333333,
             "#9c179e"
            ],
            [
             0.4444444444444444,
             "#bd3786"
            ],
            [
             0.5555555555555556,
             "#d8576b"
            ],
            [
             0.6666666666666666,
             "#ed7953"
            ],
            [
             0.7777777777777778,
             "#fb9f3a"
            ],
            [
             0.8888888888888888,
             "#fdca26"
            ],
            [
             1,
             "#f0f921"
            ]
           ],
           "sequentialminus": [
            [
             0,
             "#0d0887"
            ],
            [
             0.1111111111111111,
             "#46039f"
            ],
            [
             0.2222222222222222,
             "#7201a8"
            ],
            [
             0.3333333333333333,
             "#9c179e"
            ],
            [
             0.4444444444444444,
             "#bd3786"
            ],
            [
             0.5555555555555556,
             "#d8576b"
            ],
            [
             0.6666666666666666,
             "#ed7953"
            ],
            [
             0.7777777777777778,
             "#fb9f3a"
            ],
            [
             0.8888888888888888,
             "#fdca26"
            ],
            [
             1,
             "#f0f921"
            ]
           ]
          },
          "colorway": [
           "#636efa",
           "#EF553B",
           "#00cc96",
           "#ab63fa",
           "#FFA15A",
           "#19d3f3",
           "#FF6692",
           "#B6E880",
           "#FF97FF",
           "#FECB52"
          ],
          "font": {
           "color": "#2a3f5f"
          },
          "geo": {
           "bgcolor": "white",
           "lakecolor": "white",
           "landcolor": "#E5ECF6",
           "showlakes": true,
           "showland": true,
           "subunitcolor": "white"
          },
          "hoverlabel": {
           "align": "left"
          },
          "hovermode": "closest",
          "mapbox": {
           "style": "light"
          },
          "paper_bgcolor": "white",
          "plot_bgcolor": "#E5ECF6",
          "polar": {
           "angularaxis": {
            "gridcolor": "white",
            "linecolor": "white",
            "ticks": ""
           },
           "bgcolor": "#E5ECF6",
           "radialaxis": {
            "gridcolor": "white",
            "linecolor": "white",
            "ticks": ""
           }
          },
          "scene": {
           "xaxis": {
            "backgroundcolor": "#E5ECF6",
            "gridcolor": "white",
            "gridwidth": 2,
            "linecolor": "white",
            "showbackground": true,
            "ticks": "",
            "zerolinecolor": "white"
           },
           "yaxis": {
            "backgroundcolor": "#E5ECF6",
            "gridcolor": "white",
            "gridwidth": 2,
            "linecolor": "white",
            "showbackground": true,
            "ticks": "",
            "zerolinecolor": "white"
           },
           "zaxis": {
            "backgroundcolor": "#E5ECF6",
            "gridcolor": "white",
            "gridwidth": 2,
            "linecolor": "white",
            "showbackground": true,
            "ticks": "",
            "zerolinecolor": "white"
           }
          },
          "shapedefaults": {
           "line": {
            "color": "#2a3f5f"
           }
          },
          "ternary": {
           "aaxis": {
            "gridcolor": "white",
            "linecolor": "white",
            "ticks": ""
           },
           "baxis": {
            "gridcolor": "white",
            "linecolor": "white",
            "ticks": ""
           },
           "bgcolor": "#E5ECF6",
           "caxis": {
            "gridcolor": "white",
            "linecolor": "white",
            "ticks": ""
           }
          },
          "title": {
           "x": 0.05
          },
          "xaxis": {
           "automargin": true,
           "gridcolor": "white",
           "linecolor": "white",
           "ticks": "",
           "title": {
            "standoff": 15
           },
           "zerolinecolor": "white",
           "zerolinewidth": 2
          },
          "yaxis": {
           "automargin": true,
           "gridcolor": "white",
           "linecolor": "white",
           "ticks": "",
           "title": {
            "standoff": 15
           },
           "zerolinecolor": "white",
           "zerolinewidth": 2
          }
         }
        },
        "title": {
         "text": "Electricity Demand by type of load and State (2023)"
        },
        "width": 3000,
        "xaxis": {
         "anchor": "y",
         "domain": [
          0,
          1
         ],
         "title": {
          "text": "States"
         }
        },
        "yaxis": {
         "anchor": "x",
         "domain": [
          0,
          1
         ],
         "title": {
          "text": "Demand (TWh)"
         }
        }
       }
      }
     },
     "metadata": {},
     "output_type": "display_data"
    }
   ],
   "source": [
    "fig1 = px.bar(base_demand_grid_region.drop(columns=[\"Total\"], errors='ignore'), barmode='stack', text_auto='.1f')\n",
    "fig1.update_layout(width=1100, yaxis_title='Demand (TWh)', xaxis_title='Grid regions', title='Electricity demand by type of load and Grid region (2023)')\n",
    "fig1.show()\n",
    "\n",
    "fig1 = px.bar(base_demand_state.drop(columns=[\"Total\"]), barmode='stack', text_auto='.1f')\n",
    "fig1.update_layout(width=3000, yaxis_title='Demand (TWh)', xaxis_title='States', title='Electricity Demand by type of load and State (2023)')\n",
    "fig1.show()"
   ]
  }
 ],
 "metadata": {
  "kernelspec": {
   "display_name": "Python 3 (ipykernel)",
   "language": "python",
   "name": "python3"
  },
  "language_info": {
   "codemirror_mode": {
    "name": "ipython",
    "version": 3
   },
   "file_extension": ".py",
   "mimetype": "text/x-python",
   "name": "python",
   "nbconvert_exporter": "python",
   "pygments_lexer": "ipython3",
   "version": "3.10.18"
  }
 },
 "nbformat": 4,
 "nbformat_minor": 5
}
