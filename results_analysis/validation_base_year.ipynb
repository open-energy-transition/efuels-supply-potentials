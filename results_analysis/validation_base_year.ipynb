{
 "cells": [
  {
   "cell_type": "markdown",
   "id": "18427c7f",
   "metadata": {},
   "source": [
    "# Base year (2023) validation\n",
    "\n",
    "This notebook validates the results of PyPSA-Earth for the base year (2023) against the **EIA (U.S. Energy Information Administration)** and **Ember** US datasets. The validation covers three key aspects of the electricity system:\n",
    "- **Electricity Demand**\n",
    "- **Electricity Generation**\n",
    "- **Installed Generation Capacity**"
   ]
  },
  {
   "cell_type": "markdown",
   "id": "afce7acd-7c2b-4727-84b4-8291e3f7675f",
   "metadata": {},
   "source": [
    "## 1. Setup and Data Loading\n",
    "\n",
    "*This section handles the initial setup, including importing necessary libraries and loading the solved PyPSA-Earth networks.*"
   ]
  },
  {
   "cell_type": "markdown",
   "id": "f8c3e858",
   "metadata": {},
   "source": [
    "### 11.1 Loading libraries\n",
    "\n",
    "We begin by importing the necessary libraries for data handling, analysis, and visualization. These include PyPSA for power system analysis, pandas and numpy for data manipulation, geopandas for spatial data, and seaborn/matplotlib for plotting.\n",
    "\n",
    "---"
   ]
  },
  {
   "cell_type": "code",
   "execution_count": 1,
   "id": "31697af1",
   "metadata": {},
   "outputs": [],
   "source": [
    "# Install required packages if not already installed\n",
    "# Uncomment the line below to install packages\n",
    "# Note: This line is commented out to prevent installation during code execution.\n",
    "\n",
    "!pip install numpy pandas plotly pycountry matplotlib seaborn -qq"
   ]
  },
  {
   "cell_type": "code",
   "execution_count": 2,
   "id": "38916fc2",
   "metadata": {},
   "outputs": [
    {
     "name": "stderr",
     "output_type": "stream",
     "text": [
      "/home/user/miniforge3/envs/pypsa-earth/lib/python3.10/site-packages/pypsa/networkclustering.py:16: UserWarning:\n",
      "\n",
      "The namespace `pypsa.networkclustering` is deprecated and will be removed in PyPSA v0.24. Please use `pypsa.clustering.spatial instead`. \n",
      "\n"
     ]
    }
   ],
   "source": [
    "import os\n",
    "import pypsa\n",
    "import numpy as np\n",
    "import pandas as pd\n",
    "import geopandas as gpd\n",
    "import matplotlib.pyplot as plt\n",
    "import seaborn as sns\n",
    "import plotly.express as px\n",
    "import plotly.graph_objects as go\n",
    "\n",
    "import pycountry\n",
    "\n",
    "import warnings\n",
    "warnings.filterwarnings(\"ignore\")"
   ]
  },
  {
   "cell_type": "markdown",
   "id": "48ed5b15",
   "metadata": {},
   "source": [
    "### 1.2 Helper functions"
   ]
  },
  {
   "cell_type": "code",
   "execution_count": 3,
   "id": "4fbff88d",
   "metadata": {},
   "outputs": [],
   "source": [
    "def convert_two_country_code_to_three(country_code):\n",
    "    \"\"\"\n",
    "    Convert a two-letter country code to a three-letter ISO country code.\n",
    "\n",
    "    Args:\n",
    "        country_code (str): Two-letter country code (ISO 3166-1 alpha-2).\n",
    "\n",
    "    Returns:\n",
    "        str: Three-letter country code (ISO 3166-1 alpha-3).\n",
    "    \"\"\"\n",
    "    country = pycountry.countries.get(alpha_2=country_code)\n",
    "    return country.alpha_3\n",
    "\n",
    "\n",
    "def get_country_name(country_code):\n",
    "    \"\"\" Input:\n",
    "            country_code - two letter code of the country\n",
    "        Output:\n",
    "            country.name - corresponding name of the country\n",
    "            country.alpha_3 - three letter code of the country\n",
    "    \"\"\"\n",
    "    try:\n",
    "        country = pycountry.countries.get(alpha_2=country_code)\n",
    "        return country.name, country.alpha_3 if country else None\n",
    "    except KeyError:\n",
    "        return None\n",
    "    \n",
    "\n",
    "def get_data_EIA(data_path, country_code, year):\n",
    "    \"\"\"\n",
    "    Retrieves energy generation data from the EIA dataset for a specified country and year.\n",
    "\n",
    "    Args:\n",
    "        data_path (str): Path to the EIA CSV file.\n",
    "        country_code (str): Two-letter or three-letter country code (ISO).\n",
    "        year (int or str): Year for which energy data is requested.\n",
    "\n",
    "    Returns:\n",
    "        pd.DataFrame: DataFrame containing energy generation data for the given country and year, \n",
    "                    or None if no matching country is found.\n",
    "    \"\"\"\n",
    "\n",
    "    # Load EIA data from CSV file\n",
    "    data = pd.read_csv(data_path)\n",
    "\n",
    "    # Rename the second column to 'country' for consistency\n",
    "    data.rename(columns={\"Unnamed: 1\": \"country\"}, inplace=True)\n",
    "\n",
    "    # Remove leading and trailing spaces in the 'country' column\n",
    "    data[\"country\"] = data[\"country\"].str.strip()\n",
    "\n",
    "    # Extract the three-letter country code from the 'API' column\n",
    "    data[\"code_3\"] = data.dropna(subset=[\"API\"])[\"API\"].apply(\n",
    "        lambda x: x.split('-')[2] if isinstance(x,\n",
    "                                                str) and len(x.split('-')) > 3 else x\n",
    "    )\n",
    "\n",
    "    # Get the official country name and three-letter country code using the provided two-letter code\n",
    "    country_name, country_code3 = get_country_name(country_code)\n",
    "\n",
    "    # Check if the three-letter country code exists in the dataset\n",
    "    if country_code3 and country_code3 in data.code_3.unique():\n",
    "        # Retrieve the generation data for the specified year\n",
    "        result = data.query(\"code_3 == @country_code3\")[[\"country\", str(year)]]\n",
    "\n",
    "    # If not found by code, search by the country name\n",
    "    elif country_name and country_name in data.country.unique():\n",
    "        # Find the country index and retrieve generation data\n",
    "        country_index = data.query(\"country == @country_name\").index[0]\n",
    "        result = data.iloc[country_index +\n",
    "                           1:country_index+18][[\"country\", str(year)]]\n",
    "\n",
    "    else:\n",
    "        # If no match is found, return None\n",
    "        result = None\n",
    "\n",
    "    # Convert the year column to float for numeric operations\n",
    "    result[str(year)] = result[str(year)].astype(float)\n",
    "\n",
    "    return result\n",
    "\n",
    "\n",
    "def get_demand_ember(data, country_code, year):\n",
    "    \"\"\"\n",
    "    Get the electricity demand for a given country and year from Ember data.\n",
    "\n",
    "    Args:\n",
    "        data (pd.DataFrame): Ember data.\n",
    "        country_code (str): Country code (ISO 3166-1 alpha-2).\n",
    "        year (int): Year of interest.\n",
    "\n",
    "    Returns:\n",
    "        float or None: Electricity demand if found, otherwise None.\n",
    "    \"\"\"\n",
    "    demand = data[(data[\"Year\"] == year)\n",
    "                  & (data[\"Country code\"] == country_code)\n",
    "                  & (data[\"Category\"] == \"Electricity demand\")\n",
    "                  & (data[\"Subcategory\"] == \"Demand\")][\"Value\"]\n",
    "\n",
    "    if len(demand) != 0:\n",
    "        return demand.iloc[0]\n",
    "    return None\n",
    "\n",
    "\n",
    "def preprocess_eia_data_detail(data):\n",
    "    \"\"\"\n",
    "    Preprocesses the EIA energy data by renaming and filtering rows and columns.\n",
    "\n",
    "    Args:\n",
    "        data (pd.DataFrame): DataFrame containing EIA energy data.\n",
    "\n",
    "    Returns:\n",
    "        pd.DataFrame: Cleaned and preprocessed DataFrame ready for analysis.\n",
    "    \"\"\"\n",
    "\n",
    "    # Strip the last 13 characters (descriptive text) from the 'country' column\n",
    "    data[\"country\"] = data[\"country\"].apply(lambda x: x[:-13].strip())\n",
    "\n",
    "    # Set 'country' as the index of the DataFrame\n",
    "    data.set_index(\"country\", inplace=True)\n",
    "\n",
    "    # Rename columns to provide clarity\n",
    "    data.columns = [\"EIA data\"]\n",
    "\n",
    "    # Rename specific rows to match more standard terms\n",
    "    data.rename(index={\"Hydroelectricity\": \"Hydro\",\n",
    "                       \"Biomass and waste\": \"Biomass\",\n",
    "                       \"Hydroelectric pumped storage\": \"PHS\"}, inplace=True)\n",
    "\n",
    "    # Drop unwanted renewable energy categories\n",
    "    data.drop(index=[\"Fossil fuels\", \"Renewables\", \"Non-hydroelectric renewables\",\n",
    "                     \"Solar, tide, wave, fuel cell\", \"Tide and wave\"], inplace=True)\n",
    "\n",
    "    # Filter the DataFrame to only include relevant energy sources\n",
    "    data = data.loc[[\"Nuclear\", \"Coal\", \"Natural gas\", \"Oil\", \"Geothermal\", \n",
    "                     \"Hydro\", \"PHS\", \"Solar\", \"Wind\", \"Biomass\"], :]\n",
    "    return data\n",
    "\n",
    "\n",
    "def get_generation_capacity_ember_detail(data, three_country_code, year):\n",
    "    \"\"\"\n",
    "    Get electricity generation by fuel type for a given country and year from Ember data.\n",
    "\n",
    "    Args:\n",
    "        data (pd.DataFrame): Ember data.\n",
    "        three_country_code (str): Country code (ISO 3166-1 alpha-3).\n",
    "        year (int): Year of interest.\n",
    "\n",
    "    Returns:\n",
    "        pd.DataFrame: Electricity generation by fuel type.\n",
    "    \"\"\"\n",
    "    generation_ember = data[\n",
    "        (data[\"Category\"] == \"Electricity generation\")\n",
    "        & (data[\"Country code\"] == three_country_code)\n",
    "        & (data[\"Year\"] == year)\n",
    "        & (data[\"Subcategory\"] == \"Fuel\")\n",
    "        & (data[\"Unit\"] == \"TWh\")\n",
    "    ][[\"Variable\", \"Value\"]].reset_index(drop=True)\n",
    "\n",
    "    # Drop irrelevant rows\n",
    "    drop_row = [\"Other Renewables\"]\n",
    "    generation_ember = generation_ember[~generation_ember[\"Variable\"].isin(\n",
    "        drop_row)]\n",
    "\n",
    "    # Standardize fuel types\n",
    "    generation_ember = generation_ember.replace({\n",
    "        \"Gas\": \"Natural gas\",\n",
    "        \"Bioenergy\": \"Biomass\",\n",
    "        # \"Coal\": \"Fossil fuels\",\n",
    "        # \"Other Fossil\": \"Fossil fuels\"\n",
    "    })\n",
    "\n",
    "    # Group by fuel type\n",
    "    generation_ember = generation_ember.groupby(\"Variable\").sum()\n",
    "    generation_ember.loc[\"Load shedding\"] = 0.0\n",
    "    generation_ember.columns = [\"Ember data\"]\n",
    "\n",
    "    return generation_ember\n",
    "\n",
    "\n",
    "def get_installed_capacity_ember(data, three_country_code, year):\n",
    "    \"\"\"\n",
    "    Get installed capacity by fuel type for a given country and year from Ember data.\n",
    "\n",
    "    Args:\n",
    "        data (pd.DataFrame): Ember data.\n",
    "        three_country_code (str): Country code (ISO 3166-1 alpha-3).\n",
    "        year (int): Year of interest.\n",
    "\n",
    "    Returns:\n",
    "        pd.DataFrame: Installed capacity by fuel type.\n",
    "    \"\"\"\n",
    "    capacity_ember = data[\n",
    "        (data[\"Country code\"] == three_country_code)\n",
    "        & (data[\"Year\"] == year)\n",
    "        & (data[\"Category\"] == \"Capacity\")\n",
    "        & (data[\"Subcategory\"] == \"Fuel\")][[\"Variable\", \"Value\"]].reset_index(drop=True)\n",
    "\n",
    "    # Drop irrelevant rows\n",
    "    drop_row = [\"Other Renewables\"]\n",
    "    capacity_ember = capacity_ember[~capacity_ember[\"Variable\"].isin(drop_row)]\n",
    "\n",
    "    # Standardize fuel types\n",
    "    capacity_ember = capacity_ember.replace({\n",
    "        # \"Gas\": \"Fossil fuels\",\n",
    "        \"Bioenergy\": \"Biomass\",\n",
    "        # \"Coal\": \"Fossil fuels\",\n",
    "        \"Other Fossil\": \"Fossil fuels\"\n",
    "        })\n",
    "\n",
    "    capacity_ember = capacity_ember.groupby(\"Variable\").sum()\n",
    "    capacity_ember.columns = [\"Ember data\"]\n",
    "\n",
    "    return capacity_ember\n",
    "\n",
    "\n",
    "def preprocess_eia_data(data):\n",
    "    \"\"\"\n",
    "    Preprocesses the EIA energy data by renaming and filtering rows and columns.\n",
    "\n",
    "    Args:\n",
    "        data (pd.DataFrame): DataFrame containing EIA energy data.\n",
    "\n",
    "    Returns:\n",
    "        pd.DataFrame: Cleaned and preprocessed DataFrame ready for analysis.\n",
    "    \"\"\"\n",
    "\n",
    "    # Strip the last 13 characters (descriptive text) from the 'country' column\n",
    "    data[\"country\"] = data[\"country\"].apply(lambda x: x[:-13].strip())\n",
    "\n",
    "    # Set 'country' as the index of the DataFrame\n",
    "    data.set_index(\"country\", inplace=True)\n",
    "\n",
    "    # Rename columns to provide clarity\n",
    "    data.columns = [\"EIA data\"]\n",
    "\n",
    "    # Rename specific rows to match more standard terms\n",
    "    data.rename(index={\"Hydroelectricity\": \"Hydro\",\n",
    "                       \"Biomass and waste\": \"Biomass\",\n",
    "                       \"Hydroelectric pumped storage\": \"PHS\"}, inplace=True)\n",
    "\n",
    "    # Drop unwanted renewable energy categories\n",
    "    data.drop(index=[\"Renewables\", \"Non-hydroelectric renewables\",\n",
    "                     \"Geothermal\", \"Solar, tide, wave, fuel cell\", \"Tide and wave\"], inplace=True)\n",
    "\n",
    "    # Filter the DataFrame to only include relevant energy sources\n",
    "    data = data.loc[[\"Nuclear\", \"Fossil fuels\",\n",
    "                     \"Hydro\", \"PHS\", \"Solar\", \"Wind\", \"Biomass\"], :]\n",
    "\n",
    "    return data\n",
    "\n",
    "\n",
    "def get_demand_pypsa(network):\n",
    "    \"\"\"\n",
    "    Get the total electricity demand from the PyPSA-Earth network.\n",
    "\n",
    "    Args:\n",
    "        network (pypsa.Network): PyPSA network object.\n",
    "\n",
    "    Returns:\n",
    "        float: Total electricity demand in TWh.\n",
    "    \"\"\"\n",
    "    demand_pypsa = network.loads_t.p_set.multiply(\n",
    "        network.snapshot_weightings.objective, axis=0).sum().sum() / 1e6\n",
    "    demand_pypsa = demand_pypsa.round(4)\n",
    "    return demand_pypsa\n",
    "\n",
    "\n",
    "def compute_demand(network):\n",
    "    \"\"\"\n",
    "    Compute total demand by region and by state\n",
    "    \"\"\"\n",
    "    static_load_carriers = [\"rail transport electricity\",\n",
    "                            \"agriculture electricity\", \"industry electricity\"]\n",
    "    dynamic_load_carriers = [\"AC\", \"services electricity\", \"land transport EV\"]\n",
    "\n",
    "    ac_loads = network.loads.query(\"carrier in 'AC'\").index\n",
    "    ac_profile = network.loads_t.p_set[ac_loads].multiply(\n",
    "        network.snapshot_weightings.objective, axis=0).sum() / 1e6\n",
    "    ac_load_bus = ac_profile.to_frame().reset_index().rename(\n",
    "        columns={0: \"load\", \"Load\": \"region\"})\n",
    "    ac_load_bus[\"carrier\"] = \"AC\"\n",
    "\n",
    "    nhours = network.snapshot_weightings.objective.sum()\n",
    "    static_load = network.loads.groupby([\"bus\", \"carrier\"]).sum()[\n",
    "        [\"p_set\"]].reset_index()\n",
    "    static_load_bus = static_load.query(\n",
    "        \"carrier in @static_load_carriers\").reset_index(drop=True)\n",
    "    static_load_bus['p_set'] = static_load_bus.p_set * nhours / 1e6\n",
    "\n",
    "    services_profile = network.loads_t.p_set.filter(\n",
    "        like=\"services electricity\") / 1e6\n",
    "    services_load = services_profile.multiply(network.snapshot_weightings.objective, axis=0).sum(\n",
    "    ).to_frame().reset_index().rename(columns={0: \"services electricity load\", \"Load\": \"bus\"})\n",
    "    services_load[\"region\"] = services_load[\"bus\"].str.extract(\n",
    "        r\"(US\\d{1} \\d{1,2})\")\n",
    "    services_load.rename(\n",
    "        columns={\"services electricity load\": \"load\"}, inplace=True)\n",
    "    services_load[\"carrier\"] = \"services electricity\"\n",
    "\n",
    "    static_load_bus[\"region\"] = static_load_bus[\"bus\"].str.extract(\n",
    "        r\"(US\\d{1} \\d{1,2})\")\n",
    "    agriculture_electricity_load = static_load_bus.query(\n",
    "        \"carrier == 'agriculture electricity'\")\n",
    "    agriculture_electricity_load.rename(\n",
    "        columns={\"p_set\": \"load\"}, inplace=True)\n",
    "\n",
    "    industry_electricity_load = static_load_bus.query(\n",
    "        \"carrier == 'industry electricity'\")\n",
    "    industry_electricity_load.rename(columns={\"p_set\": \"load\"}, inplace=True)\n",
    "\n",
    "    rail_transport_electricity_load = static_load_bus.query(\n",
    "        \"carrier == 'rail transport electricity'\")\n",
    "    rail_transport_electricity_load.rename(\n",
    "        columns={\"p_set\": \"load\"}, inplace=True)\n",
    "\n",
    "    ev_profile = network.loads_t.p_set.filter(like=\"land transport EV\")\n",
    "    ev_load = (ev_profile.multiply(network.snapshot_weightings.objective, axis=0).sum(\n",
    "    ) / 1e6).to_frame().reset_index().rename(columns={0: \"load\", \"Load\": \"bus\"})\n",
    "    ev_load[\"region\"] = ev_load[\"bus\"].str.extract(r\"(US\\d{1} \\d{1,2})\")\n",
    "    ev_load[\"carrier\"] = \"land transport EV\"\n",
    "\n",
    "    all_loads = pd.concat([ac_load_bus, ev_load, services_load, agriculture_electricity_load,\n",
    "                          industry_electricity_load, rail_transport_electricity_load], axis=0)\n",
    "\n",
    "    all_loads_df_grid_region = all_loads.pivot(\n",
    "        index=\"region\", columns=\"carrier\", values=\"load\").fillna(0).round(2)\n",
    "    all_loads_df_grid_region.index = all_loads_df_grid_region.index.map(\n",
    "        network.buses.grid_region)\n",
    "    all_loads_df_grid_region_sum = all_loads_df_grid_region.groupby(\n",
    "        \"region\").sum()\n",
    "\n",
    "    all_loads_df_state = all_loads.pivot(\n",
    "        index=\"region\", columns=\"carrier\", values=\"load\").fillna(0).round(2)\n",
    "    all_loads_df_state.index = all_loads_df_state.index.map(\n",
    "        network.buses.state)\n",
    "    all_loads_df_state_sum = all_loads_df_state.groupby(\"region\").sum()\n",
    "\n",
    "    return all_loads_df_grid_region_sum, all_loads_df_state_sum\n",
    "\n",
    "\n",
    "def attach_grid_region_to_buses(network, path_shapes, distance_crs=\"EPSG:4326\"):\n",
    "    \"\"\"\n",
    "    Attach grid region to buses\n",
    "    \"\"\"\n",
    "    # Read the shapefile using geopandas\n",
    "    shapes = gpd.read_file(path_shapes, crs=distance_crs)\n",
    "    shapes.rename(columns={\"GRID_REGIO\": \"Grid Region\"}, inplace=True)\n",
    "\n",
    "    ac_dc_carriers = [\"AC\", \"DC\"]\n",
    "    location_mapping = network.buses.query(\n",
    "        \"carrier in @ac_dc_carriers\")[[\"x\", \"y\"]]\n",
    "\n",
    "    network.buses[\"x\"] = network.buses[\"location\"].map(\n",
    "        location_mapping[\"x\"]).fillna(0)\n",
    "    network.buses[\"y\"] = network.buses[\"location\"].map(\n",
    "        location_mapping[\"y\"]).fillna(0)\n",
    "\n",
    "    pypsa_gpd = gpd.GeoDataFrame(\n",
    "        network.buses,\n",
    "        geometry=gpd.points_from_xy(network.buses.x, network.buses.y),\n",
    "        crs=4326\n",
    "    )\n",
    "\n",
    "    bus_cols = network.buses.columns\n",
    "    bus_cols = list(bus_cols) + [\"grid_region\"]\n",
    "\n",
    "    st_buses = gpd.sjoin_nearest(shapes, pypsa_gpd, how=\"right\")\n",
    "\n",
    "    network.buses.rename(columns={'region': 'emm_region'}, inplace=True)\n",
    "    network.buses[\"grid_region\"] = st_buses[\"Grid Region\"]\n",
    "\n",
    "\n",
    "def attach_state_to_buses(network, path_shapes, distance_crs=\"EPSG:4326\"):\n",
    "    \"\"\"\n",
    "    Attach state to buses\n",
    "    \"\"\"\n",
    "    # Read the shapefile using geopandas\n",
    "    shapes = gpd.read_file(path_shapes, crs=distance_crs)\n",
    "    shapes[\"ISO_1\"] = shapes[\"ISO_1\"].apply(lambda x: x.split(\"-\")[1])\n",
    "    shapes.rename(columns={\"ISO_1\": \"State\"}, inplace=True)\n",
    "\n",
    "    ac_dc_carriers = [\"AC\", \"DC\"]\n",
    "    location_mapping = network.buses.query(\n",
    "        \"carrier in @ac_dc_carriers\")[[\"x\", \"y\"]]\n",
    "\n",
    "    network.buses[\"x\"] = network.buses[\"location\"].map(\n",
    "        location_mapping[\"x\"]).fillna(0)\n",
    "    network.buses[\"y\"] = network.buses[\"location\"].map(\n",
    "        location_mapping[\"y\"]).fillna(0)\n",
    "\n",
    "    pypsa_gpd = gpd.GeoDataFrame(\n",
    "        network.buses,\n",
    "        geometry=gpd.points_from_xy(network.buses.x, network.buses.y),\n",
    "        crs=4326\n",
    "    )\n",
    "\n",
    "    bus_cols = network.buses.columns\n",
    "    bus_cols = list(bus_cols) + [\"State\"]\n",
    "\n",
    "    st_buses = gpd.sjoin_nearest(shapes, pypsa_gpd, how=\"right\")\n",
    "\n",
    "    network.buses[\"state\"] = st_buses[\"State\"]\n",
    "\n",
    "\n",
    "def preprocess_eia_demand(path, horizon):\n",
    "    statewise_df = pd.read_excel(path, sheet_name=\"Data\")\n",
    "\n",
    "    demand_df = statewise_df.loc[statewise_df['MSN'] == 'ESTXP']\n",
    "    demand_df.set_index('State', inplace=True)\n",
    "    \n",
    "    # data is in million kWh (GWh) - hence dividing by 1e3 to get the data in TWh\n",
    "    demand_df = demand_df[int(horizon)] / 1e3\n",
    "    demand_df = demand_df.to_frame()\n",
    "    demand_df.columns = [\"EIA\"]\n",
    "\n",
    "    demand_df.drop([\"US\"], axis=0, inplace=True)\n",
    "\n",
    "\n",
    "    return demand_df"
   ]
  },
  {
   "cell_type": "code",
   "execution_count": 4,
   "id": "55cec142-81c6-4e0e-b089-6951ecac3179",
   "metadata": {},
   "outputs": [],
   "source": [
    "pd.set_option('display.max_columns', None)\n",
    "pd.set_option('display.max_rows', None) \n",
    "pd.set_option('display.width', None)    \n",
    "pd.set_option('display.max_colwidth', None)"
   ]
  },
  {
   "cell_type": "markdown",
   "id": "3b6f65b7",
   "metadata": {},
   "source": [
    "### 1.3 Loading Files\n",
    "\n",
    "PyPSA-Earth solved networks for the base year are uploaded here, as well as the relevant EIA and Ember datasets. These datasets provide reference values for demand, generation, and installed capacity, which will be used for validation."
   ]
  },
  {
   "cell_type": "code",
   "execution_count": 5,
   "id": "d7e25461",
   "metadata": {},
   "outputs": [],
   "source": [
    "DATA_DIR = \"../notebooks/validation_data/\"\n",
    "\n",
    "ember_data_path = os.path.join(DATA_DIR, \"ember_yearly_full_release_long_format.csv\")\n",
    "eia_demand_path = os.path.join(DATA_DIR, \"EIA_demand.xlsx\")\n",
    "eia_installed_capacities_path = os.path.join(DATA_DIR, \"EIA_installed_capacities.csv\")\n",
    "eia_generation_path = os.path.join(DATA_DIR, \"EIA_electricity_generation.csv\")"
   ]
  },
  {
   "cell_type": "code",
   "execution_count": 6,
   "id": "48a32925",
   "metadata": {},
   "outputs": [],
   "source": [
    "ember_data = pd.read_csv(ember_data_path)"
   ]
  },
  {
   "cell_type": "code",
   "execution_count": 7,
   "id": "8993955d",
   "metadata": {},
   "outputs": [
    {
     "name": "stderr",
     "output_type": "stream",
     "text": [
      "INFO:pypsa.io:Imported network elec_s_100_ec_lcopt_Co2L-3H_3H_2020_0.071_AB_10export.nc has buses, carriers, generators, global_constraints, lines, links, loads, storage_units, stores\n"
     ]
    }
   ],
   "source": [
    "# load network\n",
    "project_root = os.getcwd()\n",
    "results_dir = os.path.join(project_root, 'results')\n",
    "\n",
    "# Load Base year network\n",
    "base_path = os.path.join(results_dir, 'base_year', \"elec_s_100_ec_lcopt_Co2L-3H_3H_2020_0.071_AB_10export.nc\")\n",
    "base_network = pypsa.Network(base_path)"
   ]
  },
  {
   "cell_type": "code",
   "execution_count": 8,
   "id": "d8ce6c3a",
   "metadata": {},
   "outputs": [],
   "source": [
    "state_shape_path = \"gadm41_USA_1.json\"\n",
    "grid_shape_path = \"needs_grid_regions_aggregated.geojson\"\n",
    "attach_state_to_buses(base_network, state_shape_path)\n",
    "attach_grid_region_to_buses(base_network, grid_shape_path)"
   ]
  },
  {
   "cell_type": "code",
   "execution_count": 9,
   "id": "cc0217ad",
   "metadata": {},
   "outputs": [],
   "source": [
    "country_code = \"US\"\n",
    "horizon = 2023\n",
    "\n",
    "three_country_code = convert_two_country_code_to_three(country_code)"
   ]
  },
  {
   "cell_type": "markdown",
   "id": "7df9157a-e3ff-4d01-b92c-680626ff92fb",
   "metadata": {},
   "source": [
    "---"
   ]
  },
  {
   "cell_type": "markdown",
   "id": "0c5117a6",
   "metadata": {},
   "source": [
    "## 2. Installed capacity \n",
    "\n",
    "This section validates the **installed generation capacities** by technology. We compare the capacities in the PyPSA network to those reported by EIA and Ember to ensure the model's infrastructure assumptions are consistent with real-world data."
   ]
  },
  {
   "cell_type": "code",
   "execution_count": 10,
   "id": "1e15851c",
   "metadata": {},
   "outputs": [],
   "source": [
    "installed_capacity_ember = get_installed_capacity_ember(\n",
    "        ember_data, three_country_code, horizon).round(2)\n",
    "\n",
    "EIA_inst_capacities = get_data_EIA(\n",
    "    eia_installed_capacities_path, country_code, horizon)\n",
    "EIA_inst_capacities = preprocess_eia_data(EIA_inst_capacities).round(2)\n",
    "\n",
    "installed_capacity_ember.rename({\n",
    "    \"Gas\": \"Natural gas\", \"Fossil fuels\": \"Oil\"\n",
    "}, inplace=True)"
   ]
  },
  {
   "cell_type": "code",
   "execution_count": 11,
   "id": "8bb0d232",
   "metadata": {},
   "outputs": [],
   "source": [
    "gen_carriers = {\n",
    "    \"onwind\", \"offwind-ac\", \"offwind-dc\", \"solar\", \"solar rooftop\",\n",
    "    \"csp\", \"nuclear\", \"geothermal\", \"ror\", \"PHS\", \"Reservoir & Dam\", 'hydro'\n",
    "}\n",
    "link_carriers = {\n",
    "    \"OCGT\", \"CCGT\", \"coal\", \"oil\", \"biomass\", \"biomass CHP\", \"gas CHP\"\n",
    "}\n",
    "\n",
    "# Generators\n",
    "gen = base_network.generators.copy()\n",
    "gen['carrier'] = gen['carrier'].replace({'offwind-ac': 'offwind', 'offwind-dc': 'offwind'})\n",
    "gen = gen[gen.carrier.isin(gen_carriers)]\n",
    "gen_totals = gen.groupby('carrier')['p_nom_opt'].sum()\n",
    "\n",
    "# Storage\n",
    "sto = base_network.storage_units.copy()\n",
    "sto = sto[sto.carrier.isin(gen_carriers)]\n",
    "sto_totals = sto.groupby('carrier')['p_nom_opt'].sum()\n",
    "\n",
    "# Links (output side scaled by efficiency)\n",
    "links = base_network.links.copy()\n",
    "mask = (\n",
    "    links.efficiency.notnull()\n",
    "    & (links.p_nom_opt > 0)\n",
    "    & links.carrier.isin(link_carriers)\n",
    ")\n",
    "links = links[mask]\n",
    "links_totals = links.groupby('carrier').apply(\n",
    "    lambda df: (df['p_nom_opt'] * df['efficiency']).sum()\n",
    ")\n",
    "\n",
    "# Combine all\n",
    "all_totals = pd.concat([gen_totals, sto_totals, links_totals])\n",
    "all_totals = all_totals.groupby(all_totals.index).sum()  # Merge duplicates\n",
    "all_totals = all_totals[all_totals > 0] / 1e3"
   ]
  },
  {
   "cell_type": "code",
   "execution_count": 12,
   "id": "63eea5e8",
   "metadata": {},
   "outputs": [],
   "source": [
    "pypsa_cap = all_totals.rename({\n",
    "    \"onwind\": \"Wind\", \"offwind\": \"Wind\", \"solar rooftop\": \"Solar\",\n",
    "    \"solar\": \"Solar\", \"ror\": \"Hydro\", \"Reservoir & Dam\": \"Hydro\",\n",
    "    \"geothermal\": \"Geothermal\", \"nuclear\": \"Nuclear\", \"hydro\": \"Hydropower\",\n",
    "    \"OCGT\": \"Natural gas\", \"CCGT\": \"Natural gas\", \"oil\": \"Oil\",\n",
    "    \"coal\": \"Coal\", \"biomass\": \"Biomass\",\n",
    "}).to_frame('PyPSA-Earth results').round(2).groupby(level=0).sum()"
   ]
  },
  {
   "cell_type": "code",
   "execution_count": 13,
   "id": "ceeee187",
   "metadata": {},
   "outputs": [
    {
     "data": {
      "text/html": [
       "<div>\n",
       "<style scoped>\n",
       "    .dataframe tbody tr th:only-of-type {\n",
       "        vertical-align: middle;\n",
       "    }\n",
       "\n",
       "    .dataframe tbody tr th {\n",
       "        vertical-align: top;\n",
       "    }\n",
       "\n",
       "    .dataframe thead th {\n",
       "        text-align: right;\n",
       "    }\n",
       "</style>\n",
       "<table border=\"1\" class=\"dataframe\">\n",
       "  <thead>\n",
       "    <tr style=\"text-align: right;\">\n",
       "      <th></th>\n",
       "      <th>PyPSA-Earth results</th>\n",
       "      <th>Ember data</th>\n",
       "      <th>EIA data</th>\n",
       "    </tr>\n",
       "  </thead>\n",
       "  <tbody>\n",
       "    <tr>\n",
       "      <th>Biomass</th>\n",
       "      <td>9.01</td>\n",
       "      <td>9.96</td>\n",
       "      <td>29.28</td>\n",
       "    </tr>\n",
       "    <tr>\n",
       "      <th>Coal</th>\n",
       "      <td>226.98</td>\n",
       "      <td>200.28</td>\n",
       "      <td>N/A</td>\n",
       "    </tr>\n",
       "    <tr>\n",
       "      <th>Geothermal</th>\n",
       "      <td>3.89</td>\n",
       "      <td>N/A</td>\n",
       "      <td>N/A</td>\n",
       "    </tr>\n",
       "    <tr>\n",
       "      <th>Hydro</th>\n",
       "      <td>10.44</td>\n",
       "      <td>86.66</td>\n",
       "      <td>79.99</td>\n",
       "    </tr>\n",
       "    <tr>\n",
       "      <th>Hydropower</th>\n",
       "      <td>69.54</td>\n",
       "      <td>N/A</td>\n",
       "      <td>N/A</td>\n",
       "    </tr>\n",
       "    <tr>\n",
       "      <th>Natural gas</th>\n",
       "      <td>556.69</td>\n",
       "      <td>542.93</td>\n",
       "      <td>N/A</td>\n",
       "    </tr>\n",
       "    <tr>\n",
       "      <th>Nuclear</th>\n",
       "      <td>99.96</td>\n",
       "      <td>95.77</td>\n",
       "      <td>95.75</td>\n",
       "    </tr>\n",
       "    <tr>\n",
       "      <th>Oil</th>\n",
       "      <td>32.52</td>\n",
       "      <td>32.16</td>\n",
       "      <td>N/A</td>\n",
       "    </tr>\n",
       "    <tr>\n",
       "      <th>PHS</th>\n",
       "      <td>22.01</td>\n",
       "      <td>N/A</td>\n",
       "      <td>23.15</td>\n",
       "    </tr>\n",
       "    <tr>\n",
       "      <th>Solar</th>\n",
       "      <td>116.97</td>\n",
       "      <td>139.21</td>\n",
       "      <td>139.77</td>\n",
       "    </tr>\n",
       "    <tr>\n",
       "      <th>Wind</th>\n",
       "      <td>133.42</td>\n",
       "      <td>148.02</td>\n",
       "      <td>147.44</td>\n",
       "    </tr>\n",
       "    <tr>\n",
       "      <th>Fossil fuels</th>\n",
       "      <td>816.19</td>\n",
       "      <td>775.37</td>\n",
       "      <td>717.28</td>\n",
       "    </tr>\n",
       "  </tbody>\n",
       "</table>\n",
       "</div>"
      ],
      "text/plain": [
       "              PyPSA-Earth results Ember data EIA data\n",
       "Biomass                      9.01       9.96    29.28\n",
       "Coal                       226.98     200.28      N/A\n",
       "Geothermal                   3.89        N/A      N/A\n",
       "Hydro                       10.44      86.66    79.99\n",
       "Hydropower                  69.54        N/A      N/A\n",
       "Natural gas                556.69     542.93      N/A\n",
       "Nuclear                     99.96      95.77    95.75\n",
       "Oil                         32.52      32.16      N/A\n",
       "PHS                         22.01        N/A    23.15\n",
       "Solar                      116.97     139.21   139.77\n",
       "Wind                       133.42     148.02   147.44\n",
       "Fossil fuels               816.19     775.37   717.28"
      ]
     },
     "execution_count": 13,
     "metadata": {},
     "output_type": "execute_result"
    }
   ],
   "source": [
    "pypsa_fossil_fuels = pypsa_cap.loc[[\"Natural gas\", \"Oil\", \"Coal\"]].sum().iloc[0]\n",
    "ember_fossil_fuels = installed_capacity_ember.loc[[\"Natural gas\", \"Oil\", \"Coal\"]].sum().iloc[0]\n",
    "\n",
    "pypsa_cap.loc['Fossil fuels'] = pypsa_fossil_fuels\n",
    "installed_capacity_ember.loc['Fossil fuels'] = ember_fossil_fuels\n",
    "\n",
    "installed_capacity_df = pd.concat(\n",
    "    [pypsa_cap, installed_capacity_ember, EIA_inst_capacities], axis=1).fillna(0)\n",
    "installed_capacity_df_na = installed_capacity_df.fillna(0).replace(0, \"N/A\")\n",
    "installed_capacity_df_na"
   ]
  },
  {
   "cell_type": "code",
   "execution_count": 14,
   "id": "bb57161a",
   "metadata": {},
   "outputs": [
    {
     "data": {
      "image/png": "[encoded data removed]",
      "text/plain": [
       "<Figure size 1200x600 with 1 Axes>"
      ]
     },
     "metadata": {},
     "output_type": "display_data"
    }
   ],
   "source": [
    "installed_capacity_df.plot(kind=\"bar\", figsize=(12, 6), width=0.8)\n",
    "plt.title(f\"Installed Capacity by Source in {horizon}\")\n",
    "plt.ylabel(\"Installed Capacity (GW)\")\n",
    "plt.xticks(rotation=0)\n",
    "plt.legend(loc='best')\n",
    "plt.tight_layout()"
   ]
  },
  {
   "cell_type": "markdown",
   "id": "f8f63a36-5917-43ee-bb9f-d1326b1c733a",
   "metadata": {},
   "source": [
    "---"
   ]
  },
  {
   "cell_type": "markdown",
   "id": "1df925eb-fb7b-43f6-848f-ea2fd4843fac",
   "metadata": {},
   "source": [
    "## 3. Electricity generation\n",
    "\n",
    "In this section, we compare the **annual electricity generation** by technology as reported by PyPSA-Earth, EIA, and Ember. This helps to identify any discrepancies in the modeled generation mix and total output."
   ]
  },
  {
   "cell_type": "code",
   "execution_count": 15,
   "id": "58e5f9d6-b135-4c6d-aff3-06f7f9334d6b",
   "metadata": {},
   "outputs": [],
   "source": [
    "# ember_data = load_ember_data()\n",
    "generation_data_ember = get_generation_capacity_ember_detail(\n",
    "        ember_data, three_country_code, horizon).round(2)\n",
    "generation_data_ember.drop(['Load shedding', 'Other Fossil'], inplace=True)\n",
    "\n",
    "eia_generation = get_data_EIA(eia_generation_path, country_code, horizon)\n",
    "eia_generation = preprocess_eia_data_detail(eia_generation).round(2)"
   ]
  },
  {
   "cell_type": "code",
   "execution_count": 16,
   "id": "c7b67ad1-52a0-4308-8881-1790f3f20476",
   "metadata": {},
   "outputs": [],
   "source": [
    "ac_balance = base_network.statistics.energy_balance().xs(\"AC\", level=2)\n",
    "ac_total = (ac_balance[ac_balance>0]/1e6).unstack().sum().rename({\n",
    "        \"CCGT\": \"Natural gas\",  \"OCGT\": \"Natural gas\", \"Csp\": \"Solar\",\n",
    "        \"biomass EOP\": \"Biomass\", \"biomass\": \"Biomass\", \"coal\": \"Coal\",\n",
    "        \"oil\": \"Oil\", \"urban central gas CHP\": \"Natural gas\", \n",
    "        \"urban central solid biomass CHP\": \"Biomass\",\n",
    "        \"solar\": \"Solar\", \"Run of River\": \"Hydropower\", \"Reservoir & Dam\": \"Hydro\",\n",
    "        \"Onshore Wind\": \"Wind\", \"offwind\": \"Wind\", \"Offshore Wind (DC)\": \"Wind\",\n",
    "    }).to_frame('PyPSA-Earth results').groupby(level=0).sum().round(2)\n",
    "\n",
    "pypsa_gen_final = ac_total[ac_total > 0].dropna()\n",
    "pypsa_gen_final.drop(['DC'], inplace=True)"
   ]
  },
  {
   "cell_type": "code",
   "execution_count": 17,
   "id": "e9d640de-4cf1-4937-8596-c9b9b3d06c66",
   "metadata": {},
   "outputs": [],
   "source": [
    "generation_df = pd.concat(\n",
    "    [pypsa_gen_final, generation_data_ember, eia_generation], axis=1).fillna(0)"
   ]
  },
  {
   "cell_type": "code",
   "execution_count": 18,
   "id": "1d1f26a9-30db-4dff-b1bc-45f28d590729",
   "metadata": {},
   "outputs": [
    {
     "data": {
      "image/png": "[encoded data removed]",
      "text/plain": [
       "<Figure size 1200x600 with 1 Axes>"
      ]
     },
     "metadata": {},
     "output_type": "display_data"
    }
   ],
   "source": [
    "generation_df.plot(kind=\"bar\", figsize=(12, 6), width=0.8)\n",
    "plt.title(f\"Electricity Generation by technology class - {horizon}\")\n",
    "plt.ylabel(\"Electricity Generation (TWh)\")\n",
    "plt.xticks(rotation=0)\n",
    "plt.legend(loc='upper right')\n",
    "plt.tight_layout()"
   ]
  },
  {
   "cell_type": "markdown",
   "id": "7788ebdf-a19b-4845-9841-dd69c646b8d7",
   "metadata": {},
   "source": [
    "---"
   ]
  },
  {
   "cell_type": "markdown",
   "id": "3e556ed9",
   "metadata": {},
   "source": [
    "## 4. Electricity demand\n",
    "\n",
    "Finally, we validate the **electricity demand** in the PyPSA network against the EIA and Ember datasets. This ensures that the modeled demand matches observed values for the base year."
   ]
  },
  {
   "cell_type": "markdown",
   "id": "02bf7374-1068-4b8c-9fd8-b9e6dcf5b63a",
   "metadata": {},
   "source": [
    "### 4.1 Total electricity demand\n",
    "\n",
    "*Total electricity demand in PyPSA-Earth (US) uses NREL as a reference (see the `scenario_analysis_single` notebook.*"
   ]
  },
  {
   "cell_type": "code",
   "execution_count": null,
   "id": "3118a06d",
   "metadata": {},
   "outputs": [],
   "source": []
  },
  {
   "cell_type": "markdown",
   "id": "26dab599",
   "metadata": {},
   "source": [
    "### 4.2 State-wise Total Electricity Demand\n",
    "\n",
    "*A bar plot showing the state-wise annual electricity demand for the base year (2023) to validate the quality of the spatial distribution of demand.*"
   ]
  },
  {
   "cell_type": "code",
   "execution_count": 19,
   "id": "277d50f2-b5f2-41e1-b1a1-92ac5b6ecf11",
   "metadata": {},
   "outputs": [],
   "source": [
    "demand_ember = get_demand_ember(ember_data, three_country_code, horizon)\n",
    "_, pypsa_demand =compute_demand(base_network)\n",
    "\n",
    "EIA_demand = preprocess_eia_demand(eia_demand_path, horizon)"
   ]
  },
  {
   "cell_type": "code",
   "execution_count": 20,
   "id": "cd4f33e7",
   "metadata": {},
   "outputs": [],
   "source": [
    "base_demand_grid_region, base_demand_state = compute_demand(base_network)"
   ]
  },
  {
   "cell_type": "code",
   "execution_count": 21,
   "id": "7943aba4",
   "metadata": {},
   "outputs": [],
   "source": [
    "demand_total =  pd.concat([EIA_demand, base_demand_state.sum(axis=1)], axis=1).rename({0: 'PyPSA-Earth'}, axis=1)"
   ]
  },
  {
   "cell_type": "code",
   "execution_count": 22,
   "id": "4558e59a",
   "metadata": {},
   "outputs": [
    {
     "data": {
      "application/vnd.plotly.v1+json": {
       "config": {
        "plotlyServerURL": "https://plot.ly"
       },
       "data": [
        {
         "alignmentgroup": "True",
         "hovertemplate": "variable=EIA<br>index=%{x}<br>value=%{y}<extra></extra>",
         "legendgroup": "EIA",
         "marker": {
          "color": "#636efa",
          "pattern": {
           "shape": ""
          }
         },
         "name": "EIA",
         "offsetgroup": "EIA",
         "orientation": "v",
         "showlegend": true,
         "textposition": "auto",
         "type": "bar",
         "x": [
          "AK",
          "AL",
          "AR",
          "AZ",
          "CA",
          "CO",
          "CT",
          "DC",
          "DE",
          "FL",
          "GA",
          "HI",
          "IA",
          "ID",
          "IL",
          "IN",
          "KS",
          "KY",
          "LA",
          "MA",
          "MD",
          "ME",
          "MI",
          "MN",
          "MO",
          "MS",
          "MT",
          "NC",
          "ND",
          "NE",
          "NH",
          "NJ",
          "NM",
          "NV",
          "NY",
          "OH",
          "OK",
          "OR",
          "PA",
          "RI",
          "SC",
          "SD",
          "TN",
          "TX",
          "UT",
          "VA",
          "VT",
          "WA",
          "WI",
          "WV",
          "WY"
         ],
         "xaxis": "x",
         "y": {
          "bdata": "mpmZmZkZGEC4HoXrUThVQFCNl24SU0hAiUFg5dB6VUCPwvUoXO9tQJzEILByyEtAj8L1KFyvOkDD9Shcj8IjQESLbOf7KSZArkfhehReb0CwcmiR7cBhQLTIdr6f2iFAMzMzMzMzS0AGgZVDi6w5QNEi2/l+UmBASOF6FK7/V0Atsp3vp4ZEQIPAyqFFzlFADi2yne/XV0Coxks3iQFJQE5iEFg5hExAeekmMQisJkAEVg4tsmVYQOf7qfHSjVBAWDm0yHY+U0C8dJMYBDZIQMP1KFyPAi9A9P3UeOmiYEDByqFFtjM8QAwCK4cWyUBAUI2XbhJDJUCR7Xw/NcZRQEa28/3UWDxAHVpkO98fQ0Av3SQGgW1hQI2XbhKDVGJALbKd76c+UUCuR+F6FP5MQJhuEoPAVmFATmIQWDk0HUCwcmiR7UxUQFCNl24SAytAbef7qfHCWECF61G4Hs1+QHnpJjEIrEBAke18PzWKYEDb+X5qvHQVQAisHFpkY1ZAarx0kxgkUUAMAiuHFglAQArXo3A9yjBA",
          "dtype": "f8"
         },
         "yaxis": "y"
        },
        {
         "alignmentgroup": "True",
         "hovertemplate": "variable=PyPSA-Earth<br>index=%{x}<br>value=%{y}<extra></extra>",
         "legendgroup": "PyPSA-Earth",
         "marker": {
          "color": "#EF553B",
          "pattern": {
           "shape": ""
          }
         },
         "name": "PyPSA-Earth",
         "offsetgroup": "PyPSA-Earth",
         "orientation": "v",
         "showlegend": true,
         "textposition": "auto",
         "type": "bar",
         "x": [
          "AK",
          "AL",
          "AR",
          "AZ",
          "CA",
          "CO",
          "CT",
          "DC",
          "DE",
          "FL",
          "GA",
          "HI",
          "IA",
          "ID",
          "IL",
          "IN",
          "KS",
          "KY",
          "LA",
          "MA",
          "MD",
          "ME",
          "MI",
          "MN",
          "MO",
          "MS",
          "MT",
          "NC",
          "ND",
          "NE",
          "NH",
          "NJ",
          "NM",
          "NV",
          "NY",
          "OH",
          "OK",
          "OR",
          "PA",
          "RI",
          "SC",
          "SD",
          "TN",
          "TX",
          "UT",
          "VA",
          "VT",
          "WA",
          "WI",
          "WV",
          "WY"
         ],
         "xaxis": "x",
         "y": {
          "bdata": "AAAAAAAABkBSuB6F63FRQPYoXI/C9TdASOF6FK5XUUDhehSuR1lyQM7MzMzM7E5AAAAAAAAA+H8AAAAAAAD4fwAAAAAAAPh/9ihcj8KNaUAzMzMzM3tiQJqZmZmZGSRApHA9CtczUEBcj8L1KLxDQHsUrkfhKlxAMjMzMzOzQ0A+CtejcF1AQFyPwvUoPFBAUrgehesRXUCQwvUoXM9TQHA9CtejQFZAAAAAAACAJ0AghetRuC5dQNejcD0K101AMzMzMzOjU0BSuB6F65E1QK5H4XoULipAC9ejcD3aWkCQwvUoXI87QI/C9ShcT0hAexSuR+F6tD8AAAAAAAD4f7kehetRmEZArkfhehTuP0CamZmZmflpQJqZmZmZoWJAFK5H4XpEUUB7FK5H4fpAQFK4HoXrcWxAAAAAAAAA+H/D9Shcj7JRQD0K16NwvSFAHoXrUbi+W0B6FK5H4YZ5QChcj8L1KDpAkML1KFxvVkAAAAAAAAD4f9ijcD0K91FAkML1KFz/UUDiehSuRyFBQCpcj8L1KCVA",
          "dtype": "f8"
         },
         "yaxis": "y"
        }
       ],
       "layout": {
        "barmode": "group",
        "height": 700,
        "legend": {
         "title": {
          "text": "variable"
         },
         "tracegroupgap": 0
        },
        "margin": {
         "t": 60
        },
        "template": {
         "data": {
          "bar": [
           {
            "error_x": {
             "color": "#2a3f5f"
            },
            "error_y": {
             "color": "#2a3f5f"
            },
            "marker": {
             "line": {
              "color": "#E5ECF6",
              "width": 0.5
             },
             "pattern": {
              "fillmode": "overlay",
              "size": 10,
              "solidity": 0.2
             }
            },
            "type": "bar"
           }
          ],
          "barpolar": [
           {
            "marker": {
             "line": {
              "color": "#E5ECF6",
              "width": 0.5
             },
             "pattern": {
              "fillmode": "overlay",
              "size": 10,
              "solidity": 0.2
             }
            },
            "type": "barpolar"
           }
          ],
          "carpet": [
           {
            "aaxis": {
             "endlinecolor": "#2a3f5f",
             "gridcolor": "white",
             "linecolor": "white",
             "minorgridcolor": "white",
             "startlinecolor": "#2a3f5f"
            },
            "baxis": {
             "endlinecolor": "#2a3f5f",
             "gridcolor": "white",
             "linecolor": "white",
             "minorgridcolor": "white",
             "startlinecolor": "#2a3f5f"
            },
            "type": "carpet"
           }
          ],
          "choropleth": [
           {
            "colorbar": {
             "outlinewidth": 0,
             "ticks": ""
            },
            "type": "choropleth"
           }
          ],
          "contour": [
           {
            "colorbar": {
             "outlinewidth": 0,
             "ticks": ""
            },
            "colorscale": [
             [
              0,
              "#0d0887"
             ],
             [
              0.1111111111111111,
              "#46039f"
             ],
             [
              0.2222222222222222,
              "#7201a8"
             ],
             [
              0.3333333333333333,
              "#9c179e"
             ],
             [
              0.4444444444444444,
              "#bd3786"
             ],
             [
              0.5555555555555556,
              "#d8576b"
             ],
             [
              0.6666666666666666,
              "#ed7953"
             ],
             [
              0.7777777777777778,
              "#fb9f3a"
             ],
             [
              0.8888888888888888,
              "#fdca26"
             ],
             [
              1,
              "#f0f921"
             ]
            ],
            "type": "contour"
           }
          ],
          "contourcarpet": [
           {
            "colorbar": {
             "outlinewidth": 0,
             "ticks": ""
            },
            "type": "contourcarpet"
           }
          ],
          "heatmap": [
           {
            "colorbar": {
             "outlinewidth": 0,
             "ticks": ""
            },
            "colorscale": [
             [
              0,
              "#0d0887"
             ],
             [
              0.1111111111111111,
              "#46039f"
             ],
             [
              0.2222222222222222,
              "#7201a8"
             ],
             [
              0.3333333333333333,
              "#9c179e"
             ],
             [
              0.4444444444444444,
              "#bd3786"
             ],
             [
              0.5555555555555556,
              "#d8576b"
             ],
             [
              0.6666666666666666,
              "#ed7953"
             ],
             [
              0.7777777777777778,
              "#fb9f3a"
             ],
             [
              0.8888888888888888,
              "#fdca26"
             ],
             [
              1,
              "#f0f921"
             ]
            ],
            "type": "heatmap"
           }
          ],
          "histogram": [
           {
            "marker": {
             "pattern": {
              "fillmode": "overlay",
              "size": 10,
              "solidity": 0.2
             }
            },
            "type": "histogram"
           }
          ],
          "histogram2d": [
           {
            "colorbar": {
             "outlinewidth": 0,
             "ticks": ""
            },
            "colorscale": [
             [
              0,
              "#0d0887"
             ],
             [
              0.1111111111111111,
              "#46039f"
             ],
             [
              0.2222222222222222,
              "#7201a8"
             ],
             [
              0.3333333333333333,
              "#9c179e"
             ],
             [
              0.4444444444444444,
              "#bd3786"
             ],
             [
              0.5555555555555556,
              "#d8576b"
             ],
             [
              0.6666666666666666,
              "#ed7953"
             ],
             [
              0.7777777777777778,
              "#fb9f3a"
             ],
             [
              0.8888888888888888,
              "#fdca26"
             ],
             [
              1,
              "#f0f921"
             ]
            ],
            "type": "histogram2d"
           }
          ],
          "histogram2dcontour": [
           {
            "colorbar": {
             "outlinewidth": 0,
             "ticks": ""
            },
            "colorscale": [
             [
              0,
              "#0d0887"
             ],
             [
              0.1111111111111111,
              "#46039f"
             ],
             [
              0.2222222222222222,
              "#7201a8"
             ],
             [
              0.3333333333333333,
              "#9c179e"
             ],
             [
              0.4444444444444444,
              "#bd3786"
             ],
             [
              0.5555555555555556,
              "#d8576b"
             ],
             [
              0.6666666666666666,
              "#ed7953"
             ],
             [
              0.7777777777777778,
              "#fb9f3a"
             ],
             [
              0.8888888888888888,
              "#fdca26"
             ],
             [
              1,
              "#f0f921"
             ]
            ],
            "type": "histogram2dcontour"
           }
          ],
          "mesh3d": [
           {
            "colorbar": {
             "outlinewidth": 0,
             "ticks": ""
            },
            "type": "mesh3d"
           }
          ],
          "parcoords": [
           {
            "line": {
             "colorbar": {
              "outlinewidth": 0,
              "ticks": ""
             }
            },
            "type": "parcoords"
           }
          ],
          "pie": [
           {
            "automargin": true,
            "type": "pie"
           }
          ],
          "scatter": [
           {
            "fillpattern": {
             "fillmode": "overlay",
             "size": 10,
             "solidity": 0.2
            },
            "type": "scatter"
           }
          ],
          "scatter3d": [
           {
            "line": {
             "colorbar": {
              "outlinewidth": 0,
              "ticks": ""
             }
            },
            "marker": {
             "colorbar": {
              "outlinewidth": 0,
              "ticks": ""
             }
            },
            "type": "scatter3d"
           }
          ],
          "scattercarpet": [
           {
            "marker": {
             "colorbar": {
              "outlinewidth": 0,
              "ticks": ""
             }
            },
            "type": "scattercarpet"
           }
          ],
          "scattergeo": [
           {
            "marker": {
             "colorbar": {
              "outlinewidth": 0,
              "ticks": ""
             }
            },
            "type": "scattergeo"
           }
          ],
          "scattergl": [
           {
            "marker": {
             "colorbar": {
              "outlinewidth": 0,
              "ticks": ""
             }
            },
            "type": "scattergl"
           }
          ],
          "scattermap": [
           {
            "marker": {
             "colorbar": {
              "outlinewidth": 0,
              "ticks": ""
             }
            },
            "type": "scattermap"
           }
          ],
          "scattermapbox": [
           {
            "marker": {
             "colorbar": {
              "outlinewidth": 0,
              "ticks": ""
             }
            },
            "type": "scattermapbox"
           }
          ],
          "scatterpolar": [
           {
            "marker": {
             "colorbar": {
              "outlinewidth": 0,
              "ticks": ""
             }
            },
            "type": "scatterpolar"
           }
          ],
          "scatterpolargl": [
           {
            "marker": {
             "colorbar": {
              "outlinewidth": 0,
              "ticks": ""
             }
            },
            "type": "scatterpolargl"
           }
          ],
          "scatterternary": [
           {
            "marker": {
             "colorbar": {
              "outlinewidth": 0,
              "ticks": ""
             }
            },
            "type": "scatterternary"
           }
          ],
          "surface": [
           {
            "colorbar": {
             "outlinewidth": 0,
             "ticks": ""
            },
            "colorscale": [
             [
              0,
              "#0d0887"
             ],
             [
              0.1111111111111111,
              "#46039f"
             ],
             [
              0.2222222222222222,
              "#7201a8"
             ],
             [
              0.3333333333333333,
              "#9c179e"
             ],
             [
              0.4444444444444444,
              "#bd3786"
             ],
             [
              0.5555555555555556,
              "#d8576b"
             ],
             [
              0.6666666666666666,
              "#ed7953"
             ],
             [
              0.7777777777777778,
              "#fb9f3a"
             ],
             [
              0.8888888888888888,
              "#fdca26"
             ],
             [
              1,
              "#f0f921"
             ]
            ],
            "type": "surface"
           }
          ],
          "table": [
           {
            "cells": {
             "fill": {
              "color": "#EBF0F8"
             },
             "line": {
              "color": "white"
             }
            },
            "header": {
             "fill": {
              "color": "#C8D4E3"
             },
             "line": {
              "color": "white"
             }
            },
            "type": "table"
           }
          ]
         },
         "layout": {
          "annotationdefaults": {
           "arrowcolor": "#2a3f5f",
           "arrowhead": 0,
           "arrowwidth": 1
          },
          "autotypenumbers": "strict",
          "coloraxis": {
           "colorbar": {
            "outlinewidth": 0,
            "ticks": ""
           }
          },
          "colorscale": {
           "diverging": [
            [
             0,
             "#8e0152"
            ],
            [
             0.1,
             "#c51b7d"
            ],
            [
             0.2,
             "#de77ae"
            ],
            [
             0.3,
             "#f1b6da"
            ],
            [
             0.4,
             "#fde0ef"
            ],
            [
             0.5,
             "#f7f7f7"
            ],
            [
             0.6,
             "#e6f5d0"
            ],
            [
             0.7,
             "#b8e186"
            ],
            [
             0.8,
             "#7fbc41"
            ],
            [
             0.9,
             "#4d9221"
            ],
            [
             1,
             "#276419"
            ]
           ],
           "sequential": [
            [
             0,
             "#0d0887"
            ],
            [
             0.1111111111111111,
             "#46039f"
            ],
            [
             0.2222222222222222,
             "#7201a8"
            ],
            [
             0.3333333333333333,
             "#9c179e"
            ],
            [
             0.4444444444444444,
             "#bd3786"
            ],
            [
             0.5555555555555556,
             "#d8576b"
            ],
            [
             0.6666666666666666,
             "#ed7953"
            ],
            [
             0.7777777777777778,
             "#fb9f3a"
            ],
            [
             0.8888888888888888,
             "#fdca26"
            ],
            [
             1,
             "#f0f921"
            ]
           ],
           "sequentialminus": [
            [
             0,
             "#0d0887"
            ],
            [
             0.1111111111111111,
             "#46039f"
            ],
            [
             0.2222222222222222,
             "#7201a8"
            ],
            [
             0.3333333333333333,
             "#9c179e"
            ],
            [
             0.4444444444444444,
             "#bd3786"
            ],
            [
             0.5555555555555556,
             "#d8576b"
            ],
            [
             0.6666666666666666,
             "#ed7953"
            ],
            [
             0.7777777777777778,
             "#fb9f3a"
            ],
            [
             0.8888888888888888,
             "#fdca26"
            ],
            [
             1,
             "#f0f921"
            ]
           ]
          },
          "colorway": [
           "#636efa",
           "#EF553B",
           "#00cc96",
           "#ab63fa",
           "#FFA15A",
           "#19d3f3",
           "#FF6692",
           "#B6E880",
           "#FF97FF",
           "#FECB52"
          ],
          "font": {
           "color": "#2a3f5f"
          },
          "geo": {
           "bgcolor": "white",
           "lakecolor": "white",
           "landcolor": "#E5ECF6",
           "showlakes": true,
           "showland": true,
           "subunitcolor": "white"
          },
          "hoverlabel": {
           "align": "left"
          },
          "hovermode": "closest",
          "mapbox": {
           "style": "light"
          },
          "paper_bgcolor": "white",
          "plot_bgcolor": "#E5ECF6",
          "polar": {
           "angularaxis": {
            "gridcolor": "white",
            "linecolor": "white",
            "ticks": ""
           },
           "bgcolor": "#E5ECF6",
           "radialaxis": {
            "gridcolor": "white",
            "linecolor": "white",
            "ticks": ""
           }
          },
          "scene": {
           "xaxis": {
            "backgroundcolor": "#E5ECF6",
            "gridcolor": "white",
            "gridwidth": 2,
            "linecolor": "white",
            "showbackground": true,
            "ticks": "",
            "zerolinecolor": "white"
           },
           "yaxis": {
            "backgroundcolor": "#E5ECF6",
            "gridcolor": "white",
            "gridwidth": 2,
            "linecolor": "white",
            "showbackground": true,
            "ticks": "",
            "zerolinecolor": "white"
           },
           "zaxis": {
            "backgroundcolor": "#E5ECF6",
            "gridcolor": "white",
            "gridwidth": 2,
            "linecolor": "white",
            "showbackground": true,
            "ticks": "",
            "zerolinecolor": "white"
           }
          },
          "shapedefaults": {
           "line": {
            "color": "#2a3f5f"
           }
          },
          "ternary": {
           "aaxis": {
            "gridcolor": "white",
            "linecolor": "white",
            "ticks": ""
           },
           "baxis": {
            "gridcolor": "white",
            "linecolor": "white",
            "ticks": ""
           },
           "bgcolor": "#E5ECF6",
           "caxis": {
            "gridcolor": "white",
            "linecolor": "white",
            "ticks": ""
           }
          },
          "title": {
           "x": 0.05
          },
          "xaxis": {
           "automargin": true,
           "gridcolor": "white",
           "linecolor": "white",
           "ticks": "",
           "title": {
            "standoff": 15
           },
           "zerolinecolor": "white",
           "zerolinewidth": 2
          },
          "yaxis": {
           "automargin": true,
           "gridcolor": "white",
           "linecolor": "white",
           "ticks": "",
           "title": {
            "standoff": 15
           },
           "zerolinecolor": "white",
           "zerolinewidth": 2
          }
         }
        },
        "title": {
         "text": "Electricity Demand for 2023"
        },
        "width": 2500,
        "xaxis": {
         "anchor": "y",
         "domain": [
          0,
          1
         ],
         "title": {
          "text": "States"
         }
        },
        "yaxis": {
         "anchor": "x",
         "domain": [
          0,
          1
         ],
         "title": {
          "text": "Demand (TWh)"
         }
        }
       }
      },
      "image/png": "[encoded data removed]"
     },
     "metadata": {},
     "output_type": "display_data"
    }
   ],
   "source": [
    "fig = px.bar(demand_total, barmode='group')\n",
    "fig.update_layout(width=2500, \n",
    "                  height=700, \n",
    "                  yaxis_title='Demand (TWh)',\n",
    "                  xaxis_title='States',\n",
    "                  title=f'Electricity Demand for {horizon}')\n",
    "fig.show()"
   ]
  },
  {
   "cell_type": "code",
   "execution_count": 23,
   "id": "a19915d5",
   "metadata": {},
   "outputs": [
    {
     "data": {
      "text/html": [
       "<div>\n",
       "<style scoped>\n",
       "    .dataframe tbody tr th:only-of-type {\n",
       "        vertical-align: middle;\n",
       "    }\n",
       "\n",
       "    .dataframe tbody tr th {\n",
       "        vertical-align: top;\n",
       "    }\n",
       "\n",
       "    .dataframe thead th {\n",
       "        text-align: right;\n",
       "    }\n",
       "</style>\n",
       "<table border=\"1\" class=\"dataframe\">\n",
       "  <thead>\n",
       "    <tr style=\"text-align: right;\">\n",
       "      <th>region</th>\n",
       "      <th>Alaska</th>\n",
       "      <th>California</th>\n",
       "      <th>Delta</th>\n",
       "      <th>Florida</th>\n",
       "      <th>Hawaii</th>\n",
       "      <th>Mid-Atlantic</th>\n",
       "      <th>Midwest</th>\n",
       "      <th>Mountain</th>\n",
       "      <th>New England</th>\n",
       "      <th>New York</th>\n",
       "      <th>Northwest</th>\n",
       "      <th>Plains</th>\n",
       "      <th>Southeast</th>\n",
       "      <th>Southwest</th>\n",
       "      <th>Texas</th>\n",
       "    </tr>\n",
       "    <tr>\n",
       "      <th>carrier</th>\n",
       "      <th></th>\n",
       "      <th></th>\n",
       "      <th></th>\n",
       "      <th></th>\n",
       "      <th></th>\n",
       "      <th></th>\n",
       "      <th></th>\n",
       "      <th></th>\n",
       "      <th></th>\n",
       "      <th></th>\n",
       "      <th></th>\n",
       "      <th></th>\n",
       "      <th></th>\n",
       "      <th></th>\n",
       "      <th></th>\n",
       "    </tr>\n",
       "  </thead>\n",
       "  <tbody>\n",
       "    <tr>\n",
       "      <th>AC</th>\n",
       "      <td>0.79</td>\n",
       "      <td>93.45</td>\n",
       "      <td>62.43</td>\n",
       "      <td>86.00</td>\n",
       "      <td>3.21</td>\n",
       "      <td>294.25</td>\n",
       "      <td>175.19</td>\n",
       "      <td>49.63</td>\n",
       "      <td>31.86</td>\n",
       "      <td>68.20</td>\n",
       "      <td>64.13</td>\n",
       "      <td>112.19</td>\n",
       "      <td>224.31</td>\n",
       "      <td>56.55</td>\n",
       "      <td>149.50</td>\n",
       "    </tr>\n",
       "    <tr>\n",
       "      <th>agriculture electricity</th>\n",
       "      <td>0.06</td>\n",
       "      <td>5.55</td>\n",
       "      <td>1.62</td>\n",
       "      <td>2.17</td>\n",
       "      <td>0.25</td>\n",
       "      <td>10.13</td>\n",
       "      <td>7.09</td>\n",
       "      <td>3.56</td>\n",
       "      <td>1.76</td>\n",
       "      <td>4.36</td>\n",
       "      <td>2.50</td>\n",
       "      <td>3.98</td>\n",
       "      <td>8.33</td>\n",
       "      <td>2.30</td>\n",
       "      <td>3.64</td>\n",
       "    </tr>\n",
       "    <tr>\n",
       "      <th>industry electricity</th>\n",
       "      <td>1.10</td>\n",
       "      <td>69.15</td>\n",
       "      <td>38.91</td>\n",
       "      <td>17.47</td>\n",
       "      <td>3.36</td>\n",
       "      <td>153.96</td>\n",
       "      <td>88.76</td>\n",
       "      <td>36.51</td>\n",
       "      <td>26.10</td>\n",
       "      <td>67.34</td>\n",
       "      <td>26.61</td>\n",
       "      <td>48.15</td>\n",
       "      <td>77.29</td>\n",
       "      <td>18.16</td>\n",
       "      <td>59.59</td>\n",
       "    </tr>\n",
       "    <tr>\n",
       "      <th>land transport EV</th>\n",
       "      <td>0.08</td>\n",
       "      <td>6.66</td>\n",
       "      <td>1.90</td>\n",
       "      <td>2.49</td>\n",
       "      <td>0.29</td>\n",
       "      <td>12.41</td>\n",
       "      <td>8.81</td>\n",
       "      <td>4.44</td>\n",
       "      <td>2.20</td>\n",
       "      <td>5.42</td>\n",
       "      <td>3.11</td>\n",
       "      <td>4.83</td>\n",
       "      <td>9.86</td>\n",
       "      <td>2.75</td>\n",
       "      <td>4.25</td>\n",
       "    </tr>\n",
       "    <tr>\n",
       "      <th>rail transport electricity</th>\n",
       "      <td>0.01</td>\n",
       "      <td>0.54</td>\n",
       "      <td>0.16</td>\n",
       "      <td>0.21</td>\n",
       "      <td>0.02</td>\n",
       "      <td>0.97</td>\n",
       "      <td>0.69</td>\n",
       "      <td>0.34</td>\n",
       "      <td>0.17</td>\n",
       "      <td>0.43</td>\n",
       "      <td>0.24</td>\n",
       "      <td>0.40</td>\n",
       "      <td>0.80</td>\n",
       "      <td>0.23</td>\n",
       "      <td>0.35</td>\n",
       "    </tr>\n",
       "    <tr>\n",
       "      <th>services electricity</th>\n",
       "      <td>0.71</td>\n",
       "      <td>85.03</td>\n",
       "      <td>56.79</td>\n",
       "      <td>78.25</td>\n",
       "      <td>2.92</td>\n",
       "      <td>267.71</td>\n",
       "      <td>159.39</td>\n",
       "      <td>45.15</td>\n",
       "      <td>28.98</td>\n",
       "      <td>62.05</td>\n",
       "      <td>58.34</td>\n",
       "      <td>102.08</td>\n",
       "      <td>204.06</td>\n",
       "      <td>51.45</td>\n",
       "      <td>136.01</td>\n",
       "    </tr>\n",
       "  </tbody>\n",
       "</table>\n",
       "</div>"
      ],
      "text/plain": [
       "region                      Alaska  California  Delta  Florida  Hawaii  \\\n",
       "carrier                                                                  \n",
       "AC                            0.79       93.45  62.43    86.00    3.21   \n",
       "agriculture electricity       0.06        5.55   1.62     2.17    0.25   \n",
       "industry electricity          1.10       69.15  38.91    17.47    3.36   \n",
       "land transport EV             0.08        6.66   1.90     2.49    0.29   \n",
       "rail transport electricity    0.01        0.54   0.16     0.21    0.02   \n",
       "services electricity          0.71       85.03  56.79    78.25    2.92   \n",
       "\n",
       "region                      Mid-Atlantic  Midwest  Mountain  New England  \\\n",
       "carrier                                                                    \n",
       "AC                                294.25   175.19     49.63        31.86   \n",
       "agriculture electricity            10.13     7.09      3.56         1.76   \n",
       "industry electricity              153.96    88.76     36.51        26.10   \n",
       "land transport EV                  12.41     8.81      4.44         2.20   \n",
       "rail transport electricity          0.97     0.69      0.34         0.17   \n",
       "services electricity              267.71   159.39     45.15        28.98   \n",
       "\n",
       "region                      New York  Northwest  Plains  Southeast  Southwest  \\\n",
       "carrier                                                                         \n",
       "AC                             68.20      64.13  112.19     224.31      56.55   \n",
       "agriculture electricity         4.36       2.50    3.98       8.33       2.30   \n",
       "industry electricity           67.34      26.61   48.15      77.29      18.16   \n",
       "land transport EV               5.42       3.11    4.83       9.86       2.75   \n",
       "rail transport electricity      0.43       0.24    0.40       0.80       0.23   \n",
       "services electricity           62.05      58.34  102.08     204.06      51.45   \n",
       "\n",
       "region                       Texas  \n",
       "carrier                             \n",
       "AC                          149.50  \n",
       "agriculture electricity       3.64  \n",
       "industry electricity         59.59  \n",
       "land transport EV             4.25  \n",
       "rail transport electricity    0.35  \n",
       "services electricity        136.01  "
      ]
     },
     "execution_count": 23,
     "metadata": {},
     "output_type": "execute_result"
    }
   ],
   "source": [
    "base_demand_grid_region.T"
   ]
  },
  {
   "cell_type": "code",
   "execution_count": 24,
   "id": "beabfee0",
   "metadata": {},
   "outputs": [
    {
     "data": {
      "text/html": [
       "<div>\n",
       "<style scoped>\n",
       "    .dataframe tbody tr th:only-of-type {\n",
       "        vertical-align: middle;\n",
       "    }\n",
       "\n",
       "    .dataframe tbody tr th {\n",
       "        vertical-align: top;\n",
       "    }\n",
       "\n",
       "    .dataframe thead th {\n",
       "        text-align: right;\n",
       "    }\n",
       "</style>\n",
       "<table border=\"1\" class=\"dataframe\">\n",
       "  <thead>\n",
       "    <tr style=\"text-align: right;\">\n",
       "      <th>region</th>\n",
       "      <th>AK</th>\n",
       "      <th>AL</th>\n",
       "      <th>AR</th>\n",
       "      <th>AZ</th>\n",
       "      <th>CA</th>\n",
       "      <th>CO</th>\n",
       "      <th>FL</th>\n",
       "      <th>GA</th>\n",
       "      <th>HI</th>\n",
       "      <th>IA</th>\n",
       "      <th>ID</th>\n",
       "      <th>IL</th>\n",
       "      <th>IN</th>\n",
       "      <th>KS</th>\n",
       "      <th>KY</th>\n",
       "      <th>LA</th>\n",
       "      <th>MA</th>\n",
       "      <th>MD</th>\n",
       "      <th>ME</th>\n",
       "      <th>MI</th>\n",
       "      <th>MN</th>\n",
       "      <th>MO</th>\n",
       "      <th>MS</th>\n",
       "      <th>MT</th>\n",
       "      <th>NC</th>\n",
       "      <th>ND</th>\n",
       "      <th>NE</th>\n",
       "      <th>NH</th>\n",
       "      <th>NM</th>\n",
       "      <th>NV</th>\n",
       "      <th>NY</th>\n",
       "      <th>OH</th>\n",
       "      <th>OK</th>\n",
       "      <th>OR</th>\n",
       "      <th>PA</th>\n",
       "      <th>SC</th>\n",
       "      <th>SD</th>\n",
       "      <th>TN</th>\n",
       "      <th>TX</th>\n",
       "      <th>UT</th>\n",
       "      <th>VA</th>\n",
       "      <th>WA</th>\n",
       "      <th>WI</th>\n",
       "      <th>WV</th>\n",
       "      <th>WY</th>\n",
       "    </tr>\n",
       "    <tr>\n",
       "      <th>carrier</th>\n",
       "      <th></th>\n",
       "      <th></th>\n",
       "      <th></th>\n",
       "      <th></th>\n",
       "      <th></th>\n",
       "      <th></th>\n",
       "      <th></th>\n",
       "      <th></th>\n",
       "      <th></th>\n",
       "      <th></th>\n",
       "      <th></th>\n",
       "      <th></th>\n",
       "      <th></th>\n",
       "      <th></th>\n",
       "      <th></th>\n",
       "      <th></th>\n",
       "      <th></th>\n",
       "      <th></th>\n",
       "      <th></th>\n",
       "      <th></th>\n",
       "      <th></th>\n",
       "      <th></th>\n",
       "      <th></th>\n",
       "      <th></th>\n",
       "      <th></th>\n",
       "      <th></th>\n",
       "      <th></th>\n",
       "      <th></th>\n",
       "      <th></th>\n",
       "      <th></th>\n",
       "      <th></th>\n",
       "      <th></th>\n",
       "      <th></th>\n",
       "      <th></th>\n",
       "      <th></th>\n",
       "      <th></th>\n",
       "      <th></th>\n",
       "      <th></th>\n",
       "      <th></th>\n",
       "      <th></th>\n",
       "      <th></th>\n",
       "      <th></th>\n",
       "      <th></th>\n",
       "      <th></th>\n",
       "      <th></th>\n",
       "    </tr>\n",
       "  </thead>\n",
       "  <tbody>\n",
       "    <tr>\n",
       "      <th>AC</th>\n",
       "      <td>0.79</td>\n",
       "      <td>30.60</td>\n",
       "      <td>11.03</td>\n",
       "      <td>31.64</td>\n",
       "      <td>100.66</td>\n",
       "      <td>23.92</td>\n",
       "      <td>90.43</td>\n",
       "      <td>64.14</td>\n",
       "      <td>3.21</td>\n",
       "      <td>27.06</td>\n",
       "      <td>14.73</td>\n",
       "      <td>44.61</td>\n",
       "      <td>16.33</td>\n",
       "      <td>11.91</td>\n",
       "      <td>25.73</td>\n",
       "      <td>42.05</td>\n",
       "      <td>27.68</td>\n",
       "      <td>34.03</td>\n",
       "      <td>4.18</td>\n",
       "      <td>50.51</td>\n",
       "      <td>24.26</td>\n",
       "      <td>31.82</td>\n",
       "      <td>9.35</td>\n",
       "      <td>5.27</td>\n",
       "      <td>47.59</td>\n",
       "      <td>11.81</td>\n",
       "      <td>19.60</td>\n",
       "      <td>0.00</td>\n",
       "      <td>17.63</td>\n",
       "      <td>11.61</td>\n",
       "      <td>68.20</td>\n",
       "      <td>60.49</td>\n",
       "      <td>31.07</td>\n",
       "      <td>15.80</td>\n",
       "      <td>82.08</td>\n",
       "      <td>30.88</td>\n",
       "      <td>3.34</td>\n",
       "      <td>46.67</td>\n",
       "      <td>173.38</td>\n",
       "      <td>11.57</td>\n",
       "      <td>40.06</td>\n",
       "      <td>29.09</td>\n",
       "      <td>27.56</td>\n",
       "      <td>12.66</td>\n",
       "      <td>4.66</td>\n",
       "    </tr>\n",
       "    <tr>\n",
       "      <th>agriculture electricity</th>\n",
       "      <td>0.06</td>\n",
       "      <td>0.70</td>\n",
       "      <td>0.22</td>\n",
       "      <td>0.99</td>\n",
       "      <td>7.12</td>\n",
       "      <td>1.38</td>\n",
       "      <td>3.06</td>\n",
       "      <td>2.46</td>\n",
       "      <td>0.25</td>\n",
       "      <td>0.91</td>\n",
       "      <td>1.09</td>\n",
       "      <td>1.61</td>\n",
       "      <td>0.65</td>\n",
       "      <td>0.59</td>\n",
       "      <td>1.03</td>\n",
       "      <td>1.14</td>\n",
       "      <td>1.51</td>\n",
       "      <td>1.37</td>\n",
       "      <td>0.25</td>\n",
       "      <td>1.47</td>\n",
       "      <td>0.77</td>\n",
       "      <td>1.15</td>\n",
       "      <td>0.26</td>\n",
       "      <td>0.17</td>\n",
       "      <td>1.52</td>\n",
       "      <td>0.31</td>\n",
       "      <td>0.74</td>\n",
       "      <td>0.00</td>\n",
       "      <td>0.98</td>\n",
       "      <td>0.93</td>\n",
       "      <td>4.36</td>\n",
       "      <td>2.14</td>\n",
       "      <td>0.56</td>\n",
       "      <td>0.31</td>\n",
       "      <td>3.65</td>\n",
       "      <td>1.11</td>\n",
       "      <td>0.17</td>\n",
       "      <td>1.65</td>\n",
       "      <td>4.39</td>\n",
       "      <td>0.35</td>\n",
       "      <td>0.94</td>\n",
       "      <td>1.01</td>\n",
       "      <td>1.41</td>\n",
       "      <td>0.48</td>\n",
       "      <td>0.08</td>\n",
       "    </tr>\n",
       "    <tr>\n",
       "      <th>industry electricity</th>\n",
       "      <td>1.10</td>\n",
       "      <td>9.75</td>\n",
       "      <td>2.40</td>\n",
       "      <td>6.68</td>\n",
       "      <td>84.92</td>\n",
       "      <td>12.93</td>\n",
       "      <td>24.83</td>\n",
       "      <td>19.77</td>\n",
       "      <td>3.36</td>\n",
       "      <td>11.01</td>\n",
       "      <td>8.79</td>\n",
       "      <td>23.72</td>\n",
       "      <td>6.71</td>\n",
       "      <td>8.62</td>\n",
       "      <td>13.41</td>\n",
       "      <td>33.39</td>\n",
       "      <td>22.85</td>\n",
       "      <td>20.86</td>\n",
       "      <td>3.18</td>\n",
       "      <td>16.83</td>\n",
       "      <td>11.53</td>\n",
       "      <td>15.12</td>\n",
       "      <td>3.12</td>\n",
       "      <td>2.63</td>\n",
       "      <td>13.06</td>\n",
       "      <td>4.26</td>\n",
       "      <td>9.41</td>\n",
       "      <td>0.07</td>\n",
       "      <td>9.28</td>\n",
       "      <td>7.61</td>\n",
       "      <td>67.34</td>\n",
       "      <td>28.56</td>\n",
       "      <td>8.45</td>\n",
       "      <td>3.05</td>\n",
       "      <td>62.33</td>\n",
       "      <td>9.29</td>\n",
       "      <td>2.08</td>\n",
       "      <td>18.06</td>\n",
       "      <td>67.37</td>\n",
       "      <td>3.25</td>\n",
       "      <td>11.06</td>\n",
       "      <td>13.95</td>\n",
       "      <td>16.03</td>\n",
       "      <td>8.96</td>\n",
       "      <td>1.48</td>\n",
       "    </tr>\n",
       "    <tr>\n",
       "      <th>land transport EV</th>\n",
       "      <td>0.08</td>\n",
       "      <td>0.82</td>\n",
       "      <td>0.26</td>\n",
       "      <td>1.17</td>\n",
       "      <td>8.60</td>\n",
       "      <td>1.72</td>\n",
       "      <td>3.53</td>\n",
       "      <td>2.90</td>\n",
       "      <td>0.29</td>\n",
       "      <td>1.12</td>\n",
       "      <td>1.36</td>\n",
       "      <td>1.98</td>\n",
       "      <td>0.79</td>\n",
       "      <td>0.71</td>\n",
       "      <td>1.26</td>\n",
       "      <td>1.33</td>\n",
       "      <td>1.87</td>\n",
       "      <td>1.66</td>\n",
       "      <td>0.32</td>\n",
       "      <td>1.84</td>\n",
       "      <td>0.97</td>\n",
       "      <td>1.39</td>\n",
       "      <td>0.31</td>\n",
       "      <td>0.21</td>\n",
       "      <td>1.81</td>\n",
       "      <td>0.39</td>\n",
       "      <td>0.97</td>\n",
       "      <td>0.01</td>\n",
       "      <td>1.16</td>\n",
       "      <td>1.13</td>\n",
       "      <td>5.42</td>\n",
       "      <td>2.62</td>\n",
       "      <td>0.66</td>\n",
       "      <td>0.39</td>\n",
       "      <td>4.48</td>\n",
       "      <td>1.31</td>\n",
       "      <td>0.22</td>\n",
       "      <td>1.98</td>\n",
       "      <td>5.14</td>\n",
       "      <td>0.44</td>\n",
       "      <td>1.14</td>\n",
       "      <td>1.25</td>\n",
       "      <td>1.79</td>\n",
       "      <td>0.59</td>\n",
       "      <td>0.11</td>\n",
       "    </tr>\n",
       "    <tr>\n",
       "      <th>rail transport electricity</th>\n",
       "      <td>0.01</td>\n",
       "      <td>0.07</td>\n",
       "      <td>0.02</td>\n",
       "      <td>0.10</td>\n",
       "      <td>0.69</td>\n",
       "      <td>0.13</td>\n",
       "      <td>0.30</td>\n",
       "      <td>0.23</td>\n",
       "      <td>0.02</td>\n",
       "      <td>0.09</td>\n",
       "      <td>0.10</td>\n",
       "      <td>0.16</td>\n",
       "      <td>0.06</td>\n",
       "      <td>0.06</td>\n",
       "      <td>0.10</td>\n",
       "      <td>0.11</td>\n",
       "      <td>0.15</td>\n",
       "      <td>0.13</td>\n",
       "      <td>0.02</td>\n",
       "      <td>0.14</td>\n",
       "      <td>0.08</td>\n",
       "      <td>0.11</td>\n",
       "      <td>0.03</td>\n",
       "      <td>0.02</td>\n",
       "      <td>0.14</td>\n",
       "      <td>0.04</td>\n",
       "      <td>0.07</td>\n",
       "      <td>0.00</td>\n",
       "      <td>0.10</td>\n",
       "      <td>0.09</td>\n",
       "      <td>0.43</td>\n",
       "      <td>0.20</td>\n",
       "      <td>0.06</td>\n",
       "      <td>0.03</td>\n",
       "      <td>0.35</td>\n",
       "      <td>0.11</td>\n",
       "      <td>0.02</td>\n",
       "      <td>0.16</td>\n",
       "      <td>0.42</td>\n",
       "      <td>0.03</td>\n",
       "      <td>0.09</td>\n",
       "      <td>0.10</td>\n",
       "      <td>0.13</td>\n",
       "      <td>0.05</td>\n",
       "      <td>0.01</td>\n",
       "    </tr>\n",
       "    <tr>\n",
       "      <th>services electricity</th>\n",
       "      <td>0.71</td>\n",
       "      <td>27.84</td>\n",
       "      <td>10.03</td>\n",
       "      <td>28.79</td>\n",
       "      <td>91.59</td>\n",
       "      <td>21.77</td>\n",
       "      <td>82.28</td>\n",
       "      <td>58.35</td>\n",
       "      <td>2.92</td>\n",
       "      <td>24.62</td>\n",
       "      <td>13.40</td>\n",
       "      <td>40.59</td>\n",
       "      <td>14.86</td>\n",
       "      <td>10.84</td>\n",
       "      <td>23.41</td>\n",
       "      <td>38.26</td>\n",
       "      <td>25.18</td>\n",
       "      <td>30.96</td>\n",
       "      <td>3.80</td>\n",
       "      <td>45.94</td>\n",
       "      <td>22.07</td>\n",
       "      <td>28.96</td>\n",
       "      <td>8.50</td>\n",
       "      <td>4.79</td>\n",
       "      <td>43.29</td>\n",
       "      <td>10.75</td>\n",
       "      <td>17.83</td>\n",
       "      <td>0.00</td>\n",
       "      <td>16.04</td>\n",
       "      <td>10.56</td>\n",
       "      <td>62.05</td>\n",
       "      <td>55.04</td>\n",
       "      <td>28.27</td>\n",
       "      <td>14.38</td>\n",
       "      <td>74.67</td>\n",
       "      <td>28.09</td>\n",
       "      <td>3.04</td>\n",
       "      <td>42.46</td>\n",
       "      <td>157.73</td>\n",
       "      <td>10.52</td>\n",
       "      <td>36.45</td>\n",
       "      <td>26.46</td>\n",
       "      <td>25.07</td>\n",
       "      <td>11.52</td>\n",
       "      <td>4.24</td>\n",
       "    </tr>\n",
       "  </tbody>\n",
       "</table>\n",
       "</div>"
      ],
      "text/plain": [
       "region                        AK     AL     AR     AZ      CA     CO     FL  \\\n",
       "carrier                                                                       \n",
       "AC                          0.79  30.60  11.03  31.64  100.66  23.92  90.43   \n",
       "agriculture electricity     0.06   0.70   0.22   0.99    7.12   1.38   3.06   \n",
       "industry electricity        1.10   9.75   2.40   6.68   84.92  12.93  24.83   \n",
       "land transport EV           0.08   0.82   0.26   1.17    8.60   1.72   3.53   \n",
       "rail transport electricity  0.01   0.07   0.02   0.10    0.69   0.13   0.30   \n",
       "services electricity        0.71  27.84  10.03  28.79   91.59  21.77  82.28   \n",
       "\n",
       "region                         GA    HI     IA     ID     IL     IN     KS  \\\n",
       "carrier                                                                      \n",
       "AC                          64.14  3.21  27.06  14.73  44.61  16.33  11.91   \n",
       "agriculture electricity      2.46  0.25   0.91   1.09   1.61   0.65   0.59   \n",
       "industry electricity        19.77  3.36  11.01   8.79  23.72   6.71   8.62   \n",
       "land transport EV            2.90  0.29   1.12   1.36   1.98   0.79   0.71   \n",
       "rail transport electricity   0.23  0.02   0.09   0.10   0.16   0.06   0.06   \n",
       "services electricity        58.35  2.92  24.62  13.40  40.59  14.86  10.84   \n",
       "\n",
       "region                         KY     LA     MA     MD    ME     MI     MN  \\\n",
       "carrier                                                                      \n",
       "AC                          25.73  42.05  27.68  34.03  4.18  50.51  24.26   \n",
       "agriculture electricity      1.03   1.14   1.51   1.37  0.25   1.47   0.77   \n",
       "industry electricity        13.41  33.39  22.85  20.86  3.18  16.83  11.53   \n",
       "land transport EV            1.26   1.33   1.87   1.66  0.32   1.84   0.97   \n",
       "rail transport electricity   0.10   0.11   0.15   0.13  0.02   0.14   0.08   \n",
       "services electricity        23.41  38.26  25.18  30.96  3.80  45.94  22.07   \n",
       "\n",
       "region                         MO    MS    MT     NC     ND     NE    NH  \\\n",
       "carrier                                                                    \n",
       "AC                          31.82  9.35  5.27  47.59  11.81  19.60  0.00   \n",
       "agriculture electricity      1.15  0.26  0.17   1.52   0.31   0.74  0.00   \n",
       "industry electricity        15.12  3.12  2.63  13.06   4.26   9.41  0.07   \n",
       "land transport EV            1.39  0.31  0.21   1.81   0.39   0.97  0.01   \n",
       "rail transport electricity   0.11  0.03  0.02   0.14   0.04   0.07  0.00   \n",
       "services electricity        28.96  8.50  4.79  43.29  10.75  17.83  0.00   \n",
       "\n",
       "region                         NM     NV     NY     OH     OK     OR     PA  \\\n",
       "carrier                                                                       \n",
       "AC                          17.63  11.61  68.20  60.49  31.07  15.80  82.08   \n",
       "agriculture electricity      0.98   0.93   4.36   2.14   0.56   0.31   3.65   \n",
       "industry electricity         9.28   7.61  67.34  28.56   8.45   3.05  62.33   \n",
       "land transport EV            1.16   1.13   5.42   2.62   0.66   0.39   4.48   \n",
       "rail transport electricity   0.10   0.09   0.43   0.20   0.06   0.03   0.35   \n",
       "services electricity        16.04  10.56  62.05  55.04  28.27  14.38  74.67   \n",
       "\n",
       "region                         SC    SD     TN      TX     UT     VA     WA  \\\n",
       "carrier                                                                       \n",
       "AC                          30.88  3.34  46.67  173.38  11.57  40.06  29.09   \n",
       "agriculture electricity      1.11  0.17   1.65    4.39   0.35   0.94   1.01   \n",
       "industry electricity         9.29  2.08  18.06   67.37   3.25  11.06  13.95   \n",
       "land transport EV            1.31  0.22   1.98    5.14   0.44   1.14   1.25   \n",
       "rail transport electricity   0.11  0.02   0.16    0.42   0.03   0.09   0.10   \n",
       "services electricity        28.09  3.04  42.46  157.73  10.52  36.45  26.46   \n",
       "\n",
       "region                         WI     WV    WY  \n",
       "carrier                                         \n",
       "AC                          27.56  12.66  4.66  \n",
       "agriculture electricity      1.41   0.48  0.08  \n",
       "industry electricity        16.03   8.96  1.48  \n",
       "land transport EV            1.79   0.59  0.11  \n",
       "rail transport electricity   0.13   0.05  0.01  \n",
       "services electricity        25.07  11.52  4.24  "
      ]
     },
     "execution_count": 24,
     "metadata": {},
     "output_type": "execute_result"
    }
   ],
   "source": [
    "base_demand_state.T"
   ]
  },
  {
   "cell_type": "code",
   "execution_count": 25,
   "id": "779bd68a",
   "metadata": {},
   "outputs": [
    {
     "data": {
      "application/vnd.plotly.v1+json": {
       "config": {
        "plotlyServerURL": "https://plot.ly"
       },
       "data": [
        {
         "hovertemplate": "carrier=AC<br>region=%{x}<br>value=%{y}<extra></extra>",
         "legendgroup": "AC",
         "marker": {
          "color": "#636efa",
          "pattern": {
           "shape": ""
          }
         },
         "name": "AC",
         "orientation": "v",
         "showlegend": true,
         "textposition": "auto",
         "texttemplate": "%{y:.1f}",
         "type": "bar",
         "x": [
          "Alaska",
          "California",
          "Delta",
          "Florida",
          "Hawaii",
          "Mid-Atlantic",
          "Midwest",
          "Mountain",
          "New England",
          "New York",
          "Northwest",
          "Plains",
          "Southeast",
          "Southwest",
          "Texas"
         ],
         "xaxis": "x",
         "y": {
          "bdata": "SOF6FK5H6T/NzMzMzFxXQNejcD0KN09AAAAAAACAVUCuR+F6FK4JQAAAAAAAZHJArkfhehTmZUBxPQrXo9BIQFyPwvUo3D9AzczMzMwMUUC5HoXrUQhQQFyPwvUoDFxAUrgehesJbEBmZmZmZkZMQAAAAAAAsGJA",
          "dtype": "f8"
         },
         "yaxis": "y"
        },
        {
         "hovertemplate": "carrier=agriculture electricity<br>region=%{x}<br>value=%{y}<extra></extra>",
         "legendgroup": "agriculture electricity",
         "marker": {
          "color": "#EF553B",
          "pattern": {
           "shape": ""
          }
         },
         "name": "agriculture electricity",
         "orientation": "v",
         "showlegend": true,
         "textposition": "auto",
         "texttemplate": "%{y:.1f}",
         "type": "bar",
         "x": [
          "Alaska",
          "California",
          "Delta",
          "Florida",
          "Hawaii",
          "Mid-Atlantic",
          "Midwest",
          "Mountain",
          "New England",
          "New York",
          "Northwest",
          "Plains",
          "Southeast",
          "Southwest",
          "Texas"
         ],
         "xaxis": "x",
         "y": {
          "bdata": "uB6F61G4rj80MzMzMzMWQOxRuB6F6/k/XI/C9ShcAUAAAAAAAADQP8P1KFyPQiRAXI/C9ShcHEB7FK5H4XoMQClcj8L1KPw/cT0K16NwEUAAAAAAAAAEQNejcD0K1w9AKVyPwvWoIEBmZmZmZmYCQB+F61G4Hg1A",
          "dtype": "f8"
         },
         "yaxis": "y"
        },
        {
         "hovertemplate": "carrier=industry electricity<br>region=%{x}<br>value=%{y}<extra></extra>",
         "legendgroup": "industry electricity",
         "marker": {
          "color": "#00cc96",
          "pattern": {
           "shape": ""
          }
         },
         "name": "industry electricity",
         "orientation": "v",
         "showlegend": true,
         "textposition": "auto",
         "texttemplate": "%{y:.1f}",
         "type": "bar",
         "x": [
          "Alaska",
          "California",
          "Delta",
          "Florida",
          "Hawaii",
          "Mid-Atlantic",
          "Midwest",
          "Mountain",
          "New England",
          "New York",
          "Northwest",
          "Plains",
          "Southeast",
          "Southwest",
          "Texas"
         ],
         "xaxis": "x",
         "y": {
          "bdata": "mpmZmZmZ8T+ZmZmZmUlRQBSuR+F6dENAuB6F61F4MUDhehSuR+EKQB+F61G4PmNAcD0K16MwVkDhehSuR0FCQJqZmZmZGTpA9ihcj8LVUEBcj8L1KJw6QDMzMzMzE0hAw/UoXI9SU0ApXI/C9SgyQOxRuB6Fy01A",
          "dtype": "f8"
         },
         "yaxis": "y"
        },
        {
         "hovertemplate": "carrier=land transport EV<br>region=%{x}<br>value=%{y}<extra></extra>",
         "legendgroup": "land transport EV",
         "marker": {
          "color": "#ab63fa",
          "pattern": {
           "shape": ""
          }
         },
         "name": "land transport EV",
         "orientation": "v",
         "showlegend": true,
         "textposition": "auto",
         "texttemplate": "%{y:.1f}",
         "type": "bar",
         "x": [
          "Alaska",
          "California",
          "Delta",
          "Florida",
          "Hawaii",
          "Mid-Atlantic",
          "Midwest",
          "Mountain",
          "New England",
          "New York",
          "Northwest",
          "Plains",
          "Southeast",
          "Southwest",
          "Texas"
         ],
         "xaxis": "x",
         "y": {
          "bdata": "exSuR+F6tD+kcD0K16MaQGZmZmZmZv4/7FG4HoXrA0CPwvUoXI/SP1G4HoXr0ShAH4XrUbieIUDD9Shcj8IRQJqZmZmZmQFArkfhehSuFUDiehSuR+EIQFK4HoXrURNAuB6F61G4I0AAAAAAAAAGQAAAAAAAABFA",
          "dtype": "f8"
         },
         "yaxis": "y"
        },
        {
         "hovertemplate": "carrier=rail transport electricity<br>region=%{x}<br>value=%{y}<extra></extra>",
         "legendgroup": "rail transport electricity",
         "marker": {
          "color": "#FFA15A",
          "pattern": {
           "shape": ""
          }
         },
         "name": "rail transport electricity",
         "orientation": "v",
         "showlegend": true,
         "textposition": "auto",
         "texttemplate": "%{y:.1f}",
         "type": "bar",
         "x": [
          "Alaska",
          "California",
          "Delta",
          "Florida",
          "Hawaii",
          "Mid-Atlantic",
          "Midwest",
          "Mountain",
          "New England",
          "New York",
          "Northwest",
          "Plains",
          "Southeast",
          "Southwest",
          "Texas"
         ],
         "xaxis": "x",
         "y": {
          "bdata": "exSuR+F6hD9I4XoUrkfhP3sUrkfhesQ/4noUrkfhyj97FK5H4XqUPwvXo3A9Cu8/FK5H4XoU5j/C9Shcj8LVP8L1KFyPwsU/hutRuB6F2z+4HoXrUbjOP5qZmZmZmdk/mpmZmZmZ6T9xPQrXo3DNP2ZmZmZmZtY/",
          "dtype": "f8"
         },
         "yaxis": "y"
        },
        {
         "hovertemplate": "carrier=services electricity<br>region=%{x}<br>value=%{y}<extra></extra>",
         "legendgroup": "services electricity",
         "marker": {
          "color": "#19d3f3",
          "pattern": {
           "shape": ""
          }
         },
         "name": "services electricity",
         "orientation": "v",
         "showlegend": true,
         "textposition": "auto",
         "texttemplate": "%{y:.1f}",
         "type": "bar",
         "x": [
          "Alaska",
          "California",
          "Delta",
          "Florida",
          "Hawaii",
          "Mid-Atlantic",
          "Midwest",
          "Mountain",
          "New England",
          "New York",
          "Northwest",
          "Plains",
          "Southeast",
          "Southwest",
          "Texas"
         ],
         "xaxis": "x",
         "y": {
          "bdata": "uB6F61G45j9SuB6F60FVQIXrUbgeZUxAAAAAAACQU0Bcj8L1KFwHQI/C9Shcu3BAFa5H4XrsY0AzMzMzM5NGQHsUrkfh+jxAZ2ZmZmYGT0DrUbgehStNQIXrUbgehVlAUrgeheuBaUCamZmZmblJQLgehetRAGFA",
          "dtype": "f8"
         },
         "yaxis": "y"
        }
       ],
       "layout": {
        "barmode": "stack",
        "legend": {
         "title": {
          "text": "carrier"
         },
         "tracegroupgap": 0
        },
        "margin": {
         "t": 60
        },
        "template": {
         "data": {
          "bar": [
           {
            "error_x": {
             "color": "#2a3f5f"
            },
            "error_y": {
             "color": "#2a3f5f"
            },
            "marker": {
             "line": {
              "color": "#E5ECF6",
              "width": 0.5
             },
             "pattern": {
              "fillmode": "overlay",
              "size": 10,
              "solidity": 0.2
             }
            },
            "type": "bar"
           }
          ],
          "barpolar": [
           {
            "marker": {
             "line": {
              "color": "#E5ECF6",
              "width": 0.5
             },
             "pattern": {
              "fillmode": "overlay",
              "size": 10,
              "solidity": 0.2
             }
            },
            "type": "barpolar"
           }
          ],
          "carpet": [
           {
            "aaxis": {
             "endlinecolor": "#2a3f5f",
             "gridcolor": "white",
             "linecolor": "white",
             "minorgridcolor": "white",
             "startlinecolor": "#2a3f5f"
            },
            "baxis": {
             "endlinecolor": "#2a3f5f",
             "gridcolor": "white",
             "linecolor": "white",
             "minorgridcolor": "white",
             "startlinecolor": "#2a3f5f"
            },
            "type": "carpet"
           }
          ],
          "choropleth": [
           {
            "colorbar": {
             "outlinewidth": 0,
             "ticks": ""
            },
            "type": "choropleth"
           }
          ],
          "contour": [
           {
            "colorbar": {
             "outlinewidth": 0,
             "ticks": ""
            },
            "colorscale": [
             [
              0,
              "#0d0887"
             ],
             [
              0.1111111111111111,
              "#46039f"
             ],
             [
              0.2222222222222222,
              "#7201a8"
             ],
             [
              0.3333333333333333,
              "#9c179e"
             ],
             [
              0.4444444444444444,
              "#bd3786"
             ],
             [
              0.5555555555555556,
              "#d8576b"
             ],
             [
              0.6666666666666666,
              "#ed7953"
             ],
             [
              0.7777777777777778,
              "#fb9f3a"
             ],
             [
              0.8888888888888888,
              "#fdca26"
             ],
             [
              1,
              "#f0f921"
             ]
            ],
            "type": "contour"
           }
          ],
          "contourcarpet": [
           {
            "colorbar": {
             "outlinewidth": 0,
             "ticks": ""
            },
            "type": "contourcarpet"
           }
          ],
          "heatmap": [
           {
            "colorbar": {
             "outlinewidth": 0,
             "ticks": ""
            },
            "colorscale": [
             [
              0,
              "#0d0887"
             ],
             [
              0.1111111111111111,
              "#46039f"
             ],
             [
              0.2222222222222222,
              "#7201a8"
             ],
             [
              0.3333333333333333,
              "#9c179e"
             ],
             [
              0.4444444444444444,
              "#bd3786"
             ],
             [
              0.5555555555555556,
              "#d8576b"
             ],
             [
              0.6666666666666666,
              "#ed7953"
             ],
             [
              0.7777777777777778,
              "#fb9f3a"
             ],
             [
              0.8888888888888888,
              "#fdca26"
             ],
             [
              1,
              "#f0f921"
             ]
            ],
            "type": "heatmap"
           }
          ],
          "histogram": [
           {
            "marker": {
             "pattern": {
              "fillmode": "overlay",
              "size": 10,
              "solidity": 0.2
             }
            },
            "type": "histogram"
           }
          ],
          "histogram2d": [
           {
            "colorbar": {
             "outlinewidth": 0,
             "ticks": ""
            },
            "colorscale": [
             [
              0,
              "#0d0887"
             ],
             [
              0.1111111111111111,
              "#46039f"
             ],
             [
              0.2222222222222222,
              "#7201a8"
             ],
             [
              0.3333333333333333,
              "#9c179e"
             ],
             [
              0.4444444444444444,
              "#bd3786"
             ],
             [
              0.5555555555555556,
              "#d8576b"
             ],
             [
              0.6666666666666666,
              "#ed7953"
             ],
             [
              0.7777777777777778,
              "#fb9f3a"
             ],
             [
              0.8888888888888888,
              "#fdca26"
             ],
             [
              1,
              "#f0f921"
             ]
            ],
            "type": "histogram2d"
           }
          ],
          "histogram2dcontour": [
           {
            "colorbar": {
             "outlinewidth": 0,
             "ticks": ""
            },
            "colorscale": [
             [
              0,
              "#0d0887"
             ],
             [
              0.1111111111111111,
              "#46039f"
             ],
             [
              0.2222222222222222,
              "#7201a8"
             ],
             [
              0.3333333333333333,
              "#9c179e"
             ],
             [
              0.4444444444444444,
              "#bd3786"
             ],
             [
              0.5555555555555556,
              "#d8576b"
             ],
             [
              0.6666666666666666,
              "#ed7953"
             ],
             [
              0.7777777777777778,
              "#fb9f3a"
             ],
             [
              0.8888888888888888,
              "#fdca26"
             ],
             [
              1,
              "#f0f921"
             ]
            ],
            "type": "histogram2dcontour"
           }
          ],
          "mesh3d": [
           {
            "colorbar": {
             "outlinewidth": 0,
             "ticks": ""
            },
            "type": "mesh3d"
           }
          ],
          "parcoords": [
           {
            "line": {
             "colorbar": {
              "outlinewidth": 0,
              "ticks": ""
             }
            },
            "type": "parcoords"
           }
          ],
          "pie": [
           {
            "automargin": true,
            "type": "pie"
           }
          ],
          "scatter": [
           {
            "fillpattern": {
             "fillmode": "overlay",
             "size": 10,
             "solidity": 0.2
            },
            "type": "scatter"
           }
          ],
          "scatter3d": [
           {
            "line": {
             "colorbar": {
              "outlinewidth": 0,
              "ticks": ""
             }
            },
            "marker": {
             "colorbar": {
              "outlinewidth": 0,
              "ticks": ""
             }
            },
            "type": "scatter3d"
           }
          ],
          "scattercarpet": [
           {
            "marker": {
             "colorbar": {
              "outlinewidth": 0,
              "ticks": ""
             }
            },
            "type": "scattercarpet"
           }
          ],
          "scattergeo": [
           {
            "marker": {
             "colorbar": {
              "outlinewidth": 0,
              "ticks": ""
             }
            },
            "type": "scattergeo"
           }
          ],
          "scattergl": [
           {
            "marker": {
             "colorbar": {
              "outlinewidth": 0,
              "ticks": ""
             }
            },
            "type": "scattergl"
           }
          ],
          "scattermap": [
           {
            "marker": {
             "colorbar": {
              "outlinewidth": 0,
              "ticks": ""
             }
            },
            "type": "scattermap"
           }
          ],
          "scattermapbox": [
           {
            "marker": {
             "colorbar": {
              "outlinewidth": 0,
              "ticks": ""
             }
            },
            "type": "scattermapbox"
           }
          ],
          "scatterpolar": [
           {
            "marker": {
             "colorbar": {
              "outlinewidth": 0,
              "ticks": ""
             }
            },
            "type": "scatterpolar"
           }
          ],
          "scatterpolargl": [
           {
            "marker": {
             "colorbar": {
              "outlinewidth": 0,
              "ticks": ""
             }
            },
            "type": "scatterpolargl"
           }
          ],
          "scatterternary": [
           {
            "marker": {
             "colorbar": {
              "outlinewidth": 0,
              "ticks": ""
             }
            },
            "type": "scatterternary"
           }
          ],
          "surface": [
           {
            "colorbar": {
             "outlinewidth": 0,
             "ticks": ""
            },
            "colorscale": [
             [
              0,
              "#0d0887"
             ],
             [
              0.1111111111111111,
              "#46039f"
             ],
             [
              0.2222222222222222,
              "#7201a8"
             ],
             [
              0.3333333333333333,
              "#9c179e"
             ],
             [
              0.4444444444444444,
              "#bd3786"
             ],
             [
              0.5555555555555556,
              "#d8576b"
             ],
             [
              0.6666666666666666,
              "#ed7953"
             ],
             [
              0.7777777777777778,
              "#fb9f3a"
             ],
             [
              0.8888888888888888,
              "#fdca26"
             ],
             [
              1,
              "#f0f921"
             ]
            ],
            "type": "surface"
           }
          ],
          "table": [
           {
            "cells": {
             "fill": {
              "color": "#EBF0F8"
             },
             "line": {
              "color": "white"
             }
            },
            "header": {
             "fill": {
              "color": "#C8D4E3"
             },
             "line": {
              "color": "white"
             }
            },
            "type": "table"
           }
          ]
         },
         "layout": {
          "annotationdefaults": {
           "arrowcolor": "#2a3f5f",
           "arrowhead": 0,
           "arrowwidth": 1
          },
          "autotypenumbers": "strict",
          "coloraxis": {
           "colorbar": {
            "outlinewidth": 0,
            "ticks": ""
           }
          },
          "colorscale": {
           "diverging": [
            [
             0,
             "#8e0152"
            ],
            [
             0.1,
             "#c51b7d"
            ],
            [
             0.2,
             "#de77ae"
            ],
            [
             0.3,
             "#f1b6da"
            ],
            [
             0.4,
             "#fde0ef"
            ],
            [
             0.5,
             "#f7f7f7"
            ],
            [
             0.6,
             "#e6f5d0"
            ],
            [
             0.7,
             "#b8e186"
            ],
            [
             0.8,
             "#7fbc41"
            ],
            [
             0.9,
             "#4d9221"
            ],
            [
             1,
             "#276419"
            ]
           ],
           "sequential": [
            [
             0,
             "#0d0887"
            ],
            [
             0.1111111111111111,
             "#46039f"
            ],
            [
             0.2222222222222222,
             "#7201a8"
            ],
            [
             0.3333333333333333,
             "#9c179e"
            ],
            [
             0.4444444444444444,
             "#bd3786"
            ],
            [
             0.5555555555555556,
             "#d8576b"
            ],
            [
             0.6666666666666666,
             "#ed7953"
            ],
            [
             0.7777777777777778,
             "#fb9f3a"
            ],
            [
             0.8888888888888888,
             "#fdca26"
            ],
            [
             1,
             "#f0f921"
            ]
           ],
           "sequentialminus": [
            [
             0,
             "#0d0887"
            ],
            [
             0.1111111111111111,
             "#46039f"
            ],
            [
             0.2222222222222222,
             "#7201a8"
            ],
            [
             0.3333333333333333,
             "#9c179e"
            ],
            [
             0.4444444444444444,
             "#bd3786"
            ],
            [
             0.5555555555555556,
             "#d8576b"
            ],
            [
             0.6666666666666666,
             "#ed7953"
            ],
            [
             0.7777777777777778,
             "#fb9f3a"
            ],
            [
             0.8888888888888888,
             "#fdca26"
            ],
            [
             1,
             "#f0f921"
            ]
           ]
          },
          "colorway": [
           "#636efa",
           "#EF553B",
           "#00cc96",
           "#ab63fa",
           "#FFA15A",
           "#19d3f3",
           "#FF6692",
           "#B6E880",
           "#FF97FF",
           "#FECB52"
          ],
          "font": {
           "color": "#2a3f5f"
          },
          "geo": {
           "bgcolor": "white",
           "lakecolor": "white",
           "landcolor": "#E5ECF6",
           "showlakes": true,
           "showland": true,
           "subunitcolor": "white"
          },
          "hoverlabel": {
           "align": "left"
          },
          "hovermode": "closest",
          "mapbox": {
           "style": "light"
          },
          "paper_bgcolor": "white",
          "plot_bgcolor": "#E5ECF6",
          "polar": {
           "angularaxis": {
            "gridcolor": "white",
            "linecolor": "white",
            "ticks": ""
           },
           "bgcolor": "#E5ECF6",
           "radialaxis": {
            "gridcolor": "white",
            "linecolor": "white",
            "ticks": ""
           }
          },
          "scene": {
           "xaxis": {
            "backgroundcolor": "#E5ECF6",
            "gridcolor": "white",
            "gridwidth": 2,
            "linecolor": "white",
            "showbackground": true,
            "ticks": "",
            "zerolinecolor": "white"
           },
           "yaxis": {
            "backgroundcolor": "#E5ECF6",
            "gridcolor": "white",
            "gridwidth": 2,
            "linecolor": "white",
            "showbackground": true,
            "ticks": "",
            "zerolinecolor": "white"
           },
           "zaxis": {
            "backgroundcolor": "#E5ECF6",
            "gridcolor": "white",
            "gridwidth": 2,
            "linecolor": "white",
            "showbackground": true,
            "ticks": "",
            "zerolinecolor": "white"
           }
          },
          "shapedefaults": {
           "line": {
            "color": "#2a3f5f"
           }
          },
          "ternary": {
           "aaxis": {
            "gridcolor": "white",
            "linecolor": "white",
            "ticks": ""
           },
           "baxis": {
            "gridcolor": "white",
            "linecolor": "white",
            "ticks": ""
           },
           "bgcolor": "#E5ECF6",
           "caxis": {
            "gridcolor": "white",
            "linecolor": "white",
            "ticks": ""
           }
          },
          "title": {
           "x": 0.05
          },
          "xaxis": {
           "automargin": true,
           "gridcolor": "white",
           "linecolor": "white",
           "ticks": "",
           "title": {
            "standoff": 15
           },
           "zerolinecolor": "white",
           "zerolinewidth": 2
          },
          "yaxis": {
           "automargin": true,
           "gridcolor": "white",
           "linecolor": "white",
           "ticks": "",
           "title": {
            "standoff": 15
           },
           "zerolinecolor": "white",
           "zerolinewidth": 2
          }
         }
        },
        "title": {
         "text": "Electricity demand by type of load and Grid region (2023)"
        },
        "width": 1100,
        "xaxis": {
         "anchor": "y",
         "domain": [
          0,
          1
         ],
         "title": {
          "text": "Grid regions"
         }
        },
        "yaxis": {
         "anchor": "x",
         "domain": [
          0,
          1
         ],
         "title": {
          "text": "Demand (TWh)"
         }
        }
       }
      },
      "image/png": "[encoded data removed]"
     },
     "metadata": {},
     "output_type": "display_data"
    },
    {
     "data": {
      "application/vnd.plotly.v1+json": {
       "config": {
        "plotlyServerURL": "https://plot.ly"
       },
       "data": [
        {
         "hovertemplate": "carrier=AC<br>region=%{x}<br>value=%{y}<extra></extra>",
         "legendgroup": "AC",
         "marker": {
          "color": "#636efa",
          "pattern": {
           "shape": ""
          }
         },
         "name": "AC",
         "orientation": "v",
         "showlegend": true,
         "textposition": "auto",
         "texttemplate": "%{y:.1f}",
         "type": "bar",
         "x": [
          "AK",
          "AL",
          "AR",
          "AZ",
          "CA",
          "CO",
          "FL",
          "GA",
          "HI",
          "IA",
          "ID",
          "IL",
          "IN",
          "KS",
          "KY",
          "LA",
          "MA",
          "MD",
          "ME",
          "MI",
          "MN",
          "MO",
          "MS",
          "MT",
          "NC",
          "ND",
          "NE",
          "NH",
          "NM",
          "NV",
          "NY",
          "OH",
          "OK",
          "OR",
          "PA",
          "SC",
          "SD",
          "TN",
          "TX",
          "UT",
          "VA",
          "WA",
          "WI",
          "WV",
          "WY"
         ],
         "xaxis": "x",
         "y": {
          "bdata": "SOF6FK5H6T+amZmZmZk+QI/C9ShcDyZApHA9CtejP0AK16NwPSpZQOxRuB6F6zdA7FG4HoWbVkApXI/C9QhQQK5H4XoUrglAj8L1KFwPO0D2KFyPwnUtQK5H4XoUTkZAFK5H4XpUMEBSuB6F69EnQHoUrkfhujlAZmZmZmYGRUCuR+F6FK47QKRwPQrXA0FAuB6F61G4EEDhehSuR0FJQMP1KFyPQjhAUrgehevRP0AzMzMzM7MiQBSuR+F6FBVA7FG4HoXLR0AfhetRuJ4nQJqZmZmZmTNAAAAAAAAAAADiehSuR6ExQLgehetROCdAzczMzMwMUUAfhetRuD5OQFK4HoXrET9AmpmZmZmZL0CF61G4HoVUQOF6FK5H4T5AuB6F61G4CkD2KFyPwlVHQFyPwvUorGVApHA9CtcjJ0BI4XoUrgdEQNijcD0KFz1AkML1KFyPO0BSuB6F61EpQKRwPQrXoxJA",
          "dtype": "f8"
         },
         "yaxis": "y"
        },
        {
         "hovertemplate": "carrier=agriculture electricity<br>region=%{x}<br>value=%{y}<extra></extra>",
         "legendgroup": "agriculture electricity",
         "marker": {
          "color": "#EF553B",
          "pattern": {
           "shape": ""
          }
         },
         "name": "agriculture electricity",
         "orientation": "v",
         "showlegend": true,
         "textposition": "auto",
         "texttemplate": "%{y:.1f}",
         "type": "bar",
         "x": [
          "AK",
          "AL",
          "AR",
          "AZ",
          "CA",
          "CO",
          "FL",
          "GA",
          "HI",
          "IA",
          "ID",
          "IL",
          "IN",
          "KS",
          "KY",
          "LA",
          "MA",
          "MD",
          "ME",
          "MI",
          "MN",
          "MO",
          "MS",
          "MT",
          "NC",
          "ND",
          "NE",
          "NH",
          "NM",
          "NV",
          "NY",
          "OH",
          "OK",
          "OR",
          "PA",
          "SC",
          "SD",
          "TN",
          "TX",
          "UT",
          "VA",
          "WA",
          "WI",
          "WV",
          "WY"
         ],
         "xaxis": "x",
         "y": {
          "bdata": "uB6F61G4rj9mZmZmZmbmPylcj8L1KMw/rkfhehSu7z97FK5H4XocQBSuR+F6FPY/exSuR+F6CECuR+F6FK4DQAAAAAAAANA/HoXrUbge7T9wPQrXo3DxP8L1KFyPwvk/zczMzMzM5D/hehSuR+HiP3sUrkfhevA/PgrXo3A98j8pXI/C9Sj4P+xRuB6F6/U/AAAAAAAA0D+F61G4HoX3P6RwPQrXo+g/ZmZmZmZm8j+kcD0K16PQP8L1KFyPwsU/UrgehetR+D/Xo3A9CtfTP65H4XoUruc/AAAAAAAAAABcj8L1KFzvP8P1KFyPwu0/cT0K16NwEUAfhetRuB4BQOxRuB6F6+E/16NwPQrX0z8zMzMzMzMNQML1KFyPwvE/w/UoXI/CxT9mZmZmZmb6P4/C9ShcjxFAZmZmZmZm1j8UrkfhehTuPylcj8L1KPA/j8L1KFyP9j+4HoXrUbjeP3sUrkfherQ/",
          "dtype": "f8"
         },
         "yaxis": "y"
        },
        {
         "hovertemplate": "carrier=industry electricity<br>region=%{x}<br>value=%{y}<extra></extra>",
         "legendgroup": "industry electricity",
         "marker": {
          "color": "#00cc96",
          "pattern": {
           "shape": ""
          }
         },
         "name": "industry electricity",
         "orientation": "v",
         "showlegend": true,
         "textposition": "auto",
         "texttemplate": "%{y:.1f}",
         "type": "bar",
         "x": [
          "AK",
          "AL",
          "AR",
          "AZ",
          "CA",
          "CO",
          "FL",
          "GA",
          "HI",
          "IA",
          "ID",
          "IL",
          "IN",
          "KS",
          "KY",
          "LA",
          "MA",
          "MD",
          "ME",
          "MI",
          "MN",
          "MO",
          "MS",
          "MT",
          "NC",
          "ND",
          "NE",
          "NH",
          "NM",
          "NV",
          "NY",
          "OH",
          "OK",
          "OR",
          "PA",
          "SC",
          "SD",
          "TN",
          "TX",
          "UT",
          "VA",
          "WA",
          "WI",
          "WV",
          "WY"
         ],
         "xaxis": "x",
         "y": {
          "bdata": "mpmZmZmZ8T8AAAAAAIAjQDMzMzMzMwNAuB6F61G4GkB7FK5H4TpVQFyPwvUo3ClAFa5H4XrUOECF61G4HsUzQOF6FK5H4QpAhetRuB4FJkAUrkfhepQhQLgehetRuDdA16NwPQrXGkA+CtejcD0hQFK4HoXr0SpAUrgeheuxQECamZmZmdk2QFyPwvUo3DRAcT0K16NwCUAUrkfhetQwQJDC9ShcDydAPQrXo3A9LkD2KFyPwvUIQArXo3A9CgVAHoXrUbgeKkAK16NwPQoRQFK4HoXr0SJA7FG4HoXrsT+QwvUoXI8iQHE9CtejcB5A9ihcj8LVUECQwvUoXI88QGZmZmZm5iBAZmZmZmZmCEAK16NwPSpPQBSuR+F6lCJApHA9CtejAECQwvUoXA8yQEjhehSu11BAAAAAAAAACkAfhetRuB4mQGZmZmZm5itASOF6FK4HMEDsUbgeheshQK5H4XoUrvc/",
          "dtype": "f8"
         },
         "yaxis": "y"
        },
        {
         "hovertemplate": "carrier=land transport EV<br>region=%{x}<br>value=%{y}<extra></extra>",
         "legendgroup": "land transport EV",
         "marker": {
          "color": "#ab63fa",
          "pattern": {
           "shape": ""
          }
         },
         "name": "land transport EV",
         "orientation": "v",
         "showlegend": true,
         "textposition": "auto",
         "texttemplate": "%{y:.1f}",
         "type": "bar",
         "x": [
          "AK",
          "AL",
          "AR",
          "AZ",
          "CA",
          "CO",
          "FL",
          "GA",
          "HI",
          "IA",
          "ID",
          "IL",
          "IN",
          "KS",
          "KY",
          "LA",
          "MA",
          "MD",
          "ME",
          "MI",
          "MN",
          "MO",
          "MS",
          "MT",
          "NC",
          "ND",
          "NE",
          "NH",
          "NM",
          "NV",
          "NY",
          "OH",
          "OK",
          "OR",
          "PA",
          "SC",
          "SD",
          "TN",
          "TX",
          "UT",
          "VA",
          "WA",
          "WI",
          "WV",
          "WY"
         ],
         "xaxis": "x",
         "y": {
          "bdata": "exSuR+F6tD8+CtejcD3qP6RwPQrXo9A/uB6F61G48j8zMzMzMzMhQIXrUbgehfs/PgrXo3A9DEA0MzMzMzMHQI/C9Shcj9I/7FG4HoXr8T/D9Shcj8L1P65H4XoUrv8/SOF6FK5H6T+4HoXrUbjmPylcj8L1KPQ/SOF6FK5H9T/sUbgehev9P4/C9Shcj/o/exSuR+F61D9xPQrXo3D9PwrXo3A9Cu8/PgrXo3A99j/Xo3A9CtfTP+J6FK5H4co/9ihcj8L1/D/2KFyPwvXYPwrXo3A9Cu8/exSuR+F6hD+PwvUoXI/yPxSuR+F6FPI/rkfhehSuFUD2KFyPwvUEQB+F61G4HuU/9ihcj8L12D/rUbgehesRQPYoXI/C9fQ/KVyPwvUozD+uR+F6FK7/P5DC9ShcjxRAKVyPwvUo3D89CtejcD3yPwAAAAAAAPQ/pHA9Ctej/D/hehSuR+HiPylcj8L1KLw/",
          "dtype": "f8"
         },
         "yaxis": "y"
        },
        {
         "hovertemplate": "carrier=rail transport electricity<br>region=%{x}<br>value=%{y}<extra></extra>",
         "legendgroup": "rail transport electricity",
         "marker": {
          "color": "#FFA15A",
          "pattern": {
           "shape": ""
          }
         },
         "name": "rail transport electricity",
         "orientation": "v",
         "showlegend": true,
         "textposition": "auto",
         "texttemplate": "%{y:.1f}",
         "type": "bar",
         "x": [
          "AK",
          "AL",
          "AR",
          "AZ",
          "CA",
          "CO",
          "FL",
          "GA",
          "HI",
          "IA",
          "ID",
          "IL",
          "IN",
          "KS",
          "KY",
          "LA",
          "MA",
          "MD",
          "ME",
          "MI",
          "MN",
          "MO",
          "MS",
          "MT",
          "NC",
          "ND",
          "NE",
          "NH",
          "NM",
          "NV",
          "NY",
          "OH",
          "OK",
          "OR",
          "PA",
          "SC",
          "SD",
          "TN",
          "TX",
          "UT",
          "VA",
          "WA",
          "WI",
          "WV",
          "WY"
         ],
         "xaxis": "x",
         "y": {
          "bdata": "exSuR+F6hD/sUbgeheuxP3sUrkfhepQ/mpmZmZmZuT8UrkfhehTmP6RwPQrXo8A/MzMzMzMz0z9wPQrXo3DNP3sUrkfhepQ/C9ejcD0Ktz+amZmZmZm5P3sUrkfhesQ/uB6F61G4rj+4HoXrUbiuP5qZmZmZmbk/KVyPwvUovD8zMzMzMzPDP6RwPQrXo8A/exSuR+F6lD/sUbgehevBP3sUrkfherQ/KVyPwvUovD+4HoXrUbieP3sUrkfhepQ/7FG4HoXrwT97FK5H4XqkP+tRuB6F67E/AAAAAAAAAACamZmZmZm5PwrXo3A9Crc/hutRuB6F2z+amZmZmZnJP7gehetRuK4/uB6F61G4nj9mZmZmZmbWPypcj8L1KLw/exSuR+F6lD97FK5H4XrEP+F6FK5H4do/uB6F61G4nj8K16NwPQq3P5qZmZmZmbk/pHA9CtejwD+amZmZmZmpP3sUrkfheoQ/",
          "dtype": "f8"
         },
         "yaxis": "y"
        },
        {
         "hovertemplate": "carrier=services electricity<br>region=%{x}<br>value=%{y}<extra></extra>",
         "legendgroup": "services electricity",
         "marker": {
          "color": "#19d3f3",
          "pattern": {
           "shape": ""
          }
         },
         "name": "services electricity",
         "orientation": "v",
         "showlegend": true,
         "textposition": "auto",
         "texttemplate": "%{y:.1f}",
         "type": "bar",
         "x": [
          "AK",
          "AL",
          "AR",
          "AZ",
          "CA",
          "CO",
          "FL",
          "GA",
          "HI",
          "IA",
          "ID",
          "IL",
          "IN",
          "KS",
          "KY",
          "LA",
          "MA",
          "MD",
          "ME",
          "MI",
          "MN",
          "MO",
          "MS",
          "MT",
          "NC",
          "ND",
          "NE",
          "NH",
          "NM",
          "NV",
          "NY",
          "OH",
          "OK",
          "OR",
          "PA",
          "SC",
          "SD",
          "TN",
          "TX",
          "UT",
          "VA",
          "WA",
          "WI",
          "WV",
          "WY"
         ],
         "xaxis": "x",
         "y": {
          "bdata": "uB6F61G45j/Xo3A9Ctc7QI/C9ShcDyRACtejcD3KPED2KFyPwuVWQIXrUbgexTVAUrgeheuRVEDNzMzMzCxNQFyPwvUoXAdAH4XrUbieOEDNzMzMzMwqQOxRuB6FS0RAuB6F61G4LUCuR+F6FK4lQClcj8L1aDdA4XoUrkchQ0CuR+F6FC45QPYoXI/C9T5AZmZmZmZmDkC5HoXrUfhGQFK4HoXrETZA9ihcj8L1PEAAAAAAAAAhQChcj8L1KBNAhutRuB6lRUAAAAAAAIAlQBSuR+F61DFAAAAAAAAAAAAK16NwPQowQB+F61G4HiVAZ2ZmZmYGT0CF61G4HoVLQIbrUbgeRTxAw/UoXI/CLEB7FK5H4apSQNejcD0KFzxAUrgehetRCEB7FK5H4TpFQI/C9Shct2NACtejcD0KJUCamZmZmTlCQPYoXI/CdTpAUrgehesROUAK16NwPQonQPYoXI/C9RBA",
          "dtype": "f8"
         },
         "yaxis": "y"
        }
       ],
       "layout": {
        "barmode": "stack",
        "legend": {
         "title": {
          "text": "carrier"
         },
         "tracegroupgap": 0
        },
        "margin": {
         "t": 60
        },
        "template": {
         "data": {
          "bar": [
           {
            "error_x": {
             "color": "#2a3f5f"
            },
            "error_y": {
             "color": "#2a3f5f"
            },
            "marker": {
             "line": {
              "color": "#E5ECF6",
              "width": 0.5
             },
             "pattern": {
              "fillmode": "overlay",
              "size": 10,
              "solidity": 0.2
             }
            },
            "type": "bar"
           }
          ],
          "barpolar": [
           {
            "marker": {
             "line": {
              "color": "#E5ECF6",
              "width": 0.5
             },
             "pattern": {
              "fillmode": "overlay",
              "size": 10,
              "solidity": 0.2
             }
            },
            "type": "barpolar"
           }
          ],
          "carpet": [
           {
            "aaxis": {
             "endlinecolor": "#2a3f5f",
             "gridcolor": "white",
             "linecolor": "white",
             "minorgridcolor": "white",
             "startlinecolor": "#2a3f5f"
            },
            "baxis": {
             "endlinecolor": "#2a3f5f",
             "gridcolor": "white",
             "linecolor": "white",
             "minorgridcolor": "white",
             "startlinecolor": "#2a3f5f"
            },
            "type": "carpet"
           }
          ],
          "choropleth": [
           {
            "colorbar": {
             "outlinewidth": 0,
             "ticks": ""
            },
            "type": "choropleth"
           }
          ],
          "contour": [
           {
            "colorbar": {
             "outlinewidth": 0,
             "ticks": ""
            },
            "colorscale": [
             [
              0,
              "#0d0887"
             ],
             [
              0.1111111111111111,
              "#46039f"
             ],
             [
              0.2222222222222222,
              "#7201a8"
             ],
             [
              0.3333333333333333,
              "#9c179e"
             ],
             [
              0.4444444444444444,
              "#bd3786"
             ],
             [
              0.5555555555555556,
              "#d8576b"
             ],
             [
              0.6666666666666666,
              "#ed7953"
             ],
             [
              0.7777777777777778,
              "#fb9f3a"
             ],
             [
              0.8888888888888888,
              "#fdca26"
             ],
             [
              1,
              "#f0f921"
             ]
            ],
            "type": "contour"
           }
          ],
          "contourcarpet": [
           {
            "colorbar": {
             "outlinewidth": 0,
             "ticks": ""
            },
            "type": "contourcarpet"
           }
          ],
          "heatmap": [
           {
            "colorbar": {
             "outlinewidth": 0,
             "ticks": ""
            },
            "colorscale": [
             [
              0,
              "#0d0887"
             ],
             [
              0.1111111111111111,
              "#46039f"
             ],
             [
              0.2222222222222222,
              "#7201a8"
             ],
             [
              0.3333333333333333,
              "#9c179e"
             ],
             [
              0.4444444444444444,
              "#bd3786"
             ],
             [
              0.5555555555555556,
              "#d8576b"
             ],
             [
              0.6666666666666666,
              "#ed7953"
             ],
             [
              0.7777777777777778,
              "#fb9f3a"
             ],
             [
              0.8888888888888888,
              "#fdca26"
             ],
             [
              1,
              "#f0f921"
             ]
            ],
            "type": "heatmap"
           }
          ],
          "histogram": [
           {
            "marker": {
             "pattern": {
              "fillmode": "overlay",
              "size": 10,
              "solidity": 0.2
             }
            },
            "type": "histogram"
           }
          ],
          "histogram2d": [
           {
            "colorbar": {
             "outlinewidth": 0,
             "ticks": ""
            },
            "colorscale": [
             [
              0,
              "#0d0887"
             ],
             [
              0.1111111111111111,
              "#46039f"
             ],
             [
              0.2222222222222222,
              "#7201a8"
             ],
             [
              0.3333333333333333,
              "#9c179e"
             ],
             [
              0.4444444444444444,
              "#bd3786"
             ],
             [
              0.5555555555555556,
              "#d8576b"
             ],
             [
              0.6666666666666666,
              "#ed7953"
             ],
             [
              0.7777777777777778,
              "#fb9f3a"
             ],
             [
              0.8888888888888888,
              "#fdca26"
             ],
             [
              1,
              "#f0f921"
             ]
            ],
            "type": "histogram2d"
           }
          ],
          "histogram2dcontour": [
           {
            "colorbar": {
             "outlinewidth": 0,
             "ticks": ""
            },
            "colorscale": [
             [
              0,
              "#0d0887"
             ],
             [
              0.1111111111111111,
              "#46039f"
             ],
             [
              0.2222222222222222,
              "#7201a8"
             ],
             [
              0.3333333333333333,
              "#9c179e"
             ],
             [
              0.4444444444444444,
              "#bd3786"
             ],
             [
              0.5555555555555556,
              "#d8576b"
             ],
             [
              0.6666666666666666,
              "#ed7953"
             ],
             [
              0.7777777777777778,
              "#fb9f3a"
             ],
             [
              0.8888888888888888,
              "#fdca26"
             ],
             [
              1,
              "#f0f921"
             ]
            ],
            "type": "histogram2dcontour"
           }
          ],
          "mesh3d": [
           {
            "colorbar": {
             "outlinewidth": 0,
             "ticks": ""
            },
            "type": "mesh3d"
           }
          ],
          "parcoords": [
           {
            "line": {
             "colorbar": {
              "outlinewidth": 0,
              "ticks": ""
             }
            },
            "type": "parcoords"
           }
          ],
          "pie": [
           {
            "automargin": true,
            "type": "pie"
           }
          ],
          "scatter": [
           {
            "fillpattern": {
             "fillmode": "overlay",
             "size": 10,
             "solidity": 0.2
            },
            "type": "scatter"
           }
          ],
          "scatter3d": [
           {
            "line": {
             "colorbar": {
              "outlinewidth": 0,
              "ticks": ""
             }
            },
            "marker": {
             "colorbar": {
              "outlinewidth": 0,
              "ticks": ""
             }
            },
            "type": "scatter3d"
           }
          ],
          "scattercarpet": [
           {
            "marker": {
             "colorbar": {
              "outlinewidth": 0,
              "ticks": ""
             }
            },
            "type": "scattercarpet"
           }
          ],
          "scattergeo": [
           {
            "marker": {
             "colorbar": {
              "outlinewidth": 0,
              "ticks": ""
             }
            },
            "type": "scattergeo"
           }
          ],
          "scattergl": [
           {
            "marker": {
             "colorbar": {
              "outlinewidth": 0,
              "ticks": ""
             }
            },
            "type": "scattergl"
           }
          ],
          "scattermap": [
           {
            "marker": {
             "colorbar": {
              "outlinewidth": 0,
              "ticks": ""
             }
            },
            "type": "scattermap"
           }
          ],
          "scattermapbox": [
           {
            "marker": {
             "colorbar": {
              "outlinewidth": 0,
              "ticks": ""
             }
            },
            "type": "scattermapbox"
           }
          ],
          "scatterpolar": [
           {
            "marker": {
             "colorbar": {
              "outlinewidth": 0,
              "ticks": ""
             }
            },
            "type": "scatterpolar"
           }
          ],
          "scatterpolargl": [
           {
            "marker": {
             "colorbar": {
              "outlinewidth": 0,
              "ticks": ""
             }
            },
            "type": "scatterpolargl"
           }
          ],
          "scatterternary": [
           {
            "marker": {
             "colorbar": {
              "outlinewidth": 0,
              "ticks": ""
             }
            },
            "type": "scatterternary"
           }
          ],
          "surface": [
           {
            "colorbar": {
             "outlinewidth": 0,
             "ticks": ""
            },
            "colorscale": [
             [
              0,
              "#0d0887"
             ],
             [
              0.1111111111111111,
              "#46039f"
             ],
             [
              0.2222222222222222,
              "#7201a8"
             ],
             [
              0.3333333333333333,
              "#9c179e"
             ],
             [
              0.4444444444444444,
              "#bd3786"
             ],
             [
              0.5555555555555556,
              "#d8576b"
             ],
             [
              0.6666666666666666,
              "#ed7953"
             ],
             [
              0.7777777777777778,
              "#fb9f3a"
             ],
             [
              0.8888888888888888,
              "#fdca26"
             ],
             [
              1,
              "#f0f921"
             ]
            ],
            "type": "surface"
           }
          ],
          "table": [
           {
            "cells": {
             "fill": {
              "color": "#EBF0F8"
             },
             "line": {
              "color": "white"
             }
            },
            "header": {
             "fill": {
              "color": "#C8D4E3"
             },
             "line": {
              "color": "white"
             }
            },
            "type": "table"
           }
          ]
         },
         "layout": {
          "annotationdefaults": {
           "arrowcolor": "#2a3f5f",
           "arrowhead": 0,
           "arrowwidth": 1
          },
          "autotypenumbers": "strict",
          "coloraxis": {
           "colorbar": {
            "outlinewidth": 0,
            "ticks": ""
           }
          },
          "colorscale": {
           "diverging": [
            [
             0,
             "#8e0152"
            ],
            [
             0.1,
             "#c51b7d"
            ],
            [
             0.2,
             "#de77ae"
            ],
            [
             0.3,
             "#f1b6da"
            ],
            [
             0.4,
             "#fde0ef"
            ],
            [
             0.5,
             "#f7f7f7"
            ],
            [
             0.6,
             "#e6f5d0"
            ],
            [
             0.7,
             "#b8e186"
            ],
            [
             0.8,
             "#7fbc41"
            ],
            [
             0.9,
             "#4d9221"
            ],
            [
             1,
             "#276419"
            ]
           ],
           "sequential": [
            [
             0,
             "#0d0887"
            ],
            [
             0.1111111111111111,
             "#46039f"
            ],
            [
             0.2222222222222222,
             "#7201a8"
            ],
            [
             0.3333333333333333,
             "#9c179e"
            ],
            [
             0.4444444444444444,
             "#bd3786"
            ],
            [
             0.5555555555555556,
             "#d8576b"
            ],
            [
             0.6666666666666666,
             "#ed7953"
            ],
            [
             0.7777777777777778,
             "#fb9f3a"
            ],
            [
             0.8888888888888888,
             "#fdca26"
            ],
            [
             1,
             "#f0f921"
            ]
           ],
           "sequentialminus": [
            [
             0,
             "#0d0887"
            ],
            [
             0.1111111111111111,
             "#46039f"
            ],
            [
             0.2222222222222222,
             "#7201a8"
            ],
            [
             0.3333333333333333,
             "#9c179e"
            ],
            [
             0.4444444444444444,
             "#bd3786"
            ],
            [
             0.5555555555555556,
             "#d8576b"
            ],
            [
             0.6666666666666666,
             "#ed7953"
            ],
            [
             0.7777777777777778,
             "#fb9f3a"
            ],
            [
             0.8888888888888888,
             "#fdca26"
            ],
            [
             1,
             "#f0f921"
            ]
           ]
          },
          "colorway": [
           "#636efa",
           "#EF553B",
           "#00cc96",
           "#ab63fa",
           "#FFA15A",
           "#19d3f3",
           "#FF6692",
           "#B6E880",
           "#FF97FF",
           "#FECB52"
          ],
          "font": {
           "color": "#2a3f5f"
          },
          "geo": {
           "bgcolor": "white",
           "lakecolor": "white",
           "landcolor": "#E5ECF6",
           "showlakes": true,
           "showland": true,
           "subunitcolor": "white"
          },
          "hoverlabel": {
           "align": "left"
          },
          "hovermode": "closest",
          "mapbox": {
           "style": "light"
          },
          "paper_bgcolor": "white",
          "plot_bgcolor": "#E5ECF6",
          "polar": {
           "angularaxis": {
            "gridcolor": "white",
            "linecolor": "white",
            "ticks": ""
           },
           "bgcolor": "#E5ECF6",
           "radialaxis": {
            "gridcolor": "white",
            "linecolor": "white",
            "ticks": ""
           }
          },
          "scene": {
           "xaxis": {
            "backgroundcolor": "#E5ECF6",
            "gridcolor": "white",
            "gridwidth": 2,
            "linecolor": "white",
            "showbackground": true,
            "ticks": "",
            "zerolinecolor": "white"
           },
           "yaxis": {
            "backgroundcolor": "#E5ECF6",
            "gridcolor": "white",
            "gridwidth": 2,
            "linecolor": "white",
            "showbackground": true,
            "ticks": "",
            "zerolinecolor": "white"
           },
           "zaxis": {
            "backgroundcolor": "#E5ECF6",
            "gridcolor": "white",
            "gridwidth": 2,
            "linecolor": "white",
            "showbackground": true,
            "ticks": "",
            "zerolinecolor": "white"
           }
          },
          "shapedefaults": {
           "line": {
            "color": "#2a3f5f"
           }
          },
          "ternary": {
           "aaxis": {
            "gridcolor": "white",
            "linecolor": "white",
            "ticks": ""
           },
           "baxis": {
            "gridcolor": "white",
            "linecolor": "white",
            "ticks": ""
           },
           "bgcolor": "#E5ECF6",
           "caxis": {
            "gridcolor": "white",
            "linecolor": "white",
            "ticks": ""
           }
          },
          "title": {
           "x": 0.05
          },
          "xaxis": {
           "automargin": true,
           "gridcolor": "white",
           "linecolor": "white",
           "ticks": "",
           "title": {
            "standoff": 15
           },
           "zerolinecolor": "white",
           "zerolinewidth": 2
          },
          "yaxis": {
           "automargin": true,
           "gridcolor": "white",
           "linecolor": "white",
           "ticks": "",
           "title": {
            "standoff": 15
           },
           "zerolinecolor": "white",
           "zerolinewidth": 2
          }
         }
        },
        "title": {
         "text": "Electricity Demand by type of load and State (2023)"
        },
        "width": 3000,
        "xaxis": {
         "anchor": "y",
         "domain": [
          0,
          1
         ],
         "title": {
          "text": "States"
         }
        },
        "yaxis": {
         "anchor": "x",
         "domain": [
          0,
          1
         ],
         "title": {
          "text": "Demand (TWh)"
         }
        }
       }
      },
      "image/png": "[encoded data removed]"
     },
     "metadata": {},
     "output_type": "display_data"
    }
   ],
   "source": [
    "fig1 = px.bar(base_demand_grid_region, barmode='stack', text_auto='.1f')\n",
    "fig1.update_layout(width=1100, yaxis_title='Demand (TWh)', xaxis_title='Grid regions', title='Electricity demand by type of load and Grid region (2023)')\n",
    "fig1.show()\n",
    "\n",
    "fig1 = px.bar(base_demand_state, barmode='stack', text_auto='.1f')\n",
    "fig1.update_layout(width=3000, yaxis_title='Demand (TWh)', xaxis_title='States', title='Electricity Demand by type of load and State (2023)')\n",
    "fig1.show()"
   ]
  }
 ],
 "metadata": {
  "kernelspec": {
   "display_name": "Python 3 (ipykernel)",
   "language": "python",
   "name": "python3"
  },
  "language_info": {
   "codemirror_mode": {
    "name": "ipython",
    "version": 3
   },
   "file_extension": ".py",
   "mimetype": "text/x-python",
   "name": "python",
   "nbconvert_exporter": "python",
   "pygments_lexer": "ipython3",
   "version": "3.10.18"
  }
 },
 "nbformat": 4,
 "nbformat_minor": 5
}
